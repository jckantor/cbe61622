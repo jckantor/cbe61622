{
 "cells": [
  {
   "cell_type": "markdown",
   "metadata": {},
   "source": [
    "# Operational Amplifiers"
   ]
  },
  {
   "cell_type": "markdown",
   "metadata": {},
   "source": [
    "## Readings"
   ]
  },
  {
   "cell_type": "markdown",
   "metadata": {},
   "source": [
    "## Laboratory Exercises\n",
    "\n",
    "### 1. Familiarization with Operational Amplifiers\n",
    "\n",
    "1. In the Analog Devices ADALP2000 kit, locate\n",
    "     * OP27 Low Noise, Precision Operational Amplifier\n",
    "     * OP37 Precision Operational Amplifier\n",
    "     * OP97 Low Noise, Precision Operational Amplifier\n",
    "     * OP482 High Speed JFET Op Amp\n",
    "     * OP484 Precision Rail-to-Rail Op Amp\n",
    "     * AD8226 Instrumentation Amplifier\n",
    "     * AD8542 CMOS Rail-to-Rail Op Amp\n",
    "     * ADLT082 JFET Op Amp\n",
    "     \n",
    "2. For each Op Amp above, locate (2) data sheet and (2) unit price. For each, write one sentence describing describing what makes that op amp unique from the others. \n",
    "\n",
    "### 2. Laboratory Testing\n",
    "\n",
    "1. Using the OP27\n",
    "    * Setup +/- 12 volt power\n",
    "    * Use a 10K potentiometer to create an adjustable voltage divider. Use as the input to the Op-amp according to Fig 8.7 and 8.8 of the text. Can you estimate the gain $A_0$?\n",
    "    \n",
    "    \n",
    "2. Buffer Circuit (Unity Gain)\n",
    "\n",
    "3. Inverting Amplifier\n",
    "\n",
    "4. Non-inverting Amplifier\n",
    "\n",
    "5. Current-to-Voltage Converter\n",
    "    * Locate the phototransistor in the ADALP2000 kit. Locate the data sheet. Set up a current to voltage converter (see Figure 8.41 for ideas) and verify measurement of a light source.\n",
    "\n",
    "     \n",
    "     "
   ]
  },
  {
   "cell_type": "raw",
   "metadata": {},
   "source": [
    "# Ignore this cell.  Just some edit notes(Harvey Mudd) \n",
    "\n",
    "![Op](http://fourier.eng.hmc.edu/e84/lectures/figures/OpAmp0.gif)\n",
    "\n",
    "* [Input impedance]\n",
    "* [Output impedance]\n",
    "* [Open-circuit gain]\n",
    "\n",
    "An approximate equation for the output voltage is\n",
    "\n",
    "$$V_{out} = A_d (V_+ - V_-) + A_c(V_+ + V_-)$$\n",
    "\n",
    "where $A_d$ is the differential gain and $A_c$ is the common-mode gain. Normally we seek very high values for $A_d$ and very low values for $A_c$. The common-mode rejection ratio is\n",
    "\n",
    "$$CMRR = 20 \\log_{10}\\frac{A_d}{A_c}$$\n",
    "\n",
    "Typical values of $CCMR$ are 100db or greater indicating $A_d > 10^5A_c$"
   ]
  },
  {
   "cell_type": "markdown",
   "metadata": {},
   "source": [
    "## Feedback"
   ]
  },
  {
   "cell_type": "code",
   "execution_count": null,
   "metadata": {},
   "outputs": [],
   "source": []
  }
 ],
 "metadata": {
  "kernelspec": {
   "display_name": "Python 3 (ipykernel)",
   "language": "python",
   "name": "python3"
  },
  "language_info": {
   "codemirror_mode": {
    "name": "ipython",
    "version": 3
   },
   "file_extension": ".py",
   "mimetype": "text/x-python",
   "name": "python",
   "nbconvert_exporter": "python",
   "pygments_lexer": "ipython3",
   "version": "3.9.7"
  }
 },
 "nbformat": 4,
 "nbformat_minor": 4
}
