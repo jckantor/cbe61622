{
 "cells": [
  {
   "cell_type": "markdown",
   "metadata": {
    "id": "2eIn0fxRERLC"
   },
   "source": [
    "# Particle Command Line Interface (CLI)\n",
    "\n",
    "This notebook demonstrates the use of the [Particle command line interface](https://docs.particle.io/reference/developer-tools/cli/) to \n",
    "\n",
    "* login and access a device,\n",
    "* create a project,\n",
    "* add a library,\n",
    "* prepare and save code,\n",
    "* compile the code to firmware, and\n",
    "* flash the firmware over the air.\n",
    "\n",
    "This notebook is designed to be opened and run on Google Colab. Several modifications will be needed to run in another environment."
   ]
  },
  {
   "cell_type": "markdown",
   "metadata": {
    "id": "aMCK4cZkEZ_3"
   },
   "source": [
    "## Particle CLI"
   ]
  },
  {
   "cell_type": "markdown",
   "metadata": {
    "id": "I8T4ooaP_Th3"
   },
   "source": [
    "### Installation"
   ]
  },
  {
   "cell_type": "code",
   "execution_count": 1,
   "metadata": {
    "executionInfo": {
     "elapsed": 3720,
     "status": "ok",
     "timestamp": 1603311750636,
     "user": {
      "displayName": "Jeffrey Kantor",
      "photoUrl": "https://lh3.googleusercontent.com/a-/AOh14Gg_n8V7bVINy02QRuRgOoMo11Ri7NKU3OUKdC1bkQ=s64",
      "userId": "09038942003589296665"
     },
     "user_tz": 240
    },
    "id": "U9qOi8Rdyzwx"
   },
   "outputs": [],
   "source": [
    "%%capture\n",
    "!bash <( curl -sL https://particle.io/install-cli )\n",
    "\n",
    "# path to the particle cli. May be environment dependent.\n",
    "particle_cli = \"/root/bin/particle\""
   ]
  },
  {
   "cell_type": "code",
   "execution_count": 5,
   "metadata": {},
   "outputs": [],
   "source": [
    "partiicle_cli = \"/Users/bin/particle\""
   ]
  },
  {
   "cell_type": "markdown",
   "metadata": {
    "id": "X21Hmxnb_J8B"
   },
   "source": [
    "### Utility functions"
   ]
  },
  {
   "cell_type": "code",
   "execution_count": 8,
   "metadata": {
    "colab": {
     "base_uri": "https://localhost:8080/",
     "height": 1000
    },
    "executionInfo": {
     "elapsed": 3909,
     "status": "ok",
     "timestamp": 1603311750834,
     "user": {
      "displayName": "Jeffrey Kantor",
      "photoUrl": "https://lh3.googleusercontent.com/a-/AOh14Gg_n8V7bVINy02QRuRgOoMo11Ri7NKU3OUKdC1bkQ=s64",
      "userId": "09038942003589296665"
     },
     "user_tz": 240
    },
    "id": "IVNRmKaglmkp",
    "outputId": "03aee4e4-26e7-42a4-c528-9e08399dc1f4"
   },
   "outputs": [
    {
     "name": "stdout",
     "output_type": "stream",
     "text": [
      "Welcome to the Particle Command Line Interface!\n",
      "Version 2.10.1\n",
      "https://github.com/particle-iot/particle-cli\n",
      "\n",
      "Usage: particle <command>\n",
      "Help:  particle help <command>\n",
      "\n",
      "Commands:\n",
      "  binary      Inspect binaries\n",
      "  call        Call a particular function on a device\n",
      "  cloud       Access Particle cloud functionality\n",
      "  compile     Compile a source file, or directory using the cloud compiler\n",
      "  config      Configure and switch between multiple accounts\n",
      "  device      Manipulate a device\n",
      "  doctor      Put your device back into a healthy state\n",
      "  flash       Send firmware to your device\n",
      "  function    Call functions on your device\n",
      "  get         Retrieve a value from your device\n",
      "  identify    Ask for and display device ID via serial\n",
      "  keys        Manage your device's key pair and server public key\n",
      "  library     Manage firmware libraries\n",
      "  list        Display a list of your devices, as well as their variables and functions\n",
      "  login       Login to the cloud and store an access token locally\n",
      "  logout      Log out of your session and clear your saved access token\n",
      "  mesh        Manage mesh networks\n",
      "  monitor     Connect and display messages from a device\n",
      "  nyan        Make your device shout rainbows\n",
      "  preprocess  Preprocess a Wiring file (ino) into a C++ file (cpp)\n",
      "  product     Access Particle Product functionality [BETA]\n",
      "  project     Manage application projects\n",
      "  publish     Publish an event to the cloud\n",
      "  serial      Simple serial interface to your devices\n",
      "  setup       Do the initial setup & claiming of your device\n",
      "  subscribe   Listen to device event stream\n",
      "  token       Manage access tokens (require username/password)\n",
      "  udp         Talk UDP to repair devices, run patches, check Wi-Fi, and more!\n",
      "  update      Update the system firmware of a device via USB\n",
      "  update-cli  Update the Particle CLI to the latest version\n",
      "  usb         Control USB devices\n",
      "  variable    Retrieve and monitor variables on your device\n",
      "  webhook     Manage webhooks that react to device event streams\n",
      "  whoami      prints signed-in username\n",
      "\n",
      "Global Options:\n",
      "  -v, --verbose  Increases how much logging to display  [count]\n",
      "  -q, --quiet    Decreases how much logging to display  [count]\n",
      "\n",
      "Options:\n",
      "  --version  Show the version of particle-cli installed.  [boolean]\n",
      "\n",
      "Examples:\n",
      "  particle setup                                     Set up your Particle account and your device\n",
      "  particle list                                      Show all your devices and their functions and variables\n",
      "  particle flash my_device tinker                    Remotely update your device to run the default Tinker app\n",
      "  particle call my_device_name digitalwrite D7=HIGH  Call a function on your device running Tinker to toggle the onboard LED\n",
      "\n",
      "For more information, visit our documentation at https://docs.particle.io\n",
      "\n",
      "\n"
     ]
    }
   ],
   "source": [
    "import re\n",
    "import subprocess\n",
    "\n",
    "# regular expression to strip ansi control characters\n",
    "ansi = re.compile(r'\\x1B(?:[@-Z\\\\-_]|\\[[0-?]*[ -/]*[@-~])')\n",
    "\n",
    "# decode byte string and strip ansi control characters\n",
    "def decode_bytes(byte_string):\n",
    "    if isinstance(byte_string, bytes):\n",
    "        result = byte_string.decode(\"utf-8\")\n",
    "    return ansi.sub(\"\", result)\n",
    "\n",
    "# streamline call to the particle-cli\n",
    "def particle(args):\n",
    "    process = subprocess.run([\"/Users/jeff/bin/particle\"] + args,\n",
    "                             stdout=subprocess.PIPE,\n",
    "                             stderr=subprocess.PIPE)\n",
    "    process.stdout = decode_bytes(process.stdout)\n",
    "    process.stderr = decode_bytes(process.stderr)\n",
    "    return process\n",
    "\n",
    "# print the default help message\n",
    "print(particle([\"help\"]).stderr)"
   ]
  },
  {
   "cell_type": "markdown",
   "metadata": {
    "id": "RyR318S-FEOT"
   },
   "source": [
    "### Login to Particle"
   ]
  },
  {
   "cell_type": "code",
   "execution_count": 9,
   "metadata": {
    "colab": {
     "base_uri": "https://localhost:8080/",
     "height": 85
    },
    "executionInfo": {
     "elapsed": 17402,
     "status": "ok",
     "timestamp": 1603311764336,
     "user": {
      "displayName": "Jeffrey Kantor",
      "photoUrl": "https://lh3.googleusercontent.com/a-/AOh14Gg_n8V7bVINy02QRuRgOoMo11Ri7NKU3OUKdC1bkQ=s64",
      "userId": "09038942003589296665"
     },
     "user_tz": 240
    },
    "id": "1CMV13RsYAR9",
    "outputId": "1419c19a-fa84-4ddb-b4ba-c702ab107f5a"
   },
   "outputs": [
    {
     "name": "stdin",
     "output_type": "stream",
     "text": [
      "Username:  ···········\n",
      "Password:  ·······\n"
     ]
    },
    {
     "name": "stdout",
     "output_type": "stream",
     "text": [
      "Return code = 1\n",
      "! User credentials are invalid\n",
      "\n"
     ]
    }
   ],
   "source": [
    "import getpass\n",
    "\n",
    "# prompt for username and password\n",
    "username = getpass.getpass(prompt=\"Username: \")\n",
    "password = getpass.getpass(prompt=\"Password: \")\n",
    "\n",
    "# attempt login\n",
    "output = particle([\"login\", \"--username\", username, \"--password\", password])\n",
    "\n",
    "# report results\n",
    "if output.returncode:\n",
    "    print(f\"Return code = {output.returncode}\")\n",
    "    print(output.stderr)\n",
    "else:\n",
    "    print(output.stdout)"
   ]
  },
  {
   "cell_type": "markdown",
   "metadata": {
    "id": "xkUuoM-ZmGVb"
   },
   "source": [
    "### Select a device\n",
    "\n",
    "The following cell downloads a list of all user devices and creates a list of device names. Here we choose the first name in the list for the rest of this notebook. If this is not the device to be used, then modify this cell accordingly."
   ]
  },
  {
   "cell_type": "code",
   "execution_count": 4,
   "metadata": {
    "colab": {
     "base_uri": "https://localhost:8080/",
     "height": 51
    },
    "executionInfo": {
     "elapsed": 20698,
     "status": "ok",
     "timestamp": 1603311767643,
     "user": {
      "displayName": "Jeffrey Kantor",
      "photoUrl": "https://lh3.googleusercontent.com/a-/AOh14Gg_n8V7bVINy02QRuRgOoMo11Ri7NKU3OUKdC1bkQ=s64",
      "userId": "09038942003589296665"
     },
     "user_tz": 240
    },
    "id": "leGyaNy4mMtX",
    "outputId": "c6b0dbbe-2867-40e1-dba8-0ad2cf38cc08"
   },
   "outputs": [
    {
     "name": "stdout",
     "output_type": "stream",
     "text": [
      "jck_argon_01 [e00fce68eaceb1faa7cf7193] (Argon) is online\n",
      "\n"
     ]
    }
   ],
   "source": [
    "devices = [line.split()[0] for line in particle([\"list\"]).stdout.splitlines()]\n",
    "device_name = devices[0]\n",
    "print(particle([\"list\", device_name]).stdout)"
   ]
  },
  {
   "cell_type": "markdown",
   "metadata": {
    "id": "GFanTiZ1RJsE"
   },
   "source": [
    "## Project: Timer display\n",
    "\n",
    "To demonstrate use of the Paricle CLI, for this project we will create a simple timer display using the [Grove 4-Digit Display](https://wiki.seeedstudio.com/Grove-4-Digit_Display/) that is shipped with the [Argon Starter Kit](https://store.particle.io/collections/prototyping-hardware/products/iot-starter-kit) available from Particle.io. The goal of the project is to display time since start device startup measure in seconds. The display will show seconds to two decimal digits for up to 100 seconds. The timer and display will roll over after 100 seconds."
   ]
  },
  {
   "cell_type": "markdown",
   "metadata": {
    "id": "Mh6XpzErylfu"
   },
   "source": [
    "### Particle Argon\n",
    "\n",
    "![](https://docs.particle.io/assets/images/argon/argon-pin-markings.png)"
   ]
  },
  {
   "cell_type": "markdown",
   "metadata": {
    "id": "KQKyIgmAp5nr"
   },
   "source": [
    "### Grove 4-Digit Display\n",
    "\n",
    "[Grove 4-Digit Display](https://wiki.seeedstudio.com/Grove-4-Digit_Display/)  \n",
    "\n",
    "[Documentation](https://github.com/Seeed-Studio/Grove_4Digital_Display)\n",
    "\n",
    "![](https://files.seeedstudio.com/wiki/Grove-4-Digit_Display/img/Grove-4_digit_display.jpg)"
   ]
  },
  {
   "cell_type": "markdown",
   "metadata": {
    "id": "8rqR5iDByVBX"
   },
   "source": [
    "### Grove Shield FeeatherWing\n",
    "\n",
    "Connect the Grove 4-digit display to connector D2 on the Grove Shield FeatherWing adapater.\n",
    "\n",
    "![](https://cdn-shop.adafruit.com/1200x900/4309-05.jpg)"
   ]
  },
  {
   "cell_type": "markdown",
   "metadata": {
    "id": "4vZ1VcQRiylL"
   },
   "source": [
    "### Create Project"
   ]
  },
  {
   "cell_type": "code",
   "execution_count": 5,
   "metadata": {
    "colab": {
     "base_uri": "https://localhost:8080/",
     "height": 68
    },
    "executionInfo": {
     "elapsed": 20880,
     "status": "ok",
     "timestamp": 1603311767835,
     "user": {
      "displayName": "Jeffrey Kantor",
      "photoUrl": "https://lh3.googleusercontent.com/a-/AOh14Gg_n8V7bVINy02QRuRgOoMo11Ri7NKU3OUKdC1bkQ=s64",
      "userId": "09038942003589296665"
     },
     "user_tz": 240
    },
    "id": "FaqbZcYwix06",
    "outputId": "ee4fba9b-8a21-4634-b472-bcb59284fb5d"
   },
   "outputs": [
    {
     "name": "stdout",
     "output_type": "stream",
     "text": [
      "Initializing project in directory display4...\n",
      "> A new project has been initialized in directory display4\n",
      "\n"
     ]
    }
   ],
   "source": [
    "print(particle([\"project\", \"create\", \"--name\", \"display4\", \".\"]).stdout)"
   ]
  },
  {
   "cell_type": "markdown",
   "metadata": {
    "id": "tsSPugdDzEq2"
   },
   "source": [
    "### Change working directory\n",
    "\n",
    "The Particle CLI assumes one is working in the top  project directory."
   ]
  },
  {
   "cell_type": "code",
   "execution_count": 6,
   "metadata": {
    "colab": {
     "base_uri": "https://localhost:8080/",
     "height": 34
    },
    "executionInfo": {
     "elapsed": 20872,
     "status": "ok",
     "timestamp": 1603311767836,
     "user": {
      "displayName": "Jeffrey Kantor",
      "photoUrl": "https://lh3.googleusercontent.com/a-/AOh14Gg_n8V7bVINy02QRuRgOoMo11Ri7NKU3OUKdC1bkQ=s64",
      "userId": "09038942003589296665"
     },
     "user_tz": 240
    },
    "id": "iNYJNUoaC2ye",
    "outputId": "dbc7123f-a9df-43c7-afa9-65d98650b436"
   },
   "outputs": [
    {
     "name": "stdout",
     "output_type": "stream",
     "text": [
      "/content/display4\n"
     ]
    }
   ],
   "source": [
    "%cd display4"
   ]
  },
  {
   "cell_type": "markdown",
   "metadata": {
    "id": "moVetAalRsLO"
   },
   "source": [
    "### Add relevant libraries"
   ]
  },
  {
   "cell_type": "code",
   "execution_count": 7,
   "metadata": {
    "colab": {
     "base_uri": "https://localhost:8080/",
     "height": 88
    },
    "executionInfo": {
     "elapsed": 21795,
     "status": "ok",
     "timestamp": 1603311768770,
     "user": {
      "displayName": "Jeffrey Kantor",
      "photoUrl": "https://lh3.googleusercontent.com/a-/AOh14Gg_n8V7bVINy02QRuRgOoMo11Ri7NKU3OUKdC1bkQ=s64",
      "userId": "09038942003589296665"
     },
     "user_tz": 240
    },
    "id": "WebH24BzZ5Cn",
    "outputId": "6d56a434-69f7-4249-81f5-bddd25ca5299"
   },
   "outputs": [
    {
     "name": "stdout",
     "output_type": "stream",
     "text": [
      "> Library Grove_4Digit_Display 1.0.2 has been added to the project.\n",
      "> To get started using this library, run particle library view Grove_4Digit_Display to view the library documentation and sources.\n",
      "\n"
     ]
    }
   ],
   "source": [
    "library = \"Grove_4Digit_Display\"\n",
    "print(particle([\"library\", \"add\", library]).stdout)"
   ]
  },
  {
   "cell_type": "markdown",
   "metadata": {
    "id": "kYIAoD_jESIn"
   },
   "source": [
    "### Create source file"
   ]
  },
  {
   "cell_type": "code",
   "execution_count": 8,
   "metadata": {
    "colab": {
     "base_uri": "https://localhost:8080/",
     "height": 34
    },
    "executionInfo": {
     "elapsed": 21786,
     "status": "ok",
     "timestamp": 1603311768771,
     "user": {
      "displayName": "Jeffrey Kantor",
      "photoUrl": "https://lh3.googleusercontent.com/a-/AOh14Gg_n8V7bVINy02QRuRgOoMo11Ri7NKU3OUKdC1bkQ=s64",
      "userId": "09038942003589296665"
     },
     "user_tz": 240
    },
    "id": "uZJn2QkEmbuQ",
    "outputId": "3136e4e1-c77b-453c-ec94-95c511286b60"
   },
   "outputs": [
    {
     "name": "stdout",
     "output_type": "stream",
     "text": [
      "Overwriting src/display4.ino\n"
     ]
    }
   ],
   "source": [
    "%%writefile src/display4.ino\n",
    "\n",
    "#define CLK D2     /* display clock pin */\n",
    "#define DIO D3     /* display data pin */\n",
    "#define DIGITS 4   /* number of display digits */\n",
    "\n",
    "#include \"Grove_4Digit_Display.h\"\n",
    "\n",
    "TM1637 tm1637(CLK, DIO);\n",
    "unsigned long start;\n",
    "\n",
    "void setup() {\n",
    "    tm1637.init();\n",
    "    tm1637.set(BRIGHT_TYPICAL);\n",
    "    tm1637.point(POINT_ON);\n",
    "    start = millis();\n",
    "}\n",
    "\n",
    "void loop() {\n",
    "    unsigned long time = (millis() - start) % 100000;\n",
    "    display(time / 10); /* displaying 100th's of seconds */\n",
    "}\n",
    "\n",
    "void display(unsigned int number) {\n",
    "    for (int i = 0; i < 4; i++) {\n",
    "        int digit = DIGITS - 1 - i;\n",
    "        if (number != 0) {\n",
    "            tm1637.display(digit, number % 10);\n",
    "        } else {\n",
    "            tm1637.display(digit, 0x7f); /* display blank */\n",
    "        }\n",
    "        number /= 10;\n",
    "    }\n",
    "}"
   ]
  },
  {
   "cell_type": "markdown",
   "metadata": {
    "id": "DgYoYrbMBg8y"
   },
   "source": [
    "### Compiling"
   ]
  },
  {
   "cell_type": "code",
   "execution_count": 9,
   "metadata": {
    "colab": {
     "base_uri": "https://localhost:8080/",
     "height": 306
    },
    "executionInfo": {
     "elapsed": 29076,
     "status": "ok",
     "timestamp": 1603311776072,
     "user": {
      "displayName": "Jeffrey Kantor",
      "photoUrl": "https://lh3.googleusercontent.com/a-/AOh14Gg_n8V7bVINy02QRuRgOoMo11Ri7NKU3OUKdC1bkQ=s64",
      "userId": "09038942003589296665"
     },
     "user_tz": 240
    },
    "id": "D-yOOpbfA4U5",
    "outputId": "e86b11b0-7bd7-405d-efca-8b3a7f4530a6"
   },
   "outputs": [
    {
     "name": "stdout",
     "output_type": "stream",
     "text": [
      "\n",
      "Compiling code for argon\n",
      "\n",
      "Including:\n",
      "    src/display4.ino\n",
      "    project.properties\n",
      "\n",
      "attempting to compile firmware\n",
      "downloading binary from: /v1/binaries/5f90989f305a91469e6df9ec\n",
      "saving to: display4.bin\n",
      "Memory use:\n",
      "   text\t   data\t    bss\t    dec\t    hex\tfilename\n",
      "   6316\t    108\t   1072\t   7496\t   1d48\t/workspace/target/workspace.elf\n",
      "\n",
      "Compile succeeded.\n",
      "Saved firmware to: /content/display4/display4.bin\n",
      "\n"
     ]
    }
   ],
   "source": [
    "print(particle([\"compile\", \"argon\", \"--saveTo\", \"display4.bin\"]).stdout)"
   ]
  },
  {
   "cell_type": "markdown",
   "metadata": {
    "id": "b5e_lzC1FtHw"
   },
   "source": [
    "### Flash firmware"
   ]
  },
  {
   "cell_type": "code",
   "execution_count": 10,
   "metadata": {
    "colab": {
     "base_uri": "https://localhost:8080/",
     "height": 153
    },
    "executionInfo": {
     "elapsed": 30163,
     "status": "ok",
     "timestamp": 1603311777169,
     "user": {
      "displayName": "Jeffrey Kantor",
      "photoUrl": "https://lh3.googleusercontent.com/a-/AOh14Gg_n8V7bVINy02QRuRgOoMo11Ri7NKU3OUKdC1bkQ=s64",
      "userId": "09038942003589296665"
     },
     "user_tz": 240
    },
    "id": "TcUKDiWOsvt1",
    "outputId": "ece6ff1b-d9b1-40f5-fcf3-a50f69688789"
   },
   "outputs": [
    {
     "name": "stdout",
     "output_type": "stream",
     "text": [
      "Including:\n",
      "    display4.bin\n",
      "\n",
      "attempting to flash firmware to your device jck_argon_01\n",
      "Flash device OK: Update started\n",
      "\n",
      "Flash success!\n",
      "\n"
     ]
    }
   ],
   "source": [
    "print(particle([\"flash\", device_name, \"display4.bin\"]).stdout)"
   ]
  },
  {
   "cell_type": "markdown",
   "metadata": {
    "id": "ERsWOhNw5NPg"
   },
   "source": []
  }
 ],
 "metadata": {
  "colab": {
   "authorship_tag": "ABX9TyPhbvfM/4EU1DRUMpD2Yx0I",
   "collapsed_sections": [],
   "mount_file_id": "1eybJfx2naCsVBOjTbzEu6GEK6cHu-h5I",
   "name": "01.22-Particle-CLI.ipynb",
   "provenance": [
    {
     "file_id": "1eybJfx2naCsVBOjTbzEu6GEK6cHu-h5I",
     "timestamp": 1603151210988
    },
    {
     "file_id": "1i0wWU-7SnZ19a6OGQN5XnckWlNQDtPR2",
     "timestamp": 1603145151967
    }
   ],
   "toc_visible": true
  },
  "kernelspec": {
   "display_name": "Python 3",
   "language": "python",
   "name": "python3"
  },
  "language_info": {
   "codemirror_mode": {
    "name": "ipython",
    "version": 3
   },
   "file_extension": ".py",
   "mimetype": "text/x-python",
   "name": "python",
   "nbconvert_exporter": "python",
   "pygments_lexer": "ipython3",
   "version": "3.8.5"
  }
 },
 "nbformat": 4,
 "nbformat_minor": 4
}
