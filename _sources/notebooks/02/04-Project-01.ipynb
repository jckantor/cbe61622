{
 "cells": [
  {
   "cell_type": "markdown",
   "id": "1d4fa0ce-3fa4-4f63-8c2a-c8cef526f584",
   "metadata": {},
   "source": [
    "# Project 01 - Detecting the Laboratory Environment\n",
    "\n",
    "Use the \"Grove Starter Kit for Raspberry Pi Pico\" to build an environmental temperature/humidity/light sensor. The sensor should\n",
    "\n",
    "* Use the DHT11 module to measure temperature and humidity of the laboraatory environment.\n",
    "* Use the Grove light sensor v1.2 to measure light intensity.\n",
    "* Report current values on the Grive LCD1602 display.\n",
    "\n",
    "Use an update period of 1.0 seconds."
   ]
  },
  {
   "cell_type": "code",
   "execution_count": 1,
   "id": "f2fd08cf-f2f9-4852-add4-00895e8fe202",
   "metadata": {},
   "outputs": [
    {
     "name": "stdout",
     "output_type": "stream",
     "text": [
      "Found serial ports: /dev/cu.usbmodem143101, /dev/cu.BLTH, /dev/cu.Bluetooth-Incoming-Port \n",
      "\u001b[34mConnecting to --port=/dev/cu.usbmodem143101 --baud=115200 \u001b[0m\n",
      "\u001b[34mReady.\n",
      "\u001b[0m"
     ]
    }
   ],
   "source": [
    "%serialconnect"
   ]
  },
  {
   "cell_type": "code",
   "execution_count": null,
   "id": "09ef6b35-badd-4fd4-a677-b215512ffee8",
   "metadata": {},
   "outputs": [],
   "source": []
  }
 ],
 "metadata": {
  "kernelspec": {
   "display_name": "MicroPython - USB",
   "language": "micropython",
   "name": "micropython"
  },
  "language_info": {
   "codemirror_mode": "python",
   "file_extension": ".py",
   "mimetype": "text/python",
   "name": "micropython"
  }
 },
 "nbformat": 4,
 "nbformat_minor": 5
}
