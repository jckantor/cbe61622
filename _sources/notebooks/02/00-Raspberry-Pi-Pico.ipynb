{
 "cells": [
  {
   "cell_type": "markdown",
   "id": "841503a8-96bf-48e8-97d6-2b0ff150c07b",
   "metadata": {},
   "source": [
    "# Raspberry Pi Pico\n",
    "\n",
    "The Raspberry Pi Pico is a recent example of a low-cost microcontroller well suited to laboratory automation and data collection. This series of notebooks is designed to get you started with coding in MicroPython for the Raspberry Pi Pico, working with serial interfaces, and performing basic analog and digital measurements and controls."
   ]
  },
  {
   "cell_type": "code",
   "execution_count": null,
   "id": "af410bca-376a-4f16-9aa5-ceca5e8f3a77",
   "metadata": {},
   "outputs": [],
   "source": []
  }
 ],
 "metadata": {
  "kernelspec": {
   "display_name": "Python 3 (ipykernel)",
   "language": "python",
   "name": "python3"
  },
  "language_info": {
   "codemirror_mode": {
    "name": "ipython",
    "version": 3
   },
   "file_extension": ".py",
   "mimetype": "text/x-python",
   "name": "python",
   "nbconvert_exporter": "python",
   "pygments_lexer": "ipython3",
   "version": "3.9.7"
  }
 },
 "nbformat": 4,
 "nbformat_minor": 5
}
