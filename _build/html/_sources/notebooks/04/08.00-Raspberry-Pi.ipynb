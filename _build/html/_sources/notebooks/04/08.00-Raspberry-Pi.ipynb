{
 "cells": [
  {
   "cell_type": "markdown",
   "id": "a241691e-34f7-4135-815f-379c8f9712b8",
   "metadata": {},
   "source": [
    "# Raspberry Pi"
   ]
  },
  {
   "cell_type": "markdown",
   "id": "bed52d19-3143-4a4e-ace7-d730e39e6fdd",
   "metadata": {},
   "source": [
    "## Hardware\n",
    "\n",
    "* Raspberry Pi 4B\n",
    "* 32GB microSD card\n",
    "\n",
    "* Raspberry Pi Power Supply\n",
    "* Raspberry Pi 7\" Touch Screen\n",
    "* Raspberry Pi Keyboard and Mouse\n",
    "* SmartiPi Touch Pro\n",
    "\n",
    "Follow setup instructions. Use default configurations of Raspbian for user name `pi`. Choose password carefully and keep it on file for use in the laboratory."
   ]
  }
 ],
 "metadata": {
  "kernelspec": {
   "display_name": "Python 3 (ipykernel)",
   "language": "python",
   "name": "python3"
  },
  "language_info": {
   "codemirror_mode": {
    "name": "ipython",
    "version": 3
   },
   "file_extension": ".py",
   "mimetype": "text/x-python",
   "name": "python",
   "nbconvert_exporter": "python",
   "pygments_lexer": "ipython3",
   "version": "3.9.7"
  }
 },
 "nbformat": 4,
 "nbformat_minor": 5
}
