{
 "cells": [
  {
   "cell_type": "markdown",
   "metadata": {},
   "source": [
    "# Analog Circuits and Signals"
   ]
  },
  {
   "cell_type": "markdown",
   "metadata": {},
   "source": [
    "Topics\n",
    "\n",
    "* Basic Circuits\n",
    "\n",
    "* Op Amps\n",
    "\n",
    "* Soures of Noise\n",
    "    * Shot noise\n",
    "    * Johnson/Nyquist noise\n",
    "        * Capacitance noise\n",
    "    * 1/f noise\n",
    "    * Experiment: Measure noise in an MEMS sensor (3-axis acc.)\n",
    "    * Experiment: Measure elecrochemical noise of solution\n",
    "    * Experiment: Meauure noise in an image sensor (IR sensor?)\n",
    "    \n",
    "\n",
    "    \n"
   ]
  },
  {
   "cell_type": "code",
   "execution_count": null,
   "metadata": {},
   "outputs": [],
   "source": []
  }
 ],
 "metadata": {
  "kernelspec": {
   "display_name": "Python 3 (ipykernel)",
   "language": "python",
   "name": "python3"
  },
  "language_info": {
   "codemirror_mode": {
    "name": "ipython",
    "version": 3
   },
   "file_extension": ".py",
   "mimetype": "text/x-python",
   "name": "python",
   "nbconvert_exporter": "python",
   "pygments_lexer": "ipython3",
   "version": "3.9.7"
  }
 },
 "nbformat": 4,
 "nbformat_minor": 4
}
