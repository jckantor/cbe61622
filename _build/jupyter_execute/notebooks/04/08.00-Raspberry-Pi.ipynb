{
 "cells": [
  {
   "cell_type": "markdown",
   "id": "a241691e-34f7-4135-815f-379c8f9712b8",
   "metadata": {},
   "source": [
    "# Raspberry Pi\n",
    "\n",
    "The Raspberry Pi ecosystem is full of options for adapting the device to a range of laboratory applications. The recommendations given below are intended to get you started with an initial build for learning what the Raspberry Pi can do for your applications. Experienced builders may select different configurations and device better suited for specific applications."
   ]
  },
  {
   "cell_type": "markdown",
   "id": "0fe7b14a-1a33-42b2-bc77-58c2322b84bf",
   "metadata": {},
   "source": [
    "## Documents"
   ]
  },
  {
   "cell_type": "markdown",
   "id": "fcb608fd-8a18-457f-a3b8-f31b91a54157",
   "metadata": {},
   "source": [
    "## Recommended Hardware\n",
    "\n",
    "### Core Requirements\n",
    "\n",
    "The core components of any build is a CPU module, power supply, and micro SD card.\n",
    "\n",
    "* **Raspberry Pi 4 B (4 or 8 GB preferred)** [[Adafruit](https://www.adafruit.com/product/4564)] [[Amazon](https://www.amazon.com/Raspberry-Model-2019-Quad-Bluetooth/dp/B07TC2BK1X/)] Raspberry Pi boards are in short supply and often sold out.\n",
    "* **Raspberry Pi Power Supply** [[Vilros](https://vilros.com/products/official-raspberry-pi-foundation-power-supply-for-raspberry-pi-4-us-white-ul)]\n",
    "* **32GB microSD card preloaded with NOOBS** [[Vilros](https://vilros.com/collections/raspberry-pi-accessories/products/samsung-32-gb-evo-plus-class-10-micro-sd-card-preloaded-with-noobs-micro-sd-usb-adapter)] If you purchase a generic micro SD card you will need to load it with the Raspberry Pi OS. For that purpose will need a [micro SD card adapter](https://www.amazon.com/Technology-Supports-MicroSDXC-MicroSDHC-Midnight/dp/B07YGXR8N3/) for your laptop. \n",
    "\n",
    "### Keyboard/Mouse\n",
    "\n",
    "A Raspberry Pi can be operated in a \"headless\" mode that uses a laptop for display, keyboard, and mouse/trackpad. But setting up such a system for a first time user can be challenging. It is helpful to have a wired USB connected keyboard and mouse to diagnose set up problems, especially for first time builders.\n",
    "\n",
    "* **Raspberry Pi Keyboard** [[Vilros](https://vilros.com/products/raspberry-pi-keyboard-and-hub)]\n",
    "* **Raspberry Pi Mouse** [[Vilros](https://vilros.com/products/official-raspberry-pi-mouse-red-white?variant=26341130666084)]\n",
    "\n",
    "\n",
    "### Case/Display Options\n",
    "\n",
    "#### Option 1. HDMI Monitor and Case\n",
    "\n",
    "The first option is generally the easiest way to set up a Raspberry Pi. What you need is a standard HDMI monitor and cable. The Raspberry Pi can be mounted in a case to sit on the lab bench.\n",
    "\n",
    "* **HDMI Monitor** There innumerable choices. \n",
    "* **micro HDMI to HDMI cable** Note that a micro HDMI to HDMI cable will be required for most monitors.\n",
    "* **Case** Many options are available. The Argon ONE V2 case offers a well designed aluminum case that provides access via a removable cover to the GPIO pins and a slot for a camera ribbon cable.\n",
    "\n",
    "#### Options 2. Raspberry Pi Display with Integrated Case\n",
    "  \n",
    "* **Raspberry Pi 7\" Touch Screen** [[Vilros](https://vilros.com/collections/raspberry-pi-accessories/products/raspberry-pi-7-touchscreen-lcd-display)]\n",
    "    * Micro HDMI Adapter\n",
    "    * Micro USB to USB-C adapter\n",
    "    \n",
    "\n",
    "\n",
    "\n",
    "\n",
    "\n",
    "\n",
    "* SmartiPi Touch Pro\n",
    "\n",
    "Follow setup instructions. Use default configurations of Raspbian for user name `pi`. Choose password carefully and keep it on file for use in the laboratory."
   ]
  },
  {
   "cell_type": "markdown",
   "id": "798eebda-c23d-4d89-8cb0-9c68c8cf6513",
   "metadata": {},
   "source": [
    "## Cameras\n",
    "\n",
    "* **Raspberry Pi Camera Module V2** [[]()]\n",
    "\n",
    "* **Raspberry Pi HQ Camera** [[Vilros](https://vilros.com/products/official-raspberry-pi-4-hq-camera)]\n",
    "\n",
    "* **Arducam IMX519 autofocus camera module for Raspberry Pi** [[Vilros](https://vilros.com/products/arducam-imx519-autofocus-camera-module-for-raspberry-pi?_pos=9&_sid=fe3e9a499&_ss=r)] An autofocus camera module."
   ]
  },
  {
   "cell_type": "code",
   "execution_count": null,
   "id": "908a63f4-f017-409e-9c5d-7f6a72099a11",
   "metadata": {},
   "outputs": [],
   "source": []
  }
 ],
 "metadata": {
  "kernelspec": {
   "display_name": "Python 3 (ipykernel)",
   "language": "python",
   "name": "python3"
  },
  "language_info": {
   "codemirror_mode": {
    "name": "ipython",
    "version": 3
   },
   "file_extension": ".py",
   "mimetype": "text/x-python",
   "name": "python",
   "nbconvert_exporter": "python",
   "pygments_lexer": "ipython3",
   "version": "3.9.7"
  }
 },
 "nbformat": 4,
 "nbformat_minor": 5
}