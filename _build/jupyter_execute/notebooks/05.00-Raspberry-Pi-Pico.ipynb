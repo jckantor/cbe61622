{
 "cells": [
  {
   "cell_type": "markdown",
   "id": "841503a8-96bf-48e8-97d6-2b0ff150c07b",
   "metadata": {},
   "source": [
    "# Raspberry Pi Pico"
   ]
  },
  {
   "cell_type": "code",
   "execution_count": null,
   "id": "af410bca-376a-4f16-9aa5-ceca5e8f3a77",
   "metadata": {},
   "outputs": [],
   "source": []
  }
 ],
 "metadata": {
  "kernelspec": {
   "display_name": "Python 3 (ipykernel)",
   "language": "python",
   "name": "python3"
  },
  "language_info": {
   "codemirror_mode": {
    "name": "ipython",
    "version": 3
   },
   "file_extension": ".py",
   "mimetype": "text/x-python",
   "name": "python",
   "nbconvert_exporter": "python",
   "pygments_lexer": "ipython3",
   "version": "3.8.12"
  }
 },
 "nbformat": 4,
 "nbformat_minor": 5
}