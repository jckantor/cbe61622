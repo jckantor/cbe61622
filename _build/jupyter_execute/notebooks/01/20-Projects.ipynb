{
 "cells": [
  {
   "cell_type": "markdown",
   "metadata": {},
   "source": [
    "# Semester Projects"
   ]
  },
  {
   "cell_type": "markdown",
   "metadata": {},
   "source": [
    "Project Ideas for Fall, 2022"
   ]
  },
  {
   "cell_type": "markdown",
   "metadata": {},
   "source": [
    "## Potentiostat/Galvanostat/EIS Device\n",
    "\n",
    "* Matsubara, Yasuo. \"A Small yet Complete Framework for a Potentiostat, Galvanostat, and Electrochemical Impedance Spectrometer.\" (2021): 3362-3370. https://pubs.acs.org/doi/full/10.1021/acs.jchemed.1c00228\n"
   ]
  },
  {
   "cell_type": "markdown",
   "metadata": {},
   "source": [
    "## CO2 Sensor for Absorption Experiments\n",
    "\n",
    "Build a CO2 sensor with integrated humdity and temperature sensors. \n",
    "\n",
    "* Specify interface requirements for a usable laboratory device. \n",
    "* Develop a microcrontroller interface to operate the sensor. \n",
    "* Build and demonstrate a breadboard prototype.\n",
    "* If possible, design, print, aand install and operate with CBE Lab II CO2 absorption experiment, or separately test wtih commercial seltzer water dispensers.\n",
    "\n",
    "Device options\n",
    "\n",
    "* Adafruit SCD-40 and SCD-41 Adafruit SCD-40 - True CO2, Temperature and Humidity Sensor - STEMMA QT / Qwiic [[overview](https://learn.adafruit.com/adafruit-scd-40-and-scd-41)][[SCD-40 product page](https://www.adafruit.com/product/5187)] [[SCD-41 product page](https://www.adafruit.com/product/5190)] Note the SCD-41 offers wider range, higher accuracy, and several low power operating modes at moderately higher cost.\n",
    "\n",
    "* Seeed Wio RP2040 mini Dev Board - Onboard Wifi [product page](https://www.seeedstudio.com/Wio-RP2040-mini-Dev-Board-p-4933.html)\n",
    "\n",
    "* Arduino Nano RP2040 Connect Review: Built-in Wi-Fi and BLE [[Tom's Hardware Review](https://www.tomshardware.com/reviews/arduino-nano-rp2040-connect)]\n",
    "\n",
    "* Adafruit Feather RP2040 [[Tom's Hardware Review](https://www.tomshardware.com/reviews/adafruit-feather-rp2040)]\n"
   ]
  },
  {
   "cell_type": "markdown",
   "metadata": {},
   "source": [
    "## Microsope\n",
    "\n",
    "Build a microscope. Use Raspberry Pi HQ camera, C-mount microscope lens.\n",
    "\n",
    "* Miikki, Kim, et al. \"An open-source camera system for experimental measurements.\" SoftwareX 14 (2021): 100688. https://www.sciencedirect.com/science/article/pii/S2352711021000339\n",
    "\n",
    "* HAYEAR Monocular Max 180x Zoom C-Mount Glass Lens Adapter F/Industry Microscope Camera Objective https://www.amazon.com/Monocular-C-Mount-Industry-Microscope-Objective/dp/B016NUGHK2"
   ]
  },
  {
   "cell_type": "code",
   "execution_count": null,
   "metadata": {},
   "outputs": [],
   "source": []
  }
 ],
 "metadata": {
  "kernelspec": {
   "display_name": "Python 3 (ipykernel)",
   "language": "python",
   "name": "python3"
  },
  "language_info": {
   "codemirror_mode": {
    "name": "ipython",
    "version": 3
   },
   "file_extension": ".py",
   "mimetype": "text/x-python",
   "name": "python",
   "nbconvert_exporter": "python",
   "pygments_lexer": "ipython3",
   "version": "3.8.12"
  }
 },
 "nbformat": 4,
 "nbformat_minor": 4
}