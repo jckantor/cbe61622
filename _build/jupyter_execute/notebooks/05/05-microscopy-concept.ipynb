{
 "cells": [
  {
   "cell_type": "markdown",
   "id": "45c72f97-8b62-4177-a8bc-4065dbe865c8",
   "metadata": {},
   "source": [
    "# RPi Microscopy Ideas\n",
    "\n",
    "## Project Objectives\n",
    "\n",
    "* Low cost microscope for laboratory applications.\n",
    "\n",
    "\n",
    "## Commercial Devices\n",
    "\n",
    "Lens Options for C-mount HQ Camera\n",
    "\n",
    "* Pimoroni .. https://shop.pimoroni.com/products/microscope-lens-0-12-1-8x?variant=31885093371987. Review available here https://www.tomshardware.com/reviews/pimoroni-microscope-lens-for-raspberry-pi and https://www.youtube.com/watch?v=_lTzv5IwWNk&ab_channel=PenguinTutor\n",
    "* Seeed  https://www.electromaker.io/shop/product/microscope-camera-300x-c-mount-lens-for-raspberry-pi-high-quality-camera\n",
    "\n",
    "Stands\n",
    "\n",
    "* Pimoroni .. https://shop.pimoroni.com/products/microscope-stand-with-0-12-1-8x-lens?variant=31885089046611\n",
    "* Adafruit lens mount for Pi-Zero and RPI 4\n",
    "* Waveshare .. https://www.waveshare.com/pi4-microscope-kit.htm\n",
    "* Hayear .. https://www.amazon.com/HAYEAR-Industry-Stereo-Digital-Microscope/dp/B07GPCQWXK\n",
    "\n",
    "\n",
    "## Software Options\n",
    "\n",
    "* USB Web Cam would enable simple \"plug-and-play\" microscope use. https://github.com/geerlingguy/pi-webcam\n",
    "\n"
   ]
  }
 ],
 "metadata": {
  "kernelspec": {
   "display_name": "Python 3 (ipykernel)",
   "language": "python",
   "name": "python3"
  },
  "language_info": {
   "codemirror_mode": {
    "name": "ipython",
    "version": 3
   },
   "file_extension": ".py",
   "mimetype": "text/x-python",
   "name": "python",
   "nbconvert_exporter": "python",
   "pygments_lexer": "ipython3",
   "version": "3.9.7"
  }
 },
 "nbformat": 4,
 "nbformat_minor": 5
}