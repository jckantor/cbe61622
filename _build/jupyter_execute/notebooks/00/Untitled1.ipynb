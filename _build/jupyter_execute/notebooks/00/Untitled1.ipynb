{
 "cells": [
  {
   "cell_type": "code",
   "execution_count": 1,
   "id": "6055fdab-c0bb-4cd2-9a71-0962075d45c9",
   "metadata": {},
   "outputs": [
    {
     "name": "stdout",
     "output_type": "stream",
     "text": [
      "\u001b[34mConnecting to --port=/dev/cu.Bluetooth-Incoming-Port --baud=115200 \u001b[0m\n",
      "\u001b[31m[Timed out waiting for recognizable response]\n",
      "\u001b[0m\u001b[31mDisconnecting [paste mode not working]\n",
      "\u001b[0m\u001b[34m  (You may need to reset the device)\u001b[0m"
     ]
    }
   ],
   "source": [
    "%serialconnect"
   ]
  },
  {
   "cell_type": "code",
   "execution_count": null,
   "id": "d8daa574-f24d-4df9-9dbe-5a1f47695dc8",
   "metadata": {},
   "outputs": [],
   "source": []
  }
 ],
 "metadata": {
  "kernelspec": {
   "display_name": "MicroPython - USB",
   "language": "micropython",
   "name": "micropython"
  },
  "language_info": {
   "codemirror_mode": "python",
   "file_extension": ".py",
   "mimetype": "text/python",
   "name": "micropython"
  }
 },
 "nbformat": 4,
 "nbformat_minor": 5
}