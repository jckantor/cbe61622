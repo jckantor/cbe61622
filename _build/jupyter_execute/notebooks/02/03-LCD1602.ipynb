{
 "cells": [
  {
   "cell_type": "markdown",
   "id": "e0e26560-53ca-40f8-9bdc-51c33ea19742",
   "metadata": {},
   "source": [
    "# LCD1602"
   ]
  },
  {
   "cell_type": "code",
   "execution_count": 1,
   "id": "774d8f58-868a-43bd-9371-07185803beae",
   "metadata": {},
   "outputs": [
    {
     "name": "stdout",
     "output_type": "stream",
     "text": [
      "Found serial ports: /dev/cu.usbmodem143101, /dev/cu.BLTH, /dev/cu.Bluetooth-Incoming-Port \n",
      "\u001b[34mConnecting to --port=/dev/cu.usbmodem143101 --baud=115200 \u001b[0m\n",
      "\u001b[34mReady.\n",
      "\u001b[0m"
     ]
    }
   ],
   "source": [
    "%serialconnect"
   ]
  },
  {
   "cell_type": "markdown",
   "id": "ec9cf3b7-9e51-468c-81d6-469ab7663997",
   "metadata": {},
   "source": [
    "## Using the LCD 16x2 display\n",
    "\n",
    "The basic lcd1602.py library provides access to the many functions of the [Seeed Grove 16x2 display](https://wiki.seeedstudio.com/Grove-16x2_LCD_Series/). The library is available here [lcd1602.py](http://47.106.166.129/Embeded/pico-micropython-grove/blob/master/I2C/lcd1602.py) and needs to be downloaded to the Pico in a subdirectory that should be named ``/lib``."
   ]
  },
  {
   "cell_type": "code",
   "execution_count": 2,
   "id": "e25f6feb-562d-4cdb-9830-0aa27c906fe6",
   "metadata": {},
   "outputs": [],
   "source": [
    "import machine\n",
    "from lcd1602 import LCD1602\n",
    "\n",
    "# specify i2c\n",
    "sda = machine.Pin(8, machine.Pin.OUT)\n",
    "scl = machine.Pin(9, machine.Pin.OUT)\n",
    "i2c = machine.I2C(0)\n",
    "\n",
    "# create instance of display with lines and columns\n",
    "d = LCD1602(i2c, 2, 16)\n",
    "d.clear()\n",
    "\n",
    "# Welcome display\n",
    "d.setCursor(0, 0)\n",
    "d.print(\"Hello, World\")\n",
    "d.setCursor(0, 1)\n",
    "d.print(\"GO IRISH!\")"
   ]
  },
  {
   "cell_type": "markdown",
   "id": "ed06a2f7-839b-4236-a492-c70d32dba220",
   "metadata": {},
   "source": [
    "### Exercises\n",
    "\n",
    "1. Use a logic analyzer to probe I2C communcations between the Raspberry Pi Pico and the display. Compare the observed data exchange with the library code and with the requirements specified in the [datasheet](https://github.com/SeeedDocument/Grove-16x2_LCD_Series/raw/master/res/JDH_1804_Datasheet.pdf)."
   ]
  },
  {
   "cell_type": "markdown",
   "id": "40b3da66-5b69-4d9a-aa48-e867369d36db",
   "metadata": {},
   "source": [
    "## A simplified LCD16x2 class\n"
   ]
  },
  {
   "cell_type": "code",
   "execution_count": 3,
   "id": "cd702917-7c4f-4a10-9894-6738c9b6dc07",
   "metadata": {},
   "outputs": [],
   "source": [
    "import machine\n",
    "from lcd1602 import LCD1602\n",
    "\n",
    "class LCD16x2():\n",
    "    \n",
    "    def __init__(self, i2c):\n",
    "        self.i2c = i2c\n",
    "        self.d = LCD1602(i2c, 2, 16)\n",
    "        self.d.clear()\n",
    "        self.lines = [\" \"*16, \" \"*16]\n",
    "        \n",
    "    def update(self, line1=None, line2=None):\n",
    "        self.update_line(0, line1)\n",
    "        self.update_line(1, line2)\n",
    "        \n",
    "    def update_line(self, j, line):\n",
    "        line = \"{:16s}\".format(line)\n",
    "        if line != self.lines[j]:\n",
    "            for i, char in enumerate(line):\n",
    "                self.d.setCursor(i, j)\n",
    "                self.d.write(ord(char))\n",
    "            self.lines[j] = line\n",
    "\n",
    "# specify i2c\n",
    "sda = machine.Pin(8, machine.Pin.OUT)\n",
    "scl = machine.Pin(9, machine.Pin.OUT)\n",
    "i2c = machine.I2C(0, sda=sda, scl=scl)\n",
    "\n",
    "# create lcd instance\n",
    "lcd = LCD16x2(i2c)\n",
    "lcd.update(\"Hello\",\"World\")"
   ]
  },
  {
   "cell_type": "markdown",
   "id": "0fab3788-b653-412e-a7a8-f303e27af5ba",
   "metadata": {},
   "source": [
    "## A Simple Clock\n",
    "\n",
    "The Raspberry Pi Pico has an on-board real time clock. Unfortunately, Pico does not come with a battery backup for the real time clock, therefore the clock must be set on each reboot. Thonny does this automatically. This notebook cell includes a line demonstrating how to set the clock manually."
   ]
  },
  {
   "cell_type": "code",
   "execution_count": 4,
   "id": "3bbf5da9-d091-4ea5-873f-da2f25a11165",
   "metadata": {},
   "outputs": [],
   "source": [
    "import machine\n",
    "import time\n",
    "\n",
    "# set Rp2 real time clock\n",
    "machine.RTC().datetime((2021, 10, 4, 0, 13, 2, 0, 0))\n",
    "\n",
    "# Clock display\n",
    "month = {1:\"Jan\", 2:\"Feb\", 3:\"Mar\", 4:\"Apr\", 5:\"May\", 6:\"Jun\",\n",
    "         7:\"Jul\", 8:\"Aug\", 9:\"Sep\", 10:\"Oct\", 11:\"Nov\", 12:\"Dec\"}\n",
    "\n",
    "def display_date_time(timer):\n",
    "    global lcd\n",
    "    yr, mo, dy, h, m, s, __, __ = time.localtime()\n",
    "    lcd.update(f\"{dy:02d} {month[mo]} {yr}\", f\"{h:02d}:{m:02d}:{s:02d}\")\n",
    "    \n",
    "# specify i2c\n",
    "sda = machine.Pin(8, machine.Pin.OUT)\n",
    "scl = machine.Pin(9, machine.Pin.OUT)\n",
    "i2c = machine.I2C(0, sda=sda, scl=scl)\n",
    "\n",
    "# create lcd instance\n",
    "lcd = LCD16x2(i2c)\n",
    "\n",
    "# update using Timer\n",
    "timer = machine.Timer(freq=10, mode=machine.Timer.PERIODIC, callback=display_date_time)"
   ]
  },
  {
   "cell_type": "code",
   "execution_count": null,
   "id": "c3c9263f-45d7-463f-92c8-ff33593390ac",
   "metadata": {},
   "outputs": [],
   "source": []
  }
 ],
 "metadata": {
  "kernelspec": {
   "display_name": "MicroPython - USB",
   "language": "micropython",
   "name": "micropython"
  },
  "language_info": {
   "codemirror_mode": "python",
   "file_extension": ".py",
   "mimetype": "text/python",
   "name": "micropython"
  }
 },
 "nbformat": 4,
 "nbformat_minor": 5
}