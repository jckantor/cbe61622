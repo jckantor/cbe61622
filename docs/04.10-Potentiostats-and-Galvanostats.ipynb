{
 "cells": [
  {
   "cell_type": "markdown",
   "id": "978c1ba5",
   "metadata": {},
   "source": [
    "<!--NOTEBOOK_HEADER-->\n",
    "*This notebook contains material from [cbe61622](https://jckantor.github.io/cbe61622);\n",
    "content is available [on Github](https://github.com/jckantor/cbe61622.git).*\n"
   ]
  },
  {
   "cell_type": "markdown",
   "id": "506475e1",
   "metadata": {},
   "source": [
    "<!--NAVIGATION-->\n",
    "< [4.0 Chemical Instrumentation](https://jckantor.github.io/cbe61622/04.00-Chemical_Instrumentation.html) | [Contents](toc.html) | [5.0 Raspberry Pi Pico](https://jckantor.github.io/cbe61622/05.00-Raspberry-Pi-Pico.html) ><p><a href=\"https://colab.research.google.com/github/jckantor/cbe61622/blob/master/docs/04.10-Potentiostats-and-Galvanostats.ipynb\"> <img align=\"left\" src=\"https://colab.research.google.com/assets/colab-badge.svg\" alt=\"Open in Colab\" title=\"Open in Google Colaboratory\"></a><p><a href=\"https://jckantor.github.io/cbe61622/04.10-Potentiostats-and-Galvanostats.ipynb\"> <img align=\"left\" src=\"https://img.shields.io/badge/Github-Download-blue.svg\" alt=\"Download\" title=\"Download Notebook\"></a>"
   ]
  },
  {
   "cell_type": "markdown",
   "id": "7d97f30f-f992-4794-9449-dfaf009d6c92",
   "metadata": {
    "nbpages": {
     "level": 1,
     "link": "[4.10 Potentiostats and Galvanostats](https://jckantor.github.io/cbe61622/04.10-Potentiostats-and-Galvanostats.html#4.10-Potentiostats-and-Galvanostats)",
     "section": "4.10 Potentiostats and Galvanostats"
    }
   },
   "source": [
    "# 4.10 Potentiostats and Galvanostats"
   ]
  },
  {
   "cell_type": "markdown",
   "id": "1eb10a0b-e563-4c79-924e-fdcc123b7758",
   "metadata": {
    "nbpages": {
     "level": 2,
     "link": "[4.10.1 References](https://jckantor.github.io/cbe61622/04.10-Potentiostats-and-Galvanostats.html#4.10.1-References)",
     "section": "4.10.1 References"
    }
   },
   "source": [
    "## 4.10.1 References\n",
    "\n",
    "---\n",
    "\n",
    "Adams, Scott D., et al. \"MiniStat: Development and evaluation of a mini-potentiostat for electrochemical measurements.\" Ieee Access 7 (2019): 31903-31912. https://ieeexplore.ieee.org/stamp/stamp.jsp?arnumber=8657694\n",
    "\n",
    "---\n",
    "\n",
    "Ainla, Alar, et al. \"Open-source potentiostat for wireless electrochemical detection with smartphones.\" Analytical chemistry 90.10 (2018): 6240-6246. https://gmwgroup.harvard.edu/files/gmwgroup/files/1308.pdf \n",
    "\n",
    "---\n",
    "\n",
    "Bianchi, Valentina, et al. \"A Wi-Fi cloud-based portable potentiostat for electrochemical biosensors.\" IEEE Transactions on Instrumentation and Measurement 69.6 (2019): 3232-3240.\n",
    "\n",
    "---\n",
    "\n",
    "Dobbelaere, Thomas, Philippe M. Vereecken, and Christophe Detavernier. \"A USB-controlled potentiostat/galvanostat for thin-film battery characterization.\" HardwareX 2 (2017): 34-49.  https://doi.org/10.1016/j.ohx.2017.08.001\n",
    "\n",
    "---\n",
    "\n",
    "Hoilett, Orlando S., et al. \"KickStat: A coin-sized potentiostat for high-resolution electrochemical analysis.\" Sensors 20.8 (2020): 2407. https://www.mdpi.com/1424-8220/20/8/2407/htm\n",
    "\n",
    "---\n",
    "\n",
    "Irving, P., R. Cecil, and M. Z. Yates. \"MYSTAT: A compact potentiostat/galvanostat for general electrochemistry measurements.\" HardwareX 9 (2021): e00163. https://www.sciencedirect.com/science/article/pii/S2468067220300729\n",
    "\n",
    "> 2, 3, and 4 wire cell configurations with +/- 12 volts at 200ma.\n",
    "\n",
    "---\n",
    "\n",
    "Lopin, Prattana, and Kyle V. Lopin. \"PSoC-Stat: A single chip open source potentiostat based on a Programmable System on a Chip.\" PloS one 13.7 (2018): e0201353. https://journals.plos.org/plosone/article?id=10.1371/journal.pone.0201353\n",
    "\n",
    "---\n",
    "\n",
    "Matsubara, Yasuo. \"A Small yet Complete Framework for a Potentiostat, Galvanostat, and Electrochemical Impedance Spectrometer.\" (2021): 3362-3370. https://pubs.acs.org/doi/full/10.1021/acs.jchemed.1c00228\n",
    "\n",
    "> Elegant 2 omp amp current source for a galvanostat.\n",
    "\n",
    "---"
   ]
  },
  {
   "cell_type": "markdown",
   "id": "2bb28373-5ae1-40c5-be5e-20277e6297fa",
   "metadata": {
    "nbpages": {
     "level": 2,
     "link": "[4.10.2 Application to Electrical Impedence Spectroscopy](https://jckantor.github.io/cbe61622/04.10-Potentiostats-and-Galvanostats.html#4.10.2-Application-to-Electrical-Impedence-Spectroscopy)",
     "section": "4.10.2 Application to Electrical Impedence Spectroscopy"
    }
   },
   "source": [
    "## 4.10.2 Application to Electrical Impedence Spectroscopy\n",
    "\n",
    "---\n",
    "\n",
    "Wang, Shangshang, et al. \"Electrochemical impedance spectroscopy.\" Nature Reviews Methods Primers 1.1 (2021): 1-21. https://www.nature.com/articles/s43586-021-00039-w.pdf\n",
    "\n",
    "> Tutorial presentation of EIS, including instrumentation and data analysis.\n",
    "\n",
    "---\n",
    "\n",
    "Magar, Hend S., Rabeay YA Hassan, and Ashok Mulchandani. \"Electrochemical Impedance Spectroscopy (EIS): Principles, Construction, and Biosensing Applications.\" Sensors 21.19 (2021): 6578. https://www.mdpi.com/1424-8220/21/19/6578/pdf\n",
    "\n",
    "> Tutorial introduction with descriptions of application to solutions and reactions at surfaces.\n",
    "\n",
    "---\n",
    "\n",
    "Instruments, Gamry. \"Basics of electrochemical impedance spectroscopy.\" G. Instruments, Complex impedance in Corrosion (2007): 1-30. https://www.c3-analysentechnik.eu/downloads/applikationsberichte/gamry/5657-Application-Note-EIS.pdf\n",
    "\n",
    "> Tutorial introduction to EIS with extensive modeling discussion.\n",
    "\n",
    "---\n"
   ]
  },
  {
   "cell_type": "code",
   "execution_count": null,
   "id": "34979193-8395-41cb-80e1-31f4a6e28c53",
   "metadata": {
    "nbpages": {
     "level": 2,
     "link": "[4.10.2 Application to Electrical Impedence Spectroscopy](https://jckantor.github.io/cbe61622/04.10-Potentiostats-and-Galvanostats.html#4.10.2-Application-to-Electrical-Impedence-Spectroscopy)",
     "section": "4.10.2 Application to Electrical Impedence Spectroscopy"
    }
   },
   "outputs": [],
   "source": []
  },
  {
   "cell_type": "markdown",
   "id": "0fc64fb5",
   "metadata": {},
   "source": [
    "<!--NAVIGATION-->\n",
    "< [4.0 Chemical Instrumentation](https://jckantor.github.io/cbe61622/04.00-Chemical_Instrumentation.html) | [Contents](toc.html) | [5.0 Raspberry Pi Pico](https://jckantor.github.io/cbe61622/05.00-Raspberry-Pi-Pico.html) ><p><a href=\"https://colab.research.google.com/github/jckantor/cbe61622/blob/master/docs/04.10-Potentiostats-and-Galvanostats.ipynb\"> <img align=\"left\" src=\"https://colab.research.google.com/assets/colab-badge.svg\" alt=\"Open in Colab\" title=\"Open in Google Colaboratory\"></a><p><a href=\"https://jckantor.github.io/cbe61622/04.10-Potentiostats-and-Galvanostats.ipynb\"> <img align=\"left\" src=\"https://img.shields.io/badge/Github-Download-blue.svg\" alt=\"Download\" title=\"Download Notebook\"></a>"
   ]
  }
 ],
 "metadata": {
  "kernelspec": {
   "display_name": "Python 3 (ipykernel)",
   "language": "python",
   "name": "python3"
  },
  "language_info": {
   "codemirror_mode": {
    "name": "ipython",
    "version": 3
   },
   "file_extension": ".py",
   "mimetype": "text/x-python",
   "name": "python",
   "nbconvert_exporter": "python",
   "pygments_lexer": "ipython3",
   "version": "3.8.12"
  }
 },
 "nbformat": 4,
 "nbformat_minor": 5
}
