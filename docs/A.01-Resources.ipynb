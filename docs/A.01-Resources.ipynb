{
 "cells": [
  {
   "cell_type": "markdown",
   "id": "3b1831d0",
   "metadata": {},
   "source": [
    "<!--NOTEBOOK_HEADER-->\n",
    "*This notebook contains material from [cbe61622](https://jckantor.github.io/cbe61622);\n",
    "content is available [on Github](https://github.com/jckantor/cbe61622.git).*\n"
   ]
  },
  {
   "cell_type": "markdown",
   "id": "7d22a70a",
   "metadata": {},
   "source": [
    "<!--NAVIGATION-->\n",
    "< [A.0 Python Source Library](https://jckantor.github.io/cbe61622/A.00-Appendices.html) | [Contents](toc.html) | [A.2 Downloading Python source files from github](https://jckantor.github.io/cbe61622/A.02-Downloading_Python_source_files_from_github.html) ><p><a href=\"https://colab.research.google.com/github/jckantor/cbe61622/blob/master/docs/A.01-Resources.ipynb\"> <img align=\"left\" src=\"https://colab.research.google.com/assets/colab-badge.svg\" alt=\"Open in Colab\" title=\"Open in Google Colaboratory\"></a><p><a href=\"https://jckantor.github.io/cbe61622/A.01-Resources.ipynb\"> <img align=\"left\" src=\"https://img.shields.io/badge/Github-Download-blue.svg\" alt=\"Download\" title=\"Download Notebook\"></a>"
   ]
  },
  {
   "cell_type": "markdown",
   "metadata": {
    "id": "YC8EttSgs56N",
    "nbpages": {
     "level": 1,
     "link": "[A.1 Resources](https://jckantor.github.io/cbe61622/A.01-Resources.html#A.1-Resources)",
     "section": "A.1 Resources"
    }
   },
   "source": [
    "# A.1 Resources"
   ]
  },
  {
   "cell_type": "markdown",
   "metadata": {
    "id": "ADf1RKFj7C7A",
    "nbpages": {
     "level": 2,
     "link": "[A.1.1 Data Acquistion, Instrumentation, and Control Companies](https://jckantor.github.io/cbe61622/A.01-Resources.html#A.1.1-Data-Acquistion,-Instrumentation,-and-Control-Companies)",
     "section": "A.1.1 Data Acquistion, Instrumentation, and Control Companies"
    }
   },
   "source": [
    "## A.1.1 Data Acquistion, Instrumentation, and Control Companies\n",
    "\n",
    "* [National Instruments](https://www.ni.com/en-us.html). Full line vendor of industrial and laboratory grade instruments and software, including LabView."
   ]
  },
  {
   "cell_type": "markdown",
   "metadata": {
    "id": "s4FhNHebs-Pa",
    "nbpages": {
     "level": 2,
     "link": "[A.1.2 IoT Devices and Services](https://jckantor.github.io/cbe61622/A.01-Resources.html#A.1.2-IoT-Devices-and-Services)",
     "section": "A.1.2 IoT Devices and Services"
    }
   },
   "source": [
    "## A.1.2 IoT Devices and Services\n",
    "\n",
    "* [Adafruit](https://www.adafruit.com/about). Full range of devices, sensors, and software (including CircuitPython).\n",
    "\n",
    "* [DFRobot](dfrobot.com). Producer of open source hardware and software products, including a full range of sensors, with a strong focus on developers and STEM education.\n",
    "\n",
    "* [National Control Devices](https://ncd.io/). A producer of IoT devices, software, and services for industrial and military applications. Includes feather boards for 5 volt expansion of I2C communications.\n",
    "\n",
    "* [Particle.io](particle.io). A producer of IoT devices and services with a larger developer community.\n",
    "\n",
    "* [SeeedStudio](seeedstudio.com). A producer of a IoT devices, sensors, and development kits.  Produces a wide range of [\"Grove\"](https://wiki.seeedstudio.com/Grove_System/) sensors which use standardized connector and modules to simplify development of IoT applications."
   ]
  },
  {
   "cell_type": "markdown",
   "metadata": {
    "id": "-9Ep-7015VBA",
    "nbpages": {
     "level": 2,
     "link": "[A.1.3 Software Platforms](https://jckantor.github.io/cbe61622/A.01-Resources.html#A.1.3-Software-Platforms)",
     "section": "A.1.3 Software Platforms"
    }
   },
   "source": [
    "## A.1.3 Software Platforms\n",
    "\n",
    "* [Arduino](https://www.arduino.cc/)\n",
    "* [AWS IoT](https://aws.amazon.com/iot/)\n",
    "* [Blynk](https://blynk.io/).  Hardware agnostic platform for creating mobile IoT applications.\n",
    "* [Internet of Things (IoT) of IBM Cloud](https://www.ibm.com/cloud/internet-of-things)\n",
    "* [Node-RED](https://nodered.org/). An open-source, graphical editor for creating event-driven applications to run on [Node.js](https://nodejs.org/en/). Applications can be run on Raspberry Pi or in the cloud. \n",
    "* [PlatformIO](https://platformio.org/)."
   ]
  },
  {
   "cell_type": "code",
   "execution_count": null,
   "metadata": {
    "id": "wzCnOzOms56O",
    "nbpages": {
     "level": 2,
     "link": "[A.1.3 Software Platforms](https://jckantor.github.io/cbe61622/A.01-Resources.html#A.1.3-Software-Platforms)",
     "section": "A.1.3 Software Platforms"
    }
   },
   "outputs": [],
   "source": []
  },
  {
   "cell_type": "markdown",
   "id": "0c43ab4a",
   "metadata": {},
   "source": [
    "<!--NAVIGATION-->\n",
    "< [A.0 Python Source Library](https://jckantor.github.io/cbe61622/A.00-Appendices.html) | [Contents](toc.html) | [A.2 Downloading Python source files from github](https://jckantor.github.io/cbe61622/A.02-Downloading_Python_source_files_from_github.html) ><p><a href=\"https://colab.research.google.com/github/jckantor/cbe61622/blob/master/docs/A.01-Resources.ipynb\"> <img align=\"left\" src=\"https://colab.research.google.com/assets/colab-badge.svg\" alt=\"Open in Colab\" title=\"Open in Google Colaboratory\"></a><p><a href=\"https://jckantor.github.io/cbe61622/A.01-Resources.ipynb\"> <img align=\"left\" src=\"https://img.shields.io/badge/Github-Download-blue.svg\" alt=\"Download\" title=\"Download Notebook\"></a>"
   ]
  }
 ],
 "metadata": {
  "colab": {
   "collapsed_sections": [],
   "name": "A.00-Resources.ipynb",
   "provenance": []
  },
  "kernelspec": {
   "display_name": "Python 3",
   "language": "python",
   "name": "python3"
  },
  "language_info": {
   "codemirror_mode": {
    "name": "ipython",
    "version": 3
   },
   "file_extension": ".py",
   "mimetype": "text/x-python",
   "name": "python",
   "nbconvert_exporter": "python",
   "pygments_lexer": "ipython3",
   "version": "3.7.4"
  }
 },
 "nbformat": 4,
 "nbformat_minor": 0
}
