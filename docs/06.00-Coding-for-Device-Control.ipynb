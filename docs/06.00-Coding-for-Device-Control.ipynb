{
 "cells": [
  {
   "cell_type": "markdown",
   "id": "4ba2f4c5",
   "metadata": {},
   "source": [
    "<!--NOTEBOOK_HEADER-->\n",
    "*This notebook contains material from [cbe61622](https://jckantor.github.io/cbe61622);\n",
    "content is available [on Github](https://github.com/jckantor/cbe61622.git).*\n"
   ]
  },
  {
   "cell_type": "markdown",
   "id": "1928d97b",
   "metadata": {},
   "source": [
    "<!--NAVIGATION-->\n",
    "< [5.3 LCD1602](https://jckantor.github.io/cbe61622/05.03-LCD1602.html) | [Contents](toc.html) | [6.1 Managing Multiple Devices with an Event Loop](https://jckantor.github.io/cbe61622/06.01-Simple_Event_Loop.html) ><p><a href=\"https://colab.research.google.com/github/jckantor/cbe61622/blob/master/docs/06.00-Coding-for-Device-Control.ipynb\"> <img align=\"left\" src=\"https://colab.research.google.com/assets/colab-badge.svg\" alt=\"Open in Colab\" title=\"Open in Google Colaboratory\"></a><p><a href=\"https://jckantor.github.io/cbe61622/06.00-Coding-for-Device-Control.ipynb\"> <img align=\"left\" src=\"https://img.shields.io/badge/Github-Download-blue.svg\" alt=\"Download\" title=\"Download Notebook\"></a>"
   ]
  },
  {
   "cell_type": "code",
   "execution_count": null,
   "id": "5c90753d-fbd5-4890-af73-782a76041ae1",
   "metadata": {
    "nbpages": {
     "level": 0,
     "link": "[](https://jckantor.github.io/cbe61622/06.00-Coding-for-Device-Control.html)",
     "section": ""
    }
   },
   "outputs": [],
   "source": []
  },
  {
   "cell_type": "markdown",
   "id": "478c7caa",
   "metadata": {},
   "source": [
    "<!--NAVIGATION-->\n",
    "< [5.3 LCD1602](https://jckantor.github.io/cbe61622/05.03-LCD1602.html) | [Contents](toc.html) | [6.1 Managing Multiple Devices with an Event Loop](https://jckantor.github.io/cbe61622/06.01-Simple_Event_Loop.html) ><p><a href=\"https://colab.research.google.com/github/jckantor/cbe61622/blob/master/docs/06.00-Coding-for-Device-Control.ipynb\"> <img align=\"left\" src=\"https://colab.research.google.com/assets/colab-badge.svg\" alt=\"Open in Colab\" title=\"Open in Google Colaboratory\"></a><p><a href=\"https://jckantor.github.io/cbe61622/06.00-Coding-for-Device-Control.ipynb\"> <img align=\"left\" src=\"https://img.shields.io/badge/Github-Download-blue.svg\" alt=\"Download\" title=\"Download Notebook\"></a>"
   ]
  }
 ],
 "metadata": {
  "kernelspec": {
   "display_name": "Python 3 (ipykernel)",
   "language": "python",
   "name": "python3"
  },
  "language_info": {
   "codemirror_mode": {
    "name": "ipython",
    "version": 3
   },
   "file_extension": ".py",
   "mimetype": "text/x-python",
   "name": "python",
   "nbconvert_exporter": "python",
   "pygments_lexer": "ipython3",
   "version": "3.8.12"
  }
 },
 "nbformat": 4,
 "nbformat_minor": 5
}
