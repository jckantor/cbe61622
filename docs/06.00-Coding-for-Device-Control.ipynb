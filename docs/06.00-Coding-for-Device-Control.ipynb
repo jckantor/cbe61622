{
 "cells": [
  {
   "cell_type": "markdown",
   "id": "320008f0",
   "metadata": {},
   "source": [
    "<!--NOTEBOOK_HEADER-->\n",
    "*This notebook contains material from [cbe61622](https://jckantor.github.io/cbe61622);\n",
    "content is available [on Github](https://github.com/jckantor/cbe61622.git).*\n"
   ]
  },
  {
   "cell_type": "markdown",
   "id": "b9d7706d",
   "metadata": {},
   "source": [
    "<!--NAVIGATION-->\n",
    "< [5.3 LCD1602](https://jckantor.github.io/cbe61622/05.03-LCD1602.html) | [Contents](toc.html) | [6.1 Managing Multiple Devices with an Event Loop](https://jckantor.github.io/cbe61622/06.01-Simple_Event_Loop.html) ><p><a href=\"https://colab.research.google.com/github/jckantor/cbe61622/blob/master/docs/06.00-Coding-for-Device-Control.ipynb\"> <img align=\"left\" src=\"https://colab.research.google.com/assets/colab-badge.svg\" alt=\"Open in Colab\" title=\"Open in Google Colaboratory\"></a><p><a href=\"https://jckantor.github.io/cbe61622/06.00-Coding-for-Device-Control.ipynb\"> <img align=\"left\" src=\"https://img.shields.io/badge/Github-Download-blue.svg\" alt=\"Download\" title=\"Download Notebook\"></a>"
   ]
  },
  {
   "cell_type": "markdown",
   "id": "a259af6d-9d01-488f-ad92-1d7799ef48a1",
   "metadata": {
    "nbpages": {
     "level": 1,
     "link": "[6.0 Device Coding](https://jckantor.github.io/cbe61622/06.00-Coding-for-Device-Control.html#6.0-Device-Coding)",
     "section": "6.0 Device Coding"
    }
   },
   "source": [
    "# 6.0 Device Coding"
   ]
  },
  {
   "cell_type": "code",
   "execution_count": null,
   "id": "938969ae-2445-42e9-88a1-2f8e0245ee1c",
   "metadata": {
    "nbpages": {
     "level": 1,
     "link": "[6.0 Device Coding](https://jckantor.github.io/cbe61622/06.00-Coding-for-Device-Control.html#6.0-Device-Coding)",
     "section": "6.0 Device Coding"
    }
   },
   "outputs": [],
   "source": []
  },
  {
   "cell_type": "markdown",
   "id": "87f2fb3f",
   "metadata": {},
   "source": [
    "<!--NAVIGATION-->\n",
    "< [5.3 LCD1602](https://jckantor.github.io/cbe61622/05.03-LCD1602.html) | [Contents](toc.html) | [6.1 Managing Multiple Devices with an Event Loop](https://jckantor.github.io/cbe61622/06.01-Simple_Event_Loop.html) ><p><a href=\"https://colab.research.google.com/github/jckantor/cbe61622/blob/master/docs/06.00-Coding-for-Device-Control.ipynb\"> <img align=\"left\" src=\"https://colab.research.google.com/assets/colab-badge.svg\" alt=\"Open in Colab\" title=\"Open in Google Colaboratory\"></a><p><a href=\"https://jckantor.github.io/cbe61622/06.00-Coding-for-Device-Control.ipynb\"> <img align=\"left\" src=\"https://img.shields.io/badge/Github-Download-blue.svg\" alt=\"Download\" title=\"Download Notebook\"></a>"
   ]
  }
 ],
 "metadata": {
  "kernelspec": {
   "display_name": "Python 3 (ipykernel)",
   "language": "python",
   "name": "python3"
  },
  "language_info": {
   "codemirror_mode": {
    "name": "ipython",
    "version": 3
   },
   "file_extension": ".py",
   "mimetype": "text/x-python",
   "name": "python",
   "nbconvert_exporter": "python",
   "pygments_lexer": "ipython3",
   "version": "3.8.12"
  }
 },
 "nbformat": 4,
 "nbformat_minor": 5
}
