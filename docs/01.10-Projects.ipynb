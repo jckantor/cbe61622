{
 "cells": [
  {
   "cell_type": "markdown",
   "id": "84dec64a",
   "metadata": {},
   "source": [
    "<!--NOTEBOOK_HEADER-->\n",
    "*This notebook contains material from [cbe61622](https://jckantor.github.io/cbe61622);\n",
    "content is available [on Github](https://github.com/jckantor/cbe61622.git).*\n"
   ]
  },
  {
   "cell_type": "markdown",
   "id": "1255cf2b",
   "metadata": {},
   "source": [
    "<!--NAVIGATION-->\n",
    "< [None](https://jckantor.github.io/cbe61622/01.02-Workstation-Learning-Exercises.html) | [Contents](toc.html) | [2.0 Analog Circuits and Signals](https://jckantor.github.io/cbe61622/02.00-Analog-Circuits-and-Signals.html) ><p><a href=\"https://colab.research.google.com/github/jckantor/cbe61622/blob/master/docs/01.10-Projects.ipynb\"> <img align=\"left\" src=\"https://colab.research.google.com/assets/colab-badge.svg\" alt=\"Open in Colab\" title=\"Open in Google Colaboratory\"></a><p><a href=\"https://jckantor.github.io/cbe61622/01.10-Projects.ipynb\"> <img align=\"left\" src=\"https://img.shields.io/badge/Github-Download-blue.svg\" alt=\"Download\" title=\"Download Notebook\"></a>"
   ]
  },
  {
   "cell_type": "markdown",
   "metadata": {
    "nbpages": {
     "level": 1,
     "link": "[1.10 Projects](https://jckantor.github.io/cbe61622/01.10-Projects.html#1.10-Projects)",
     "section": "1.10 Projects"
    }
   },
   "source": [
    "# 1.10 Projects"
   ]
  },
  {
   "cell_type": "markdown",
   "metadata": {
    "nbpages": {
     "level": 2,
     "link": "[1.10.1 Project Ideas for Fall, 2022](https://jckantor.github.io/cbe61622/01.10-Projects.html#1.10.1-Project-Ideas-for-Fall,-2022)",
     "section": "1.10.1 Project Ideas for Fall, 2022"
    }
   },
   "source": [
    "## 1.10.1 Project Ideas for Fall, 2022"
   ]
  },
  {
   "cell_type": "markdown",
   "metadata": {
    "nbpages": {
     "level": 3,
     "link": "[1.10.1.1 Raspberry Pi Electronics Workbench](https://jckantor.github.io/cbe61622/01.10-Projects.html#1.10.1.1-Raspberry-Pi-Electronics-Workbench)",
     "section": "1.10.1.1 Raspberry Pi Electronics Workbench"
    }
   },
   "source": [
    "### 1.10.1.1 Raspberry Pi Electronics Workbench\n",
    "\n",
    "* Digilent Analog Studio\n",
    "* Raspberry Pi 400 w/monitor\n",
    "* Analog Devices ADALP2000 kit\n",
    "* Stepper Motors\n",
    "* 40 wire inter"
   ]
  },
  {
   "cell_type": "markdown",
   "metadata": {
    "nbpages": {
     "level": 3,
     "link": "[1.10.1.2 CO2 Sensor](https://jckantor.github.io/cbe61622/01.10-Projects.html#1.10.1.2-CO2-Sensor)",
     "section": "1.10.1.2 CO2 Sensor"
    }
   },
   "source": [
    "### 1.10.1.2 CO2 Sensor\n",
    "\n",
    "Build a NDIR based CO2 sensor with integrated humdity and temperature sensors. Install and operate with CBE Lab II CO2 absorption experiment, or separately test wtih commercial seltzer water dispensers."
   ]
  },
  {
   "cell_type": "markdown",
   "metadata": {
    "nbpages": {
     "level": 3,
     "link": "[1.10.1.3 Microsope](https://jckantor.github.io/cbe61622/01.10-Projects.html#1.10.1.3-Microsope)",
     "section": "1.10.1.3 Microsope"
    }
   },
   "source": [
    "### 1.10.1.3 Microsope\n",
    "\n",
    "Build a microscope. Use Raspberry Pi HQ camera, C-mount microscope lens.\n",
    "\n",
    "* https://www.sciencedirect.com/science/article/pii/S2352711021000339#appA\n",
    "* https://www.amazon.com/Monocular-C-Mount-Industry-Microscope-Objective/dp/B016NUGHK2"
   ]
  },
  {
   "cell_type": "markdown",
   "metadata": {
    "nbpages": {
     "level": 3,
     "link": "[1.10.1.4 Potentiostat/Galvanostat/EIS Device](https://jckantor.github.io/cbe61622/01.10-Projects.html#1.10.1.4-Potentiostat/Galvanostat/EIS-Device)",
     "section": "1.10.1.4 Potentiostat/Galvanostat/EIS Device"
    }
   },
   "source": [
    "### 1.10.1.4 Potentiostat/Galvanostat/EIS Device"
   ]
  },
  {
   "cell_type": "code",
   "execution_count": null,
   "metadata": {
    "nbpages": {
     "level": 3,
     "link": "[1.10.1.4 Potentiostat/Galvanostat/EIS Device](https://jckantor.github.io/cbe61622/01.10-Projects.html#1.10.1.4-Potentiostat/Galvanostat/EIS-Device)",
     "section": "1.10.1.4 Potentiostat/Galvanostat/EIS Device"
    }
   },
   "outputs": [],
   "source": []
  },
  {
   "cell_type": "markdown",
   "id": "cd8c53a7",
   "metadata": {},
   "source": [
    "<!--NAVIGATION-->\n",
    "< [None](https://jckantor.github.io/cbe61622/01.02-Workstation-Learning-Exercises.html) | [Contents](toc.html) | [2.0 Analog Circuits and Signals](https://jckantor.github.io/cbe61622/02.00-Analog-Circuits-and-Signals.html) ><p><a href=\"https://colab.research.google.com/github/jckantor/cbe61622/blob/master/docs/01.10-Projects.ipynb\"> <img align=\"left\" src=\"https://colab.research.google.com/assets/colab-badge.svg\" alt=\"Open in Colab\" title=\"Open in Google Colaboratory\"></a><p><a href=\"https://jckantor.github.io/cbe61622/01.10-Projects.ipynb\"> <img align=\"left\" src=\"https://img.shields.io/badge/Github-Download-blue.svg\" alt=\"Download\" title=\"Download Notebook\"></a>"
   ]
  }
 ],
 "metadata": {
  "kernelspec": {
   "display_name": "Python 3 (ipykernel)",
   "language": "python",
   "name": "python3"
  },
  "language_info": {
   "codemirror_mode": {
    "name": "ipython",
    "version": 3
   },
   "file_extension": ".py",
   "mimetype": "text/x-python",
   "name": "python",
   "nbconvert_exporter": "python",
   "pygments_lexer": "ipython3",
   "version": "3.8.12"
  }
 },
 "nbformat": 4,
 "nbformat_minor": 4
}
