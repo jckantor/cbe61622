{
 "cells": [
  {
   "cell_type": "markdown",
   "id": "48d362b5",
   "metadata": {},
   "source": [
    "<!--NOTEBOOK_HEADER-->\n",
    "*This notebook contains material from [cbe61622](https://jckantor.github.io/cbe61622);\n",
    "content is available [on Github](https://github.com/jckantor/cbe61622.git).*\n"
   ]
  },
  {
   "cell_type": "markdown",
   "id": "5015d7c0",
   "metadata": {},
   "source": [
    "<!--NAVIGATION-->\n",
    "< [2.10 Operational Amplifiers](https://jckantor.github.io/cbe61622/02.10-Operational-Amplifiers.html) | [Contents](toc.html) | [3.1 Low-Level Measurement](https://jckantor.github.io/cbe61622/03.01-Low-Level-Measurment.html) ><p><a href=\"https://colab.research.google.com/github/jckantor/cbe61622/blob/master/docs/03.00-Analog-Measurement.ipynb\"> <img align=\"left\" src=\"https://colab.research.google.com/assets/colab-badge.svg\" alt=\"Open in Colab\" title=\"Open in Google Colaboratory\"></a><p><a href=\"https://jckantor.github.io/cbe61622/03.00-Analog-Measurement.ipynb\"> <img align=\"left\" src=\"https://img.shields.io/badge/Github-Download-blue.svg\" alt=\"Download\" title=\"Download Notebook\"></a>"
   ]
  },
  {
   "cell_type": "markdown",
   "id": "98e12947-d0e7-40ab-bcbc-f5ce164832ea",
   "metadata": {
    "nbpages": {
     "level": 1,
     "link": "[3.0 Analog Measurement](https://jckantor.github.io/cbe61622/03.00-Analog-Measurement.html#3.0-Analog-Measurement)",
     "section": "3.0 Analog Measurement"
    }
   },
   "source": [
    "# 3.0 Analog Measurement"
   ]
  },
  {
   "cell_type": "code",
   "execution_count": null,
   "id": "720173d5-5e32-41b7-80de-af80cbdbe547",
   "metadata": {
    "nbpages": {
     "level": 1,
     "link": "[3.0 Analog Measurement](https://jckantor.github.io/cbe61622/03.00-Analog-Measurement.html#3.0-Analog-Measurement)",
     "section": "3.0 Analog Measurement"
    }
   },
   "outputs": [],
   "source": []
  },
  {
   "cell_type": "markdown",
   "id": "662d9db8",
   "metadata": {},
   "source": [
    "<!--NAVIGATION-->\n",
    "< [2.10 Operational Amplifiers](https://jckantor.github.io/cbe61622/02.10-Operational-Amplifiers.html) | [Contents](toc.html) | [3.1 Low-Level Measurement](https://jckantor.github.io/cbe61622/03.01-Low-Level-Measurment.html) ><p><a href=\"https://colab.research.google.com/github/jckantor/cbe61622/blob/master/docs/03.00-Analog-Measurement.ipynb\"> <img align=\"left\" src=\"https://colab.research.google.com/assets/colab-badge.svg\" alt=\"Open in Colab\" title=\"Open in Google Colaboratory\"></a><p><a href=\"https://jckantor.github.io/cbe61622/03.00-Analog-Measurement.ipynb\"> <img align=\"left\" src=\"https://img.shields.io/badge/Github-Download-blue.svg\" alt=\"Download\" title=\"Download Notebook\"></a>"
   ]
  }
 ],
 "metadata": {
  "kernelspec": {
   "display_name": "Python 3 (ipykernel)",
   "language": "python",
   "name": "python3"
  },
  "language_info": {
   "codemirror_mode": {
    "name": "ipython",
    "version": 3
   },
   "file_extension": ".py",
   "mimetype": "text/x-python",
   "name": "python",
   "nbconvert_exporter": "python",
   "pygments_lexer": "ipython3",
   "version": "3.8.12"
  }
 },
 "nbformat": 4,
 "nbformat_minor": 5
}
