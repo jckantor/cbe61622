{
 "cells": [
  {
   "cell_type": "markdown",
   "id": "b48ec07a",
   "metadata": {},
   "source": [
    "<!--NOTEBOOK_HEADER-->\n",
    "*This notebook contains material from [cbe61622](https://jckantor.github.io/cbe61622);\n",
    "content is available [on Github](https://github.com/jckantor/cbe61622.git).*\n"
   ]
  },
  {
   "cell_type": "markdown",
   "id": "abbbb0c0",
   "metadata": {},
   "source": [
    "<!--NAVIGATION-->\n",
    "< [9.3 Accessing MQTT Devices](https://jckantor.github.io/cbe61622/09.03-Miscellaneous_Notes.html) | [Contents](toc.html) | [10.1 Image Capture](https://jckantor.github.io/cbe61622/10.01-rpi-image-capture.html) ><p><a href=\"https://colab.research.google.com/github/jckantor/cbe61622/blob/master/docs/10.00-Computer-Vision.ipynb\"> <img align=\"left\" src=\"https://colab.research.google.com/assets/colab-badge.svg\" alt=\"Open in Colab\" title=\"Open in Google Colaboratory\"></a><p><a href=\"https://jckantor.github.io/cbe61622/10.00-Computer-Vision.ipynb\"> <img align=\"left\" src=\"https://img.shields.io/badge/Github-Download-blue.svg\" alt=\"Download\" title=\"Download Notebook\"></a>"
   ]
  },
  {
   "cell_type": "markdown",
   "metadata": {
    "nbpages": {
     "level": 1,
     "link": "[10.0 Computer Vision](https://jckantor.github.io/cbe61622/10.00-Computer-Vision.html#10.0-Computer-Vision)",
     "section": "10.0 Computer Vision"
    }
   },
   "source": [
    "# 10.0 Computer Vision"
   ]
  },
  {
   "cell_type": "markdown",
   "metadata": {
    "nbpages": {
     "level": 2,
     "link": "[10.0.1 Outline](https://jckantor.github.io/cbe61622/10.00-Computer-Vision.html#10.0.1-Outline)",
     "section": "10.0.1 Outline"
    }
   },
   "source": [
    "## 10.0.1 Outline\n",
    "\n",
    "Digital imaging has enabled a global culture of visual communications. The ubquitous smartphones of the current era enable image capture, editing, and instant global transmission for literally billions of people. That technology can also be brought to bear in the laboratory.\n",
    "\n",
    "**Need a Diagram**: Staging/Lighting --> Image Formation (Lenses) --> Image Capture (Sensors) --> Image Processing and Segmentation (Computer Vision) --> Machine Learning"
   ]
  },
  {
   "cell_type": "markdown",
   "metadata": {
    "nbpages": {
     "level": 2,
     "link": "[10.0.2 Light, Perception, and Color](https://jckantor.github.io/cbe61622/10.00-Computer-Vision.html#10.0.2-Light,-Perception,-and-Color)",
     "section": "10.0.2 Light, Perception, and Color"
    },
    "tags": []
   },
   "source": [
    "## 10.0.2 Light, Perception, and Color\n",
    "\n",
    "Light, color, and human perception."
   ]
  },
  {
   "cell_type": "markdown",
   "metadata": {
    "nbpages": {
     "level": 2,
     "link": "[10.0.3 Lenses and Image Formation](https://jckantor.github.io/cbe61622/10.00-Computer-Vision.html#10.0.3-Lenses-and-Image-Formation)",
     "section": "10.0.3 Lenses and Image Formation"
    },
    "tags": []
   },
   "source": [
    "## 10.0.3 Lenses and Image Formation\n",
    "\n",
    "Introduction to imaging and lenses\n",
    "\n",
    "* https://coinimaging.com/photo_articles.html\n",
    "\n",
    "Finite versus Infinite Conjugation\n",
    "\n",
    "Fourier Optics"
   ]
  },
  {
   "cell_type": "markdown",
   "metadata": {
    "nbpages": {
     "level": 2,
     "link": "[10.0.4 Image Sensors](https://jckantor.github.io/cbe61622/10.00-Computer-Vision.html#10.0.4-Image-Sensors)",
     "section": "10.0.4 Image Sensors"
    }
   },
   "source": [
    "## 10.0.4 Image Sensors\n",
    "\n",
    "Raspberry Pi Cameras\n",
    "\n",
    "* [Raspberry Pi Camera Module 2](https://www.raspberrypi.com/products/camera-module-v2/) A fixed focus color camera baased on the 8 MP [Sony IMX219 sensor](https://github.com/rellimmot/Sony-IMX219-Raspberry-Pi-V2-CMOS). Ships with fixed focus lens and CSI cable.\n",
    "* [Raspberry Pi HQ Camera]()\n",
    "\n",
    "\n",
    "\n",
    "Third Party Devices\n",
    "\n",
    "* [Weewoday OV5647 1080p](https://www.amazon.com/Pieces-Megapixels-Sensor-Compatible-Raspberry/dp/B08M9RY3DQ/) Similar to Raspberry Pi Version 1 camera.\n",
    "\n",
    "Thermal Imaging\n",
    "\n",
    "* [Grove - Thermal Imaging Camera - MLX90641 BCB 16x12 IR Array with 55° FOV](https://www.seeedstudio.com/Grove-Thermal-Imaging-Camera-MLX90641-BCB-16x12-IR-Array-with-55-FOV-p-5265.html)"
   ]
  },
  {
   "cell_type": "markdown",
   "metadata": {
    "nbpages": {
     "level": 2,
     "link": "[10.0.5 Macro/Micro Photography](https://jckantor.github.io/cbe61622/10.00-Computer-Vision.html#10.0.5-Macro/Micro-Photography)",
     "section": "10.0.5 Macro/Micro Photography"
    }
   },
   "source": [
    "## 10.0.5 Macro/Micro Photography\n",
    "\n",
    "Concepts\n",
    "\n",
    "* Magnification\n",
    "\n",
    "Conventional Macro\n",
    "\n",
    "* Triplet achromats. Infinite conjugation achromatic triplets are available as commercial at low-cost from Raynox.\n",
    "\n",
    "* [Mitakon Zhongyi 20mm f/2 4.5x Super Macro Lens](https://www.bhphotovideo.com/c/product/1307521-REG/mitakon_zhongyi_mtk20mf2ai_20mm_f_2_4_5x_super.html)\n",
    "\n",
    "* [Venus Optics Laowa 25mm f/2.8 2.5-5X Ultra Macro Lens](https://www.bhphotovideo.com/c/product/1526143-REG/venus_optics_ve2528nz_laowa_25mm_f_2_8_2_5_5x.html)\n",
    "\n",
    "* [Yasuhara Nanoha Macro Lens 5:1](https://www.bhphotovideo.com/c/product/852859-REG/YASUHARA_YA24_NAN5M_Nanoha_Macro_Lens_5_1.html)\n",
    "\n",
    "* [Venus Optics Laowa 24mm f/14 Probe Lens](https://www.bhphotovideo.com/c/product/1430596-REG/venus_optics_laowa_24mm_f_14_probe.html)\n",
    "\n",
    "Microscope Objectives\n",
    "\n",
    "* [Edmund Scientific. Understanding Microscopes and Objectives](https://www.edmundoptics.com/knowledge-center/application-notes/microscopy/understanding-microscopes-and-objectives/)\n",
    "\n",
    "* [MJKZZ. Using Microscope Objectives For Beginners](https://www.mjkzz.com/single-post/2016/08/10/Using-Microscope-Objectives-For-Beginners)\n",
    "\n",
    "* MJKZZ Microscope to Filter Thread adapters (https://www.mjkzz.com/product-page/4x-plan-infinite-microscope-objective-with-rms-adapter)\n",
    "\n",
    "* [Hayear Lenses and Accessories](https://www.amazon.com/stores/page/B8FE1052-BA43-4FA2-99E8-3AC4A9A05A29)"
   ]
  },
  {
   "cell_type": "code",
   "execution_count": null,
   "metadata": {
    "nbpages": {
     "level": 2,
     "link": "[10.0.5 Macro/Micro Photography](https://jckantor.github.io/cbe61622/10.00-Computer-Vision.html#10.0.5-Macro/Micro-Photography)",
     "section": "10.0.5 Macro/Micro Photography"
    }
   },
   "outputs": [],
   "source": []
  },
  {
   "cell_type": "markdown",
   "id": "ac5cb02b",
   "metadata": {},
   "source": [
    "<!--NAVIGATION-->\n",
    "< [9.3 Accessing MQTT Devices](https://jckantor.github.io/cbe61622/09.03-Miscellaneous_Notes.html) | [Contents](toc.html) | [10.1 Image Capture](https://jckantor.github.io/cbe61622/10.01-rpi-image-capture.html) ><p><a href=\"https://colab.research.google.com/github/jckantor/cbe61622/blob/master/docs/10.00-Computer-Vision.ipynb\"> <img align=\"left\" src=\"https://colab.research.google.com/assets/colab-badge.svg\" alt=\"Open in Colab\" title=\"Open in Google Colaboratory\"></a><p><a href=\"https://jckantor.github.io/cbe61622/10.00-Computer-Vision.ipynb\"> <img align=\"left\" src=\"https://img.shields.io/badge/Github-Download-blue.svg\" alt=\"Download\" title=\"Download Notebook\"></a>"
   ]
  }
 ],
 "metadata": {
  "kernelspec": {
   "display_name": "Python 3 (ipykernel)",
   "language": "python",
   "name": "python3"
  },
  "language_info": {
   "codemirror_mode": {
    "name": "ipython",
    "version": 3
   },
   "file_extension": ".py",
   "mimetype": "text/x-python",
   "name": "python",
   "nbconvert_exporter": "python",
   "pygments_lexer": "ipython3",
   "version": "3.8.12"
  }
 },
 "nbformat": 4,
 "nbformat_minor": 4
}
