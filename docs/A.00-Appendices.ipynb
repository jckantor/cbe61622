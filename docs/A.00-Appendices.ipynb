{
 "cells": [
  {
   "cell_type": "markdown",
   "id": "c12b6d58",
   "metadata": {},
   "source": [
    "<!--NOTEBOOK_HEADER-->\n",
    "*This notebook contains material from [cbe61622](https://jckantor.github.io/cbe61622);\n",
    "content is available [on Github](https://github.com/jckantor/cbe61622.git).*\n"
   ]
  },
  {
   "cell_type": "markdown",
   "id": "d6343616",
   "metadata": {},
   "source": [
    "<!--NAVIGATION-->\n",
    "< [10.12 Computer Vision Case Study: Creating an Application](https://jckantor.github.io/cbe61622/10.12-Computer-Vision-Application.html) | [Contents](toc.html) | [A.1 Resources](https://jckantor.github.io/cbe61622/A.01-Resources.html) ><p><a href=\"https://colab.research.google.com/github/jckantor/cbe61622/blob/master/docs/A.00-Appendices.ipynb\"> <img align=\"left\" src=\"https://colab.research.google.com/assets/colab-badge.svg\" alt=\"Open in Colab\" title=\"Open in Google Colaboratory\"></a><p><a href=\"https://jckantor.github.io/cbe61622/A.00-Appendices.ipynb\"> <img align=\"left\" src=\"https://img.shields.io/badge/Github-Download-blue.svg\" alt=\"Download\" title=\"Download Notebook\"></a>"
   ]
  },
  {
   "cell_type": "markdown",
   "metadata": {
    "id": "YC8EttSgs56N",
    "nbpages": {
     "level": 1,
     "link": "[A.0 Python Source Library](https://jckantor.github.io/cbe61622/A.00-Appendices.html#A.0-Python-Source-Library)",
     "section": "A.0 Python Source Library"
    }
   },
   "source": [
    "# A.0 Python Source Library"
   ]
  },
  {
   "cell_type": "code",
   "execution_count": null,
   "metadata": {
    "id": "wzCnOzOms56O",
    "nbpages": {
     "level": 1,
     "link": "[A.0 Python Source Library](https://jckantor.github.io/cbe61622/A.00-Appendices.html#A.0-Python-Source-Library)",
     "section": "A.0 Python Source Library"
    }
   },
   "outputs": [],
   "source": []
  },
  {
   "cell_type": "markdown",
   "id": "b3f68884",
   "metadata": {},
   "source": [
    "<!--NAVIGATION-->\n",
    "< [10.12 Computer Vision Case Study: Creating an Application](https://jckantor.github.io/cbe61622/10.12-Computer-Vision-Application.html) | [Contents](toc.html) | [A.1 Resources](https://jckantor.github.io/cbe61622/A.01-Resources.html) ><p><a href=\"https://colab.research.google.com/github/jckantor/cbe61622/blob/master/docs/A.00-Appendices.ipynb\"> <img align=\"left\" src=\"https://colab.research.google.com/assets/colab-badge.svg\" alt=\"Open in Colab\" title=\"Open in Google Colaboratory\"></a><p><a href=\"https://jckantor.github.io/cbe61622/A.00-Appendices.ipynb\"> <img align=\"left\" src=\"https://img.shields.io/badge/Github-Download-blue.svg\" alt=\"Download\" title=\"Download Notebook\"></a>"
   ]
  }
 ],
 "metadata": {
  "colab": {
   "collapsed_sections": [],
   "name": "A.02-Python_Source_LIbrary.ipynb",
   "provenance": []
  },
  "kernelspec": {
   "display_name": "Python 3",
   "language": "python",
   "name": "python3"
  },
  "language_info": {
   "codemirror_mode": {
    "name": "ipython",
    "version": 3
   },
   "file_extension": ".py",
   "mimetype": "text/x-python",
   "name": "python",
   "nbconvert_exporter": "python",
   "pygments_lexer": "ipython3",
   "version": "3.8.5"
  }
 },
 "nbformat": 4,
 "nbformat_minor": 4
}
