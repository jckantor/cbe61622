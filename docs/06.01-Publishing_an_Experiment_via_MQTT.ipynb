{
 "cells": [
  {
   "cell_type": "markdown",
   "id": "bfd7f6bd",
   "metadata": {},
   "source": [
    "<!--NOTEBOOK_HEADER-->\n",
    "*This notebook contains material from [cbe61622](https://jckantor.github.io/cbe61622);\n",
    "content is available [on Github](https://github.com/jckantor/cbe61622.git).*\n"
   ]
  },
  {
   "cell_type": "markdown",
   "id": "b10db930",
   "metadata": {},
   "source": [
    "<!--NAVIGATION-->\n",
    "< [6.0 Enabling the Internet of Things](https://jckantor.github.io/cbe61622/06.00-Enabling_the_Internet_of_Things.html) | [Contents](toc.html) | [6.2 Accessing a Remote Experiment via MQTT](https://jckantor.github.io/cbe61622/06.02-Accessing_a_Remote_Experiment_via_MQTT.html) ><p><a href=\"https://colab.research.google.com/github/jckantor/cbe61622/blob/master/docs/06.01-Publishing_an_Experiment_via_MQTT.ipynb\"> <img align=\"left\" src=\"https://colab.research.google.com/assets/colab-badge.svg\" alt=\"Open in Colab\" title=\"Open in Google Colaboratory\"></a><p><a href=\"https://jckantor.github.io/cbe61622/06.01-Publishing_an_Experiment_via_MQTT.ipynb\"> <img align=\"left\" src=\"https://img.shields.io/badge/Github-Download-blue.svg\" alt=\"Download\" title=\"Download Notebook\"></a>"
   ]
  },
  {
   "cell_type": "markdown",
   "metadata": {
    "id": "6WBNBkcs2Stn",
    "nbpages": {
     "level": 1,
     "link": "[6.1 Publishing an Experiment via MQTT](https://jckantor.github.io/cbe61622/06.01-Publishing_an_Experiment_via_MQTT.html#6.1-Publishing-an-Experiment-via-MQTT)",
     "section": "6.1 Publishing an Experiment via MQTT"
    }
   },
   "source": [
    "# 6.1 Publishing an Experiment via MQTT\n",
    "\n",
    "This notebook is part of a proof concept study regarding use of the Internet of Things (IoT) as infrastructure for engineering teaching laboratories. \n",
    "\n",
    "This notebook uses the [SimPy](https://simpy.readthedocs.io/en/latest/) library a create real-time simulation of a hypothetical experiment. The experiment responds to inputs and publishes data to a remote user via an an MQTT broker. In actual use, the content of this notebook would be implemented in an attached device such as an Arduino, Particle, or Raspberry Pi, with attached sensors.\n",
    "\n",
    "The companion notebook ??? demonstrates how a remote client could interact with the experiment via MQTT."
   ]
  },
  {
   "cell_type": "markdown",
   "metadata": {
    "id": "uTTXpDQ1sfMW",
    "nbpages": {
     "level": 2,
     "link": "[6.1.1 Installations](https://jckantor.github.io/cbe61622/06.01-Publishing_an_Experiment_via_MQTT.html#6.1.1-Installations)",
     "section": "6.1.1 Installations"
    }
   },
   "source": [
    "## 6.1.1 Installations\n",
    "\n",
    "The following installations are required for use on Google Colab."
   ]
  },
  {
   "cell_type": "code",
   "execution_count": 1,
   "metadata": {
    "colab": {
     "base_uri": "https://localhost:8080/",
     "height": 275
    },
    "executionInfo": {
     "elapsed": 8420,
     "status": "ok",
     "timestamp": 1601586403717,
     "user": {
      "displayName": "Jeffrey Kantor",
      "photoUrl": "https://lh3.googleusercontent.com/a-/AOh14Gg_n8V7bVINy02QRuRgOoMo11Ri7NKU3OUKdC1bkQ=s64",
      "userId": "09038942003589296665"
     },
     "user_tz": 240
    },
    "id": "yKd6U4hMpgc0",
    "nbpages": {
     "level": 2,
     "link": "[6.1.1 Installations](https://jckantor.github.io/cbe61622/06.01-Publishing_an_Experiment_via_MQTT.html#6.1.1-Installations)",
     "section": "6.1.1 Installations"
    },
    "outputId": "d6e908a6-c24f-434b-c308-b29a123ff82f"
   },
   "outputs": [
    {
     "name": "stdout",
     "output_type": "stream",
     "text": [
      "Requirement already satisfied: paho-mqtt in /Users/jeff/opt/anaconda3/lib/python3.7/site-packages (1.5.1)\n",
      "Requirement already satisfied: simpy in /Users/jeff/opt/anaconda3/lib/python3.7/site-packages (4.0.1)\n"
     ]
    }
   ],
   "source": [
    "!pip install paho-mqtt\n",
    "!pip install simpy"
   ]
  },
  {
   "cell_type": "markdown",
   "metadata": {
    "id": "9gp7Z7ZMsimK",
    "nbpages": {
     "level": 2,
     "link": "[6.1.2 Publishing a real-time simulation via MQTT](https://jckantor.github.io/cbe61622/06.01-Publishing_an_Experiment_via_MQTT.html#6.1.2-Publishing-a-real-time-simulation-via-MQTT)",
     "section": "6.1.2 Publishing a real-time simulation via MQTT"
    }
   },
   "source": [
    "## 6.1.2 Publishing a real-time simulation via MQTT\n",
    "\n",
    "Topics:\n",
    "\n",
    "| topic | messages |\n",
    "| :-- | :-- |\n",
    "| `cbe-virtual-lab/command` | start and stop experiments |\n",
    "| `cbe-virtual-lab/expt-name/data` | topic\n"
   ]
  },
  {
   "cell_type": "markdown",
   "metadata": {
    "id": "rwjq11DSn8Yz",
    "nbpages": {
     "level": 3,
     "link": "[6.1.2.1 Proof of Concept](https://jckantor.github.io/cbe61622/06.01-Publishing_an_Experiment_via_MQTT.html#6.1.2.1-Proof-of-Concept)",
     "section": "6.1.2.1 Proof of Concept"
    }
   },
   "source": [
    "### 6.1.2.1 Proof of Concept\n",
    "\n",
    "Here we experiment with encapsulating the experiment as a standalone class. This is set up so that upon receiving an appropriate message from the remote user, a new instance of the experiment is created and run."
   ]
  },
  {
   "cell_type": "code",
   "execution_count": 58,
   "metadata": {
    "nbpages": {
     "level": 3,
     "link": "[6.1.2.1 Proof of Concept](https://jckantor.github.io/cbe61622/06.01-Publishing_an_Experiment_via_MQTT.html#6.1.2.1-Proof-of-Concept)",
     "section": "6.1.2.1 Proof of Concept"
    }
   },
   "outputs": [
    {
     "name": "stdout",
     "output_type": "stream",
     "text": [
      "Connected: mqtt.eclipse.org with return code 0\n",
      "Subscribed: cbe-virtual-laboratory/command/#\n",
      "Loop Started: <__main__.CBEClient object at 0x7fe572670e10>\n",
      "cbe-virtual-laboratory/12\n",
      "Message: {'client_id': '12', 'duration': 10}\n",
      "Connected: mqtt.eclipse.org with return code 0\n",
      "Loop Started: <__main__.CBEClient object at 0x7fe5733a2910>\n",
      "Sent: {\"time\": 0, \"x\": 0, \"y\": 0} to cbe-virtual-laboratory/12\n",
      "Sent: {\"time\": 1, \"x\": 0, \"y\": 0} to cbe-virtual-laboratory/12\n",
      "Sent: {\"time\": 2, \"x\": 0, \"y\": 0} to cbe-virtual-laboratory/12\n",
      "Sent: {\"time\": 3, \"x\": 0, \"y\": 0} to cbe-virtual-laboratory/12\n",
      "Sent: {\"time\": 4, \"x\": 0, \"y\": 0} to cbe-virtual-laboratory/12\n",
      "Sent: {\"time\": 5, \"x\": 0, \"y\": 0} to cbe-virtual-laboratory/12\n",
      "Sent: {\"time\": 6, \"x\": 0, \"y\": 0} to cbe-virtual-laboratory/12\n",
      "Sent: {\"time\": 7, \"x\": 0, \"y\": 0} to cbe-virtual-laboratory/12\n",
      "Sent: {\"time\": 8, \"x\": 0, \"y\": 0} to cbe-virtual-laboratory/12\n",
      "Sent: {\"time\": 9, \"x\": 0, \"y\": 0} to cbe-virtual-laboratory/12\n",
      "Loop Stopped: <__main__.CBEClient object at 0x7fe5733a2910>\n",
      "cbe-virtual-laboratory/2485378613250\n",
      "Message: {'client_id': '2485378613250', 'duration': 10}\n",
      "Connected: mqtt.eclipse.org with return code 0\n",
      "Loop Started: <__main__.CBEClient object at 0x7fe5733a2bd0>\n",
      "Sent: {\"time\": 0, \"x\": 0, \"y\": 0} to cbe-virtual-laboratory/2485378613250\n",
      "Sent: {\"time\": 1, \"x\": 0, \"y\": 0} to cbe-virtual-laboratory/2485378613250\n",
      "Sent: {\"time\": 2, \"x\": 0, \"y\": 0} to cbe-virtual-laboratory/2485378613250\n",
      "Sent: {\"time\": 3, \"x\": 0, \"y\": 0} to cbe-virtual-laboratory/2485378613250\n",
      "Sent: {\"time\": 4, \"x\": 0, \"y\": 0} to cbe-virtual-laboratory/2485378613250\n",
      "Sent: {\"time\": 5, \"x\": 0, \"y\": 0} to cbe-virtual-laboratory/2485378613250\n",
      "Sent: {\"time\": 6, \"x\": 0, \"y\": 0} to cbe-virtual-laboratory/2485378613250\n",
      "Sent: {\"time\": 7, \"x\": 0, \"y\": 0} to cbe-virtual-laboratory/2485378613250\n",
      "Sent: {\"time\": 8, \"x\": 0, \"y\": 0} to cbe-virtual-laboratory/2485378613250\n",
      "Sent: {\"time\": 9, \"x\": 0, \"y\": 0} to cbe-virtual-laboratory/2485378613250\n",
      "Loop Stopped: <__main__.CBEClient object at 0x7fe5733a2bd0>\n",
      "Loop Stopped: <__main__.CBEClient object at 0x7fe572670e10>\n"
     ]
    }
   ],
   "source": [
    "%matplotlib inline\n",
    "import paho.mqtt.client as mqtt\n",
    "import paho.mqtt.publish as publish\n",
    "import time\n",
    "import matplotlib.pyplot as plt\n",
    "import numpy as np\n",
    "from IPython import display\n",
    "\n",
    "# select experiment duration\n",
    "\n",
    "# set up client to interact with cbe-virtual-laboratory\n",
    "\n",
    "class CBEClient(mqtt.Client):\n",
    "    \n",
    "    def __init__(self, recv=\"\", send=\"\"):\n",
    "        super().__init__()\n",
    "        self.host = \"mqtt.eclipse.org\"\n",
    "        self.recv = recv\n",
    "        self.send = send\n",
    "\n",
    "    def on_connect(self, client, userdata, flags, rc):\n",
    "        print(f\"Connected: {self.host} with return code {rc}\")\n",
    "        if self.recv:\n",
    "            self.subscribe(self.recv, qos=2)\n",
    "            print(f\"Subscribed: {self.recv}\")\n",
    "        \n",
    "    def on_message(self, client, userdata, msg):\n",
    "        payload = json.loads(msg.payload.decode(\"utf-8\"))\n",
    "        print(f\"Receieved: {payload} from {self.recv}\")\n",
    "    \n",
    "    def connect(self):\n",
    "        super().connect(host=self.host, port=1883, keepalive=60)\n",
    "        \n",
    "    def publish(self, payload):\n",
    "        if self.send:\n",
    "            super().publish(self.send, payload=payload)\n",
    "            print(f\"Sent: {payload} to {self.send}\")\n",
    "        else:\n",
    "            print(\"No send topic has been specified.\")\n",
    "        \n",
    "    def __enter__(self):\n",
    "        self.connect()\n",
    "        self.loop_start()\n",
    "        time.sleep(0.5)\n",
    "        print(f\"Loop Started: {self}\")\n",
    "        return self\n",
    "        \n",
    "    def __exit__(self, exc_type, exc_value, exc_traceback):\n",
    "        self.loop_stop()\n",
    "        print(f\"Loop Stopped: {self}\")\n",
    "        \n",
    "def on_message(client, userdata, msg):\n",
    "    payload = json.loads(msg.payload.decode(\"utf-8\"))\n",
    "    send = \"/\".join([\"cbe-virtual-laboratory\", payload[\"client_id\"]])\n",
    "    print(send)\n",
    "    print(f\"Message: {payload}\")\n",
    "    with CBEClient(send=send) as expt:\n",
    "        for k in range(payload[\"duration\"]):\n",
    "            x = 0\n",
    "            y = 0\n",
    "            expt.publish(json.dumps({\"time\": k, \"x\" : x, \"y\" : y}))\n",
    "            time.sleep(1)\n",
    "\n",
    "# listen for command on the command channel\n",
    "with CBEClient(recv = \"cbe-virtual-laboratory/command/#\") as cbe:\n",
    "    cbe.on_message = on_message\n",
    "    time.sleep(30)"
   ]
  },
  {
   "cell_type": "code",
   "execution_count": null,
   "metadata": {
    "nbpages": {
     "level": 3,
     "link": "[6.1.2.1 Proof of Concept](https://jckantor.github.io/cbe61622/06.01-Publishing_an_Experiment_via_MQTT.html#6.1.2.1-Proof-of-Concept)",
     "section": "6.1.2.1 Proof of Concept"
    }
   },
   "outputs": [],
   "source": []
  },
  {
   "cell_type": "markdown",
   "metadata": {
    "nbpages": {
     "level": 2,
     "link": "[6.1.3 Version 1](https://jckantor.github.io/cbe61622/06.01-Publishing_an_Experiment_via_MQTT.html#6.1.3-Version-1)",
     "section": "6.1.3 Version 1"
    }
   },
   "source": [
    "## 6.1.3 Version 1\n",
    "\n",
    "T"
   ]
  },
  {
   "cell_type": "code",
   "execution_count": 29,
   "metadata": {
    "colab": {
     "base_uri": "https://localhost:8080/",
     "height": 816
    },
    "executionInfo": {
     "elapsed": 61024,
     "status": "ok",
     "timestamp": 1601588184742,
     "user": {
      "displayName": "Jeffrey Kantor",
      "photoUrl": "https://lh3.googleusercontent.com/a-/AOh14Gg_n8V7bVINy02QRuRgOoMo11Ri7NKU3OUKdC1bkQ=s64",
      "userId": "09038942003589296665"
     },
     "user_tz": 240
    },
    "id": "1GMBD8WtjQAb",
    "nbpages": {
     "level": 2,
     "link": "[6.1.3 Version 1](https://jckantor.github.io/cbe61622/06.01-Publishing_an_Experiment_via_MQTT.html#6.1.3-Version-1)",
     "section": "6.1.3 Version 1"
    },
    "outputId": "871fbe23-f07a-4c69-c844-aaa4138f651b"
   },
   "outputs": [
    {
     "name": "stdout",
     "output_type": "stream",
     "text": [
      "0\n",
      "Connected with result code 0\n",
      "1\n",
      "2\n",
      "3\n",
      "Received b'{\"duration\": 10}' from cbe-virtual-laboratory/command\n",
      "Experiment started by <paho.mqtt.client.Client object at 0x7fe57268dd10>\n",
      "<paho.mqtt.client.Client object at 0x7fe5726a36d0> published with result code 1\n",
      "4\n",
      "<paho.mqtt.client.Client object at 0x7fe5726a36d0> published with result code 2\n",
      "5\n",
      "<paho.mqtt.client.Client object at 0x7fe5726a36d0> published with result code 3\n",
      "6\n",
      "<paho.mqtt.client.Client object at 0x7fe5726a36d0> published with result code 4\n",
      "7\n",
      "<paho.mqtt.client.Client object at 0x7fe5726a36d0> published with result code 5\n",
      "8\n",
      "<paho.mqtt.client.Client object at 0x7fe5726a36d0> published with result code 6\n",
      "9\n",
      "<paho.mqtt.client.Client object at 0x7fe5726a36d0> published with result code 7\n",
      "10\n",
      "<paho.mqtt.client.Client object at 0x7fe5726a36d0> published with result code 8\n",
      "11\n",
      "<paho.mqtt.client.Client object at 0x7fe5726a36d0> published with result code 9\n",
      "12\n",
      "<paho.mqtt.client.Client object at 0x7fe5726a36d0> published with result code 10\n",
      "13\n",
      "End experiment.\n",
      "14\n",
      "15\n",
      "16\n",
      "17\n",
      "18\n",
      "19\n"
     ]
    }
   ],
   "source": [
    "import time\n",
    "import simpy\n",
    "import paho.mqtt.publish as publish\n",
    "import paho.mqtt.client as mqtt\n",
    "import json\n",
    "\n",
    "class Experiment():\n",
    "\n",
    "    def __init__(self, topic, duration):\n",
    "        self.topic = topic\n",
    "        self.duration = duration\n",
    "        self.env = simpy.rt.RealtimeEnvironment(factor=1)\n",
    "        self.proc = self.env.process(self.process())\n",
    "        self.client = mqtt.Client()\n",
    "        self.client.on_connect = self.on_connect\n",
    "        self.client.on_publish = self.on_publish\n",
    "\n",
    "    def on_connect(self, client, userdata, flags, rc):\n",
    "        print(f\"Connected with result code {rc}\")\n",
    "        self.client.subscribe(self.topic)\n",
    "\n",
    "    def on_publish(self, client, userdata, result):\n",
    "        print(f\"{client} published with result code {result}\")\n",
    "\n",
    "    def process(self):\n",
    "        t_start = time.perf_counter()\n",
    "        t = 0\n",
    "        y = 2.0\n",
    "        while True:\n",
    "            msg = f\"{round(t,2)},{y:5.2f}\"\n",
    "            self.client.publish(self.topic, msg)\n",
    "            yield self.env.timeout(1 - (t - round(t, 0)))\n",
    "            t = time.perf_counter() - t_start\n",
    "            y -= 0.1*y\n",
    "\n",
    "    def run(self, client):\n",
    "        print(f\"Experiment started by {client}\")\n",
    "        self.client.connect(\"mqtt.eclipse.org\", 1883, 60)\n",
    "        self.env.run(until=self.duration)\n",
    "        self.client.disconnect()\n",
    "        print(\"End experiment.\")\n",
    "\n",
    "# set up client to wait for messages on \n",
    "#     cbe-virtual-laboratory/command/#\n",
    "# expect a message with a specified experiment duration\n",
    "\n",
    "def on_connect(client, userdata, flags, rc):\n",
    "    print(f\"Connected with result code {rc}\")\n",
    "    client.subscribe(\"cbe-virtual-laboratory/command/#\")\n",
    "\n",
    "def on_message(client, userdata, msg):\n",
    "    print(f\"Received {msg.payload} from {msg.topic}\")\n",
    "    data = json.loads(msg.payload.decode(\"utf-8\"))\n",
    "    duration = data['duration']\n",
    "    expt = Experiment(\"cbe-virtual-laboratory/expt\", duration)\n",
    "    expt.run(client)\n",
    "\n",
    "# setup client\n",
    "client = mqtt.Client()\n",
    "client.on_connect = on_connect\n",
    "client.on_message = on_message\n",
    "\n",
    "# connect client to broker\n",
    "client.connect(\"mqtt.eclipse.org\", 1883, 60)\n",
    "\n",
    "# start a non-blocking thread to wait for messages\n",
    "client.loop_start()\n",
    "\n",
    "# prove the loop is non-blocking\n",
    "for k in range(20):\n",
    "    print(k)\n",
    "    time.sleep(1)\n",
    "\n",
    "# don't leave a zombie thread behind\n",
    "client.loop_stop()"
   ]
  },
  {
   "cell_type": "code",
   "execution_count": null,
   "metadata": {
    "id": "Sh-MZb2DI__1",
    "nbpages": {
     "level": 2,
     "link": "[6.1.3 Version 1](https://jckantor.github.io/cbe61622/06.01-Publishing_an_Experiment_via_MQTT.html#6.1.3-Version-1)",
     "section": "6.1.3 Version 1"
    }
   },
   "outputs": [],
   "source": []
  },
  {
   "cell_type": "markdown",
   "id": "6ccef1d0",
   "metadata": {},
   "source": [
    "<!--NAVIGATION-->\n",
    "< [6.0 Enabling the Internet of Things](https://jckantor.github.io/cbe61622/06.00-Enabling_the_Internet_of_Things.html) | [Contents](toc.html) | [6.2 Accessing a Remote Experiment via MQTT](https://jckantor.github.io/cbe61622/06.02-Accessing_a_Remote_Experiment_via_MQTT.html) ><p><a href=\"https://colab.research.google.com/github/jckantor/cbe61622/blob/master/docs/06.01-Publishing_an_Experiment_via_MQTT.ipynb\"> <img align=\"left\" src=\"https://colab.research.google.com/assets/colab-badge.svg\" alt=\"Open in Colab\" title=\"Open in Google Colaboratory\"></a><p><a href=\"https://jckantor.github.io/cbe61622/06.01-Publishing_an_Experiment_via_MQTT.ipynb\"> <img align=\"left\" src=\"https://img.shields.io/badge/Github-Download-blue.svg\" alt=\"Download\" title=\"Download Notebook\"></a>"
   ]
  }
 ],
 "metadata": {
  "colab": {
   "authorship_tag": "ABX9TyMT9CWswbMtHCnFcPQ3Eyty",
   "collapsed_sections": [],
   "name": "SImulation_of_a_Laboratory_Experiment_Published_via_MQTT.ipynb",
   "provenance": []
  },
  "kernelspec": {
   "display_name": "Python 3 (ipykernel)",
   "language": "python",
   "name": "python3"
  },
  "language_info": {
   "codemirror_mode": {
    "name": "ipython",
    "version": 3
   },
   "file_extension": ".py",
   "mimetype": "text/x-python",
   "name": "python",
   "nbconvert_exporter": "python",
   "pygments_lexer": "ipython3",
   "version": "3.8.12"
  }
 },
 "nbformat": 4,
 "nbformat_minor": 4
}
