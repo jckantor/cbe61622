{
 "cells": [
  {
   "cell_type": "markdown",
   "id": "afda31c9",
   "metadata": {},
   "source": [
    "<!--NOTEBOOK_HEADER-->\n",
    "*This notebook contains material from [cbe61622](https://jckantor.github.io/cbe61622);\n",
    "content is available [on Github](https://github.com/jckantor/cbe61622.git).*\n"
   ]
  },
  {
   "cell_type": "markdown",
   "id": "ac9872c1",
   "metadata": {},
   "source": [
    "<!--NAVIGATION-->\n",
    "< [1.1 Configuring a Workstation](https://jckantor.github.io/cbe61622/01.01-Configuring-a-Workstation.html) | [Contents](toc.html) | [1.20 Semester Projects](https://jckantor.github.io/cbe61622/01.20-Projects.html) ><p><a href=\"https://colab.research.google.com/github/jckantor/cbe61622/blob/master/docs/01.10-Workstation-Learning-Exercises.ipynb\"> <img align=\"left\" src=\"https://colab.research.google.com/assets/colab-badge.svg\" alt=\"Open in Colab\" title=\"Open in Google Colaboratory\"></a><p><a href=\"https://jckantor.github.io/cbe61622/01.10-Workstation-Learning-Exercises.ipynb\"> <img align=\"left\" src=\"https://img.shields.io/badge/Github-Download-blue.svg\" alt=\"Download\" title=\"Download Notebook\"></a>"
   ]
  },
  {
   "cell_type": "markdown",
   "metadata": {
    "nbpages": {
     "level": 1,
     "link": "[1.10 Workstation Learning Exercises](https://jckantor.github.io/cbe61622/01.10-Workstation-Learning-Exercises.html#1.10-Workstation-Learning-Exercises)",
     "section": "1.10 Workstation Learning Exercises"
    }
   },
   "source": [
    "# 1.10 Workstation Learning Exercises"
   ]
  },
  {
   "cell_type": "markdown",
   "metadata": {
    "nbpages": {
     "level": 2,
     "link": "[1.10.1 Understanding PWM](https://jckantor.github.io/cbe61622/01.10-Workstation-Learning-Exercises.html#1.10.1-Understanding-PWM)",
     "section": "1.10.1 Understanding PWM"
    }
   },
   "source": [
    "## 1.10.1 Understanding PWM\n",
    "\n",
    "1. Using the pins on an MCU, use the oscilloscope to observe PWM signals and how they respond to Python commands.\n",
    "\n",
    "2. Attach a servo, and observe the response of the servo to a PWM command."
   ]
  },
  {
   "cell_type": "markdown",
   "metadata": {
    "nbpages": {
     "level": 2,
     "link": "[1.10.2 Characterizing noise in a MEMS device.](https://jckantor.github.io/cbe61622/01.10-Workstation-Learning-Exercises.html#1.10.2-Characterizing-noise-in-a-MEMS-device.)",
     "section": "1.10.2 Characterizing noise in a MEMS device."
    }
   },
   "source": [
    "## 1.10.2 Characterizing noise in a MEMS device.\n",
    "\n",
    "Accelerometers are MEMS devices with inherent noise characteristics. This exercise explores the noise characteristics of this device. The learning goals are to understand typical types of noise encountered in sensors.\n",
    "\n",
    "Mount the ADXL327 3-axis accelerometer on ADS breadboard. Apply 3.3v power supply and ground. Using the datasheet, select capacitors to provide maximum bandwidth on each axis. Using the spectrum analyzer, identify the noise characteristics of the sensor. \n",
    "\n",
    "Assume for each axis,\n",
    "\n",
    "$$a_x = \\bar{a_x} + e_x$$\n",
    "$$a_y = \\bar{a_y} + e_y$$\n",
    "$$a_z = \\bar{a_z} + e_z$$\n",
    "\n",
    "What is frequency spectrum for $e_x$, $e_y$, and $e_z$? Are we seeing 1/f noise, broadband noise, "
   ]
  },
  {
   "cell_type": "code",
   "execution_count": null,
   "metadata": {
    "nbpages": {
     "level": 2,
     "link": "[1.10.2 Characterizing noise in a MEMS device.](https://jckantor.github.io/cbe61622/01.10-Workstation-Learning-Exercises.html#1.10.2-Characterizing-noise-in-a-MEMS-device.)",
     "section": "1.10.2 Characterizing noise in a MEMS device."
    }
   },
   "outputs": [],
   "source": []
  },
  {
   "cell_type": "markdown",
   "id": "5d370536",
   "metadata": {},
   "source": [
    "<!--NAVIGATION-->\n",
    "< [1.1 Configuring a Workstation](https://jckantor.github.io/cbe61622/01.01-Configuring-a-Workstation.html) | [Contents](toc.html) | [1.20 Semester Projects](https://jckantor.github.io/cbe61622/01.20-Projects.html) ><p><a href=\"https://colab.research.google.com/github/jckantor/cbe61622/blob/master/docs/01.10-Workstation-Learning-Exercises.ipynb\"> <img align=\"left\" src=\"https://colab.research.google.com/assets/colab-badge.svg\" alt=\"Open in Colab\" title=\"Open in Google Colaboratory\"></a><p><a href=\"https://jckantor.github.io/cbe61622/01.10-Workstation-Learning-Exercises.ipynb\"> <img align=\"left\" src=\"https://img.shields.io/badge/Github-Download-blue.svg\" alt=\"Download\" title=\"Download Notebook\"></a>"
   ]
  }
 ],
 "metadata": {
  "kernelspec": {
   "display_name": "Python 3 (ipykernel)",
   "language": "python",
   "name": "python3"
  },
  "language_info": {
   "codemirror_mode": {
    "name": "ipython",
    "version": 3
   },
   "file_extension": ".py",
   "mimetype": "text/x-python",
   "name": "python",
   "nbconvert_exporter": "python",
   "pygments_lexer": "ipython3",
   "version": "3.8.12"
  }
 },
 "nbformat": 4,
 "nbformat_minor": 4
}
