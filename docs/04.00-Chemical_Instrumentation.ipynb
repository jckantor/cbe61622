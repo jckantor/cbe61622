{
 "cells": [
  {
   "cell_type": "markdown",
   "id": "b36ac4c0",
   "metadata": {},
   "source": [
    "<!--NOTEBOOK_HEADER-->\n",
    "*This notebook contains material from [cbe61622](https://jckantor.github.io/cbe61622);\n",
    "content is available [on Github](https://github.com/jckantor/cbe61622.git).*\n"
   ]
  },
  {
   "cell_type": "markdown",
   "id": "1f816bab",
   "metadata": {},
   "source": [
    "<!--NAVIGATION-->\n",
    "< [3.2 Sampling Continuous Time Signals](https://jckantor.github.io/cbe61622/03.02-Sampling-Continuous-Time-Signals.html) | [Contents](toc.html) | [4.10 Potentiostats and Galvanostats](https://jckantor.github.io/cbe61622/04.10-Potentiostats-and-Galvanostats.html) ><p><a href=\"https://colab.research.google.com/github/jckantor/cbe61622/blob/master/docs/04.00-Chemical_Instrumentation.ipynb\"> <img align=\"left\" src=\"https://colab.research.google.com/assets/colab-badge.svg\" alt=\"Open in Colab\" title=\"Open in Google Colaboratory\"></a><p><a href=\"https://jckantor.github.io/cbe61622/04.00-Chemical_Instrumentation.ipynb\"> <img align=\"left\" src=\"https://img.shields.io/badge/Github-Download-blue.svg\" alt=\"Download\" title=\"Download Notebook\"></a>"
   ]
  },
  {
   "cell_type": "markdown",
   "metadata": {
    "nbpages": {
     "level": 1,
     "link": "[4.0 Chemical Instrumentation](https://jckantor.github.io/cbe61622/04.00-Chemical_Instrumentation.html#4.0-Chemical-Instrumentation)",
     "section": "4.0 Chemical Instrumentation"
    }
   },
   "source": [
    "# 4.0 Chemical Instrumentation"
   ]
  },
  {
   "cell_type": "markdown",
   "metadata": {
    "nbpages": {
     "level": 1,
     "link": "[4.0 Chemical Instrumentation](https://jckantor.github.io/cbe61622/04.00-Chemical_Instrumentation.html#4.0-Chemical-Instrumentation)",
     "section": "4.0 Chemical Instrumentation"
    },
    "tags": []
   },
   "source": []
  },
  {
   "cell_type": "code",
   "execution_count": null,
   "metadata": {
    "nbpages": {
     "level": 1,
     "link": "[4.0 Chemical Instrumentation](https://jckantor.github.io/cbe61622/04.00-Chemical_Instrumentation.html#4.0-Chemical-Instrumentation)",
     "section": "4.0 Chemical Instrumentation"
    }
   },
   "outputs": [],
   "source": []
  },
  {
   "cell_type": "markdown",
   "id": "be4d4ee2",
   "metadata": {},
   "source": [
    "<!--NAVIGATION-->\n",
    "< [3.2 Sampling Continuous Time Signals](https://jckantor.github.io/cbe61622/03.02-Sampling-Continuous-Time-Signals.html) | [Contents](toc.html) | [4.10 Potentiostats and Galvanostats](https://jckantor.github.io/cbe61622/04.10-Potentiostats-and-Galvanostats.html) ><p><a href=\"https://colab.research.google.com/github/jckantor/cbe61622/blob/master/docs/04.00-Chemical_Instrumentation.ipynb\"> <img align=\"left\" src=\"https://colab.research.google.com/assets/colab-badge.svg\" alt=\"Open in Colab\" title=\"Open in Google Colaboratory\"></a><p><a href=\"https://jckantor.github.io/cbe61622/04.00-Chemical_Instrumentation.ipynb\"> <img align=\"left\" src=\"https://img.shields.io/badge/Github-Download-blue.svg\" alt=\"Download\" title=\"Download Notebook\"></a>"
   ]
  }
 ],
 "metadata": {
  "kernelspec": {
   "display_name": "Python 3 (ipykernel)",
   "language": "python",
   "name": "python3"
  },
  "language_info": {
   "codemirror_mode": {
    "name": "ipython",
    "version": 3
   },
   "file_extension": ".py",
   "mimetype": "text/x-python",
   "name": "python",
   "nbconvert_exporter": "python",
   "pygments_lexer": "ipython3",
   "version": "3.8.12"
  }
 },
 "nbformat": 4,
 "nbformat_minor": 4
}
