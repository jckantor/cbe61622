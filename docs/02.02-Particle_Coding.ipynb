{
 "cells": [
  {
   "cell_type": "markdown",
   "id": "5260c605",
   "metadata": {},
   "source": [
    "<!--NOTEBOOK_HEADER-->\n",
    "*This notebook contains material from [cbe61622](https://jckantor.github.io/cbe61622);\n",
    "content is available [on Github](https://github.com/jckantor/cbe61622.git).*\n"
   ]
  },
  {
   "cell_type": "markdown",
   "id": "363797b7",
   "metadata": {},
   "source": [
    "<!--NAVIGATION-->\n",
    "< [2.1 Particle Command Line Interface](https://jckantor.github.io/cbe61622/02.01-Particle_CLI.html) | [Contents](toc.html) | [2.3 Particle Command Line Interface (CLI)](https://jckantor.github.io/cbe61622/02.03-Particle-CLI.html) ><p><a href=\"https://colab.research.google.com/github/jckantor/cbe61622/blob/master/docs/02.02-Particle_Coding.ipynb\"> <img align=\"left\" src=\"https://colab.research.google.com/assets/colab-badge.svg\" alt=\"Open in Colab\" title=\"Open in Google Colaboratory\"></a><p><a href=\"https://jckantor.github.io/cbe61622/02.02-Particle_Coding.ipynb\"> <img align=\"left\" src=\"https://img.shields.io/badge/Github-Download-blue.svg\" alt=\"Download\" title=\"Download Notebook\"></a>"
   ]
  },
  {
   "cell_type": "markdown",
   "metadata": {
    "id": "2eIn0fxRERLC",
    "nbpages": {
     "level": 1,
     "link": "[2.2 Coding for Particle](https://jckantor.github.io/cbe61622/02.02-Particle_Coding.html#2.2-Coding-for-Particle)",
     "section": "2.2 Coding for Particle"
    }
   },
   "source": [
    "# 2.2 Coding for Particle\n"
   ]
  },
  {
   "cell_type": "markdown",
   "metadata": {
    "id": "aMCK4cZkEZ_3",
    "nbpages": {
     "level": 2,
     "link": "[2.2.1 Installation of the Particle command line interface](https://jckantor.github.io/cbe61622/02.02-Particle_Coding.html#2.2.1-Installation-of-the-Particle-command-line-interface)",
     "section": "2.2.1 Installation of the Particle command line interface"
    }
   },
   "source": [
    "## 2.2.1 Installation of the Particle command line interface"
   ]
  },
  {
   "cell_type": "code",
   "execution_count": 18,
   "metadata": {
    "executionInfo": {
     "elapsed": 7138,
     "status": "ok",
     "timestamp": 1603161582375,
     "user": {
      "displayName": "Jeffrey Kantor",
      "photoUrl": "https://lh3.googleusercontent.com/a-/AOh14Gg_n8V7bVINy02QRuRgOoMo11Ri7NKU3OUKdC1bkQ=s64",
      "userId": "09038942003589296665"
     },
     "user_tz": 240
    },
    "id": "U9qOi8Rdyzwx",
    "nbpages": {
     "level": 2,
     "link": "[2.2.1 Installation of the Particle command line interface](https://jckantor.github.io/cbe61622/02.02-Particle_Coding.html#2.2.1-Installation-of-the-Particle-command-line-interface)",
     "section": "2.2.1 Installation of the Particle command line interface"
    }
   },
   "outputs": [],
   "source": [
    "%%capture\n",
    "!bash <( curl -sL https://particle.io/install-cli )"
   ]
  },
  {
   "cell_type": "markdown",
   "metadata": {
    "id": "RyR318S-FEOT",
    "nbpages": {
     "level": 2,
     "link": "[2.2.2 Login to Particle](https://jckantor.github.io/cbe61622/02.02-Particle_Coding.html#2.2.2-Login-to-Particle)",
     "section": "2.2.2 Login to Particle"
    }
   },
   "source": [
    "## 2.2.2 Login to Particle"
   ]
  },
  {
   "cell_type": "code",
   "execution_count": 19,
   "metadata": {
    "colab": {
     "base_uri": "https://localhost:8080/",
     "height": 102
    },
    "executionInfo": {
     "elapsed": 22946,
     "status": "ok",
     "timestamp": 1603161600980,
     "user": {
      "displayName": "Jeffrey Kantor",
      "photoUrl": "https://lh3.googleusercontent.com/a-/AOh14Gg_n8V7bVINy02QRuRgOoMo11Ri7NKU3OUKdC1bkQ=s64",
      "userId": "09038942003589296665"
     },
     "user_tz": 240
    },
    "id": "1CMV13RsYAR9",
    "nbpages": {
     "level": 2,
     "link": "[2.2.2 Login to Particle](https://jckantor.github.io/cbe61622/02.02-Particle_Coding.html#2.2.2-Login-to-Particle)",
     "section": "2.2.2 Login to Particle"
    },
    "outputId": "ab0ed854-b2a5-4b84-e884-286d869819bd"
   },
   "outputs": [
    {
     "name": "stdout",
     "output_type": "stream",
     "text": [
      "Username: ··········\n",
      "Password: ··········\n",
      "Successfully logged in to Particle Device Cloud as kantor.1@nd.edu\n",
      "\u001b[2K\u001b[1G\u001b[2K\u001b[1Gjck_argon_01 [e00fce68eaceb1faa7cf7193] (Argon) is online\n",
      "\n"
     ]
    }
   ],
   "source": [
    "import getpass\n",
    "import subprocess\n",
    "\n",
    "particle_cli = \"/root/bin/particle\"\n",
    "username = getpass.getpass(prompt=\"Username: \")\n",
    "password = getpass.getpass(prompt=\"Password: \")\n",
    "\n",
    "process = subprocess.run([particle_cli, \"login\",\n",
    "                          \"--username\", username,\n",
    "                          \"--password\", password],\n",
    "                         stdout=subprocess.PIPE, \n",
    "                         stderr=subprocess.PIPE)\n",
    "\n",
    "if process.stderr.decode(\"utf-8\"):\n",
    "    print(process.stderr.decode(\"utf-8\"))\n",
    "else:\n",
    "    print(f\"Successfully logged in to Particle Device Cloud as {username}\")\n",
    "    process = subprocess.run([particle_cli, \"list\"], stdout=subprocess.PIPE)\n",
    "    print(process.stdout.decode(\"utf-8\"))\n"
   ]
  },
  {
   "cell_type": "code",
   "execution_count": 21,
   "metadata": {
    "executionInfo": {
     "elapsed": 591,
     "status": "ok",
     "timestamp": 1603161606770,
     "user": {
      "displayName": "Jeffrey Kantor",
      "photoUrl": "https://lh3.googleusercontent.com/a-/AOh14Gg_n8V7bVINy02QRuRgOoMo11Ri7NKU3OUKdC1bkQ=s64",
      "userId": "09038942003589296665"
     },
     "user_tz": 240
    },
    "id": "wXOjgi6psNS3",
    "nbpages": {
     "level": 2,
     "link": "[2.2.2 Login to Particle](https://jckantor.github.io/cbe61622/02.02-Particle_Coding.html#2.2.2-Login-to-Particle)",
     "section": "2.2.2 Login to Particle"
    }
   },
   "outputs": [],
   "source": [
    "device_name = \"jck_argon_01\""
   ]
  },
  {
   "cell_type": "markdown",
   "metadata": {
    "id": "oEqs1OHbFZ40",
    "nbpages": {
     "level": 2,
     "link": "[2.2.3 Blinking LED Demo](https://jckantor.github.io/cbe61622/02.02-Particle_Coding.html#2.2.3-Blinking-LED-Demo)",
     "section": "2.2.3 Blinking LED Demo"
    }
   },
   "source": [
    "## 2.2.3 Blinking LED Demo"
   ]
  },
  {
   "cell_type": "markdown",
   "metadata": {
    "id": "nClCaD53qHco",
    "nbpages": {
     "level": 3,
     "link": "[2.2.3.1 Blinking LED Code](https://jckantor.github.io/cbe61622/02.02-Particle_Coding.html#2.2.3.1-Blinking-LED-Code)",
     "section": "2.2.3.1 Blinking LED Code"
    }
   },
   "source": [
    "### 2.2.3.1 Blinking LED Code"
   ]
  },
  {
   "cell_type": "code",
   "execution_count": 22,
   "metadata": {
    "colab": {
     "base_uri": "https://localhost:8080/",
     "height": 34
    },
    "executionInfo": {
     "elapsed": 584,
     "status": "ok",
     "timestamp": 1603161608799,
     "user": {
      "displayName": "Jeffrey Kantor",
      "photoUrl": "https://lh3.googleusercontent.com/a-/AOh14Gg_n8V7bVINy02QRuRgOoMo11Ri7NKU3OUKdC1bkQ=s64",
      "userId": "09038942003589296665"
     },
     "user_tz": 240
    },
    "id": "n80lAJTZ61bb",
    "nbpages": {
     "level": 3,
     "link": "[2.2.3.1 Blinking LED Code](https://jckantor.github.io/cbe61622/02.02-Particle_Coding.html#2.2.3.1-Blinking-LED-Code)",
     "section": "2.2.3.1 Blinking LED Code"
    },
    "outputId": "74f17146-650f-4c09-a134-894e7a17efec"
   },
   "outputs": [
    {
     "name": "stdout",
     "output_type": "stream",
     "text": [
      "Overwriting blink.ino\n"
     ]
    }
   ],
   "source": [
    "%%writefile blink.ino\n",
    "\n",
    "int led = D7;\n",
    "\n",
    "void setup() {\n",
    "    pinMode(led, OUTPUT);\n",
    "}\n",
    "\n",
    "void loop() {\n",
    "    digitalWrite(led, HIGH);\n",
    "    delay(200);\n",
    "    digitalWrite(led, LOW);\n",
    "    delay(800);\n",
    "}"
   ]
  },
  {
   "cell_type": "markdown",
   "metadata": {
    "id": "DgYoYrbMBg8y",
    "nbpages": {
     "level": 3,
     "link": "[2.2.3.2 Compiling](https://jckantor.github.io/cbe61622/02.02-Particle_Coding.html#2.2.3.2-Compiling)",
     "section": "2.2.3.2 Compiling"
    }
   },
   "source": [
    "### 2.2.3.2 Compiling"
   ]
  },
  {
   "cell_type": "code",
   "execution_count": 23,
   "metadata": {
    "colab": {
     "base_uri": "https://localhost:8080/",
     "height": 289
    },
    "executionInfo": {
     "elapsed": 6889,
     "status": "ok",
     "timestamp": 1603161617043,
     "user": {
      "displayName": "Jeffrey Kantor",
      "photoUrl": "https://lh3.googleusercontent.com/a-/AOh14Gg_n8V7bVINy02QRuRgOoMo11Ri7NKU3OUKdC1bkQ=s64",
      "userId": "09038942003589296665"
     },
     "user_tz": 240
    },
    "id": "D-yOOpbfA4U5",
    "nbpages": {
     "level": 3,
     "link": "[2.2.3.2 Compiling](https://jckantor.github.io/cbe61622/02.02-Particle_Coding.html#2.2.3.2-Compiling)",
     "section": "2.2.3.2 Compiling"
    },
    "outputId": "34a6a9a0-fb81-4c46-803e-9f25b04735b7"
   },
   "outputs": [
    {
     "name": "stdout",
     "output_type": "stream",
     "text": [
      "\n",
      "Compiling code for argon\n",
      "\n",
      "Including:\n",
      "    blink.ino\n",
      "\n",
      "attempting to compile firmware\n",
      "downloading binary from: /v1/binaries/5f8e4e0fbbdad933df7dedb8\n",
      "saving to: blink.bin\n",
      "Memory use:\n",
      "   text\t   data\t    bss\t    dec\t    hex\tfilename\n",
      "   5708\t    112\t   1060\t   6880\t   1ae0\t/workspace/target/workspace.elf\n",
      "\n",
      "Compile succeeded.\n",
      "Saved firmware to: /content/blink.bin\n",
      "\n"
     ]
    }
   ],
   "source": [
    "process = subprocess.run([particle_cli, \"compile\", \"argon\", \"blink.ino\", \"--saveTo\", \"blink.bin\"], \n",
    "                         stdout=subprocess.PIPE)\n",
    "print(process.stdout.decode(\"utf-8\"))"
   ]
  },
  {
   "cell_type": "markdown",
   "metadata": {
    "id": "V4RzeEmjCHJX",
    "nbpages": {
     "level": 3,
     "link": "[2.2.3.3 Flashing binary to device](https://jckantor.github.io/cbe61622/02.02-Particle_Coding.html#2.2.3.3-Flashing-binary-to-device)",
     "section": "2.2.3.3 Flashing binary to device"
    }
   },
   "source": [
    "### 2.2.3.3 Flashing binary to device"
   ]
  },
  {
   "cell_type": "code",
   "execution_count": 24,
   "metadata": {
    "colab": {
     "base_uri": "https://localhost:8080/",
     "height": 153
    },
    "executionInfo": {
     "elapsed": 1951,
     "status": "ok",
     "timestamp": 1603161620964,
     "user": {
      "displayName": "Jeffrey Kantor",
      "photoUrl": "https://lh3.googleusercontent.com/a-/AOh14Gg_n8V7bVINy02QRuRgOoMo11Ri7NKU3OUKdC1bkQ=s64",
      "userId": "09038942003589296665"
     },
     "user_tz": 240
    },
    "id": "tV7qhZWYqUtL",
    "nbpages": {
     "level": 3,
     "link": "[2.2.3.3 Flashing binary to device](https://jckantor.github.io/cbe61622/02.02-Particle_Coding.html#2.2.3.3-Flashing-binary-to-device)",
     "section": "2.2.3.3 Flashing binary to device"
    },
    "outputId": "8791d5a3-56b4-4988-8b87-f907175e31a3"
   },
   "outputs": [
    {
     "name": "stdout",
     "output_type": "stream",
     "text": [
      "Including:\n",
      "    blink.bin\n",
      "\n",
      "attempting to flash firmware to your device jck_argon_01\n",
      "Flash device OK: Update started\n",
      "\n",
      "Flash success!\n",
      "\n"
     ]
    }
   ],
   "source": [
    "process = subprocess.run([particle_cli, \"flash\", device_name, \"blink.bin\"], stdout=subprocess.PIPE)\n",
    "print(process.stdout.decode(\"utf-8\"))"
   ]
  },
  {
   "cell_type": "code",
   "execution_count": 24,
   "metadata": {
    "executionInfo": {
     "elapsed": 509,
     "status": "ok",
     "timestamp": 1603161622574,
     "user": {
      "displayName": "Jeffrey Kantor",
      "photoUrl": "https://lh3.googleusercontent.com/a-/AOh14Gg_n8V7bVINy02QRuRgOoMo11Ri7NKU3OUKdC1bkQ=s64",
      "userId": "09038942003589296665"
     },
     "user_tz": 240
    },
    "id": "TcUKDiWOsvt1",
    "nbpages": {
     "level": 3,
     "link": "[2.2.3.3 Flashing binary to device](https://jckantor.github.io/cbe61622/02.02-Particle_Coding.html#2.2.3.3-Flashing-binary-to-device)",
     "section": "2.2.3.3 Flashing binary to device"
    }
   },
   "outputs": [],
   "source": []
  },
  {
   "cell_type": "markdown",
   "metadata": {
    "id": "ERsWOhNw5NPg",
    "nbpages": {
     "level": 3,
     "link": "[2.2.3.3 Flashing binary to device](https://jckantor.github.io/cbe61622/02.02-Particle_Coding.html#2.2.3.3-Flashing-binary-to-device)",
     "section": "2.2.3.3 Flashing binary to device"
    }
   },
   "source": []
  },
  {
   "cell_type": "markdown",
   "id": "252e0f5b",
   "metadata": {},
   "source": [
    "<!--NAVIGATION-->\n",
    "< [2.1 Particle Command Line Interface](https://jckantor.github.io/cbe61622/02.01-Particle_CLI.html) | [Contents](toc.html) | [2.3 Particle Command Line Interface (CLI)](https://jckantor.github.io/cbe61622/02.03-Particle-CLI.html) ><p><a href=\"https://colab.research.google.com/github/jckantor/cbe61622/blob/master/docs/02.02-Particle_Coding.ipynb\"> <img align=\"left\" src=\"https://colab.research.google.com/assets/colab-badge.svg\" alt=\"Open in Colab\" title=\"Open in Google Colaboratory\"></a><p><a href=\"https://jckantor.github.io/cbe61622/02.02-Particle_Coding.ipynb\"> <img align=\"left\" src=\"https://img.shields.io/badge/Github-Download-blue.svg\" alt=\"Download\" title=\"Download Notebook\"></a>"
   ]
  }
 ],
 "metadata": {
  "colab": {
   "authorship_tag": "ABX9TyN8EUSYyYfvrp4oJhcgI4NI",
   "collapsed_sections": [],
   "mount_file_id": "1eybJfx2naCsVBOjTbzEu6GEK6cHu-h5I",
   "name": "01.21-Particle_Coding.ipynb",
   "provenance": [
    {
     "file_id": "1i0wWU-7SnZ19a6OGQN5XnckWlNQDtPR2",
     "timestamp": 1603145151967
    }
   ]
  },
  "kernelspec": {
   "display_name": "Python 3",
   "name": "python3"
  }
 },
 "nbformat": 4,
 "nbformat_minor": 0
}
