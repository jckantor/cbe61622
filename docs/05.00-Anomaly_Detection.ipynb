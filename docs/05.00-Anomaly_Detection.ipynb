{
 "cells": [
  {
   "cell_type": "markdown",
   "id": "a79b657b",
   "metadata": {},
   "source": [
    "<!--NOTEBOOK_HEADER-->\n",
    "*This notebook contains material from [cbe61622](https://jckantor.github.io/cbe61622);\n",
    "content is available [on Github](https://github.com/jckantor/cbe61622.git).*\n"
   ]
  },
  {
   "cell_type": "markdown",
   "id": "993fbf88",
   "metadata": {},
   "source": [
    "<!--NAVIGATION-->\n",
    "< [4.10 Operational Amplifiers](https://jckantor.github.io/cbe61622/04.10-Operational-Amplifiers.html) | [Contents](toc.html) | [6.0 Images and Vision](https://jckantor.github.io/cbe61622/06.00-Images_and_Vision.html) ><p><a href=\"https://colab.research.google.com/github/jckantor/cbe61622/blob/master/docs/05.00-Anomaly_Detection.ipynb\"> <img align=\"left\" src=\"https://colab.research.google.com/assets/colab-badge.svg\" alt=\"Open in Colab\" title=\"Open in Google Colaboratory\"></a><p><a href=\"https://jckantor.github.io/cbe61622/05.00-Anomaly_Detection.ipynb\"> <img align=\"left\" src=\"https://img.shields.io/badge/Github-Download-blue.svg\" alt=\"Download\" title=\"Download Notebook\"></a>"
   ]
  },
  {
   "cell_type": "markdown",
   "metadata": {
    "nbpages": {
     "level": 1,
     "link": "[5.0 Anomaly Detection](https://jckantor.github.io/cbe61622/05.00-Anomaly_Detection.html#5.0-Anomaly-Detection)",
     "section": "5.0 Anomaly Detection"
    }
   },
   "source": [
    "# 5.0 Anomaly Detection"
   ]
  },
  {
   "cell_type": "code",
   "execution_count": null,
   "metadata": {
    "nbpages": {
     "level": 1,
     "link": "[5.0 Anomaly Detection](https://jckantor.github.io/cbe61622/05.00-Anomaly_Detection.html#5.0-Anomaly-Detection)",
     "section": "5.0 Anomaly Detection"
    }
   },
   "outputs": [],
   "source": []
  },
  {
   "cell_type": "code",
   "execution_count": null,
   "metadata": {
    "nbpages": {
     "level": 1,
     "link": "[5.0 Anomaly Detection](https://jckantor.github.io/cbe61622/05.00-Anomaly_Detection.html#5.0-Anomaly-Detection)",
     "section": "5.0 Anomaly Detection"
    }
   },
   "outputs": [],
   "source": []
  },
  {
   "cell_type": "markdown",
   "id": "5278b626",
   "metadata": {},
   "source": [
    "<!--NAVIGATION-->\n",
    "< [4.10 Operational Amplifiers](https://jckantor.github.io/cbe61622/04.10-Operational-Amplifiers.html) | [Contents](toc.html) | [6.0 Images and Vision](https://jckantor.github.io/cbe61622/06.00-Images_and_Vision.html) ><p><a href=\"https://colab.research.google.com/github/jckantor/cbe61622/blob/master/docs/05.00-Anomaly_Detection.ipynb\"> <img align=\"left\" src=\"https://colab.research.google.com/assets/colab-badge.svg\" alt=\"Open in Colab\" title=\"Open in Google Colaboratory\"></a><p><a href=\"https://jckantor.github.io/cbe61622/05.00-Anomaly_Detection.ipynb\"> <img align=\"left\" src=\"https://img.shields.io/badge/Github-Download-blue.svg\" alt=\"Download\" title=\"Download Notebook\"></a>"
   ]
  }
 ],
 "metadata": {
  "kernelspec": {
   "display_name": "Python 3",
   "language": "python",
   "name": "python3"
  },
  "language_info": {
   "codemirror_mode": {
    "name": "ipython",
    "version": 3
   },
   "file_extension": ".py",
   "mimetype": "text/x-python",
   "name": "python",
   "nbconvert_exporter": "python",
   "pygments_lexer": "ipython3",
   "version": "3.7.4"
  }
 },
 "nbformat": 4,
 "nbformat_minor": 2
}
