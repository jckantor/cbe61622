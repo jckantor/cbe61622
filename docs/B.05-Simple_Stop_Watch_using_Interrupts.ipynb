{
 "cells": [
  {
   "cell_type": "markdown",
   "id": "949f1845",
   "metadata": {},
   "source": [
    "<!--NOTEBOOK_HEADER-->\n",
    "*This notebook contains material from [cbe61622](https://jckantor.github.io/cbe61622);\n",
    "content is available [on Github](https://github.com/jckantor/cbe61622.git).*\n"
   ]
  },
  {
   "cell_type": "markdown",
   "id": "a8609ad1",
   "metadata": {},
   "source": [
    "<!--NAVIGATION-->\n",
    "< [B.4 Ultrasonic Distance Ranger](https://jckantor.github.io/cbe61622/B.04-Ultrasonic_Distance_Ranger.html) | [Contents](toc.html) |<p><a href=\"https://colab.research.google.com/github/jckantor/cbe61622/blob/master/docs/B.05-Simple_Stop_Watch_using_Interrupts.ipynb\"> <img align=\"left\" src=\"https://colab.research.google.com/assets/colab-badge.svg\" alt=\"Open in Colab\" title=\"Open in Google Colaboratory\"></a><p><a href=\"https://jckantor.github.io/cbe61622/B.05-Simple_Stop_Watch_using_Interrupts.ipynb\"> <img align=\"left\" src=\"https://img.shields.io/badge/Github-Download-blue.svg\" alt=\"Download\" title=\"Download Notebook\"></a>"
   ]
  },
  {
   "cell_type": "markdown",
   "metadata": {
    "id": "2eIn0fxRERLC",
    "nbpages": {
     "level": 1,
     "link": "[B.5 Simple Stop Watch using Interrupts](https://jckantor.github.io/cbe61622/B.05-Simple_Stop_Watch_using_Interrupts.html#B.5-Simple-Stop-Watch-using-Interrupts)",
     "section": "B.5 Simple Stop Watch using Interrupts"
    }
   },
   "source": [
    "# B.5 Simple Stop Watch using Interrupts\n"
   ]
  },
  {
   "cell_type": "markdown",
   "metadata": {
    "id": "aMCK4cZkEZ_3",
    "nbpages": {
     "level": 2,
     "link": "[B.5.1 Particle CLI](https://jckantor.github.io/cbe61622/B.05-Simple_Stop_Watch_using_Interrupts.html#B.5.1-Particle-CLI)",
     "section": "B.5.1 Particle CLI"
    }
   },
   "source": [
    "## B.5.1 Particle CLI"
   ]
  },
  {
   "cell_type": "markdown",
   "metadata": {
    "id": "I8T4ooaP_Th3",
    "nbpages": {
     "level": 3,
     "link": "[B.5.1.1 Installation](https://jckantor.github.io/cbe61622/B.05-Simple_Stop_Watch_using_Interrupts.html#B.5.1.1-Installation)",
     "section": "B.5.1.1 Installation"
    }
   },
   "source": [
    "### B.5.1.1 Installation"
   ]
  },
  {
   "cell_type": "code",
   "execution_count": 1,
   "metadata": {
    "executionInfo": {
     "elapsed": 42701,
     "status": "ok",
     "timestamp": 1603401777658,
     "user": {
      "displayName": "Jeffrey Kantor",
      "photoUrl": "https://lh3.googleusercontent.com/a-/AOh14Gg_n8V7bVINy02QRuRgOoMo11Ri7NKU3OUKdC1bkQ=s64",
      "userId": "09038942003589296665"
     },
     "user_tz": 240
    },
    "id": "U9qOi8Rdyzwx",
    "nbpages": {
     "level": 3,
     "link": "[B.5.1.1 Installation](https://jckantor.github.io/cbe61622/B.05-Simple_Stop_Watch_using_Interrupts.html#B.5.1.1-Installation)",
     "section": "B.5.1.1 Installation"
    }
   },
   "outputs": [],
   "source": [
    "%%capture\n",
    "!bash <( curl -sL https://particle.io/install-cli )\n",
    "\n",
    "# path to the particle cli. May be environment dependent.\n",
    "particle_cli = \"/root/bin/particle\""
   ]
  },
  {
   "cell_type": "markdown",
   "metadata": {
    "id": "X21Hmxnb_J8B",
    "nbpages": {
     "level": 3,
     "link": "[B.5.1.2 Utility functions](https://jckantor.github.io/cbe61622/B.05-Simple_Stop_Watch_using_Interrupts.html#B.5.1.2-Utility-functions)",
     "section": "B.5.1.2 Utility functions"
    }
   },
   "source": [
    "### B.5.1.2 Utility functions"
   ]
  },
  {
   "cell_type": "code",
   "execution_count": 2,
   "metadata": {
    "executionInfo": {
     "elapsed": 325,
     "status": "ok",
     "timestamp": 1603401798433,
     "user": {
      "displayName": "Jeffrey Kantor",
      "photoUrl": "https://lh3.googleusercontent.com/a-/AOh14Gg_n8V7bVINy02QRuRgOoMo11Ri7NKU3OUKdC1bkQ=s64",
      "userId": "09038942003589296665"
     },
     "user_tz": 240
    },
    "id": "IVNRmKaglmkp",
    "nbpages": {
     "level": 3,
     "link": "[B.5.1.2 Utility functions](https://jckantor.github.io/cbe61622/B.05-Simple_Stop_Watch_using_Interrupts.html#B.5.1.2-Utility-functions)",
     "section": "B.5.1.2 Utility functions"
    }
   },
   "outputs": [],
   "source": [
    "import re\n",
    "import subprocess\n",
    "\n",
    "# regular expression to strip ansi control characters\n",
    "ansi = re.compile(r'\\x1B(?:[@-Z\\\\-_]|\\[[0-?]*[ -/]*[@-~])')\n",
    "\n",
    "# decode byte string and strip ansi control characters\n",
    "def decode_bytes(byte_string):\n",
    "    if isinstance(byte_string, bytes):\n",
    "        result = byte_string.decode(\"utf-8\")\n",
    "    return ansi.sub(\"\", result)\n",
    "\n",
    "# streamline call to the particle-cli\n",
    "def particle(args):\n",
    "    process = subprocess.run([\"/root/bin/particle\"] + args,\n",
    "                             stdout=subprocess.PIPE,\n",
    "                             stderr=subprocess.PIPE)\n",
    "    process.stdout = decode_bytes(process.stdout)\n",
    "    process.stderr = decode_bytes(process.stderr)\n",
    "    return process"
   ]
  },
  {
   "cell_type": "markdown",
   "metadata": {
    "id": "RyR318S-FEOT",
    "nbpages": {
     "level": 3,
     "link": "[B.5.1.3 Login to Particle](https://jckantor.github.io/cbe61622/B.05-Simple_Stop_Watch_using_Interrupts.html#B.5.1.3-Login-to-Particle)",
     "section": "B.5.1.3 Login to Particle"
    }
   },
   "source": [
    "### B.5.1.3 Login to Particle"
   ]
  },
  {
   "cell_type": "code",
   "execution_count": 3,
   "metadata": {
    "colab": {
     "base_uri": "https://localhost:8080/",
     "height": 85
    },
    "executionInfo": {
     "elapsed": 12522,
     "status": "ok",
     "timestamp": 1603401815782,
     "user": {
      "displayName": "Jeffrey Kantor",
      "photoUrl": "https://lh3.googleusercontent.com/a-/AOh14Gg_n8V7bVINy02QRuRgOoMo11Ri7NKU3OUKdC1bkQ=s64",
      "userId": "09038942003589296665"
     },
     "user_tz": 240
    },
    "id": "1CMV13RsYAR9",
    "nbpages": {
     "level": 3,
     "link": "[B.5.1.3 Login to Particle](https://jckantor.github.io/cbe61622/B.05-Simple_Stop_Watch_using_Interrupts.html#B.5.1.3-Login-to-Particle)",
     "section": "B.5.1.3 Login to Particle"
    },
    "outputId": "9c9523db-6bb4-4134-b9d6-b12808640535"
   },
   "outputs": [
    {
     "name": "stdout",
     "output_type": "stream",
     "text": [
      "Username: ··········\n",
      "Password: ··········\n",
      "> Successfully completed login!\n",
      "\n"
     ]
    }
   ],
   "source": [
    "import getpass\n",
    "\n",
    "# prompt for username and password\n",
    "username = getpass.getpass(prompt=\"Username: \")\n",
    "password = getpass.getpass(prompt=\"Password: \")\n",
    "\n",
    "# attempt login\n",
    "output = particle([\"login\", \"--username\", username, \"--password\", password])\n",
    "\n",
    "# report results\n",
    "if output.returncode:\n",
    "    print(f\"Return code = {output.returncode}\")\n",
    "    print(output.stderr)\n",
    "else:\n",
    "    print(output.stdout)"
   ]
  },
  {
   "cell_type": "markdown",
   "metadata": {
    "id": "xkUuoM-ZmGVb",
    "nbpages": {
     "level": 3,
     "link": "[B.5.1.4 Select a device](https://jckantor.github.io/cbe61622/B.05-Simple_Stop_Watch_using_Interrupts.html#B.5.1.4-Select-a-device)",
     "section": "B.5.1.4 Select a device"
    }
   },
   "source": [
    "### B.5.1.4 Select a device\n",
    "\n",
    "The following cell downloads a list of all user devices and creates a list of device names. Here we choose the first name in the list for the rest of this notebook. If this is not the device to be used, then modify this cell accordingly."
   ]
  },
  {
   "cell_type": "code",
   "execution_count": 4,
   "metadata": {
    "colab": {
     "base_uri": "https://localhost:8080/",
     "height": 51
    },
    "executionInfo": {
     "elapsed": 2154,
     "status": "ok",
     "timestamp": 1603401822016,
     "user": {
      "displayName": "Jeffrey Kantor",
      "photoUrl": "https://lh3.googleusercontent.com/a-/AOh14Gg_n8V7bVINy02QRuRgOoMo11Ri7NKU3OUKdC1bkQ=s64",
      "userId": "09038942003589296665"
     },
     "user_tz": 240
    },
    "id": "leGyaNy4mMtX",
    "nbpages": {
     "level": 3,
     "link": "[B.5.1.4 Select a device](https://jckantor.github.io/cbe61622/B.05-Simple_Stop_Watch_using_Interrupts.html#B.5.1.4-Select-a-device)",
     "section": "B.5.1.4 Select a device"
    },
    "outputId": "499b19c2-d294-4a69-f4c4-7bbb93ef67fc"
   },
   "outputs": [
    {
     "name": "stdout",
     "output_type": "stream",
     "text": [
      "jck_argon_01 [e00fce68eaceb1faa7cf7193] (Argon) is online\n",
      "\n"
     ]
    }
   ],
   "source": [
    "devices = [line.split()[0] for line in particle([\"list\"]).stdout.splitlines()]\n",
    "device_name = devices[0]\n",
    "print(particle([\"list\", device_name]).stdout)"
   ]
  },
  {
   "cell_type": "markdown",
   "metadata": {
    "id": "GFanTiZ1RJsE",
    "nbpages": {
     "level": 2,
     "link": "[B.5.2 Project: Simple Stop Watch](https://jckantor.github.io/cbe61622/B.05-Simple_Stop_Watch_using_Interrupts.html#B.5.2-Project:-Simple-Stop-Watch)",
     "section": "B.5.2 Project: Simple Stop Watch"
    }
   },
   "source": [
    "## B.5.2 Project: Simple Stop Watch\n",
    "\n",
    "The goal of this project is to build a simple stop watch. The project will use code previously developed for the Grove 4 digit display, and add a Grove button to control operation of the stop watch. The stop watch will start and stop with a short click of the button, and reset to zero with a long button press.\n"
   ]
  },
  {
   "cell_type": "markdown",
   "metadata": {
    "id": "Wy36pTBayB-9",
    "nbpages": {
     "level": 3,
     "link": "[B.5.2.1 Grove Button](https://jckantor.github.io/cbe61622/B.05-Simple_Stop_Watch_using_Interrupts.html#B.5.2.1-Grove-Button)",
     "section": "B.5.2.1 Grove Button"
    }
   },
   "source": [
    "### B.5.2.1 Grove Button\n",
    "\n",
    "The Grove Button is a momentary contact with a [pull-down resistor](https://www.seeedstudio.com/blog/2020/02/21/pull-up-resistor-vs-pull-down-differences-arduino-guide/). With a pull-down resistor, the pin value is LOW when the button is not pressed, and become HIGH when the button is depressed. "
   ]
  },
  {
   "cell_type": "markdown",
   "metadata": {
    "id": "bnziRvWlyB--",
    "nbpages": {
     "level": 2,
     "link": "[B.5.3 Solution 1: Using clickButton library](https://jckantor.github.io/cbe61622/B.05-Simple_Stop_Watch_using_Interrupts.html#B.5.3-Solution-1:-Using-clickButton-library)",
     "section": "B.5.3 Solution 1: Using clickButton library"
    }
   },
   "source": [
    "## B.5.3 Solution 1: Using clickButton library"
   ]
  },
  {
   "cell_type": "markdown",
   "metadata": {
    "id": "4vZ1VcQRiylL",
    "nbpages": {
     "level": 3,
     "link": "[B.5.3.1 Create Project](https://jckantor.github.io/cbe61622/B.05-Simple_Stop_Watch_using_Interrupts.html#B.5.3.1-Create-Project)",
     "section": "B.5.3.1 Create Project"
    }
   },
   "source": [
    "### B.5.3.1 Create Project"
   ]
  },
  {
   "cell_type": "code",
   "execution_count": 5,
   "metadata": {
    "colab": {
     "base_uri": "https://localhost:8080/",
     "height": 68
    },
    "executionInfo": {
     "elapsed": 846,
     "status": "ok",
     "timestamp": 1603401840535,
     "user": {
      "displayName": "Jeffrey Kantor",
      "photoUrl": "https://lh3.googleusercontent.com/a-/AOh14Gg_n8V7bVINy02QRuRgOoMo11Ri7NKU3OUKdC1bkQ=s64",
      "userId": "09038942003589296665"
     },
     "user_tz": 240
    },
    "id": "FaqbZcYwix06",
    "nbpages": {
     "level": 3,
     "link": "[B.5.3.1 Create Project](https://jckantor.github.io/cbe61622/B.05-Simple_Stop_Watch_using_Interrupts.html#B.5.3.1-Create-Project)",
     "section": "B.5.3.1 Create Project"
    },
    "outputId": "41a6ad33-179e-471f-c85b-b1f02cdcda6e"
   },
   "outputs": [
    {
     "name": "stdout",
     "output_type": "stream",
     "text": [
      "Initializing project in directory myproject...\n",
      "> A new project has been initialized in directory myproject\n",
      "\n"
     ]
    }
   ],
   "source": [
    "print(particle([\"project\", \"create\", \"--name\", \"myproject\", \".\"]).stdout)"
   ]
  },
  {
   "cell_type": "markdown",
   "metadata": {
    "id": "tsSPugdDzEq2",
    "nbpages": {
     "level": 3,
     "link": "[B.5.3.2 Change working directory](https://jckantor.github.io/cbe61622/B.05-Simple_Stop_Watch_using_Interrupts.html#B.5.3.2-Change-working-directory)",
     "section": "B.5.3.2 Change working directory"
    }
   },
   "source": [
    "### B.5.3.2 Change working directory\n",
    "\n",
    "The Particle CLI assumes one is working in the top  project directory."
   ]
  },
  {
   "cell_type": "code",
   "execution_count": 6,
   "metadata": {
    "colab": {
     "base_uri": "https://localhost:8080/",
     "height": 34
    },
    "executionInfo": {
     "elapsed": 344,
     "status": "ok",
     "timestamp": 1603401850110,
     "user": {
      "displayName": "Jeffrey Kantor",
      "photoUrl": "https://lh3.googleusercontent.com/a-/AOh14Gg_n8V7bVINy02QRuRgOoMo11Ri7NKU3OUKdC1bkQ=s64",
      "userId": "09038942003589296665"
     },
     "user_tz": 240
    },
    "id": "iNYJNUoaC2ye",
    "nbpages": {
     "level": 3,
     "link": "[B.5.3.2 Change working directory](https://jckantor.github.io/cbe61622/B.05-Simple_Stop_Watch_using_Interrupts.html#B.5.3.2-Change-working-directory)",
     "section": "B.5.3.2 Change working directory"
    },
    "outputId": "1804e314-428e-4a56-c763-f62a5ead73cd"
   },
   "outputs": [
    {
     "name": "stdout",
     "output_type": "stream",
     "text": [
      "/content/myproject\n"
     ]
    }
   ],
   "source": [
    "%cd myproject"
   ]
  },
  {
   "cell_type": "markdown",
   "metadata": {
    "id": "moVetAalRsLO",
    "nbpages": {
     "level": 3,
     "link": "[B.5.3.3 Add relevant libraries](https://jckantor.github.io/cbe61622/B.05-Simple_Stop_Watch_using_Interrupts.html#B.5.3.3-Add-relevant-libraries)",
     "section": "B.5.3.3 Add relevant libraries"
    }
   },
   "source": [
    "### B.5.3.3 Add relevant libraries"
   ]
  },
  {
   "cell_type": "code",
   "execution_count": 7,
   "metadata": {
    "colab": {
     "base_uri": "https://localhost:8080/",
     "height": 139
    },
    "executionInfo": {
     "elapsed": 1546,
     "status": "ok",
     "timestamp": 1603401855605,
     "user": {
      "displayName": "Jeffrey Kantor",
      "photoUrl": "https://lh3.googleusercontent.com/a-/AOh14Gg_n8V7bVINy02QRuRgOoMo11Ri7NKU3OUKdC1bkQ=s64",
      "userId": "09038942003589296665"
     },
     "user_tz": 240
    },
    "id": "WebH24BzZ5Cn",
    "nbpages": {
     "level": 3,
     "link": "[B.5.3.3 Add relevant libraries](https://jckantor.github.io/cbe61622/B.05-Simple_Stop_Watch_using_Interrupts.html#B.5.3.3-Add-relevant-libraries)",
     "section": "B.5.3.3 Add relevant libraries"
    },
    "outputId": "416396b0-e6a5-4589-a529-e39c01f612ea"
   },
   "outputs": [
    {
     "name": "stdout",
     "output_type": "stream",
     "text": [
      "> Library Grove_4Digit_Display 1.0.2 has been added to the project.\n",
      "> To get started using this library, run particle library view Grove_4Digit_Display to view the library documentation and sources.\n",
      "\n",
      "> Library clickButton 1.0.9 has been added to the project.\n",
      "> To get started using this library, run particle library view clickButton to view the library documentation and sources.\n",
      "\n"
     ]
    }
   ],
   "source": [
    "print(particle([\"library\", \"add\", \"Grove_4Digit_Display\"]).stdout)\n",
    "print(particle([\"library\", \"add\", \"clickButton\"]).stdout)"
   ]
  },
  {
   "cell_type": "markdown",
   "metadata": {
    "id": "kYIAoD_jESIn",
    "nbpages": {
     "level": 3,
     "link": "[B.5.3.4 Create source file](https://jckantor.github.io/cbe61622/B.05-Simple_Stop_Watch_using_Interrupts.html#B.5.3.4-Create-source-file)",
     "section": "B.5.3.4 Create source file"
    }
   },
   "source": [
    "### B.5.3.4 Create source file"
   ]
  },
  {
   "cell_type": "code",
   "execution_count": 9,
   "metadata": {
    "colab": {
     "base_uri": "https://localhost:8080/",
     "height": 34
    },
    "executionInfo": {
     "elapsed": 365,
     "status": "ok",
     "timestamp": 1603401879458,
     "user": {
      "displayName": "Jeffrey Kantor",
      "photoUrl": "https://lh3.googleusercontent.com/a-/AOh14Gg_n8V7bVINy02QRuRgOoMo11Ri7NKU3OUKdC1bkQ=s64",
      "userId": "09038942003589296665"
     },
     "user_tz": 240
    },
    "id": "uZJn2QkEmbuQ",
    "nbpages": {
     "level": 3,
     "link": "[B.5.3.4 Create source file](https://jckantor.github.io/cbe61622/B.05-Simple_Stop_Watch_using_Interrupts.html#B.5.3.4-Create-source-file)",
     "section": "B.5.3.4 Create source file"
    },
    "outputId": "8ab4db2f-f9ca-4ad5-b68d-9e8addf8f9fd"
   },
   "outputs": [
    {
     "name": "stdout",
     "output_type": "stream",
     "text": [
      "Overwriting src/myproject.ino\n"
     ]
    }
   ],
   "source": [
    "%%writefile src/myproject.ino\n",
    "\n",
    "/* pin assignments */\n",
    "#define PIN_CLK D2     /* display clock */\n",
    "#define PIN_DIO D3     /* display data */\n",
    "#define PIN_BTN D4     /* button */\n",
    "\n",
    "/* display parameters */\n",
    "#define DIGITS 4   /* display digits */\n",
    "\n",
    "#include \"Grove_4Digit_Display.h\"\n",
    "#include \"clickButton.h\"\n",
    "\n",
    "/* display object */\n",
    "TM1637 tm1637(PIN_CLK, PIN_DIO);\n",
    "\n",
    "/* button object */\n",
    "ClickButton button(PIN_BTN, HIGH);\n",
    "\n",
    "/* stopwatch state */\n",
    "unsigned long curr_time;\n",
    "unsigned long prev_time;\n",
    "unsigned long display_time;\n",
    "bool running;\n",
    "\n",
    "void setup() {\n",
    "    /* setup display */\n",
    "    tm1637.init();\n",
    "    tm1637.set(BRIGHT_TYPICAL);\n",
    "    tm1637.point(POINT_ON);\n",
    "\n",
    "    /* setup button */\n",
    "    pinMode(PIN_BTN, INPUT);\n",
    "    button.debounceTime = 0;\n",
    "    button.multiclickTime = 250;\n",
    "    button.longClickTime = 1000;\n",
    "\n",
    "    /* setup stopwatch */\n",
    "    prev_time = millis();\n",
    "    display_time = 0;\n",
    "    running = FALSE;\n",
    "}\n",
    "\n",
    "void loop() {\n",
    "    button.Update();\n",
    "    if (button.clicks > 0) {\n",
    "        running = !running;\n",
    "    } else if (button.clicks < 0) {\n",
    "        display_time = 0;\n",
    "    }\n",
    "    if (running) {\n",
    "        curr_time = millis();\n",
    "        display_time += curr_time - prev_time;\n",
    "    } else {\n",
    "        curr_time = millis();\n",
    "    }\n",
    "    prev_time = curr_time;\n",
    "    display(display_time / 10); /* displaying 100th's of seconds */\n",
    "}\n",
    "\n",
    "void display(unsigned int number) {\n",
    "    for (int i = 0; i < 4; i++) {\n",
    "        int digit = DIGITS - 1 - i;\n",
    "        tm1637.display(digit, number % 10);\n",
    "        number /= 10;\n",
    "    }\n",
    "}"
   ]
  },
  {
   "cell_type": "markdown",
   "metadata": {
    "id": "DgYoYrbMBg8y",
    "nbpages": {
     "level": 3,
     "link": "[B.5.3.5 Compiling](https://jckantor.github.io/cbe61622/B.05-Simple_Stop_Watch_using_Interrupts.html#B.5.3.5-Compiling)",
     "section": "B.5.3.5 Compiling"
    }
   },
   "source": [
    "### B.5.3.5 Compiling"
   ]
  },
  {
   "cell_type": "code",
   "execution_count": 10,
   "metadata": {
    "colab": {
     "base_uri": "https://localhost:8080/",
     "height": 306
    },
    "executionInfo": {
     "elapsed": 7865,
     "status": "ok",
     "timestamp": 1603401887862,
     "user": {
      "displayName": "Jeffrey Kantor",
      "photoUrl": "https://lh3.googleusercontent.com/a-/AOh14Gg_n8V7bVINy02QRuRgOoMo11Ri7NKU3OUKdC1bkQ=s64",
      "userId": "09038942003589296665"
     },
     "user_tz": 240
    },
    "id": "D-yOOpbfA4U5",
    "nbpages": {
     "level": 3,
     "link": "[B.5.3.5 Compiling](https://jckantor.github.io/cbe61622/B.05-Simple_Stop_Watch_using_Interrupts.html#B.5.3.5-Compiling)",
     "section": "B.5.3.5 Compiling"
    },
    "outputId": "83feba5a-3e63-46f5-f647-1c74b45dac7c"
   },
   "outputs": [
    {
     "name": "stdout",
     "output_type": "stream",
     "text": [
      "\n",
      "Compiling code for argon\n",
      "\n",
      "Including:\n",
      "    src/myproject.ino\n",
      "    project.properties\n",
      "\n",
      "attempting to compile firmware\n",
      "downloading binary from: /v1/binaries/5f91f89f9c09c655b52cb096\n",
      "saving to: myproject.bin\n",
      "Memory use:\n",
      "   text\t   data\t    bss\t    dec\t    hex\tfilename\n",
      "   6588\t    108\t   1112\t   7808\t   1e80\t/workspace/target/workspace.elf\n",
      "\n",
      "Compile succeeded.\n",
      "Saved firmware to: /content/myproject/myproject.bin\n",
      "\n"
     ]
    }
   ],
   "source": [
    "print(particle([\"compile\", \"argon\", \"--saveTo\", \"myproject.bin\"]).stdout)"
   ]
  },
  {
   "cell_type": "markdown",
   "metadata": {
    "id": "b5e_lzC1FtHw",
    "nbpages": {
     "level": 3,
     "link": "[B.5.3.6 Flash firmware](https://jckantor.github.io/cbe61622/B.05-Simple_Stop_Watch_using_Interrupts.html#B.5.3.6-Flash-firmware)",
     "section": "B.5.3.6 Flash firmware"
    }
   },
   "source": [
    "### B.5.3.6 Flash firmware"
   ]
  },
  {
   "cell_type": "code",
   "execution_count": 11,
   "metadata": {
    "colab": {
     "base_uri": "https://localhost:8080/",
     "height": 153
    },
    "executionInfo": {
     "elapsed": 1080,
     "status": "ok",
     "timestamp": 1603401891902,
     "user": {
      "displayName": "Jeffrey Kantor",
      "photoUrl": "https://lh3.googleusercontent.com/a-/AOh14Gg_n8V7bVINy02QRuRgOoMo11Ri7NKU3OUKdC1bkQ=s64",
      "userId": "09038942003589296665"
     },
     "user_tz": 240
    },
    "id": "TcUKDiWOsvt1",
    "nbpages": {
     "level": 3,
     "link": "[B.5.3.6 Flash firmware](https://jckantor.github.io/cbe61622/B.05-Simple_Stop_Watch_using_Interrupts.html#B.5.3.6-Flash-firmware)",
     "section": "B.5.3.6 Flash firmware"
    },
    "outputId": "74c74ee1-4036-4f98-f4da-17d08f405e26"
   },
   "outputs": [
    {
     "name": "stdout",
     "output_type": "stream",
     "text": [
      "Including:\n",
      "    myproject.bin\n",
      "\n",
      "attempting to flash firmware to your device jck_argon_01\n",
      "Flash device OK: Update started\n",
      "\n",
      "Flash success!\n",
      "\n"
     ]
    }
   ],
   "source": [
    "print(particle([\"flash\", device_name, \"myproject.bin\"]).stdout)"
   ]
  },
  {
   "cell_type": "markdown",
   "metadata": {
    "id": "9fJowzyB6ge_",
    "nbpages": {
     "level": 2,
     "link": "[B.5.4 Solution 2: Interrupt Service Routine (ISR)](https://jckantor.github.io/cbe61622/B.05-Simple_Stop_Watch_using_Interrupts.html#B.5.4-Solution-2:-Interrupt-Service-Routine-(ISR))",
     "section": "B.5.4 Solution 2: Interrupt Service Routine (ISR)"
    }
   },
   "source": [
    "## B.5.4 Solution 2: Interrupt Service Routine (ISR)\n",
    "\n",
    "The ``clickButton`` library provides an easy-to-use method of managing the button actions, with provisions for debouncing, multiple clicks, and long clicks, but testing shows the button updates when the button is released, not when it is pressed. This is not consistent with a user's expectation that the clock should stop and start on the press of the button, not on the release.\n",
    "\n",
    "The following cell demonstrates the use of an Interrupt Service Routine to manage the button interface. The key insight here is to respond to both the press and release of the button by specifying ``CHANGE`` in the ``attachInterrupt`` function. This makes is possible to detect a long button press to reset the stop watch display to zero."
   ]
  },
  {
   "cell_type": "code",
   "execution_count": null,
   "metadata": {
    "colab": {
     "base_uri": "https://localhost:8080/",
     "height": 34
    },
    "executionInfo": {
     "elapsed": 354,
     "status": "ok",
     "timestamp": 1603388298695,
     "user": {
      "displayName": "Jeffrey Kantor",
      "photoUrl": "https://lh3.googleusercontent.com/a-/AOh14Gg_n8V7bVINy02QRuRgOoMo11Ri7NKU3OUKdC1bkQ=s64",
      "userId": "09038942003589296665"
     },
     "user_tz": 240
    },
    "id": "sqWNCGtqGBJ4",
    "nbpages": {
     "level": 2,
     "link": "[B.5.4 Solution 2: Interrupt Service Routine (ISR)](https://jckantor.github.io/cbe61622/B.05-Simple_Stop_Watch_using_Interrupts.html#B.5.4-Solution-2:-Interrupt-Service-Routine-(ISR))",
     "section": "B.5.4 Solution 2: Interrupt Service Routine (ISR)"
    },
    "outputId": "28eac53a-08a5-493a-9999-062d8aabb19c"
   },
   "outputs": [
    {
     "name": "stdout",
     "output_type": "stream",
     "text": [
      "Overwriting src/myproject.ino\n"
     ]
    }
   ],
   "source": [
    "%%writefile src/myproject.ino\n",
    "\n",
    "/* pin assignments */\n",
    "#define PIN_CLK D2     /* display clock */\n",
    "#define PIN_DIO D3     /* display data */\n",
    "#define PIN_BTN D4     /* button */\n",
    "\n",
    "/* display parameters */\n",
    "#define DIGITS 4   /* display digits */\n",
    "\n",
    "#include \"Grove_4Digit_Display.h\"\n",
    "#include \"clickButton.h\"\n",
    "\n",
    "/* display object */\n",
    "TM1637 tm1637(PIN_CLK, PIN_DIO);\n",
    "\n",
    "/* stopwatch state */\n",
    "unsigned long curr_time;\n",
    "unsigned long prev_time;\n",
    "unsigned long display_time;\n",
    "volatile unsigned long btn_press_time;\n",
    "volatile bool btn_is_pressed;\n",
    "volatile bool running;\n",
    "\n",
    "void setup() {\n",
    "    /* setup display */\n",
    "    tm1637.init();\n",
    "    tm1637.set(BRIGHT_TYPICAL);\n",
    "    tm1637.point(POINT_ON);\n",
    "\n",
    "    /* setup button */\n",
    "    pinMode(PIN_BTN, INPUT);\n",
    "    btn_press_time = millis();\n",
    "    attachInterrupt(PIN_BTN, on_btn_change, CHANGE);\n",
    "\n",
    "    /* setup stopwatch */\n",
    "    prev_time = millis();\n",
    "    display_time = 0;\n",
    "    running = FALSE;\n",
    "}\n",
    "\n",
    "void loop() {\n",
    "    curr_time = millis();\n",
    "    if (running) {\n",
    "        display_time += curr_time - prev_time;\n",
    "        if (btn_is_pressed && ((curr_time - btn_press_time) > 1000)) {\n",
    "            running = FALSE;\n",
    "            display_time = 0;\n",
    "        }\n",
    "    }\n",
    "    prev_time = curr_time;\n",
    "    display(display_time / 10); /* displaying 100th's of seconds */\n",
    "}\n",
    "\n",
    "void on_btn_change() {\n",
    "    if (digitalRead(PIN_BTN)==HIGH) {\n",
    "        if ((millis() - btn_press_time) > 50) {\n",
    "            running = !running;\n",
    "            btn_press_time = millis();\n",
    "            btn_is_pressed = TRUE;\n",
    "        }\n",
    "    } else {\n",
    "        btn_is_pressed = FALSE;   \n",
    "    }\n",
    "}\n",
    "\n",
    "void display(unsigned int number) {\n",
    "    for (int i = 0; i < 4; i++) {\n",
    "        int digit = DIGITS - 1 - i;\n",
    "        tm1637.display(digit, number % 10);\n",
    "        number /= 10;\n",
    "    }\n",
    "}"
   ]
  },
  {
   "cell_type": "code",
   "execution_count": null,
   "metadata": {
    "colab": {
     "base_uri": "https://localhost:8080/",
     "height": 306
    },
    "executionInfo": {
     "elapsed": 9356,
     "status": "ok",
     "timestamp": 1603388308882,
     "user": {
      "displayName": "Jeffrey Kantor",
      "photoUrl": "https://lh3.googleusercontent.com/a-/AOh14Gg_n8V7bVINy02QRuRgOoMo11Ri7NKU3OUKdC1bkQ=s64",
      "userId": "09038942003589296665"
     },
     "user_tz": 240
    },
    "id": "BQvRoo2A60U3",
    "nbpages": {
     "level": 2,
     "link": "[B.5.4 Solution 2: Interrupt Service Routine (ISR)](https://jckantor.github.io/cbe61622/B.05-Simple_Stop_Watch_using_Interrupts.html#B.5.4-Solution-2:-Interrupt-Service-Routine-(ISR))",
     "section": "B.5.4 Solution 2: Interrupt Service Routine (ISR)"
    },
    "outputId": "f6b19190-d93e-444e-b2de-3db576336c8f"
   },
   "outputs": [
    {
     "name": "stdout",
     "output_type": "stream",
     "text": [
      "\n",
      "Compiling code for argon\n",
      "\n",
      "Including:\n",
      "    src/myproject.ino\n",
      "    project.properties\n",
      "\n",
      "attempting to compile firmware\n",
      "downloading binary from: /v1/binaries/5f91c394d59546684d4c092a\n",
      "saving to: myproject.bin\n",
      "Memory use:\n",
      "   text\t   data\t    bss\t    dec\t    hex\tfilename\n",
      "   6604\t    108\t   1088\t   7800\t   1e78\t/workspace/target/workspace.elf\n",
      "\n",
      "Compile succeeded.\n",
      "Saved firmware to: /content/myproject/myproject.bin\n",
      "\n"
     ]
    }
   ],
   "source": [
    "print(particle([\"compile\", \"argon\", \"--saveTo\", \"myproject.bin\"]).stdout)"
   ]
  },
  {
   "cell_type": "code",
   "execution_count": null,
   "metadata": {
    "colab": {
     "base_uri": "https://localhost:8080/",
     "height": 153
    },
    "executionInfo": {
     "elapsed": 9864,
     "status": "ok",
     "timestamp": 1603388309747,
     "user": {
      "displayName": "Jeffrey Kantor",
      "photoUrl": "https://lh3.googleusercontent.com/a-/AOh14Gg_n8V7bVINy02QRuRgOoMo11Ri7NKU3OUKdC1bkQ=s64",
      "userId": "09038942003589296665"
     },
     "user_tz": 240
    },
    "id": "gmc8RJzd60jR",
    "nbpages": {
     "level": 2,
     "link": "[B.5.4 Solution 2: Interrupt Service Routine (ISR)](https://jckantor.github.io/cbe61622/B.05-Simple_Stop_Watch_using_Interrupts.html#B.5.4-Solution-2:-Interrupt-Service-Routine-(ISR))",
     "section": "B.5.4 Solution 2: Interrupt Service Routine (ISR)"
    },
    "outputId": "e2047ef6-0786-43e7-dd3c-11f7c10e988e"
   },
   "outputs": [
    {
     "name": "stdout",
     "output_type": "stream",
     "text": [
      "Including:\n",
      "    myproject.bin\n",
      "\n",
      "attempting to flash firmware to your device jck_argon_01\n",
      "Flash device OK: Update started\n",
      "\n",
      "Flash success!\n",
      "\n"
     ]
    }
   ],
   "source": [
    "print(particle([\"flash\", device_name, \"myproject.bin\"]).stdout)"
   ]
  },
  {
   "cell_type": "code",
   "execution_count": null,
   "metadata": {
    "id": "o31-7mKw0gVn",
    "nbpages": {
     "level": 2,
     "link": "[B.5.4 Solution 2: Interrupt Service Routine (ISR)](https://jckantor.github.io/cbe61622/B.05-Simple_Stop_Watch_using_Interrupts.html#B.5.4-Solution-2:-Interrupt-Service-Routine-(ISR))",
     "section": "B.5.4 Solution 2: Interrupt Service Routine (ISR)"
    }
   },
   "outputs": [],
   "source": []
  },
  {
   "cell_type": "markdown",
   "id": "1915825d",
   "metadata": {},
   "source": [
    "<!--NAVIGATION-->\n",
    "< [B.4 Ultrasonic Distance Ranger](https://jckantor.github.io/cbe61622/B.04-Ultrasonic_Distance_Ranger.html) | [Contents](toc.html) |<p><a href=\"https://colab.research.google.com/github/jckantor/cbe61622/blob/master/docs/B.05-Simple_Stop_Watch_using_Interrupts.ipynb\"> <img align=\"left\" src=\"https://colab.research.google.com/assets/colab-badge.svg\" alt=\"Open in Colab\" title=\"Open in Google Colaboratory\"></a><p><a href=\"https://jckantor.github.io/cbe61622/B.05-Simple_Stop_Watch_using_Interrupts.ipynb\"> <img align=\"left\" src=\"https://img.shields.io/badge/Github-Download-blue.svg\" alt=\"Download\" title=\"Download Notebook\"></a>"
   ]
  }
 ],
 "metadata": {
  "colab": {
   "collapsed_sections": [],
   "name": "02.04-Simple_Stop_Watch_using_Interrupts.ipynb",
   "provenance": [
    {
     "file_id": "https://github.com/jckantor/cbe-virtual-laboratory/blob/main/notebooks/02.04-Simple-Stop-Watch.ipynb",
     "timestamp": 1603325027025
    }
   ],
   "toc_visible": true
  },
  "kernelspec": {
   "display_name": "Python 3",
   "language": "python",
   "name": "python3"
  },
  "language_info": {
   "codemirror_mode": {
    "name": "ipython",
    "version": 3
   },
   "file_extension": ".py",
   "mimetype": "text/x-python",
   "name": "python",
   "nbconvert_exporter": "python",
   "pygments_lexer": "ipython3",
   "version": "3.7.4"
  }
 },
 "nbformat": 4,
 "nbformat_minor": 0
}
