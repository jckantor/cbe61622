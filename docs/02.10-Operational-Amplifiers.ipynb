{
 "cells": [
  {
   "cell_type": "markdown",
   "id": "708c6009",
   "metadata": {},
   "source": [
    "<!--NOTEBOOK_HEADER-->\n",
    "*This notebook contains material from [cbe61622](https://jckantor.github.io/cbe61622);\n",
    "content is available [on Github](https://github.com/jckantor/cbe61622.git).*\n"
   ]
  },
  {
   "cell_type": "markdown",
   "id": "76c9dd39",
   "metadata": {},
   "source": [
    "<!--NAVIGATION-->\n",
    "< [2.8 Basics of Linear DC Circuits](https://jckantor.github.io/cbe61622/02.08-Linear-DC-Circuits.html) | [Contents](toc.html) | [4.0 Chemical Instrumentation](https://jckantor.github.io/cbe61622/04.00-Chemical_Instrumentation.html) ><p><a href=\"https://colab.research.google.com/github/jckantor/cbe61622/blob/master/docs/02.10-Operational-Amplifiers.ipynb\"> <img align=\"left\" src=\"https://colab.research.google.com/assets/colab-badge.svg\" alt=\"Open in Colab\" title=\"Open in Google Colaboratory\"></a><p><a href=\"https://jckantor.github.io/cbe61622/02.10-Operational-Amplifiers.ipynb\"> <img align=\"left\" src=\"https://img.shields.io/badge/Github-Download-blue.svg\" alt=\"Download\" title=\"Download Notebook\"></a>"
   ]
  },
  {
   "cell_type": "markdown",
   "metadata": {
    "nbpages": {
     "level": 1,
     "link": "[2.10 Operational Amplifiers](https://jckantor.github.io/cbe61622/02.10-Operational-Amplifiers.html#2.10-Operational-Amplifiers)",
     "section": "2.10 Operational Amplifiers"
    }
   },
   "source": [
    "# 2.10 Operational Amplifiers"
   ]
  },
  {
   "cell_type": "markdown",
   "metadata": {
    "nbpages": {
     "level": 1,
     "link": "[2.10 Operational Amplifiers](https://jckantor.github.io/cbe61622/02.10-Operational-Amplifiers.html#2.10-Operational-Amplifiers)",
     "section": "2.10 Operational Amplifiers"
    }
   },
   "source": [
    "(Harvey Mudd) ![](http://fourier.eng.hmc.edu/e84/lectures/figures/OpAmp0.gif)\n",
    "\n",
    "* [Input impedance]\n",
    "* [Output impedance]\n",
    "* [Open-circuit gain]\n",
    "\n",
    "An approximate equation for the output voltage is\n",
    "\n",
    "$$V_{out} = A_d (V_+ - V_-) + A_c(V_+ + V_-)$$\n",
    "\n",
    "where $A_d$ is the differential gain and $A_c$ is the common-mode gain. Normally we seek very high values for $A_d$ and very low values for $A_c$. The common-mode rejection ratio is\n",
    "\n",
    "$$CMRR = 20 \\log_{10}\\frac{A_d}{A_c}$$\n",
    "\n",
    "Typical values of $CCMR$ are 100db or greater indicating $A_d > 10^5A_c$"
   ]
  },
  {
   "cell_type": "markdown",
   "metadata": {
    "nbpages": {
     "level": 2,
     "link": "[2.10.1 Feedback](https://jckantor.github.io/cbe61622/02.10-Operational-Amplifiers.html#2.10.1-Feedback)",
     "section": "2.10.1 Feedback"
    }
   },
   "source": [
    "## 2.10.1 Feedback"
   ]
  },
  {
   "cell_type": "code",
   "execution_count": null,
   "metadata": {
    "nbpages": {
     "level": 2,
     "link": "[2.10.1 Feedback](https://jckantor.github.io/cbe61622/02.10-Operational-Amplifiers.html#2.10.1-Feedback)",
     "section": "2.10.1 Feedback"
    }
   },
   "outputs": [],
   "source": []
  },
  {
   "cell_type": "markdown",
   "id": "ec6ca548",
   "metadata": {},
   "source": [
    "<!--NAVIGATION-->\n",
    "< [2.8 Basics of Linear DC Circuits](https://jckantor.github.io/cbe61622/02.08-Linear-DC-Circuits.html) | [Contents](toc.html) | [4.0 Chemical Instrumentation](https://jckantor.github.io/cbe61622/04.00-Chemical_Instrumentation.html) ><p><a href=\"https://colab.research.google.com/github/jckantor/cbe61622/blob/master/docs/02.10-Operational-Amplifiers.ipynb\"> <img align=\"left\" src=\"https://colab.research.google.com/assets/colab-badge.svg\" alt=\"Open in Colab\" title=\"Open in Google Colaboratory\"></a><p><a href=\"https://jckantor.github.io/cbe61622/02.10-Operational-Amplifiers.ipynb\"> <img align=\"left\" src=\"https://img.shields.io/badge/Github-Download-blue.svg\" alt=\"Download\" title=\"Download Notebook\"></a>"
   ]
  }
 ],
 "metadata": {
  "kernelspec": {
   "display_name": "Python 3 (ipykernel)",
   "language": "python",
   "name": "python3"
  },
  "language_info": {
   "codemirror_mode": {
    "name": "ipython",
    "version": 3
   },
   "file_extension": ".py",
   "mimetype": "text/x-python",
   "name": "python",
   "nbconvert_exporter": "python",
   "pygments_lexer": "ipython3",
   "version": "3.8.5"
  }
 },
 "nbformat": 4,
 "nbformat_minor": 4
}
