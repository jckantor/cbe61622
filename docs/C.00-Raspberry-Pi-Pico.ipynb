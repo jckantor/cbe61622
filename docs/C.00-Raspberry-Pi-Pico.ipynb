{
 "cells": [
  {
   "cell_type": "markdown",
   "id": "e927836f",
   "metadata": {},
   "source": [
    "<!--NOTEBOOK_HEADER-->\n",
    "*This notebook contains material from [cbe61622](https://jckantor.github.io/cbe61622);\n",
    "content is available [on Github](https://github.com/jckantor/cbe61622.git).*\n"
   ]
  },
  {
   "cell_type": "markdown",
   "id": "d96863f5",
   "metadata": {},
   "source": [
    "<!--NAVIGATION-->\n",
    "< [None](https://jckantor.github.io/cbe61622/B.02-Workstation-Learning-Exercises.html) | [Contents](toc.html) | [C.1 Interfacing with Micropython on the Raspberry Pi Pico](https://jckantor.github.io/cbe61622/C.01-Getting_Started.html) ><p><a href=\"https://colab.research.google.com/github/jckantor/cbe61622/blob/master/docs/C.00-Raspberry-Pi-Pico.ipynb\"> <img align=\"left\" src=\"https://colab.research.google.com/assets/colab-badge.svg\" alt=\"Open in Colab\" title=\"Open in Google Colaboratory\"></a><p><a href=\"https://jckantor.github.io/cbe61622/C.00-Raspberry-Pi-Pico.ipynb\"> <img align=\"left\" src=\"https://img.shields.io/badge/Github-Download-blue.svg\" alt=\"Download\" title=\"Download Notebook\"></a>"
   ]
  },
  {
   "cell_type": "markdown",
   "id": "841503a8-96bf-48e8-97d6-2b0ff150c07b",
   "metadata": {
    "nbpages": {
     "level": 1,
     "link": "[C.0 Raspberry Pi Pico](https://jckantor.github.io/cbe61622/C.00-Raspberry-Pi-Pico.html#C.0-Raspberry-Pi-Pico)",
     "section": "C.0 Raspberry Pi Pico"
    }
   },
   "source": [
    "# C.0 Raspberry Pi Pico"
   ]
  },
  {
   "cell_type": "code",
   "execution_count": null,
   "id": "af410bca-376a-4f16-9aa5-ceca5e8f3a77",
   "metadata": {
    "nbpages": {
     "level": 1,
     "link": "[C.0 Raspberry Pi Pico](https://jckantor.github.io/cbe61622/C.00-Raspberry-Pi-Pico.html#C.0-Raspberry-Pi-Pico)",
     "section": "C.0 Raspberry Pi Pico"
    }
   },
   "outputs": [],
   "source": []
  },
  {
   "cell_type": "markdown",
   "id": "1f4b8583",
   "metadata": {},
   "source": [
    "<!--NAVIGATION-->\n",
    "< [None](https://jckantor.github.io/cbe61622/B.02-Workstation-Learning-Exercises.html) | [Contents](toc.html) | [C.1 Interfacing with Micropython on the Raspberry Pi Pico](https://jckantor.github.io/cbe61622/C.01-Getting_Started.html) ><p><a href=\"https://colab.research.google.com/github/jckantor/cbe61622/blob/master/docs/C.00-Raspberry-Pi-Pico.ipynb\"> <img align=\"left\" src=\"https://colab.research.google.com/assets/colab-badge.svg\" alt=\"Open in Colab\" title=\"Open in Google Colaboratory\"></a><p><a href=\"https://jckantor.github.io/cbe61622/C.00-Raspberry-Pi-Pico.ipynb\"> <img align=\"left\" src=\"https://img.shields.io/badge/Github-Download-blue.svg\" alt=\"Download\" title=\"Download Notebook\"></a>"
   ]
  }
 ],
 "metadata": {
  "kernelspec": {
   "display_name": "Python 3 (ipykernel)",
   "language": "python",
   "name": "python3"
  },
  "language_info": {
   "codemirror_mode": {
    "name": "ipython",
    "version": 3
   },
   "file_extension": ".py",
   "mimetype": "text/x-python",
   "name": "python",
   "nbconvert_exporter": "python",
   "pygments_lexer": "ipython3",
   "version": "3.8.12"
  }
 },
 "nbformat": 4,
 "nbformat_minor": 5
}
