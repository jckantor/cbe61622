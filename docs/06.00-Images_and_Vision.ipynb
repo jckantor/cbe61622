{
 "cells": [
  {
   "cell_type": "markdown",
   "id": "d6112cd9",
   "metadata": {},
   "source": [
    "<!--NOTEBOOK_HEADER-->\n",
    "*This notebook contains material from [cbe61622](https://jckantor.github.io/cbe61622);\n",
    "content is available [on Github](https://github.com/jckantor/cbe61622.git).*\n"
   ]
  },
  {
   "cell_type": "markdown",
   "id": "8b77bdb5",
   "metadata": {},
   "source": [
    "<!--NAVIGATION-->\n",
    "< [5.0 Anomaly Detection](https://jckantor.github.io/cbe61622/05.00-Anomaly_Detection.html) | [Contents](toc.html) | [7.0 Chemical Instrumentation](https://jckantor.github.io/cbe61622/07.00-Chemical_Instrumentation.html) ><p><a href=\"https://colab.research.google.com/github/jckantor/cbe61622/blob/master/docs/06.00-Images_and_Vision.ipynb\"> <img align=\"left\" src=\"https://colab.research.google.com/assets/colab-badge.svg\" alt=\"Open in Colab\" title=\"Open in Google Colaboratory\"></a><p><a href=\"https://jckantor.github.io/cbe61622/06.00-Images_and_Vision.ipynb\"> <img align=\"left\" src=\"https://img.shields.io/badge/Github-Download-blue.svg\" alt=\"Download\" title=\"Download Notebook\"></a>"
   ]
  },
  {
   "cell_type": "markdown",
   "metadata": {
    "nbpages": {
     "level": 1,
     "link": "[6.0 Images and Vision](https://jckantor.github.io/cbe61622/06.00-Images_and_Vision.html#6.0-Images-and-Vision)",
     "section": "6.0 Images and Vision"
    }
   },
   "source": [
    "# 6.0 Images and Vision"
   ]
  },
  {
   "cell_type": "code",
   "execution_count": null,
   "metadata": {
    "nbpages": {
     "level": 1,
     "link": "[6.0 Images and Vision](https://jckantor.github.io/cbe61622/06.00-Images_and_Vision.html#6.0-Images-and-Vision)",
     "section": "6.0 Images and Vision"
    }
   },
   "outputs": [],
   "source": []
  },
  {
   "cell_type": "markdown",
   "id": "10ff4a93",
   "metadata": {},
   "source": [
    "<!--NAVIGATION-->\n",
    "< [5.0 Anomaly Detection](https://jckantor.github.io/cbe61622/05.00-Anomaly_Detection.html) | [Contents](toc.html) | [7.0 Chemical Instrumentation](https://jckantor.github.io/cbe61622/07.00-Chemical_Instrumentation.html) ><p><a href=\"https://colab.research.google.com/github/jckantor/cbe61622/blob/master/docs/06.00-Images_and_Vision.ipynb\"> <img align=\"left\" src=\"https://colab.research.google.com/assets/colab-badge.svg\" alt=\"Open in Colab\" title=\"Open in Google Colaboratory\"></a><p><a href=\"https://jckantor.github.io/cbe61622/06.00-Images_and_Vision.ipynb\"> <img align=\"left\" src=\"https://img.shields.io/badge/Github-Download-blue.svg\" alt=\"Download\" title=\"Download Notebook\"></a>"
   ]
  }
 ],
 "metadata": {
  "kernelspec": {
   "display_name": "Python 3",
   "language": "python",
   "name": "python3"
  },
  "language_info": {
   "codemirror_mode": {
    "name": "ipython",
    "version": 3
   },
   "file_extension": ".py",
   "mimetype": "text/x-python",
   "name": "python",
   "nbconvert_exporter": "python",
   "pygments_lexer": "ipython3",
   "version": "3.7.4"
  }
 },
 "nbformat": 4,
 "nbformat_minor": 2
}
