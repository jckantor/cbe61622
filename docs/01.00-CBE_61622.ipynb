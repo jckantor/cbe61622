{
 "cells": [
  {
   "cell_type": "markdown",
   "id": "ab2d4b05",
   "metadata": {},
   "source": [
    "<!--NOTEBOOK_HEADER-->\n",
    "*This notebook contains material from [cbe61622](https://jckantor.github.io/cbe61622);\n",
    "content is available [on Github](https://github.com/jckantor/cbe61622.git).*\n"
   ]
  },
  {
   "cell_type": "markdown",
   "id": "98c22924",
   "metadata": {},
   "source": [
    "<!--NAVIGATION-->\n",
    "| [Contents](toc.html) | [2.0 Working with Particle](https://jckantor.github.io/cbe61622/02.00-Working_with_Particle.html) ><p><a href=\"https://colab.research.google.com/github/jckantor/cbe61622/blob/master/docs/01.00-CBE_61622.ipynb\"> <img align=\"left\" src=\"https://colab.research.google.com/assets/colab-badge.svg\" alt=\"Open in Colab\" title=\"Open in Google Colaboratory\"></a><p><a href=\"https://jckantor.github.io/cbe61622/01.00-CBE_61622.ipynb\"> <img align=\"left\" src=\"https://img.shields.io/badge/Github-Download-blue.svg\" alt=\"Download\" title=\"Download Notebook\"></a>"
   ]
  },
  {
   "cell_type": "markdown",
   "metadata": {
    "nbpages": {
     "level": 1,
     "link": "[1.0 CBE 61622](https://jckantor.github.io/cbe61622/01.00-CBE_61622.html#1.0-CBE-61622)",
     "section": "1.0 CBE 61622"
    }
   },
   "source": [
    "# 1.0 CBE 61622"
   ]
  },
  {
   "cell_type": "code",
   "execution_count": null,
   "metadata": {
    "nbpages": {
     "level": 1,
     "link": "[1.0 CBE 61622](https://jckantor.github.io/cbe61622/01.00-CBE_61622.html#1.0-CBE-61622)",
     "section": "1.0 CBE 61622"
    }
   },
   "outputs": [],
   "source": []
  },
  {
   "cell_type": "markdown",
   "id": "59a4ece8",
   "metadata": {},
   "source": [
    "<!--NAVIGATION-->\n",
    "| [Contents](toc.html) | [2.0 Working with Particle](https://jckantor.github.io/cbe61622/02.00-Working_with_Particle.html) ><p><a href=\"https://colab.research.google.com/github/jckantor/cbe61622/blob/master/docs/01.00-CBE_61622.ipynb\"> <img align=\"left\" src=\"https://colab.research.google.com/assets/colab-badge.svg\" alt=\"Open in Colab\" title=\"Open in Google Colaboratory\"></a><p><a href=\"https://jckantor.github.io/cbe61622/01.00-CBE_61622.ipynb\"> <img align=\"left\" src=\"https://img.shields.io/badge/Github-Download-blue.svg\" alt=\"Download\" title=\"Download Notebook\"></a>"
   ]
  }
 ],
 "metadata": {
  "kernelspec": {
   "display_name": "Python 3 (ipykernel)",
   "language": "python",
   "name": "python3"
  },
  "language_info": {
   "codemirror_mode": {
    "name": "ipython",
    "version": 3
   },
   "file_extension": ".py",
   "mimetype": "text/x-python",
   "name": "python",
   "nbconvert_exporter": "python",
   "pygments_lexer": "ipython3",
   "version": "3.8.5"
  }
 },
 "nbformat": 4,
 "nbformat_minor": 4
}
