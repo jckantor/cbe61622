{
 "cells": [
  {
   "cell_type": "markdown",
   "id": "4b763e75",
   "metadata": {},
   "source": [
    "<!--NOTEBOOK_HEADER-->\n",
    "*This notebook contains material from [cbe61622](https://jckantor.github.io/cbe61622);\n",
    "content is available [on Github](https://github.com/jckantor/cbe61622.git).*\n"
   ]
  },
  {
   "cell_type": "markdown",
   "id": "75bd2a91",
   "metadata": {},
   "source": [
    "<!--NAVIGATION-->\n",
    "< [9.2 Stepper Motor Control via I2C](https://jckantor.github.io/cbe61622/09.02-Stepper_Motor_Control_via_I2C.html) | [Contents](toc.html) | [10.10 Computer Vision Case Study: Introduction](https://jckantor.github.io/cbe61622/10.10-Computer-Vision-Introduction.html) ><p><a href=\"https://colab.research.google.com/github/jckantor/cbe61622/blob/master/docs/10.00-Projects.ipynb\"> <img align=\"left\" src=\"https://colab.research.google.com/assets/colab-badge.svg\" alt=\"Open in Colab\" title=\"Open in Google Colaboratory\"></a><p><a href=\"https://jckantor.github.io/cbe61622/10.00-Projects.ipynb\"> <img align=\"left\" src=\"https://img.shields.io/badge/Github-Download-blue.svg\" alt=\"Download\" title=\"Download Notebook\"></a>"
   ]
  },
  {
   "cell_type": "markdown",
   "metadata": {
    "nbpages": {
     "level": 1,
     "link": "[10.0 Projects](https://jckantor.github.io/cbe61622/10.00-Projects.html#10.0-Projects)",
     "section": "10.0 Projects"
    }
   },
   "source": [
    "# 10.0 Projects"
   ]
  },
  {
   "cell_type": "code",
   "execution_count": null,
   "metadata": {
    "nbpages": {
     "level": 1,
     "link": "[10.0 Projects](https://jckantor.github.io/cbe61622/10.00-Projects.html#10.0-Projects)",
     "section": "10.0 Projects"
    }
   },
   "outputs": [],
   "source": []
  },
  {
   "cell_type": "markdown",
   "id": "cbe3d2c3",
   "metadata": {},
   "source": [
    "<!--NAVIGATION-->\n",
    "< [9.2 Stepper Motor Control via I2C](https://jckantor.github.io/cbe61622/09.02-Stepper_Motor_Control_via_I2C.html) | [Contents](toc.html) | [10.10 Computer Vision Case Study: Introduction](https://jckantor.github.io/cbe61622/10.10-Computer-Vision-Introduction.html) ><p><a href=\"https://colab.research.google.com/github/jckantor/cbe61622/blob/master/docs/10.00-Projects.ipynb\"> <img align=\"left\" src=\"https://colab.research.google.com/assets/colab-badge.svg\" alt=\"Open in Colab\" title=\"Open in Google Colaboratory\"></a><p><a href=\"https://jckantor.github.io/cbe61622/10.00-Projects.ipynb\"> <img align=\"left\" src=\"https://img.shields.io/badge/Github-Download-blue.svg\" alt=\"Download\" title=\"Download Notebook\"></a>"
   ]
  }
 ],
 "metadata": {
  "kernelspec": {
   "display_name": "Python 3 (ipykernel)",
   "language": "python",
   "name": "python3"
  },
  "language_info": {
   "codemirror_mode": {
    "name": "ipython",
    "version": 3
   },
   "file_extension": ".py",
   "mimetype": "text/x-python",
   "name": "python",
   "nbconvert_exporter": "python",
   "pygments_lexer": "ipython3",
   "version": "3.8.12"
  }
 },
 "nbformat": 4,
 "nbformat_minor": 4
}
