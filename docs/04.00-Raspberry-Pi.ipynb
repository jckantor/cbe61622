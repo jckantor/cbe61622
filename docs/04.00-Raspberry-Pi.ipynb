{
 "cells": [
  {
   "cell_type": "markdown",
   "id": "c350565b",
   "metadata": {},
   "source": [
    "<!--NOTEBOOK_HEADER-->\n",
    "*This notebook contains material from [cbe61622](https://jckantor.github.io/cbe61622);\n",
    "content is available [on Github](https://github.com/jckantor/cbe61622.git).*\n"
   ]
  },
  {
   "cell_type": "markdown",
   "id": "38d19f55",
   "metadata": {},
   "source": [
    "<!--NAVIGATION-->\n",
    "< [3.12 Sampling Continuous Time Signals](https://jckantor.github.io/cbe61622/03.12-Sampling-Continuous-Time-Signals.html) | [Contents](toc.html) | [4.1 Setting up the Raspberry Pi for Lab Use](https://jckantor.github.io/cbe61622/04.01-Raspberry-Pi.html) ><p><a href=\"https://colab.research.google.com/github/jckantor/cbe61622/blob/master/docs/04.00-Raspberry-Pi.ipynb\"> <img align=\"left\" src=\"https://colab.research.google.com/assets/colab-badge.svg\" alt=\"Open in Colab\" title=\"Open in Google Colaboratory\"></a><p><a href=\"https://jckantor.github.io/cbe61622/04.00-Raspberry-Pi.ipynb\"> <img align=\"left\" src=\"https://img.shields.io/badge/Github-Download-blue.svg\" alt=\"Download\" title=\"Download Notebook\"></a>"
   ]
  },
  {
   "cell_type": "markdown",
   "id": "a241691e-34f7-4135-815f-379c8f9712b8",
   "metadata": {
    "nbpages": {
     "level": 1,
     "link": "[4.0 Raspberry Pi](https://jckantor.github.io/cbe61622/04.00-Raspberry-Pi.html#4.0-Raspberry-Pi)",
     "section": "4.0 Raspberry Pi"
    }
   },
   "source": [
    "# 4.0 Raspberry Pi"
   ]
  },
  {
   "cell_type": "code",
   "execution_count": null,
   "id": "1c94fb69-29a5-4486-946b-e2808b91ca08",
   "metadata": {
    "nbpages": {
     "level": 1,
     "link": "[4.0 Raspberry Pi](https://jckantor.github.io/cbe61622/04.00-Raspberry-Pi.html#4.0-Raspberry-Pi)",
     "section": "4.0 Raspberry Pi"
    }
   },
   "outputs": [],
   "source": []
  },
  {
   "cell_type": "markdown",
   "id": "7756ed25",
   "metadata": {},
   "source": [
    "<!--NAVIGATION-->\n",
    "< [3.12 Sampling Continuous Time Signals](https://jckantor.github.io/cbe61622/03.12-Sampling-Continuous-Time-Signals.html) | [Contents](toc.html) | [4.1 Setting up the Raspberry Pi for Lab Use](https://jckantor.github.io/cbe61622/04.01-Raspberry-Pi.html) ><p><a href=\"https://colab.research.google.com/github/jckantor/cbe61622/blob/master/docs/04.00-Raspberry-Pi.ipynb\"> <img align=\"left\" src=\"https://colab.research.google.com/assets/colab-badge.svg\" alt=\"Open in Colab\" title=\"Open in Google Colaboratory\"></a><p><a href=\"https://jckantor.github.io/cbe61622/04.00-Raspberry-Pi.ipynb\"> <img align=\"left\" src=\"https://img.shields.io/badge/Github-Download-blue.svg\" alt=\"Download\" title=\"Download Notebook\"></a>"
   ]
  }
 ],
 "metadata": {
  "kernelspec": {
   "display_name": "Python 3 (ipykernel)",
   "language": "python",
   "name": "python3"
  },
  "language_info": {
   "codemirror_mode": {
    "name": "ipython",
    "version": 3
   },
   "file_extension": ".py",
   "mimetype": "text/x-python",
   "name": "python",
   "nbconvert_exporter": "python",
   "pygments_lexer": "ipython3",
   "version": "3.8.12"
  }
 },
 "nbformat": 4,
 "nbformat_minor": 5
}
