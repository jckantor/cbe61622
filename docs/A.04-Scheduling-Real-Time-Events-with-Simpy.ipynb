{
 "cells": [
  {
   "cell_type": "markdown",
   "id": "b3faee17",
   "metadata": {},
   "source": [
    "<!--NOTEBOOK_HEADER-->\n",
    "*This notebook contains material from [cbe61622](https://jckantor.github.io/cbe61622);\n",
    "content is available [on Github](https://github.com/jckantor/cbe61622.git).*\n"
   ]
  },
  {
   "cell_type": "markdown",
   "id": "23e28a61",
   "metadata": {},
   "source": [
    "<!--NAVIGATION-->\n",
    "< [A.3 Getting Started with Pymata4](https://jckantor.github.io/cbe61622/A.03-Getting-Started-with-Pymata4.html) | [Contents](toc.html) | [B.0 Setup Procedures](https://jckantor.github.io/cbe61622/B.00-Setup-Procedures.html) ><p><a href=\"https://colab.research.google.com/github/jckantor/cbe61622/blob/master/docs/A.04-Scheduling-Real-Time-Events-with-Simpy.ipynb\"> <img align=\"left\" src=\"https://colab.research.google.com/assets/colab-badge.svg\" alt=\"Open in Colab\" title=\"Open in Google Colaboratory\"></a><p><a href=\"https://jckantor.github.io/cbe61622/A.04-Scheduling-Real-Time-Events-with-Simpy.ipynb\"> <img align=\"left\" src=\"https://img.shields.io/badge/Github-Download-blue.svg\" alt=\"Download\" title=\"Download Notebook\"></a>"
   ]
  },
  {
   "cell_type": "markdown",
   "metadata": {
    "nbpages": {
     "level": 1,
     "link": "[A.4 Scheduling Real-Time Events with Simpy](https://jckantor.github.io/cbe61622/A.04-Scheduling-Real-Time-Events-with-Simpy.html#A.4-Scheduling-Real-Time-Events-with-Simpy)",
     "section": "A.4 Scheduling Real-Time Events with Simpy"
    }
   },
   "source": [
    "# A.4 Scheduling Real-Time Events with Simpy\n",
    "\n",
    "[Simpy](https://simpy.readthedocs.io/en/latest/index.html) is a Python package for discrete-event simulation in Python. Simpy includes a provision for [real-time simulation](https://simpy.readthedocs.io/en/latest/topical_guides/real-time-simulations.html) which provides an potentially useful tool for coding laboratory experiments with complex scheduling requirements. \n",
    "\n",
    "Keep in mind that Python is not a designed for real-time use, and Simpy should not be trusted for applications requiring time accuracy tighter than, say, 100ms. Futher, it is not an asynchronous implementation, so your interpreter will be blocked during the course of the experiment. But for quick-and-dirty applications with modest performance requirements, Simpy real-time may be a simple solution."
   ]
  },
  {
   "cell_type": "code",
   "execution_count": 4,
   "metadata": {
    "nbpages": {
     "level": 1,
     "link": "[A.4 Scheduling Real-Time Events with Simpy](https://jckantor.github.io/cbe61622/A.04-Scheduling-Real-Time-Events-with-Simpy.html#A.4-Scheduling-Real-Time-Events-with-Simpy)",
     "section": "A.4 Scheduling Real-Time Events with Simpy"
    }
   },
   "outputs": [
    {
     "name": "stdout",
     "output_type": "stream",
     "text": [
      "Requirement already satisfied: simpy in /Users/jeff/opt/anaconda3/lib/python3.8/site-packages (4.0.1)\n"
     ]
    }
   ],
   "source": [
    "!pip install simpy"
   ]
  },
  {
   "cell_type": "markdown",
   "metadata": {
    "nbpages": {
     "level": 2,
     "link": "[A.4.1 Blinkers](https://jckantor.github.io/cbe61622/A.04-Scheduling-Real-Time-Events-with-Simpy.html#A.4.1-Blinkers)",
     "section": "A.4.1 Blinkers"
    }
   },
   "source": [
    "## A.4.1 Blinkers"
   ]
  },
  {
   "cell_type": "code",
   "execution_count": 5,
   "metadata": {
    "nbpages": {
     "level": 2,
     "link": "[A.4.1 Blinkers](https://jckantor.github.io/cbe61622/A.04-Scheduling-Real-Time-Events-with-Simpy.html#A.4.1-Blinkers)",
     "section": "A.4.1 Blinkers"
    }
   },
   "outputs": [
    {
     "name": "stdout",
     "output_type": "stream",
     "text": [
      "pymata4:  Version 1.10\n",
      "\n",
      "Copyright (c) 2020 Alan Yorinks All Rights Reserved.\n",
      "\n",
      "Opening all potential serial ports...\n",
      "\t/dev/cu.usbmodem14301\n",
      "\n",
      "Waiting 4 seconds(arduino_wait) for Arduino devices to reset...\n",
      "\n",
      "Searching for an Arduino configured with an arduino_instance = 1\n",
      "Arduino compatible device found and connected to /dev/cu.usbmodem14301\n",
      "\n",
      "Retrieving Arduino Firmware ID...\n",
      "Arduino Firmware ID: 2.5 StandardFirmata.ino\n",
      "\n",
      "Retrieving analog map...\n",
      "Auto-discovery complete. Found 30 Digital Pins and 12 Analog Pins\n",
      "\n",
      "\n",
      "led 13  on at 0.001\n",
      "led  9  on at 0.001\n",
      "led 13 off at 1.203\n",
      "led  9 off at 1.405\n",
      "led 13  on at 2.001\n",
      "led  9  on at 2.002\n",
      "led 13 off at 3.204\n",
      "led  9 off at 3.407\n",
      "led 13  on at 4.004\n",
      "led  9  on at 4.004\n",
      "led 13 off at 5.206\n",
      "led  9 off at 5.410\n",
      "led 13  on at 6.002\n",
      "led  9  on at 6.002\n",
      "led 13 off at 7.207\n",
      "led  9 off at 7.411\n",
      "led 13  on at 8.002\n",
      "led  9  on at 8.002\n",
      "led 13 off at 9.200\n",
      "led  9 off at 9.402\n",
      "led 13  on at 10.000\n",
      "led  9  on at 10.000\n",
      "led 13 off at 11.202\n",
      "led  9 off at 11.407\n",
      "led 13  on at 12.004\n",
      "led  9  on at 12.004\n",
      "led 13 off at 13.203\n",
      "led  9 off at 13.403\n",
      "led 13  on at 14.003\n",
      "led  9  on at 14.003\n",
      "led 13 off at 15.200\n",
      "led  9 off at 15.402\n",
      "led 13  on at 16.003\n",
      "led  9  on at 16.004\n",
      "led 13 off at 17.204\n",
      "led  9 off at 17.407\n",
      "led 13  on at 18.001\n",
      "led  9  on at 18.001\n",
      "led 13 off at 19.205\n",
      "led  9 off at 19.407\n"
     ]
    }
   ],
   "source": [
    "from pymata4 import pymata4\n",
    "import simpy.rt\n",
    "import time\n",
    "\n",
    "led0 = 13\n",
    "led1 = 9\n",
    "\n",
    "def blinker(env, board, pin, period):\n",
    "    board.set_pin_mode_digital_output(pin)\n",
    "    while True:\n",
    "        board.digital_write(pin, 1)\n",
    "        end = time.perf_counter()\n",
    "        print(f\"led {pin:2d}  on at {end-start:5.3f}\")\n",
    "        yield env.timeout(period/2)\n",
    "        board.digital_write(pin, 0)\n",
    "        end = time.perf_counter()\n",
    "        print(f\"led {pin:2d} off at {end-start:5.3f}\")\n",
    "        yield env.timeout(period/2)\n",
    "\n",
    "board = pymata4.Pymata4()\n",
    "\n",
    "env = simpy.rt.RealtimeEnvironment()\n",
    "env.process(blinker(env, board, led0, 2.0))\n",
    "env.process(blinker(env, board, led1, 2.0))\n",
    "start = time.perf_counter()\n",
    "env.run(until=20)\n",
    "board.shutdown()"
   ]
  },
  {
   "cell_type": "markdown",
   "metadata": {
    "nbpages": {
     "level": 2,
     "link": "[A.4.2 Asyncio](https://jckantor.github.io/cbe61622/A.04-Scheduling-Real-Time-Events-with-Simpy.html#A.4.2-Asyncio)",
     "section": "A.4.2 Asyncio"
    }
   },
   "source": [
    "## A.4.2 Asyncio"
   ]
  },
  {
   "cell_type": "code",
   "execution_count": 25,
   "metadata": {
    "nbpages": {
     "level": 2,
     "link": "[A.4.2 Asyncio](https://jckantor.github.io/cbe61622/A.04-Scheduling-Real-Time-Events-with-Simpy.html#A.4.2-Asyncio)",
     "section": "A.4.2 Asyncio"
    }
   },
   "outputs": [
    {
     "name": "stdout",
     "output_type": "stream",
     "text": [
      "pymata4:  Version 1.10\n",
      "\n",
      "Copyright (c) 2020 Alan Yorinks All Rights Reserved.\n",
      "\n",
      "Opening all potential serial ports...\n",
      "\t/dev/cu.usbmodem14301\n",
      "\n",
      "Waiting 4 seconds(arduino_wait) for Arduino devices to reset...\n",
      "\n",
      "Searching for an Arduino configured with an arduino_instance = 1\n",
      "Arduino compatible device found and connected to /dev/cu.usbmodem14301\n",
      "\n",
      "Retrieving Arduino Firmware ID...\n",
      "Arduino Firmware ID: 2.5 StandardFirmata.ino\n",
      "\n",
      "Retrieving analog map...\n",
      "Auto-discovery complete. Found 30 Digital Pins and 12 Analog Pins\n",
      "\n",
      "\n",
      "led 13  on at 0.04\n",
      "led  9  on at 0.05\n",
      "led  9 off at 0.98\n",
      "led 13 off at 1.03\n",
      "led  9  on at 1.97\n",
      "led 13  on at 2.02\n",
      "led 13 off at 3.05\n",
      "led  9 off at 3.09\n",
      "led  9  on at 4.05\n",
      "led 13  on at 4.11\n",
      "led 13 off at 5.0\n",
      "led  9 off at 5.06\n",
      "led  9  on at 6.03\n",
      "led 13  on at 6.1\n",
      "led 13 off at 7.0\n",
      "led  9 off at 7.08\n",
      "led  9  on at 8.0\n",
      "led 13  on at 8.08\n",
      "led 13 off at 8.97\n",
      "led  9 off at 9.01\n",
      "led  9  on at 10.01\n",
      "led 13  on at 10.11\n",
      "led 13 off at 11.01\n",
      "led  9 off at 11.1\n",
      "led  9  on at 11.95\n",
      "led 13  on at 12.03\n",
      "led 13 off at 12.99\n",
      "led  9 off at 13.12\n",
      "led  9  on at 13.98\n",
      "led 13  on at 13.99\n",
      "led  9 off at 15.01\n",
      "led 13 off at 15.06\n",
      "led 13  on at 16.02\n",
      "led  9  on at 16.1\n",
      "led  9 off at 16.98\n",
      "led 13 off at 17.0\n",
      "led 13  on at 17.99\n",
      "led  9  on at 18.04\n",
      "led  9 off at 19.01\n",
      "led 13 off at 19.08\n",
      "led 13  on at 19.99\n",
      "led 13 off at 20.99\n"
     ]
    }
   ],
   "source": [
    "import asyncio\n",
    "from pymata4 import pymata4\n",
    "import time\n",
    "\n",
    "led0 = 13\n",
    "led1 = 9\n",
    "\n",
    "async def blinker(board, pin, period, start):\n",
    "    board.set_pin_mode_digital_output(pin)\n",
    "    while time.perf_counter() < start + 20:\n",
    "        board.digital_write(pin, 1)\n",
    "        print(f\"led {pin:2d}  on at {round(time.perf_counter()-start, 2)}\")\n",
    "        k = round((time.perf_counter() - start)/(period/2))\n",
    "        dt = (k+1)*period/2 - (time.perf_counter() - start)\n",
    "        await asyncio.sleep(dt-0.05)\n",
    "        board.digital_write(pin, 0)\n",
    "        print(f\"led {pin:2d} off at {round(time.perf_counter()-start, 2)}\")\n",
    "        k = round((time.perf_counter() - start)/(period/2))\n",
    "        dt = (k+1)*period/2 - (time.perf_counter() - start)\n",
    "        await asyncio.sleep(dt-0.05)\n",
    "\n",
    "board = pymata4.Pymata4()\n",
    "\n",
    "async def expt():\n",
    "    start = time.perf_counter()\n",
    "    coroutines = [\n",
    "        blinker(board, led0, 2.0, start),\n",
    "        blinker(board, led1, 2.0, start)\n",
    "    ]\n",
    "    await asyncio.gather(*coroutines)\n",
    "    \n",
    "await expt()\n",
    "board.shutdown()"
   ]
  },
  {
   "cell_type": "code",
   "execution_count": null,
   "metadata": {
    "nbpages": {
     "level": 2,
     "link": "[A.4.2 Asyncio](https://jckantor.github.io/cbe61622/A.04-Scheduling-Real-Time-Events-with-Simpy.html#A.4.2-Asyncio)",
     "section": "A.4.2 Asyncio"
    }
   },
   "outputs": [],
   "source": []
  },
  {
   "cell_type": "markdown",
   "id": "a4f5b0a0",
   "metadata": {},
   "source": [
    "<!--NAVIGATION-->\n",
    "< [A.3 Getting Started with Pymata4](https://jckantor.github.io/cbe61622/A.03-Getting-Started-with-Pymata4.html) | [Contents](toc.html) | [B.0 Setup Procedures](https://jckantor.github.io/cbe61622/B.00-Setup-Procedures.html) ><p><a href=\"https://colab.research.google.com/github/jckantor/cbe61622/blob/master/docs/A.04-Scheduling-Real-Time-Events-with-Simpy.ipynb\"> <img align=\"left\" src=\"https://colab.research.google.com/assets/colab-badge.svg\" alt=\"Open in Colab\" title=\"Open in Google Colaboratory\"></a><p><a href=\"https://jckantor.github.io/cbe61622/A.04-Scheduling-Real-Time-Events-with-Simpy.ipynb\"> <img align=\"left\" src=\"https://img.shields.io/badge/Github-Download-blue.svg\" alt=\"Download\" title=\"Download Notebook\"></a>"
   ]
  }
 ],
 "metadata": {
  "kernelspec": {
   "display_name": "Python 3",
   "language": "python",
   "name": "python3"
  },
  "language_info": {
   "codemirror_mode": {
    "name": "ipython",
    "version": 3
   },
   "file_extension": ".py",
   "mimetype": "text/x-python",
   "name": "python",
   "nbconvert_exporter": "python",
   "pygments_lexer": "ipython3",
   "version": "3.8.5"
  }
 },
 "nbformat": 4,
 "nbformat_minor": 4
}
