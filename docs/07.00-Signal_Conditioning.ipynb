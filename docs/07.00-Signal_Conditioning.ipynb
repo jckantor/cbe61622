{
 "cells": [
  {
   "cell_type": "markdown",
   "id": "094416a2",
   "metadata": {},
   "source": [
    "<!--NOTEBOOK_HEADER-->\n",
    "*This notebook contains material from [cbe61622](https://jckantor.github.io/cbe61622);\n",
    "content is available [on Github](https://github.com/jckantor/cbe61622.git).*\n"
   ]
  },
  {
   "cell_type": "markdown",
   "id": "60a4fc54",
   "metadata": {},
   "source": [
    "<!--NAVIGATION-->\n",
    "< [6.3 Accessing MQTT Devices](https://jckantor.github.io/cbe61622/06.03-Miscellaneous_Notes.html) | [Contents](toc.html) | [7.1 Basics of Linear DC Circuits](https://jckantor.github.io/cbe61622/07.01-Linear-DC-Circuits.html) ><p><a href=\"https://colab.research.google.com/github/jckantor/cbe61622/blob/master/docs/07.00-Signal_Conditioning.ipynb\"> <img align=\"left\" src=\"https://colab.research.google.com/assets/colab-badge.svg\" alt=\"Open in Colab\" title=\"Open in Google Colaboratory\"></a><p><a href=\"https://jckantor.github.io/cbe61622/07.00-Signal_Conditioning.ipynb\"> <img align=\"left\" src=\"https://img.shields.io/badge/Github-Download-blue.svg\" alt=\"Download\" title=\"Download Notebook\"></a>"
   ]
  },
  {
   "cell_type": "markdown",
   "metadata": {
    "nbpages": {
     "level": 1,
     "link": "[7.0 Signal Conditioning](https://jckantor.github.io/cbe61622/07.00-Signal_Conditioning.html#7.0-Signal-Conditioning)",
     "section": "7.0 Signal Conditioning"
    }
   },
   "source": [
    "# 7.0 Signal Conditioning"
   ]
  },
  {
   "cell_type": "markdown",
   "metadata": {
    "nbpages": {
     "level": 1,
     "link": "[7.0 Signal Conditioning](https://jckantor.github.io/cbe61622/07.00-Signal_Conditioning.html#7.0-Signal-Conditioning)",
     "section": "7.0 Signal Conditioning"
    }
   },
   "source": [
    "Topics\n",
    "\n",
    "* Basic Circuits\n",
    "\n",
    "* Op Amps\n",
    "\n",
    "* Soures of Noise\n",
    "    * Shot noise\n",
    "    * Johnson/Nyquist noise\n",
    "        * Capacitance noise\n",
    "    * 1/f noise\n",
    "    * Experiment: Measure noise in an MEMS sensor (3-axis acc.)\n",
    "    * Experiment: Measure elecrochemical noise of solution\n",
    "    * Experiment: Meauure noise in an image sensor (IR sensor?)\n",
    "    \n",
    "\n",
    "    \n"
   ]
  },
  {
   "cell_type": "code",
   "execution_count": null,
   "metadata": {
    "nbpages": {
     "level": 1,
     "link": "[7.0 Signal Conditioning](https://jckantor.github.io/cbe61622/07.00-Signal_Conditioning.html#7.0-Signal-Conditioning)",
     "section": "7.0 Signal Conditioning"
    }
   },
   "outputs": [],
   "source": []
  },
  {
   "cell_type": "markdown",
   "id": "2b851f55",
   "metadata": {},
   "source": [
    "<!--NAVIGATION-->\n",
    "< [6.3 Accessing MQTT Devices](https://jckantor.github.io/cbe61622/06.03-Miscellaneous_Notes.html) | [Contents](toc.html) | [7.1 Basics of Linear DC Circuits](https://jckantor.github.io/cbe61622/07.01-Linear-DC-Circuits.html) ><p><a href=\"https://colab.research.google.com/github/jckantor/cbe61622/blob/master/docs/07.00-Signal_Conditioning.ipynb\"> <img align=\"left\" src=\"https://colab.research.google.com/assets/colab-badge.svg\" alt=\"Open in Colab\" title=\"Open in Google Colaboratory\"></a><p><a href=\"https://jckantor.github.io/cbe61622/07.00-Signal_Conditioning.ipynb\"> <img align=\"left\" src=\"https://img.shields.io/badge/Github-Download-blue.svg\" alt=\"Download\" title=\"Download Notebook\"></a>"
   ]
  }
 ],
 "metadata": {
  "kernelspec": {
   "display_name": "Python 3 (ipykernel)",
   "language": "python",
   "name": "python3"
  },
  "language_info": {
   "codemirror_mode": {
    "name": "ipython",
    "version": 3
   },
   "file_extension": ".py",
   "mimetype": "text/x-python",
   "name": "python",
   "nbconvert_exporter": "python",
   "pygments_lexer": "ipython3",
   "version": "3.8.5"
  }
 },
 "nbformat": 4,
 "nbformat_minor": 4
}
