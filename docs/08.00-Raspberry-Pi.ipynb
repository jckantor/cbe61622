{
 "cells": [
  {
   "cell_type": "markdown",
   "id": "77d15d95",
   "metadata": {},
   "source": [
    "<!--NOTEBOOK_HEADER-->\n",
    "*This notebook contains material from [cbe61622](https://jckantor.github.io/cbe61622);\n",
    "content is available [on Github](https://github.com/jckantor/cbe61622.git).*\n"
   ]
  },
  {
   "cell_type": "markdown",
   "id": "e1dea3f0",
   "metadata": {},
   "source": [
    "<!--NAVIGATION-->\n",
    "< [7.3 Wifi](https://jckantor.github.io/cbe61622/07.03-Wifi-with-ESP-01.html) | [Contents](toc.html) | [8.1 Setting up the Raspberry Pi for Lab Use](https://jckantor.github.io/cbe61622/08.01-Raspberry-Pi-Setup.html) ><p><a href=\"https://colab.research.google.com/github/jckantor/cbe61622/blob/master/docs/08.00-Raspberry-Pi.ipynb\"> <img align=\"left\" src=\"https://colab.research.google.com/assets/colab-badge.svg\" alt=\"Open in Colab\" title=\"Open in Google Colaboratory\"></a><p><a href=\"https://jckantor.github.io/cbe61622/08.00-Raspberry-Pi.ipynb\"> <img align=\"left\" src=\"https://img.shields.io/badge/Github-Download-blue.svg\" alt=\"Download\" title=\"Download Notebook\"></a>"
   ]
  },
  {
   "cell_type": "markdown",
   "id": "a241691e-34f7-4135-815f-379c8f9712b8",
   "metadata": {
    "nbpages": {
     "level": 1,
     "link": "[8.0 Raspberry Pi](https://jckantor.github.io/cbe61622/08.00-Raspberry-Pi.html#8.0-Raspberry-Pi)",
     "section": "8.0 Raspberry Pi"
    }
   },
   "source": [
    "# 8.0 Raspberry Pi"
   ]
  },
  {
   "cell_type": "markdown",
   "id": "bed52d19-3143-4a4e-ace7-d730e39e6fdd",
   "metadata": {
    "nbpages": {
     "level": 2,
     "link": "[8.0.1 Hardware](https://jckantor.github.io/cbe61622/08.00-Raspberry-Pi.html#8.0.1-Hardware)",
     "section": "8.0.1 Hardware"
    }
   },
   "source": [
    "## 8.0.1 Hardware\n",
    "\n",
    "* Raspberry Pi 4B\n",
    "* 32GB microSD card\n",
    "\n",
    "* Raspberry Pi Power Supply\n",
    "* Raspberry Pi 7\" Touch Screen\n",
    "* Raspberry Pi Keyboard and Mouse\n",
    "* SmartiPi Touch Pro\n",
    "\n",
    "Follow setup instructions. Use default configurations of Raspbian for user name `pi`. Choose password carefully and keep it on file for use in the laboratory."
   ]
  },
  {
   "cell_type": "markdown",
   "id": "c658dc42",
   "metadata": {},
   "source": [
    "<!--NAVIGATION-->\n",
    "< [7.3 Wifi](https://jckantor.github.io/cbe61622/07.03-Wifi-with-ESP-01.html) | [Contents](toc.html) | [8.1 Setting up the Raspberry Pi for Lab Use](https://jckantor.github.io/cbe61622/08.01-Raspberry-Pi-Setup.html) ><p><a href=\"https://colab.research.google.com/github/jckantor/cbe61622/blob/master/docs/08.00-Raspberry-Pi.ipynb\"> <img align=\"left\" src=\"https://colab.research.google.com/assets/colab-badge.svg\" alt=\"Open in Colab\" title=\"Open in Google Colaboratory\"></a><p><a href=\"https://jckantor.github.io/cbe61622/08.00-Raspberry-Pi.ipynb\"> <img align=\"left\" src=\"https://img.shields.io/badge/Github-Download-blue.svg\" alt=\"Download\" title=\"Download Notebook\"></a>"
   ]
  }
 ],
 "metadata": {
  "kernelspec": {
   "display_name": "Python 3 (ipykernel)",
   "language": "python",
   "name": "python3"
  },
  "language_info": {
   "codemirror_mode": {
    "name": "ipython",
    "version": 3
   },
   "file_extension": ".py",
   "mimetype": "text/x-python",
   "name": "python",
   "nbconvert_exporter": "python",
   "pygments_lexer": "ipython3",
   "version": "3.8.12"
  }
 },
 "nbformat": 4,
 "nbformat_minor": 5
}
