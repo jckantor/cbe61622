{
 "cells": [
  {
   "cell_type": "markdown",
   "id": "b8dd5838",
   "metadata": {},
   "source": [
    "<!--NOTEBOOK_HEADER-->\n",
    "*This notebook contains material from [cbe61622](https://jckantor.github.io/cbe61622);\n",
    "content is available [on Github](https://github.com/jckantor/cbe61622.git).*\n"
   ]
  },
  {
   "cell_type": "markdown",
   "id": "b13e96c9",
   "metadata": {},
   "source": [
    "<!--NAVIGATION-->\n",
    "< [8.2 Image Capture](https://jckantor.github.io/cbe61622/08.02-rpi-image-capture.html) | [Contents](toc.html) | [8.4 RPI Library tests](https://jckantor.github.io/cbe61622/08.04-rpi-test-libraries.html) ><p><a href=\"https://colab.research.google.com/github/jckantor/cbe61622/blob/master/docs/08.03-Machine-Vision.ipynb\"> <img align=\"left\" src=\"https://colab.research.google.com/assets/colab-badge.svg\" alt=\"Open in Colab\" title=\"Open in Google Colaboratory\"></a><p><a href=\"https://jckantor.github.io/cbe61622/08.03-Machine-Vision.ipynb\"> <img align=\"left\" src=\"https://img.shields.io/badge/Github-Download-blue.svg\" alt=\"Download\" title=\"Download Notebook\"></a>"
   ]
  },
  {
   "cell_type": "markdown",
   "id": "a88d7ed7-3429-44ca-aafa-7ef809ae9a45",
   "metadata": {
    "nbpages": {
     "level": 1,
     "link": "[8.3 Machine Vision Applications](https://jckantor.github.io/cbe61622/08.03-Machine-Vision.html#8.3-Machine-Vision-Applications)",
     "section": "8.3 Machine Vision Applications"
    }
   },
   "source": [
    "# 8.3 Machine Vision Applications\n",
    "\n",
    "Examples of Machine Vision Requirements\n",
    "\n",
    "* Visualize droplets ranging in size from 10 to 100 microns.\n",
    "* Visualize a field with 1 million drops\n",
    "* Classify 10 micron particles\n",
    "\n",
    "Questions\n",
    "\n",
    "* Are the particles in motion?\n",
    "* How much time is available to capture the image?\n",
    "* Do we need a CFA or could a monochrome camera with filters be used?\n",
    "* Depth of field? Are the particles in a plane?\n",
    "* How are the illuminated?\n",
    "* What working distances?\n",
    "* Any mounting or geometrical constraints?"
   ]
  },
  {
   "cell_type": "code",
   "execution_count": 22,
   "id": "623cd205-48eb-4f4d-ac6f-666cd62c81e3",
   "metadata": {
    "nbpages": {
     "level": 1,
     "link": "[8.3 Machine Vision Applications](https://jckantor.github.io/cbe61622/08.03-Machine-Vision.html#8.3-Machine-Vision-Applications)",
     "section": "8.3 Machine Vision Applications"
    }
   },
   "outputs": [
    {
     "name": "stdout",
     "output_type": "stream",
     "text": [
      "Field size = 2500.0000000000005 mm**2\n",
      "Field width =  50.00000000000001 mm\n"
     ]
    }
   ],
   "source": [
    "import math\n",
    "\n",
    "d = 0.05 # mm\n",
    "object_area = d*d*1000000\n",
    "print(\"Field size =\", object_area, \"mm**2\")\n",
    "print(\"Field width = \", math.sqrt(object_area), \"mm\")"
   ]
  },
  {
   "cell_type": "markdown",
   "id": "5bb64b99-3d2f-439c-b654-f0c545ab26bd",
   "metadata": {
    "nbpages": {
     "level": 2,
     "link": "[8.3.1 Lenses](https://jckantor.github.io/cbe61622/08.03-Machine-Vision.html#8.3.1-Lenses)",
     "section": "8.3.1 Lenses"
    }
   },
   "source": [
    "## 8.3.1 Lenses"
   ]
  },
  {
   "cell_type": "markdown",
   "id": "d40249d1-e6a3-413a-87aa-243c05600b14",
   "metadata": {
    "nbpages": {
     "level": 3,
     "link": "[8.3.1.1 Fixed focal length lenses](https://jckantor.github.io/cbe61622/08.03-Machine-Vision.html#8.3.1.1-Fixed-focal-length-lenses)",
     "section": "8.3.1.1 Fixed focal length lenses"
    }
   },
   "source": [
    "### 8.3.1.1 Fixed focal length lenses\n",
    "\n",
    "* [Arducam](https://www.arducam.com/best-m12-c-cs-mount-lenses/)\n",
    "* [Raspberry Pi 16mm](https://www.adafruit.com/product/4562)\n",
    "\n",
    "A 16mm lens on a 2/3\" sensor has a 30 degree angle of view, and a typical minimum object distance of 20cm which is an object field about 11cm in diameter. This is too large for the application.\n",
    "\n",
    "![](https://cdn-shop.adafruit.com/970x728/4562-00.jpg)\n",
    "\n",
    "A 2/3\" sensor has a diagonal of 7.85mm. An object field of 2cm corresponds to a magnification of 0.4x. A magnification range of 1.0x to 0.3x would seem about right."
   ]
  },
  {
   "cell_type": "markdown",
   "id": "2ae15cb6-38b1-49ff-9dff-472a2540dd21",
   "metadata": {
    "nbpages": {
     "level": 3,
     "link": "[8.3.1.2 Macro and Variable Magnification Lenses](https://jckantor.github.io/cbe61622/08.03-Machine-Vision.html#8.3.1.2-Macro-and-Variable-Magnification-Lenses)",
     "section": "8.3.1.2 Macro and Variable Magnification Lenses"
    }
   },
   "source": [
    "### 8.3.1.2 Macro and Variable Magnification Lenses\n",
    "\n",
    "* [Edmund Infiniprobe 0-3.2x](https://www.edmundoptics.com/p/infiniprobe-s-32-video-microscope-0-32x/15606/)\n",
    "\n"
   ]
  },
  {
   "cell_type": "markdown",
   "id": "ee766438-895f-45bc-b25a-c021c00b10a7",
   "metadata": {
    "nbpages": {
     "level": 3,
     "link": "[8.3.1.3 Telecentric Lenses](https://jckantor.github.io/cbe61622/08.03-Machine-Vision.html#8.3.1.3-Telecentric-Lenses)",
     "section": "8.3.1.3 Telecentric Lenses"
    }
   },
   "source": [
    "### 8.3.1.3 Telecentric Lenses\n",
    "\n",
    "Tutorials and general information:\n",
    "\n",
    "* [EO Imaging Lab 2.2: Telecentricity](https://www.youtube.com/watch?v=O-NeZcmYyJ4&ab_channel=EdmundOptics) Edmund Optics video explaining telecentricity and applications to machine vision.\n",
    "* [Thorlabs Tutorial](https://www.thorlabs.com/newgrouppage9.cfm?objectgroup_id=10762)\n",
    "\n",
    "Illumination:\n",
    "\n",
    "Sources:\n",
    "\n",
    "* [Edmund Optical](https://www.edmundoptics.com/c/telecentric-lenses/1003/)\n",
    "* [B&H](https://www.bhphotovideo.com/c/buy/telecentric-lenses/ci/34857/N/3564657627)\n",
    "\n",
    "\n",
    "Sample Calculations"
   ]
  },
  {
   "cell_type": "code",
   "execution_count": 16,
   "id": "839f54b8-b49a-4d74-810a-e9f435c9252c",
   "metadata": {
    "nbpages": {
     "level": 3,
     "link": "[8.3.1.3 Telecentric Lenses](https://jckantor.github.io/cbe61622/08.03-Machine-Vision.html#8.3.1.3-Telecentric-Lenses)",
     "section": "8.3.1.3 Telecentric Lenses"
    }
   },
   "outputs": [
    {
     "name": "stdout",
     "output_type": "stream",
     "text": [
      "6.2868 4.712 7.857\n",
      "15.0 11.24260355029586 18.746\n",
      "0.42\n"
     ]
    }
   ],
   "source": [
    "import numpy as np\n",
    "import math\n",
    "\n",
    "# Sony IMX477 sensor\n",
    "\n",
    "pixel_size = 1.55  # microns\n",
    "h_pixels = 4056.\n",
    "v_pixels = 3040.\n",
    "\n",
    "h_mm = h_pixels*pixel_size/1000.\n",
    "v_mm = v_pixels*pixel_size/1000.\n",
    "d_mm = round(math.sqrt(h_mm**2 + v_mm**2), 3)\n",
    "\n",
    "print(h_mm, v_mm, d_mm)\n",
    "\n",
    "# Field of View\n",
    "\n",
    "h_fov = 15.0 \n",
    "v_fov = (v_pixels/h_pixels)*h_fov\n",
    "d_fov = round(math.sqrt(h_fov**2 + v_fov**2), 3)\n",
    "\n",
    "print(h_fov, v_fov, d_fov)\n",
    "\n",
    "# magnification\n",
    "mag =  round(d_mm/d_fov, 2)\n",
    "print(mag)"
   ]
  },
  {
   "cell_type": "markdown",
   "id": "f10a6f1e-08b8-4bdf-ab97-e2d32a1a2762",
   "metadata": {
    "nbpages": {
     "level": 3,
     "link": "[8.3.1.3 Telecentric Lenses](https://jckantor.github.io/cbe61622/08.03-Machine-Vision.html#8.3.1.3-Telecentric-Lenses)",
     "section": "8.3.1.3 Telecentric Lenses"
    }
   },
   "source": [
    "* https://www.edmundoptics.com/p/05x-23-c-mount-platinumtltrade-telecentric-lens/17562/\n",
    "\n",
    "![](https://productimages.edmundoptics.com/3613.jpg?w=225&quality=100&ver=637710189070260316)\n",
    "\n",
    "33.5mm tube diameter\n",
    "50.0mm max external diameter"
   ]
  },
  {
   "cell_type": "markdown",
   "id": "46e09f16-8eba-463c-a361-6f8d607af782",
   "metadata": {
    "nbpages": {
     "level": 2,
     "link": "[8.3.2 Sensing Design](https://jckantor.github.io/cbe61622/08.03-Machine-Vision.html#8.3.2-Sensing-Design)",
     "section": "8.3.2 Sensing Design"
    }
   },
   "source": [
    "## 8.3.2 Sensing Design"
   ]
  },
  {
   "cell_type": "markdown",
   "id": "8b11e8a6-63b3-4ca4-a880-8cc0e4a2b4ba",
   "metadata": {
    "nbpages": {
     "level": 3,
     "link": "[8.3.2.1 Raspberry Pi HQ Camera (Sony IMX477)](https://jckantor.github.io/cbe61622/08.03-Machine-Vision.html#8.3.2.1-Raspberry-Pi-HQ-Camera-(Sony-IMX477))",
     "section": "8.3.2.1 Raspberry Pi HQ Camera (Sony IMX477)"
    }
   },
   "source": [
    "### 8.3.2.1 Raspberry Pi HQ Camera (Sony IMX477)\n",
    "\n",
    "* [Waveshare](https://www.waveshare.com/raspberry-pi-hq-camera.htm)\n",
    "\n",
    "![Technical Drawing](https://www.waveshare.com/img/devkit/accBoard/Raspberry-Pi-HQ-Camera/Raspberry-Pi-HQ-Camera-details-15.jpg)"
   ]
  },
  {
   "cell_type": "markdown",
   "id": "905b816e-c724-41c7-8409-fd312554dde3",
   "metadata": {
    "nbpages": {
     "level": 3,
     "link": "[8.3.2.2 30mm Optical Cage](https://jckantor.github.io/cbe61622/08.03-Machine-Vision.html#8.3.2.2-30mm-Optical-Cage)",
     "section": "8.3.2.2 30mm Optical Cage"
    }
   },
   "source": [
    "### 8.3.2.2 30mm Optical Cage\n",
    "\n",
    "* [Thor Labs 30mm Cage Components](https://www.thorlabs.com/navigation.cfm?guide_id=2004)\n",
    "\n",
    "3D Printed Mounting plates\n",
    "\n",
    "* https://www.thorlabs.com/newgrouppage9.cfm?objectgroup_id=2273#2869\n",
    "* https://www.thorlabs.com/thorproduct.cfm?partnumber=CBB1\n"
   ]
  },
  {
   "cell_type": "markdown",
   "id": "d5072823-212c-40b3-a954-05bf874e0777",
   "metadata": {
    "nbpages": {
     "level": 3,
     "link": "[8.3.2.3 Arducam  ](https://jckantor.github.io/cbe61622/08.03-Machine-Vision.html#8.3.2.3-Arducam)",
     "section": "8.3.2.3 Arducam  "
    }
   },
   "source": [
    "### 8.3.2.3 Arducam  \n",
    "\n",
    "* [Sony IMX477](https://www.arducam.com/product-category/cameras-for-raspberrypi/raspberry-pi-camera-raspistill-raspvivid/raspberry-pi-high-quality-12mp-imx477-camera/) based camera modules."
   ]
  },
  {
   "cell_type": "markdown",
   "id": "7bee2e4c-a584-4619-9c8e-0ff48c599593",
   "metadata": {
    "nbpages": {
     "level": 3,
     "link": "[8.3.2.4 Picamera](https://jckantor.github.io/cbe61622/08.03-Machine-Vision.html#8.3.2.4-Picamera)",
     "section": "8.3.2.4 Picamera"
    }
   },
   "source": [
    "### 8.3.2.4 Picamera"
   ]
  },
  {
   "cell_type": "code",
   "execution_count": null,
   "id": "a6ad6113-142d-4911-bec3-e121b31ecfe3",
   "metadata": {
    "nbpages": {
     "level": 3,
     "link": "[8.3.2.4 Picamera](https://jckantor.github.io/cbe61622/08.03-Machine-Vision.html#8.3.2.4-Picamera)",
     "section": "8.3.2.4 Picamera"
    }
   },
   "outputs": [],
   "source": []
  },
  {
   "cell_type": "markdown",
   "id": "411d5f53",
   "metadata": {},
   "source": [
    "<!--NAVIGATION-->\n",
    "< [8.2 Image Capture](https://jckantor.github.io/cbe61622/08.02-rpi-image-capture.html) | [Contents](toc.html) | [8.4 RPI Library tests](https://jckantor.github.io/cbe61622/08.04-rpi-test-libraries.html) ><p><a href=\"https://colab.research.google.com/github/jckantor/cbe61622/blob/master/docs/08.03-Machine-Vision.ipynb\"> <img align=\"left\" src=\"https://colab.research.google.com/assets/colab-badge.svg\" alt=\"Open in Colab\" title=\"Open in Google Colaboratory\"></a><p><a href=\"https://jckantor.github.io/cbe61622/08.03-Machine-Vision.ipynb\"> <img align=\"left\" src=\"https://img.shields.io/badge/Github-Download-blue.svg\" alt=\"Download\" title=\"Download Notebook\"></a>"
   ]
  }
 ],
 "metadata": {
  "kernelspec": {
   "display_name": "Python 3 (ipykernel)",
   "language": "python",
   "name": "python3"
  },
  "language_info": {
   "codemirror_mode": {
    "name": "ipython",
    "version": 3
   },
   "file_extension": ".py",
   "mimetype": "text/x-python",
   "name": "python",
   "nbconvert_exporter": "python",
   "pygments_lexer": "ipython3",
   "version": "3.8.5"
  }
 },
 "nbformat": 4,
 "nbformat_minor": 5
}
