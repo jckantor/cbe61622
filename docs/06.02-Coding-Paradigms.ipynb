{
 "cells": [
  {
   "cell_type": "markdown",
   "id": "fd0dd73b",
   "metadata": {},
   "source": [
    "<!--NOTEBOOK_HEADER-->\n",
    "*This notebook contains material from [cbe61622](https://jckantor.github.io/cbe61622);\n",
    "content is available [on Github](https://github.com/jckantor/cbe61622.git).*\n"
   ]
  },
  {
   "cell_type": "markdown",
   "id": "37e56abe",
   "metadata": {},
   "source": [
    "<!--NAVIGATION-->\n",
    "< [6.1 Managing Multiple Devices with an Event Loop](https://jckantor.github.io/cbe61622/06.01-Simple_Event_Loop.html) | [Contents](toc.html) | [6.3 Coding Paradigms for Device Control](https://jckantor.github.io/cbe61622/06.03-Coding-Paradigms.html) ><p><a href=\"https://colab.research.google.com/github/jckantor/cbe61622/blob/master/docs/06.02-Coding-Paradigms.ipynb\"> <img align=\"left\" src=\"https://colab.research.google.com/assets/colab-badge.svg\" alt=\"Open in Colab\" title=\"Open in Google Colaboratory\"></a><p><a href=\"https://jckantor.github.io/cbe61622/06.02-Coding-Paradigms.ipynb\"> <img align=\"left\" src=\"https://img.shields.io/badge/Github-Download-blue.svg\" alt=\"Download\" title=\"Download Notebook\"></a>"
   ]
  },
  {
   "cell_type": "markdown",
   "id": "45d210eb-7479-4ee3-b5a5-3ea631bbcd37",
   "metadata": {
    "nbpages": {
     "level": 1,
     "link": "[6.2 Coding for Device Control](https://jckantor.github.io/cbe61622/06.02-Coding-Paradigms.html#6.2-Coding-for-Device-Control)",
     "section": "6.2 Coding for Device Control"
    }
   },
   "source": [
    "# 6.2 Coding for Device Control\n",
    "\n",
    "The goal of this notebook is to demonstrate coding practices that lead to "
   ]
  },
  {
   "cell_type": "code",
   "execution_count": 34,
   "id": "594db2ba-61c9-4e32-b571-8a7fcb680a40",
   "metadata": {
    "nbpages": {
     "level": 1,
     "link": "[6.2 Coding for Device Control](https://jckantor.github.io/cbe61622/06.02-Coding-Paradigms.html#6.2-Coding-for-Device-Control)",
     "section": "6.2 Coding for Device Control"
    }
   },
   "outputs": [
    {
     "name": "stdout",
     "output_type": "stream",
     "text": [
      "Found serial ports: /dev/cu.usbmodem14101, /dev/cu.Bluetooth-Incoming-Port \n",
      "\u001b[34mConnecting to --port=/dev/cu.usbmodem14101 --baud=115200 \u001b[0m\n",
      "\u001b[34mReady.\n",
      "\u001b[0m"
     ]
    }
   ],
   "source": [
    "%serialconnect"
   ]
  },
  {
   "cell_type": "markdown",
   "id": "459543b9-c24e-4ae7-91fe-0cf723b5f00f",
   "metadata": {
    "nbpages": {
     "level": 2,
     "link": "[6.2.1 The Coding Challenge](https://jckantor.github.io/cbe61622/06.02-Coding-Paradigms.html#6.2.1-The-Coding-Challenge)",
     "section": "6.2.1 The Coding Challenge"
    }
   },
   "source": [
    "## 6.2.1 The Coding Challenge\n",
    "\n",
    "PD control for a Ball on beam device. The device is to sense the position of a ball on a 50cm beam, compare to a setpoint, and adjust beam position with servo motor. The setpoint and control constant is to be given by the device user. Display all relevant data. Use a button to start and stop operation.\n",
    "\n",
    "Devices:\n",
    "\n",
    "* Distance sensor - sense ball position\n",
    "* Analog actuator - change beam angle\n",
    "* Analog sensor - proportional gain\n",
    "* Analog sensor - derivative time\n",
    "* Analog sensor - setpoint\n",
    "* Display - display position, angle\n",
    "* Display - display control parameters\n",
    "* Button - Start/Stop\n",
    "\n",
    "Create code to:\n",
    "\n",
    "* Measure the ball position\n",
    "* Perform an action in response to the analog signal\n",
    "* Display state on LCD\n",
    "* Use on-board LED to show operational status"
   ]
  },
  {
   "cell_type": "markdown",
   "id": "63c19406-7f7a-46d3-9122-e279fac19490",
   "metadata": {
    "nbpages": {
     "level": 2,
     "link": "[6.2.2 Coding Paradigms](https://jckantor.github.io/cbe61622/06.02-Coding-Paradigms.html#6.2.2-Coding-Paradigms)",
     "section": "6.2.2 Coding Paradigms"
    }
   },
   "source": [
    "## 6.2.2 Coding Paradigms\n",
    "\n",
    "* Single threaded, imperative coding\n",
    "\n",
    "* Python classes\n",
    "    * further modularizes coding\n",
    "    * data logging classes* Python classes\n",
    "    * further modularizes coding\n",
    "    * data logging classes\n",
    "    \n",
    "* Python generators\n",
    "    * separates event loop from device details\n",
    "    * modularizes the device coding\n",
    "    * each device can maintain a separate state\n",
    "\n",
    "* Asynchronous coding\n",
    "    * further abstraction the event loop\n",
    "    * non-blocking\n",
    "* multi-threading"
   ]
  },
  {
   "cell_type": "markdown",
   "id": "4dee46d6-1e28-4d3f-b6f6-eff59accf5a1",
   "metadata": {
    "nbpages": {
     "level": 2,
     "link": "[6.2.3 Single threaded, imperative coding](https://jckantor.github.io/cbe61622/06.02-Coding-Paradigms.html#6.2.3-Single-threaded,-imperative-coding)",
     "section": "6.2.3 Single threaded, imperative coding"
    }
   },
   "source": [
    "## 6.2.3 Single threaded, imperative coding"
   ]
  },
  {
   "cell_type": "code",
   "execution_count": 50,
   "id": "c807402f-f343-4634-b315-a2674998e756",
   "metadata": {
    "nbpages": {
     "level": 2,
     "link": "[6.2.3 Single threaded, imperative coding](https://jckantor.github.io/cbe61622/06.02-Coding-Paradigms.html#6.2.3-Single-threaded,-imperative-coding)",
     "section": "6.2.3 Single threaded, imperative coding"
    }
   },
   "outputs": [
    {
     "name": "stdout",
     "output_type": "stream",
     "text": [
      "50.86748 75.14153\n",
      "51.0872 75.0927\n",
      "50.94072 75.0927\n",
      "23.56451 75.38568\n",
      "22.61235 75.53216\n",
      "22.61235 75.48333\n",
      "22.46586 75.23918\n",
      "22.5391 75.72747\n",
      "22.58793 75.26361\n",
      "20.24415 75.19035\n",
      "90.01297 75.11711\n",
      "98.48631 74.82262\n",
      "100.0 74.74937\n",
      "72.52766 74.82262\n",
      "44.93324 75.11711\n",
      "13.38216 75.04387\n",
      "0.5859465 75.14153\n",
      "0.6103609 75.21477\n",
      "0.6103609 75.0927\n",
      "0.6347754 75.11711\n"
     ]
    }
   ],
   "source": [
    "from machine import Pin, ADC\n",
    "import time\n",
    "\n",
    "        \n"
   ]
  },
  {
   "cell_type": "code",
   "execution_count": null,
   "id": "262e7cd1-fe2e-495c-b12e-be3b8ac0a0c4",
   "metadata": {
    "nbpages": {
     "level": 2,
     "link": "[6.2.3 Single threaded, imperative coding](https://jckantor.github.io/cbe61622/06.02-Coding-Paradigms.html#6.2.3-Single-threaded,-imperative-coding)",
     "section": "6.2.3 Single threaded, imperative coding"
    }
   },
   "outputs": [
    {
     "name": "stdout",
     "output_type": "stream",
     "text": [
      "..."
     ]
    }
   ],
   "source": [
    "from machine import Pin, I2C, ADC, PWM\n",
    "import time\n",
    "from lcd1602 import LCD1602 as LCD\n",
    "\n",
    "class Knob(object):\n",
    "    def __init__(self, gpio):\n",
    "        self.gpio = gpio\n",
    "        self.adc = ADC(Pin(gpio))\n",
    "        \n",
    "    def value(self):\n",
    "        return 100*self.adc.read_u16()/65535\n",
    "\n",
    "\n",
    "## set up led\n",
    "led = Pin(25, Pin.OUT)\n",
    "\n",
    "## set up lcd display 0\n",
    "sda = Pin(8, Pin.OUT)\n",
    "scl = Pin(9, Pin.OUT)\n",
    "i2c0 = I2C(0, sda=sda, scl=scl)\n",
    "\n",
    "dsp0 = LCD(i2c0, 2, 16)\n",
    "dsp0.clear()\n",
    "dsp0.setCursor(0, 0)\n",
    "dsp0.print(\"Hello, World\")\n",
    "dsp0.setCursor(0, 1)\n",
    "dsp0.print(\"Display 0\")\n",
    "\n",
    "## set up lcd display 1\n",
    "sda = Pin(6, Pin.OUT)\n",
    "scl = Pin(7, Pin.OUT)\n",
    "i2c1 = I2C(1, sda=sda, scl=scl)\n",
    "\n",
    "dsp1 = LCD(i2c1, 2, 16)\n",
    "dsp1.clear()\n",
    "dsp1.setCursor(0, 0)\n",
    "dsp1.print(\"Hello, World\")\n",
    "dsp1.setCursor(0, 1)\n",
    "dsp1.print(\"Display 1\")\n",
    "\n",
    "## setup rotary angle sensors\n",
    "knob0 = Knob(26)\n",
    "knob1 = Knob(27)\n",
    "\n",
    "## setup ultra-sonic distance sensor on Pin 20\n",
    "dst = Pin(20)\n",
    "\n",
    "## set up servo motor\n",
    "pwm = PWM(Pin(16))\n",
    "pwm.freq(50)\n",
    "pwm.duty_ns(1000*1500)\n",
    "\n",
    "start = time.time()\n",
    "ball_position = 0\n",
    "\n",
    "while time.time() - start < 20:\n",
    "\n",
    "    # read distance\n",
    "    # send pulse\n",
    "    dst.init(Pin.OUT)\n",
    "    dst.value(0)\n",
    "    time.sleep_us(2)\n",
    "    dst.value(1)\n",
    "    time.sleep_us(10)\n",
    "    dst.value(0)\n",
    "    \n",
    "    # listen for response\n",
    "    dst.init(Pin.IN)\n",
    "    \n",
    "    # wait for on\n",
    "    t0 = time.ticks_us()\n",
    "    count = 0\n",
    "    while count < 10000:\n",
    "        if dst.value():\n",
    "            break\n",
    "        count += 1\n",
    "        \n",
    "    # wait for off\n",
    "    t1 = time.ticks_us()\n",
    "    count = 0\n",
    "    while count < 10000:\n",
    "        if not dst.value():\n",
    "            break\n",
    "        count += 1\n",
    "    \n",
    "    t2 = time.ticks_us()\n",
    "    \n",
    "    if t1 - t2 < 530:\n",
    "        ball_position = (t2 - t1) / 29 / 2\n",
    "        \n",
    "    # read analog sensor\n",
    "    ball_setpoint = 50*knob0.value()/100\n",
    "       \n",
    "    # display ball state\n",
    "    dsp0.clear()\n",
    "    dsp0.setCursor(0, 0)\n",
    "    dsp0.print(f\"SP = {ball_setpoint:0.2f} cm\")\n",
    "    dsp0.setCursor(0, 1)\n",
    "    dsp0.print(f\"PV = {ball_position}\")\n",
    "    \n",
    "    # measure control gain\n",
    "    Kp = knob1.value()\n",
    "    \n",
    "    # update servo\n",
    "    \n",
    "    # adjust servo\n",
    "    u = Kp*(ball_setpoint - ball_position)\n",
    "    dt_us = int(1500 + max(-1000, min(1000, u)))\n",
    "    pwm.duty_ns(1000*dt_us)\n",
    "    \n",
    "    # display controller state\n",
    "    dsp1.clear()\n",
    "    dsp1.setCursor(0, 0)\n",
    "    dsp1.print(f\"Kp = {Kp}\")\n",
    "    dsp1.setCursor(0, 1)\n",
    "    dsp1.print(f\"MV = {dt_us}\")\n",
    "    \n",
    "    time.sleep(0.1)\n",
    "    "
   ]
  },
  {
   "cell_type": "markdown",
   "id": "68914ed1-89f1-430d-9cdb-564bc1808849",
   "metadata": {
    "nbpages": {
     "level": 2,
     "link": "[6.2.4 Discuss](https://jckantor.github.io/cbe61622/06.02-Coding-Paradigms.html#6.2.4-Discuss)",
     "section": "6.2.4 Discuss"
    }
   },
   "source": [
    "## 6.2.4 Discuss\n",
    "\n",
    "* Does this code provide a working prototype?\n",
    "* Is this code maintaina"
   ]
  },
  {
   "cell_type": "markdown",
   "id": "2f5e9ca1",
   "metadata": {},
   "source": [
    "<!--NAVIGATION-->\n",
    "< [6.1 Managing Multiple Devices with an Event Loop](https://jckantor.github.io/cbe61622/06.01-Simple_Event_Loop.html) | [Contents](toc.html) | [6.3 Coding Paradigms for Device Control](https://jckantor.github.io/cbe61622/06.03-Coding-Paradigms.html) ><p><a href=\"https://colab.research.google.com/github/jckantor/cbe61622/blob/master/docs/06.02-Coding-Paradigms.ipynb\"> <img align=\"left\" src=\"https://colab.research.google.com/assets/colab-badge.svg\" alt=\"Open in Colab\" title=\"Open in Google Colaboratory\"></a><p><a href=\"https://jckantor.github.io/cbe61622/06.02-Coding-Paradigms.ipynb\"> <img align=\"left\" src=\"https://img.shields.io/badge/Github-Download-blue.svg\" alt=\"Download\" title=\"Download Notebook\"></a>"
   ]
  }
 ],
 "metadata": {
  "kernelspec": {
   "display_name": "MicroPython - USB",
   "language": "micropython",
   "name": "micropython"
  },
  "language_info": {
   "codemirror_mode": "python",
   "file_extension": ".py",
   "mimetype": "text/python",
   "name": "micropython"
  }
 },
 "nbformat": 4,
 "nbformat_minor": 5
}
