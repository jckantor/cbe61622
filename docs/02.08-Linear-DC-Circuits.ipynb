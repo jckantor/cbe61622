{
 "cells": [
  {
   "cell_type": "markdown",
   "id": "58c1f79d",
   "metadata": {},
   "source": [
    "<!--NOTEBOOK_HEADER-->\n",
    "*This notebook contains material from [cbe61622](https://jckantor.github.io/cbe61622);\n",
    "content is available [on Github](https://github.com/jckantor/cbe61622.git).*\n"
   ]
  },
  {
   "cell_type": "markdown",
   "id": "fcde7453",
   "metadata": {},
   "source": [
    "<!--NAVIGATION-->\n",
    "< [2.0 Analog Circuits and Signals](https://jckantor.github.io/cbe61622/02.00-Analog-Circuits-and-Signals.html) | [Contents](toc.html) | [2.10 Operational Amplifiers](https://jckantor.github.io/cbe61622/02.10-Operational-Amplifiers.html) ><p><a href=\"https://colab.research.google.com/github/jckantor/cbe61622/blob/master/docs/02.08-Linear-DC-Circuits.ipynb\"> <img align=\"left\" src=\"https://colab.research.google.com/assets/colab-badge.svg\" alt=\"Open in Colab\" title=\"Open in Google Colaboratory\"></a><p><a href=\"https://jckantor.github.io/cbe61622/02.08-Linear-DC-Circuits.ipynb\"> <img align=\"left\" src=\"https://img.shields.io/badge/Github-Download-blue.svg\" alt=\"Download\" title=\"Download Notebook\"></a>"
   ]
  },
  {
   "cell_type": "markdown",
   "metadata": {
    "nbpages": {
     "level": 1,
     "link": "[2.8 Basics of Linear DC Circuits](https://jckantor.github.io/cbe61622/02.08-Linear-DC-Circuits.html#2.8-Basics-of-Linear-DC-Circuits)",
     "section": "2.8 Basics of Linear DC Circuits"
    }
   },
   "source": [
    "# 2.8 Basics of Linear DC Circuits"
   ]
  },
  {
   "cell_type": "markdown",
   "metadata": {
    "nbpages": {
     "level": 2,
     "link": "[2.8.1 Dimensions and Units](https://jckantor.github.io/cbe61622/02.08-Linear-DC-Circuits.html#2.8.1-Dimensions-and-Units)",
     "section": "2.8.1 Dimensions and Units"
    }
   },
   "source": [
    "## 2.8.1 Dimensions and Units\n",
    "\n",
    "* **Ampere (A)** In November 2018, several of the SI base units were redefined in terms that finally eliminated the use of artifacts. In the new system, the Ampere is the flow of one Coulomb $C$ per second, where the numerical value of elementary charge $e$ of an electron is fixed as $1.602176634 \\times 10 ^{-19}$C\n",
    "\n",
    "* **Volt (V)** An electric field exerts force on an electric charge, therefore work is being done when a current passes through an electric field. Volts measure the magnitude of an electric field such that one volt is the potential field that produces 1 Watt of power for an electric current of 1 Ampere.\n",
    "\n",
    "* **Power (P)** Power, measued in units of Watts, is the amount of work done per unit time. By definition of Volt, \n",
    "\n",
    "$$ P = V \\times I $$\n",
    "\n",
    "\n"
   ]
  },
  {
   "cell_type": "markdown",
   "metadata": {
    "nbpages": {
     "level": 2,
     "link": "[2.8.2 Kirchhoff's rules](https://jckantor.github.io/cbe61622/02.08-Linear-DC-Circuits.html#2.8.2-Kirchhoff's-rules)",
     "section": "2.8.2 Kirchhoff's rules"
    }
   },
   "source": [
    "## 2.8.2 Kirchhoff's rules\n",
    "\n",
    "The circuits used in laboratory instrumentation are comprised of lumped elements such as conductors, resistors, capacitors, inductors, and various semiconductor components. Kirchhoff's rules are the foundation of circuit analysis for lumped elements. There are two basic rules:\n",
    "\n",
    "* **Kirchhoff's current rule.** Given a node in a circuit, the algebraic sum of currents is zero. That is,\n",
    "$$\\sum_{n=1}^N I_n = 0$$\n",
    "where $I_n$ is the signed (i.e., positive or negative) current in the $n^{th}$ branch of the node.\n",
    "\n",
    "* **Kirchoff's voltage rule.** The sum of potential differences is zero around any closed loop. That is\n",
    "$$\\sum_{n=1}^NV_n = 0$$\n",
    "where $V_n$ is the signed (i.e, positive or negative) potential difference across each device in the closed loop.\n",
    "\n",
    "These rules are the foundation for circuit analysis, but do depend on several key assumptions that do not hold in for all laboratory situations. In particular, these rules assume a circuit can be modeled as lumped elements that do not interact through electric or magnetic fields. These assumptions may be violated, for example, in high frequency transmission lines where charge density may be oscillating, or where there is significant interaction of electrical or magnetic fields with the surrounding environment. Since these types of interactions can occur in a laboratory setting, one needs to be aware of the limits of basic circuit analysis."
   ]
  },
  {
   "cell_type": "markdown",
   "metadata": {
    "nbpages": {
     "level": 2,
     "link": "[2.8.3 Ohm's law](https://jckantor.github.io/cbe61622/02.08-Linear-DC-Circuits.html#2.8.3-Ohm's-law)",
     "section": "2.8.3 Ohm's law"
    },
    "slideshow": {
     "slide_type": "slide"
    },
    "tags": []
   },
   "source": [
    "## 2.8.3 Ohm's law\n",
    "\n",
    "Ohm's law is a linear consituitive equation describing the relationship between current density $\\bf j$, electric field $\\bf e$, and magnetic flux density $\\bf b$ for a bulk conductors. In vector notation\n",
    "\n",
    "$${\\bf j} = \\sigma({\\bf e} + {\\bf v}\\times {\\bf b}) + {\\bf j}_s$$\n",
    "\n",
    "where $\\bf v$ is velocity and ${\\bf j}_s$ is any current source imposed independently of an electromagnetic field. In this case $\\sigma$ is a conductivity tensor for anisotropic materials.\n",
    "\n",
    "For isotopic conductors where there is no motion relative to a magnetic field, and no other current flux imposed independently of an electric field, Ohm's law simplifies to the scalar equation\n",
    "\n",
    "$${j} = \\sigma {e}$$\n",
    "\n",
    "where the parameter $\\sigma$ is a scalar conductivity measured in units of Siemens/meter (S/m), $e$ is electric field measured in volts/meter, and $j$ is current density measured in Amperes per square meter. The resistivity $\\rho$ of the material is\n",
    "\n",
    "$$\\rho = \\frac{1}{\\sigma}$$\n",
    "\n",
    "which has units of ohms per meters.\n",
    "\n",
    "![](https://upload.wikimedia.org/wikipedia/commons/6/68/Resistivity_geometry.png)\n",
    "<a href=\"https://commons.wikimedia.org/w/index.php?curid=1699802\">Link</a></p>\n",
    "\n",
    "When working with electronic components we are working with specimens of a particular material. \n",
    "For a device with cross-sectional area $A$ and length $l$, the resistance of the specimen is given by Pouillet's law\n",
    "\n",
    "$$R = \\rho \\frac{l}{A}$$\n",
    "\n",
    "which has units of $ohms$. Defining current as $I = j A$ and electric field as $e = V/l$ results in Ohm's law as it is commonly encountered in electronic circuit analysis.\n",
    "\n",
    "$$V = I \\times R$$\n",
    "\n"
   ]
  },
  {
   "cell_type": "markdown",
   "metadata": {
    "nbpages": {
     "level": 2,
     "link": "[2.8.4 Ideal Voltage and Current Sources](https://jckantor.github.io/cbe61622/02.08-Linear-DC-Circuits.html#2.8.4-Ideal-Voltage-and-Current-Sources)",
     "section": "2.8.4 Ideal Voltage and Current Sources"
    },
    "slideshow": {
     "slide_type": "slide"
    },
    "tags": []
   },
   "source": [
    "## 2.8.4 Ideal Voltage and Current Sources\n",
    "\n",
    "An **ideal voltage source** is a device that maintains a fixed voltage regardless of the current required by the load. \n",
    "\n",
    "![](https://upload.wikimedia.org/wikipedia/commons/thumb/a/a0/Ohms_law_voltage_source.svg/200px-Ohms_law_voltage_source.svg.png)\n",
    "\n",
    "Given $V$ and $R$, the current flow $I = V/R$, and power is $P = V I = V^2/R$. Obviously this idealization breaks down in the limit $R = 0$ which would require an infinite and therefore infeasible amount of current.\n",
    "\n",
    "An **ideal current source** is a device providing a fixed current regardless of the load or resistance imposed on the source.  \n",
    "\n",
    "![](https://upload.wikimedia.org/wikipedia/commons/thumb/b/bd/Ohms_law_current_source.svg/200px-Ohms_law_current_source.svg.png)\n",
    "\n",
    "Given $I$ and $R$, the voltage is $V = I R$ and power is $P = V I = I^2 R$. This idealization breaks down in the limit $R = \\infty$ which would require infinite voltage to impose a finite current.\n",
    "\n",
    "Most common power supplies are set up as voltage sources with some sort of current limit."
   ]
  },
  {
   "cell_type": "markdown",
   "metadata": {
    "nbpages": {
     "level": 2,
     "link": "[2.8.5 Resistor Networks](https://jckantor.github.io/cbe61622/02.08-Linear-DC-Circuits.html#2.8.5-Resistor-Networks)",
     "section": "2.8.5 Resistor Networks"
    }
   },
   "source": [
    "## 2.8.5 Resistor Networks\n",
    "\n",
    "Systems comprised of interconnected resistors can be analyzed using the Kirchhoff circuit laws."
   ]
  },
  {
   "cell_type": "markdown",
   "metadata": {
    "nbpages": {
     "level": 3,
     "link": "[2.8.5.1 Voltage Divider](https://jckantor.github.io/cbe61622/02.08-Linear-DC-Circuits.html#2.8.5.1-Voltage-Divider)",
     "section": "2.8.5.1 Voltage Divider"
    }
   },
   "source": [
    "### 2.8.5.1 Voltage Divider\n",
    "\n",
    "![](https://upload.wikimedia.org/wikipedia/commons/thumb/2/21/Resistive_divider2.svg/200px-Resistive_divider2.svg.png)\n",
    "\n",
    "\\begin{align*}\n",
    "V_{in} & = V_1 + V_2  \\\\\n",
    "& = I R_1 + I R_2 \\\\\n",
    "\\end{align*}\n",
    "\n",
    "$$\\implies I = \\frac{V_{in}}{R_1 + R_2}$$\n",
    "$$V_{out} = \\frac{R_1}{R_1 + R_2} V_{in}$$"
   ]
  },
  {
   "cell_type": "markdown",
   "metadata": {
    "nbpages": {
     "level": 2,
     "link": "[2.8.6 Capacitors](https://jckantor.github.io/cbe61622/02.08-Linear-DC-Circuits.html#2.8.6-Capacitors)",
     "section": "2.8.6 Capacitors"
    }
   },
   "source": [
    "## 2.8.6 Capacitors\n",
    "\n",
    "An ideal capacitor \n",
    "\n",
    "$$ I = C \\frac{dV}{dt}$$\n",
    "\n",
    "where $C$ is capacitance measured in Farads. A current of 1 ampere would produce a 1 volt/sec increase in voltage for a 1 Farad capacitor.  1 Farad is a lot of capacitance!\n",
    "\n",
    "Alternatively,\n",
    "\n",
    "$$V(t) = V_0 + \\frac{1}{C} \\int_0^t I(t') dt'$$\n",
    "\n",
    "From this we see that a capacitor stores charge. The voltage increases as more charge is stored. The units of farads are coulombs per volt. \n",
    "\n",
    "Using Laplace transforms with zero initial conditions,\n",
    "\n",
    "$$\\bar{V}(s) = \\frac{1}{C s} \\bar{I}(s)$$\n",
    "\n",
    "Drawing a parallel with Ohm's law, we see that $\\frac{1}{Cs}$ is the complex impedence of a capacitor.\n"
   ]
  },
  {
   "cell_type": "markdown",
   "metadata": {
    "nbpages": {
     "level": 2,
     "link": "[2.8.7 Inductors](https://jckantor.github.io/cbe61622/02.08-Linear-DC-Circuits.html#2.8.7-Inductors)",
     "section": "2.8.7 Inductors"
    }
   },
   "source": [
    "## 2.8.7 Inductors\n",
    "\n",
    "An ideal inductor creates a counter potential as a result of increasing current. \n",
    "\n",
    "$$ V = - L \\frac{dI}{dt} $$\n",
    "\n",
    "In a qualititative sense, an inductor resists a change in current. The work being done on the inductor to move current through the device is being stored in the magnetic field. The energy stored in the electric field is returned to the circuit when vol\n",
    "\n",
    "$$ \\bar{V}(s) = - \\frac{L}{s} \\bar{I}(s)$$"
   ]
  },
  {
   "cell_type": "code",
   "execution_count": null,
   "metadata": {
    "nbpages": {
     "level": 2,
     "link": "[2.8.7 Inductors](https://jckantor.github.io/cbe61622/02.08-Linear-DC-Circuits.html#2.8.7-Inductors)",
     "section": "2.8.7 Inductors"
    }
   },
   "outputs": [],
   "source": []
  },
  {
   "cell_type": "markdown",
   "id": "6bc83094",
   "metadata": {},
   "source": [
    "<!--NAVIGATION-->\n",
    "< [2.0 Analog Circuits and Signals](https://jckantor.github.io/cbe61622/02.00-Analog-Circuits-and-Signals.html) | [Contents](toc.html) | [2.10 Operational Amplifiers](https://jckantor.github.io/cbe61622/02.10-Operational-Amplifiers.html) ><p><a href=\"https://colab.research.google.com/github/jckantor/cbe61622/blob/master/docs/02.08-Linear-DC-Circuits.ipynb\"> <img align=\"left\" src=\"https://colab.research.google.com/assets/colab-badge.svg\" alt=\"Open in Colab\" title=\"Open in Google Colaboratory\"></a><p><a href=\"https://jckantor.github.io/cbe61622/02.08-Linear-DC-Circuits.ipynb\"> <img align=\"left\" src=\"https://img.shields.io/badge/Github-Download-blue.svg\" alt=\"Download\" title=\"Download Notebook\"></a>"
   ]
  }
 ],
 "metadata": {
  "kernelspec": {
   "display_name": "Python 3 (ipykernel)",
   "language": "python",
   "name": "python3"
  },
  "language_info": {
   "codemirror_mode": {
    "name": "ipython",
    "version": 3
   },
   "file_extension": ".py",
   "mimetype": "text/x-python",
   "name": "python",
   "nbconvert_exporter": "python",
   "pygments_lexer": "ipython3",
   "version": "3.8.12"
  }
 },
 "nbformat": 4,
 "nbformat_minor": 4
}
