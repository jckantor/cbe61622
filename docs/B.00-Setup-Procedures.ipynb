{
 "cells": [
  {
   "cell_type": "markdown",
   "id": "9e75470b",
   "metadata": {},
   "source": [
    "<!--NOTEBOOK_HEADER-->\n",
    "*This notebook contains material from [cbe61622](https://jckantor.github.io/cbe61622);\n",
    "content is available [on Github](https://github.com/jckantor/cbe61622.git).*\n"
   ]
  },
  {
   "cell_type": "markdown",
   "id": "5f8306a7",
   "metadata": {},
   "source": [
    "<!--NAVIGATION-->\n",
    "< [A.4 Scheduling Real-Time Events with Simpy](https://jckantor.github.io/cbe61622/A.04-Scheduling-Real-Time-Events-with-Simpy.html) | [Contents](toc.html) | [B.1 Configuring a Workstation](https://jckantor.github.io/cbe61622/B.01-Configuring-a-Workstation.html) ><p><a href=\"https://colab.research.google.com/github/jckantor/cbe61622/blob/master/docs/B.00-Setup-Procedures.ipynb\"> <img align=\"left\" src=\"https://colab.research.google.com/assets/colab-badge.svg\" alt=\"Open in Colab\" title=\"Open in Google Colaboratory\"></a><p><a href=\"https://jckantor.github.io/cbe61622/B.00-Setup-Procedures.ipynb\"> <img align=\"left\" src=\"https://img.shields.io/badge/Github-Download-blue.svg\" alt=\"Download\" title=\"Download Notebook\"></a>"
   ]
  },
  {
   "cell_type": "markdown",
   "metadata": {
    "nbpages": {
     "level": 1,
     "link": "[B.0 Setup Procedures](https://jckantor.github.io/cbe61622/B.00-Setup-Procedures.html#B.0-Setup-Procedures)",
     "section": "B.0 Setup Procedures"
    }
   },
   "source": [
    "# B.0 Setup Procedures"
   ]
  },
  {
   "cell_type": "code",
   "execution_count": null,
   "metadata": {
    "nbpages": {
     "level": 1,
     "link": "[B.0 Setup Procedures](https://jckantor.github.io/cbe61622/B.00-Setup-Procedures.html#B.0-Setup-Procedures)",
     "section": "B.0 Setup Procedures"
    }
   },
   "outputs": [],
   "source": []
  },
  {
   "cell_type": "markdown",
   "id": "d937609b",
   "metadata": {},
   "source": [
    "<!--NAVIGATION-->\n",
    "< [A.4 Scheduling Real-Time Events with Simpy](https://jckantor.github.io/cbe61622/A.04-Scheduling-Real-Time-Events-with-Simpy.html) | [Contents](toc.html) | [B.1 Configuring a Workstation](https://jckantor.github.io/cbe61622/B.01-Configuring-a-Workstation.html) ><p><a href=\"https://colab.research.google.com/github/jckantor/cbe61622/blob/master/docs/B.00-Setup-Procedures.ipynb\"> <img align=\"left\" src=\"https://colab.research.google.com/assets/colab-badge.svg\" alt=\"Open in Colab\" title=\"Open in Google Colaboratory\"></a><p><a href=\"https://jckantor.github.io/cbe61622/B.00-Setup-Procedures.ipynb\"> <img align=\"left\" src=\"https://img.shields.io/badge/Github-Download-blue.svg\" alt=\"Download\" title=\"Download Notebook\"></a>"
   ]
  }
 ],
 "metadata": {
  "kernelspec": {
   "display_name": "Python 3",
   "language": "python",
   "name": "python3"
  },
  "language_info": {
   "codemirror_mode": {
    "name": "ipython",
    "version": 3
   },
   "file_extension": ".py",
   "mimetype": "text/x-python",
   "name": "python",
   "nbconvert_exporter": "python",
   "pygments_lexer": "ipython3",
   "version": "3.8.5"
  }
 },
 "nbformat": 4,
 "nbformat_minor": 4
}
