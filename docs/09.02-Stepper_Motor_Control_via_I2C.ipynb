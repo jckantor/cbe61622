{
 "cells": [
  {
   "cell_type": "markdown",
   "id": "9a6b2313",
   "metadata": {},
   "source": [
    "<!--NOTEBOOK_HEADER-->\n",
    "*This notebook contains material from [cbe61622](https://jckantor.github.io/cbe61622);\n",
    "content is available [on Github](https://github.com/jckantor/cbe61622.git).*\n"
   ]
  },
  {
   "cell_type": "markdown",
   "id": "9c15b4e2",
   "metadata": {},
   "source": [
    "<!--NAVIGATION-->\n",
    "< [9.1 Communicating via TCP](https://jckantor.github.io/cbe61622/09.01-Communicating _via_TCP.html) | [Contents](toc.html) | [10.0 Projects](https://jckantor.github.io/cbe61622/10.00-Projects.html) ><p><a href=\"https://colab.research.google.com/github/jckantor/cbe61622/blob/master/docs/09.02-Stepper_Motor_Control_via_I2C.ipynb\"> <img align=\"left\" src=\"https://colab.research.google.com/assets/colab-badge.svg\" alt=\"Open in Colab\" title=\"Open in Google Colaboratory\"></a><p><a href=\"https://jckantor.github.io/cbe61622/09.02-Stepper_Motor_Control_via_I2C.ipynb\"> <img align=\"left\" src=\"https://img.shields.io/badge/Github-Download-blue.svg\" alt=\"Download\" title=\"Download Notebook\"></a>"
   ]
  },
  {
   "cell_type": "markdown",
   "metadata": {
    "id": "2eIn0fxRERLC",
    "nbpages": {
     "level": 1,
     "link": "[9.2 Stepper Motor Control via I2C](https://jckantor.github.io/cbe61622/09.02-Stepper_Motor_Control_via_I2C.html#9.2-Stepper-Motor-Control-via-I2C)",
     "section": "9.2 Stepper Motor Control via I2C"
    }
   },
   "source": [
    "# 9.2 Stepper Motor Control via I2C\n"
   ]
  },
  {
   "cell_type": "markdown",
   "metadata": {
    "id": "aMCK4cZkEZ_3",
    "nbpages": {
     "level": 2,
     "link": "[9.2.1 Particle CLI](https://jckantor.github.io/cbe61622/09.02-Stepper_Motor_Control_via_I2C.html#9.2.1-Particle-CLI)",
     "section": "9.2.1 Particle CLI"
    }
   },
   "source": [
    "## 9.2.1 Particle CLI"
   ]
  },
  {
   "cell_type": "markdown",
   "metadata": {
    "id": "I8T4ooaP_Th3",
    "nbpages": {
     "level": 3,
     "link": "[9.2.1.1 Installation](https://jckantor.github.io/cbe61622/09.02-Stepper_Motor_Control_via_I2C.html#9.2.1.1-Installation)",
     "section": "9.2.1.1 Installation"
    }
   },
   "source": [
    "### 9.2.1.1 Installation"
   ]
  },
  {
   "cell_type": "code",
   "execution_count": 1,
   "metadata": {
    "executionInfo": {
     "elapsed": 46277,
     "status": "ok",
     "timestamp": 1603901452667,
     "user": {
      "displayName": "Jeffrey Kantor",
      "photoUrl": "https://lh3.googleusercontent.com/a-/AOh14Gg_n8V7bVINy02QRuRgOoMo11Ri7NKU3OUKdC1bkQ=s64",
      "userId": "09038942003589296665"
     },
     "user_tz": 240
    },
    "id": "U9qOi8Rdyzwx",
    "nbpages": {
     "level": 3,
     "link": "[9.2.1.1 Installation](https://jckantor.github.io/cbe61622/09.02-Stepper_Motor_Control_via_I2C.html#9.2.1.1-Installation)",
     "section": "9.2.1.1 Installation"
    }
   },
   "outputs": [],
   "source": [
    "%%capture\n",
    "!bash <( curl -sL https://particle.io/install-cli )\n",
    "\n",
    "# path to the particle cli. May be environment dependent.\n",
    "particle_cli = \"/root/bin/particle\""
   ]
  },
  {
   "cell_type": "markdown",
   "metadata": {
    "id": "X21Hmxnb_J8B",
    "nbpages": {
     "level": 3,
     "link": "[9.2.1.2 Utility functions](https://jckantor.github.io/cbe61622/09.02-Stepper_Motor_Control_via_I2C.html#9.2.1.2-Utility-functions)",
     "section": "9.2.1.2 Utility functions"
    }
   },
   "source": [
    "### 9.2.1.2 Utility functions"
   ]
  },
  {
   "cell_type": "code",
   "execution_count": 2,
   "metadata": {
    "executionInfo": {
     "elapsed": 27066,
     "status": "ok",
     "timestamp": 1603901452672,
     "user": {
      "displayName": "Jeffrey Kantor",
      "photoUrl": "https://lh3.googleusercontent.com/a-/AOh14Gg_n8V7bVINy02QRuRgOoMo11Ri7NKU3OUKdC1bkQ=s64",
      "userId": "09038942003589296665"
     },
     "user_tz": 240
    },
    "id": "IVNRmKaglmkp",
    "nbpages": {
     "level": 3,
     "link": "[9.2.1.2 Utility functions](https://jckantor.github.io/cbe61622/09.02-Stepper_Motor_Control_via_I2C.html#9.2.1.2-Utility-functions)",
     "section": "9.2.1.2 Utility functions"
    }
   },
   "outputs": [],
   "source": [
    "import re\n",
    "import subprocess\n",
    "\n",
    "# regular expression to strip ansi control characters\n",
    "ansi = re.compile(r'\\x1B(?:[@-Z\\\\-_]|\\[[0-?]*[ -/]*[@-~])')\n",
    "\n",
    "# decode byte string and strip ansi control characters\n",
    "def decode_bytes(byte_string):\n",
    "    if isinstance(byte_string, bytes):\n",
    "        result = byte_string.decode(\"utf-8\")\n",
    "    return ansi.sub(\"\", result)\n",
    "\n",
    "# streamline call to the particle-cli\n",
    "def particle(args):\n",
    "    process = subprocess.run([\"/root/bin/particle\"] + args,\n",
    "                             stdout=subprocess.PIPE,\n",
    "                             stderr=subprocess.PIPE)\n",
    "    process.stdout = decode_bytes(process.stdout)\n",
    "    process.stderr = decode_bytes(process.stderr)\n",
    "    return process"
   ]
  },
  {
   "cell_type": "markdown",
   "metadata": {
    "id": "RyR318S-FEOT",
    "nbpages": {
     "level": 3,
     "link": "[9.2.1.3 Login to Particle](https://jckantor.github.io/cbe61622/09.02-Stepper_Motor_Control_via_I2C.html#9.2.1.3-Login-to-Particle)",
     "section": "9.2.1.3 Login to Particle"
    }
   },
   "source": [
    "### 9.2.1.3 Login to Particle"
   ]
  },
  {
   "cell_type": "code",
   "execution_count": null,
   "metadata": {
    "colab": {
     "base_uri": "https://localhost:8080/",
     "height": 85
    },
    "executionInfo": {
     "elapsed": 85603,
     "status": "ok",
     "timestamp": 1603392499103,
     "user": {
      "displayName": "Jeffrey Kantor",
      "photoUrl": "https://lh3.googleusercontent.com/a-/AOh14Gg_n8V7bVINy02QRuRgOoMo11Ri7NKU3OUKdC1bkQ=s64",
      "userId": "09038942003589296665"
     },
     "user_tz": 240
    },
    "id": "1CMV13RsYAR9",
    "nbpages": {
     "level": 3,
     "link": "[9.2.1.3 Login to Particle](https://jckantor.github.io/cbe61622/09.02-Stepper_Motor_Control_via_I2C.html#9.2.1.3-Login-to-Particle)",
     "section": "9.2.1.3 Login to Particle"
    },
    "outputId": "c26df936-e601-41d8-e9a6-04b2c5b08caa"
   },
   "outputs": [
    {
     "name": "stdout",
     "output_type": "stream",
     "text": [
      "Username: ··········\n",
      "Password: ··········\n",
      "> Successfully completed login!\n",
      "\n"
     ]
    }
   ],
   "source": [
    "import getpass\n",
    "\n",
    "# prompt for username and password\n",
    "username = getpass.getpass(prompt=\"Username: \")\n",
    "password = getpass.getpass(prompt=\"Password: \")\n",
    "\n",
    "# attempt login\n",
    "output = particle([\"login\", \"--username\", username, \"--password\", password])\n",
    "\n",
    "# report results\n",
    "if output.returncode:\n",
    "    print(f\"Return code = {output.returncode}\")\n",
    "    print(output.stderr)\n",
    "else:\n",
    "    print(output.stdout)"
   ]
  },
  {
   "cell_type": "markdown",
   "metadata": {
    "id": "xkUuoM-ZmGVb",
    "nbpages": {
     "level": 3,
     "link": "[9.2.1.4 Select a device](https://jckantor.github.io/cbe61622/09.02-Stepper_Motor_Control_via_I2C.html#9.2.1.4-Select-a-device)",
     "section": "9.2.1.4 Select a device"
    }
   },
   "source": [
    "### 9.2.1.4 Select a device\n",
    "\n",
    "The following cell downloads a list of all user devices and creates a list of device names. Here we choose the first name in the list for the rest of this notebook. If this is not the device to be used, then modify this cell accordingly."
   ]
  },
  {
   "cell_type": "code",
   "execution_count": null,
   "metadata": {
    "colab": {
     "base_uri": "https://localhost:8080/",
     "height": 51
    },
    "executionInfo": {
     "elapsed": 2510,
     "status": "ok",
     "timestamp": 1603392515589,
     "user": {
      "displayName": "Jeffrey Kantor",
      "photoUrl": "https://lh3.googleusercontent.com/a-/AOh14Gg_n8V7bVINy02QRuRgOoMo11Ri7NKU3OUKdC1bkQ=s64",
      "userId": "09038942003589296665"
     },
     "user_tz": 240
    },
    "id": "leGyaNy4mMtX",
    "nbpages": {
     "level": 3,
     "link": "[9.2.1.4 Select a device](https://jckantor.github.io/cbe61622/09.02-Stepper_Motor_Control_via_I2C.html#9.2.1.4-Select-a-device)",
     "section": "9.2.1.4 Select a device"
    },
    "outputId": "7d0c8ded-bbd1-4072-e0c5-6ea1cf7409cd"
   },
   "outputs": [
    {
     "name": "stdout",
     "output_type": "stream",
     "text": [
      "jck_argon_01 [e00fce68eaceb1faa7cf7193] (Argon) is online\n",
      "\n"
     ]
    }
   ],
   "source": [
    "devices = [line.split()[0] for line in particle([\"list\"]).stdout.splitlines()]\n",
    "device_name = devices[0]\n",
    "print(particle([\"list\", device_name]).stdout)"
   ]
  },
  {
   "cell_type": "markdown",
   "metadata": {
    "id": "GFanTiZ1RJsE",
    "nbpages": {
     "level": 2,
     "link": "[9.2.2 Project: Motor Control](https://jckantor.github.io/cbe61622/09.02-Stepper_Motor_Control_via_I2C.html#9.2.2-Project:-Motor-Control)",
     "section": "9.2.2 Project: Motor Control"
    }
   },
   "source": [
    "## 9.2.2 Project: Motor Control\n",
    "\n"
   ]
  },
  {
   "cell_type": "markdown",
   "metadata": {
    "id": "Wy36pTBayB-9",
    "nbpages": {
     "level": 3,
     "link": "[9.2.2.1 Grove I2C Motor Driver V1.3](https://jckantor.github.io/cbe61622/09.02-Stepper_Motor_Control_via_I2C.html#9.2.2.1-Grove-I2C-Motor-Driver-V1.3)",
     "section": "9.2.2.1 Grove I2C Motor Driver V1.3"
    }
   },
   "source": [
    "### 9.2.2.1 Grove I2C Motor Driver V1.3\n",
    "\n",
    "[SeeedStudio Documentation](https://wiki.seeedstudio.com/Grove-I2C_Motor_Driver_V1.3/)\n",
    "\n",
    "[Github repository](https://github.com/Seeed-Studio/Grove_I2C_Motor_Driver_v1_3)\n",
    "\n",
    "![](https://files.seeedstudio.com/wiki/Grove-I2C_Motor_Driver_V1.3/img/I2CMotorDriver-1.jpg)\n",
    "\n",
    "Note the default address ``0x0f``.\n",
    "\n",
    "** It turns out this motor driver requires a 5 volt logic. The Particle Argon is capable of 3.3v only, thus not electrically compatible. This is confirmed by the absence of a code library supporting this motor driver on Particle Argon.**\n",
    "\n",
    "**New motor drivers are on order.**"
   ]
  },
  {
   "cell_type": "markdown",
   "metadata": {
    "id": "bnziRvWlyB--",
    "nbpages": {
     "level": 2,
     "link": "[9.2.3 Prototype](https://jckantor.github.io/cbe61622/09.02-Stepper_Motor_Control_via_I2C.html#9.2.3-Prototype)",
     "section": "9.2.3 Prototype"
    }
   },
   "source": [
    "## 9.2.3 Prototype"
   ]
  },
  {
   "cell_type": "markdown",
   "metadata": {
    "id": "4vZ1VcQRiylL",
    "nbpages": {
     "level": 3,
     "link": "[9.2.3.1 Create Project](https://jckantor.github.io/cbe61622/09.02-Stepper_Motor_Control_via_I2C.html#9.2.3.1-Create-Project)",
     "section": "9.2.3.1 Create Project"
    }
   },
   "source": [
    "### 9.2.3.1 Create Project"
   ]
  },
  {
   "cell_type": "code",
   "execution_count": null,
   "metadata": {
    "colab": {
     "base_uri": "https://localhost:8080/",
     "height": 68
    },
    "executionInfo": {
     "elapsed": 833,
     "status": "ok",
     "timestamp": 1603392820052,
     "user": {
      "displayName": "Jeffrey Kantor",
      "photoUrl": "https://lh3.googleusercontent.com/a-/AOh14Gg_n8V7bVINy02QRuRgOoMo11Ri7NKU3OUKdC1bkQ=s64",
      "userId": "09038942003589296665"
     },
     "user_tz": 240
    },
    "id": "FaqbZcYwix06",
    "nbpages": {
     "level": 3,
     "link": "[9.2.3.1 Create Project](https://jckantor.github.io/cbe61622/09.02-Stepper_Motor_Control_via_I2C.html#9.2.3.1-Create-Project)",
     "section": "9.2.3.1 Create Project"
    },
    "outputId": "d3399e4d-3810-44e3-c394-68d503e3c4dd"
   },
   "outputs": [
    {
     "name": "stdout",
     "output_type": "stream",
     "text": [
      "Initializing project in directory myproject...\n",
      "> A new project has been initialized in directory myproject\n",
      "\n"
     ]
    }
   ],
   "source": [
    "print(particle([\"project\", \"create\", \"--name\", \"myproject\", \".\"]).stdout)"
   ]
  },
  {
   "cell_type": "markdown",
   "metadata": {
    "id": "tsSPugdDzEq2",
    "nbpages": {
     "level": 3,
     "link": "[9.2.3.2 Change working directory](https://jckantor.github.io/cbe61622/09.02-Stepper_Motor_Control_via_I2C.html#9.2.3.2-Change-working-directory)",
     "section": "9.2.3.2 Change working directory"
    }
   },
   "source": [
    "### 9.2.3.2 Change working directory\n",
    "\n",
    "The Particle CLI assumes one is working in the top  project directory."
   ]
  },
  {
   "cell_type": "code",
   "execution_count": null,
   "metadata": {
    "colab": {
     "base_uri": "https://localhost:8080/",
     "height": 34
    },
    "executionInfo": {
     "elapsed": 371,
     "status": "ok",
     "timestamp": 1603392949696,
     "user": {
      "displayName": "Jeffrey Kantor",
      "photoUrl": "https://lh3.googleusercontent.com/a-/AOh14Gg_n8V7bVINy02QRuRgOoMo11Ri7NKU3OUKdC1bkQ=s64",
      "userId": "09038942003589296665"
     },
     "user_tz": 240
    },
    "id": "iNYJNUoaC2ye",
    "nbpages": {
     "level": 3,
     "link": "[9.2.3.2 Change working directory](https://jckantor.github.io/cbe61622/09.02-Stepper_Motor_Control_via_I2C.html#9.2.3.2-Change-working-directory)",
     "section": "9.2.3.2 Change working directory"
    },
    "outputId": "462d266a-bcce-4bbe-97ec-e519b0c33e05"
   },
   "outputs": [
    {
     "name": "stdout",
     "output_type": "stream",
     "text": [
      "/content/myproject\n"
     ]
    }
   ],
   "source": [
    "%cd myproject"
   ]
  },
  {
   "cell_type": "markdown",
   "metadata": {
    "id": "moVetAalRsLO",
    "nbpages": {
     "level": 3,
     "link": "[9.2.3.3 Add relevant libraries](https://jckantor.github.io/cbe61622/09.02-Stepper_Motor_Control_via_I2C.html#9.2.3.3-Add-relevant-libraries)",
     "section": "9.2.3.3 Add relevant libraries"
    }
   },
   "source": [
    "### 9.2.3.3 Add relevant libraries\n",
    "\n"
   ]
  },
  {
   "cell_type": "code",
   "execution_count": null,
   "metadata": {
    "colab": {
     "base_uri": "https://localhost:8080/",
     "height": 153
    },
    "executionInfo": {
     "elapsed": 1304,
     "status": "ok",
     "timestamp": 1603395556684,
     "user": {
      "displayName": "Jeffrey Kantor",
      "photoUrl": "https://lh3.googleusercontent.com/a-/AOh14Gg_n8V7bVINy02QRuRgOoMo11Ri7NKU3OUKdC1bkQ=s64",
      "userId": "09038942003589296665"
     },
     "user_tz": 240
    },
    "id": "QpriUmZIrO2e",
    "nbpages": {
     "level": 3,
     "link": "[9.2.3.3 Add relevant libraries](https://jckantor.github.io/cbe61622/09.02-Stepper_Motor_Control_via_I2C.html#9.2.3.3-Add-relevant-libraries)",
     "section": "9.2.3.3 Add relevant libraries"
    },
    "outputId": "74ab6caa-6c4c-4a53-f816-5939bc3c0673"
   },
   "outputs": [
    {
     "name": "stdout",
     "output_type": "stream",
     "text": [
      "> Found 6 libraries matching motor\n",
      "Adafruit-MotorShield-V2 1.0.0 12330 A library for the Adafruit Motor Shield V2 for Particle devices\n",
      "Serial_Controlled_Motor_Driver 1.0.3 814 Use this to command the SCMD and connected chain.\n",
      "SeeedMotorShield 0.0.1 572 Library for controling the DC Motor shield by Seeed\n",
      "StepMotorController 0.0.32 479 Step Motor Controller Interface     \n",
      "DualMotor 0.0.2 215 Custom DualMotor Library\n",
      "PatriotMotorized 2.0.0 16 Extend Patriot IoT to support motorized devices.\n",
      "\n"
     ]
    }
   ],
   "source": [
    "print(particle([\"library\", \"search\", \"motor\"]).stdout)"
   ]
  },
  {
   "cell_type": "code",
   "execution_count": null,
   "metadata": {
    "colab": {
     "base_uri": "https://localhost:8080/",
     "height": 51
    },
    "executionInfo": {
     "elapsed": 1151,
     "status": "ok",
     "timestamp": 1603393079450,
     "user": {
      "displayName": "Jeffrey Kantor",
      "photoUrl": "https://lh3.googleusercontent.com/a-/AOh14Gg_n8V7bVINy02QRuRgOoMo11Ri7NKU3OUKdC1bkQ=s64",
      "userId": "09038942003589296665"
     },
     "user_tz": 240
    },
    "id": "WebH24BzZ5Cn",
    "nbpages": {
     "level": 3,
     "link": "[9.2.3.3 Add relevant libraries](https://jckantor.github.io/cbe61622/09.02-Stepper_Motor_Control_via_I2C.html#9.2.3.3-Add-relevant-libraries)",
     "section": "9.2.3.3 Add relevant libraries"
    },
    "outputId": "ce96a87b-8a15-48e0-e19c-7ae40be9fa40"
   },
   "outputs": [
    {
     "name": "stdout",
     "output_type": "stream",
     "text": [
      "Library Grove_I2C_Motor_Driver_v1_3 not found\n",
      "\n"
     ]
    }
   ],
   "source": [
    "print(particle([\"library\", \"add\", \"Grove_I2C_Motor_Driver_v1_3\"]).stdout)"
   ]
  },
  {
   "cell_type": "markdown",
   "metadata": {
    "id": "kYIAoD_jESIn",
    "nbpages": {
     "level": 3,
     "link": "[9.2.3.4 Create source file](https://jckantor.github.io/cbe61622/09.02-Stepper_Motor_Control_via_I2C.html#9.2.3.4-Create-source-file)",
     "section": "9.2.3.4 Create source file"
    }
   },
   "source": [
    "### 9.2.3.4 Create source file"
   ]
  },
  {
   "cell_type": "code",
   "execution_count": null,
   "metadata": {
    "colab": {
     "base_uri": "https://localhost:8080/",
     "height": 34
    },
    "executionInfo": {
     "elapsed": 202,
     "status": "ok",
     "timestamp": 1603388166168,
     "user": {
      "displayName": "Jeffrey Kantor",
      "photoUrl": "https://lh3.googleusercontent.com/a-/AOh14Gg_n8V7bVINy02QRuRgOoMo11Ri7NKU3OUKdC1bkQ=s64",
      "userId": "09038942003589296665"
     },
     "user_tz": 240
    },
    "id": "uZJn2QkEmbuQ",
    "nbpages": {
     "level": 3,
     "link": "[9.2.3.4 Create source file](https://jckantor.github.io/cbe61622/09.02-Stepper_Motor_Control_via_I2C.html#9.2.3.4-Create-source-file)",
     "section": "9.2.3.4 Create source file"
    },
    "outputId": "ab9a6fa3-3c75-4b71-eeb2-41ce64c0f787"
   },
   "outputs": [
    {
     "name": "stdout",
     "output_type": "stream",
     "text": [
      "Overwriting src/myproject.ino\n"
     ]
    }
   ],
   "source": [
    "%%writefile src/myproject.ino\n"
   ]
  },
  {
   "cell_type": "markdown",
   "metadata": {
    "id": "DgYoYrbMBg8y",
    "nbpages": {
     "level": 3,
     "link": "[9.2.3.5 Compiling](https://jckantor.github.io/cbe61622/09.02-Stepper_Motor_Control_via_I2C.html#9.2.3.5-Compiling)",
     "section": "9.2.3.5 Compiling"
    }
   },
   "source": [
    "### 9.2.3.5 Compiling"
   ]
  },
  {
   "cell_type": "code",
   "execution_count": null,
   "metadata": {
    "colab": {
     "base_uri": "https://localhost:8080/",
     "height": 306
    },
    "executionInfo": {
     "elapsed": 8472,
     "status": "ok",
     "timestamp": 1603388176260,
     "user": {
      "displayName": "Jeffrey Kantor",
      "photoUrl": "https://lh3.googleusercontent.com/a-/AOh14Gg_n8V7bVINy02QRuRgOoMo11Ri7NKU3OUKdC1bkQ=s64",
      "userId": "09038942003589296665"
     },
     "user_tz": 240
    },
    "id": "D-yOOpbfA4U5",
    "nbpages": {
     "level": 3,
     "link": "[9.2.3.5 Compiling](https://jckantor.github.io/cbe61622/09.02-Stepper_Motor_Control_via_I2C.html#9.2.3.5-Compiling)",
     "section": "9.2.3.5 Compiling"
    },
    "outputId": "fe911d4a-d820-4263-f265-2eba4c094302"
   },
   "outputs": [
    {
     "name": "stdout",
     "output_type": "stream",
     "text": [
      "\n",
      "Compiling code for argon\n",
      "\n",
      "Including:\n",
      "    src/myproject.ino\n",
      "    project.properties\n",
      "\n",
      "attempting to compile firmware\n",
      "downloading binary from: /v1/binaries/5f91c30f9c09c651a428aa51\n",
      "saving to: myproject.bin\n",
      "Memory use:\n",
      "   text\t   data\t    bss\t    dec\t    hex\tfilename\n",
      "   6588\t    108\t   1112\t   7808\t   1e80\t/workspace/target/workspace.elf\n",
      "\n",
      "Compile succeeded.\n",
      "Saved firmware to: /content/myproject/myproject.bin\n",
      "\n"
     ]
    }
   ],
   "source": [
    "print(particle([\"compile\", \"argon\", \"--saveTo\", \"myproject.bin\"]).stdout)"
   ]
  },
  {
   "cell_type": "markdown",
   "metadata": {
    "id": "b5e_lzC1FtHw",
    "nbpages": {
     "level": 3,
     "link": "[9.2.3.6 Flash firmware](https://jckantor.github.io/cbe61622/09.02-Stepper_Motor_Control_via_I2C.html#9.2.3.6-Flash-firmware)",
     "section": "9.2.3.6 Flash firmware"
    }
   },
   "source": [
    "### 9.2.3.6 Flash firmware"
   ]
  },
  {
   "cell_type": "code",
   "execution_count": null,
   "metadata": {
    "colab": {
     "base_uri": "https://localhost:8080/",
     "height": 153
    },
    "executionInfo": {
     "elapsed": 1079,
     "status": "ok",
     "timestamp": 1603388178659,
     "user": {
      "displayName": "Jeffrey Kantor",
      "photoUrl": "https://lh3.googleusercontent.com/a-/AOh14Gg_n8V7bVINy02QRuRgOoMo11Ri7NKU3OUKdC1bkQ=s64",
      "userId": "09038942003589296665"
     },
     "user_tz": 240
    },
    "id": "TcUKDiWOsvt1",
    "nbpages": {
     "level": 3,
     "link": "[9.2.3.6 Flash firmware](https://jckantor.github.io/cbe61622/09.02-Stepper_Motor_Control_via_I2C.html#9.2.3.6-Flash-firmware)",
     "section": "9.2.3.6 Flash firmware"
    },
    "outputId": "9e7682f6-8c52-43ba-948c-fae4b4ae9cae"
   },
   "outputs": [
    {
     "name": "stdout",
     "output_type": "stream",
     "text": [
      "Including:\n",
      "    myproject.bin\n",
      "\n",
      "attempting to flash firmware to your device jck_argon_01\n",
      "Flash device OK: Update started\n",
      "\n",
      "Flash success!\n",
      "\n"
     ]
    }
   ],
   "source": [
    "print(particle([\"flash\", device_name, \"myproject.bin\"]).stdout)"
   ]
  },
  {
   "cell_type": "markdown",
   "id": "e2862f88",
   "metadata": {},
   "source": [
    "<!--NAVIGATION-->\n",
    "< [9.1 Communicating via TCP](https://jckantor.github.io/cbe61622/09.01-Communicating _via_TCP.html) | [Contents](toc.html) | [10.0 Projects](https://jckantor.github.io/cbe61622/10.00-Projects.html) ><p><a href=\"https://colab.research.google.com/github/jckantor/cbe61622/blob/master/docs/09.02-Stepper_Motor_Control_via_I2C.ipynb\"> <img align=\"left\" src=\"https://colab.research.google.com/assets/colab-badge.svg\" alt=\"Open in Colab\" title=\"Open in Google Colaboratory\"></a><p><a href=\"https://jckantor.github.io/cbe61622/09.02-Stepper_Motor_Control_via_I2C.ipynb\"> <img align=\"left\" src=\"https://img.shields.io/badge/Github-Download-blue.svg\" alt=\"Download\" title=\"Download Notebook\"></a>"
   ]
  }
 ],
 "metadata": {
  "colab": {
   "collapsed_sections": [],
   "name": "09.02-Stepper_Motor_Control_via_I2C.ipynb",
   "provenance": [
    {
     "file_id": "https://github.com/jckantor/cbe-virtual-laboratory/blob/main/notebooks/02.04-Simple-Stop-Watch.ipynb",
     "timestamp": 1603325027025
    }
   ],
   "toc_visible": true
  },
  "kernelspec": {
   "display_name": "Python 3",
   "language": "python",
   "name": "python3"
  },
  "language_info": {
   "codemirror_mode": {
    "name": "ipython",
    "version": 3
   },
   "file_extension": ".py",
   "mimetype": "text/x-python",
   "name": "python",
   "nbconvert_exporter": "python",
   "pygments_lexer": "ipython3",
   "version": "3.7.4"
  }
 },
 "nbformat": 4,
 "nbformat_minor": 0
}
