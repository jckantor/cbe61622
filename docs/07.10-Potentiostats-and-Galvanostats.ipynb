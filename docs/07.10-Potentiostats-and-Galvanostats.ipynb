{
 "cells": [
  {
   "cell_type": "markdown",
   "id": "178c6462",
   "metadata": {},
   "source": [
    "<!--NOTEBOOK_HEADER-->\n",
    "*This notebook contains material from [cbe61622](https://jckantor.github.io/cbe61622);\n",
    "content is available [on Github](https://github.com/jckantor/cbe61622.git).*\n"
   ]
  },
  {
   "cell_type": "markdown",
   "id": "bafc374b",
   "metadata": {},
   "source": [
    "<!--NAVIGATION-->\n",
    "< [7.0 Chemical Instrumentation](https://jckantor.github.io/cbe61622/07.00-Chemical_Instrumentation.html) | [Contents](toc.html) | [8.0 Feedback Control](https://jckantor.github.io/cbe61622/08.00-Feedback_Control.html) ><p><a href=\"https://colab.research.google.com/github/jckantor/cbe61622/blob/master/docs/07.10-Potentiostats-and-Galvanostats.ipynb\"> <img align=\"left\" src=\"https://colab.research.google.com/assets/colab-badge.svg\" alt=\"Open in Colab\" title=\"Open in Google Colaboratory\"></a><p><a href=\"https://jckantor.github.io/cbe61622/07.10-Potentiostats-and-Galvanostats.ipynb\"> <img align=\"left\" src=\"https://img.shields.io/badge/Github-Download-blue.svg\" alt=\"Download\" title=\"Download Notebook\"></a>"
   ]
  },
  {
   "cell_type": "markdown",
   "id": "7d97f30f-f992-4794-9449-dfaf009d6c92",
   "metadata": {
    "nbpages": {
     "level": 1,
     "link": "[7.10 Potentiostats and Galvanostats](https://jckantor.github.io/cbe61622/07.10-Potentiostats-and-Galvanostats.html#7.10-Potentiostats-and-Galvanostats)",
     "section": "7.10 Potentiostats and Galvanostats"
    }
   },
   "source": [
    "# 7.10 Potentiostats and Galvanostats"
   ]
  },
  {
   "cell_type": "markdown",
   "id": "67ac8527-d25c-468b-83cf-e54a282a9f00",
   "metadata": {
    "nbpages": {
     "level": 2,
     "link": "[7.10.1 References](https://jckantor.github.io/cbe61622/07.10-Potentiostats-and-Galvanostats.html#7.10.1-References)",
     "section": "7.10.1 References"
    }
   },
   "source": [
    "## 7.10.1 References\n",
    "\n",
    "---\n",
    "\n",
    "Adams, Scott D., et al. \"MiniStat: Development and evaluation of a mini-potentiostat for electrochemical measurements.\" Ieee Access 7 (2019): 31903-31912. https://ieeexplore.ieee.org/stamp/stamp.jsp?arnumber=8657694\n",
    "\n",
    "---\n",
    "\n",
    "Ainla, Alar, et al. \"Open-source potentiostat for wireless electrochemical detection with smartphones.\" Analytical chemistry 90.10 (2018): 6240-6246. https://gmwgroup.harvard.edu/files/gmwgroup/files/1308.pdf \n",
    "\n",
    "---\n",
    "\n",
    "Bianchi, Valentina, et al. \"A Wi-Fi cloud-based portable potentiostat for electrochemical biosensors.\" IEEE Transactions on Instrumentation and Measurement 69.6 (2019): 3232-3240.\n",
    "\n",
    "---\n",
    "\n",
    "Dobbelaere, Thomas, Philippe M. Vereecken, and Christophe Detavernier. \"A USB-controlled potentiostat/galvanostat for thin-film battery characterization.\" HardwareX 2 (2017): 34-49.  https://doi.org/10.1016/j.ohx.2017.08.001\n",
    "\n",
    "---\n",
    "\n",
    "Hoilett, Orlando S., et al. \"KickStat: A coin-sized potentiostat for high-resolution electrochemical analysis.\" Sensors 20.8 (2020): 2407. https://www.mdpi.com/1424-8220/20/8/2407/htm\n",
    "\n",
    "---\n",
    "\n",
    "Irving, P., R. Cecil, and M. Z. Yates. \"MYSTAT: A compact potentiostat/galvanostat for general electrochemistry measurements.\" HardwareX 9 (2021): e00163. https://www.sciencedirect.com/science/article/pii/S2468067220300729\n",
    "\n",
    "> 2, 3, and 4 wire cell configurations with +/- 12 volts at 200ma.\n",
    "\n",
    "---\n",
    "\n",
    "Lopin, Prattana, and Kyle V. Lopin. \"PSoC-Stat: A single chip open source potentiostat based on a Programmable System on a Chip.\" PloS one 13.7 (2018): e0201353. https://journals.plos.org/plosone/article?id=10.1371/journal.pone.0201353\n",
    "\n",
    "---\n",
    "\n",
    "Matsubara, Yasuo. \"A Small yet Complete Framework for a Potentiostat, Galvanostat, and Electrochemical Impedance Spectrometer.\" (2021): 3362-3370. https://pubs.acs.org/doi/full/10.1021/acs.jchemed.1c00228\n",
    "\n",
    "> Elegant 2 omp amp current source for a galvanostat.\n",
    "\n",
    "---\n"
   ]
  },
  {
   "cell_type": "code",
   "execution_count": null,
   "id": "4d8a0557-0e15-4e49-943c-9536e15d611a",
   "metadata": {
    "nbpages": {
     "level": 2,
     "link": "[7.10.1 References](https://jckantor.github.io/cbe61622/07.10-Potentiostats-and-Galvanostats.html#7.10.1-References)",
     "section": "7.10.1 References"
    }
   },
   "outputs": [],
   "source": []
  },
  {
   "cell_type": "markdown",
   "id": "53fcc3c7",
   "metadata": {},
   "source": [
    "<!--NAVIGATION-->\n",
    "< [7.0 Chemical Instrumentation](https://jckantor.github.io/cbe61622/07.00-Chemical_Instrumentation.html) | [Contents](toc.html) | [8.0 Feedback Control](https://jckantor.github.io/cbe61622/08.00-Feedback_Control.html) ><p><a href=\"https://colab.research.google.com/github/jckantor/cbe61622/blob/master/docs/07.10-Potentiostats-and-Galvanostats.ipynb\"> <img align=\"left\" src=\"https://colab.research.google.com/assets/colab-badge.svg\" alt=\"Open in Colab\" title=\"Open in Google Colaboratory\"></a><p><a href=\"https://jckantor.github.io/cbe61622/07.10-Potentiostats-and-Galvanostats.ipynb\"> <img align=\"left\" src=\"https://img.shields.io/badge/Github-Download-blue.svg\" alt=\"Download\" title=\"Download Notebook\"></a>"
   ]
  }
 ],
 "metadata": {
  "kernelspec": {
   "display_name": "Python 3 (ipykernel)",
   "language": "python",
   "name": "python3"
  },
  "language_info": {
   "codemirror_mode": {
    "name": "ipython",
    "version": 3
   },
   "file_extension": ".py",
   "mimetype": "text/x-python",
   "name": "python",
   "nbconvert_exporter": "python",
   "pygments_lexer": "ipython3",
   "version": "3.8.12"
  }
 },
 "nbformat": 4,
 "nbformat_minor": 5
}
