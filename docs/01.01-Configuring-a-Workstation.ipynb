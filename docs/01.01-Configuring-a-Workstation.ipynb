{
 "cells": [
  {
   "cell_type": "markdown",
   "id": "bb373734",
   "metadata": {},
   "source": [
    "<!--NOTEBOOK_HEADER-->\n",
    "*This notebook contains material from [cbe61622](https://jckantor.github.io/cbe61622);\n",
    "content is available [on Github](https://github.com/jckantor/cbe61622.git).*\n"
   ]
  },
  {
   "cell_type": "markdown",
   "id": "1bc5b16d",
   "metadata": {},
   "source": [
    "<!--NAVIGATION-->\n",
    "< [1.0 CBE 61622](https://jckantor.github.io/cbe61622/01.00-CBE_61622.html) | [Contents](toc.html) | [None](https://jckantor.github.io/cbe61622/01.02-Workstation-Learning-Exercises.html) ><p><a href=\"https://colab.research.google.com/github/jckantor/cbe61622/blob/master/docs/01.01-Configuring-a-Workstation.ipynb\"> <img align=\"left\" src=\"https://colab.research.google.com/assets/colab-badge.svg\" alt=\"Open in Colab\" title=\"Open in Google Colaboratory\"></a><p><a href=\"https://jckantor.github.io/cbe61622/01.01-Configuring-a-Workstation.ipynb\"> <img align=\"left\" src=\"https://img.shields.io/badge/Github-Download-blue.svg\" alt=\"Download\" title=\"Download Notebook\"></a>"
   ]
  },
  {
   "cell_type": "markdown",
   "metadata": {
    "nbpages": {
     "level": 1,
     "link": "[1.1 Configuring a Workstation](https://jckantor.github.io/cbe61622/01.01-Configuring-a-Workstation.html#1.1-Configuring-a-Workstation)",
     "section": "1.1 Configuring a Workstation"
    }
   },
   "source": [
    "# 1.1 Configuring a Workstation"
   ]
  },
  {
   "cell_type": "code",
   "execution_count": null,
   "metadata": {
    "nbpages": {
     "level": 1,
     "link": "[1.1 Configuring a Workstation](https://jckantor.github.io/cbe61622/01.01-Configuring-a-Workstation.html#1.1-Configuring-a-Workstation)",
     "section": "1.1 Configuring a Workstation"
    }
   },
   "outputs": [],
   "source": []
  },
  {
   "cell_type": "markdown",
   "metadata": {
    "nbpages": {
     "level": 2,
     "link": "[1.1.1 Raspberry Pi](https://jckantor.github.io/cbe61622/01.01-Configuring-a-Workstation.html#1.1.1-Raspberry-Pi)",
     "section": "1.1.1 Raspberry Pi"
    }
   },
   "source": [
    "## 1.1.1 Raspberry Pi"
   ]
  },
  {
   "cell_type": "markdown",
   "metadata": {
    "nbpages": {
     "level": 3,
     "link": "[1.1.1.1 Assemble a Raspberry Pi Workstation](https://jckantor.github.io/cbe61622/01.01-Configuring-a-Workstation.html#1.1.1.1-Assemble-a-Raspberry-Pi-Workstation)",
     "section": "1.1.1.1 Assemble a Raspberry Pi Workstation"
    }
   },
   "source": [
    "### 1.1.1.1 Assemble a Raspberry Pi Workstation\n",
    "\n",
    "* Raspberry Pi 4 Model B (4GB)\n",
    "* Raspberry Pi 7\" touchscreen\n",
    "* Raspberry Pi USB-C power supply\n",
    "* Raspberry Pi USB keyboard and mouse\n",
    "* SmartPi Touch 2 Case\n",
    "* 32GB micro SD\n"
   ]
  },
  {
   "cell_type": "markdown",
   "metadata": {
    "nbpages": {
     "level": 3,
     "link": "[1.1.1.2 Install Raspberry Pi OS](https://jckantor.github.io/cbe61622/01.01-Configuring-a-Workstation.html#1.1.1.2-Install-Raspberry-Pi-OS)",
     "section": "1.1.1.2 Install Raspberry Pi OS"
    }
   },
   "source": [
    "### 1.1.1.2 Install Raspberry Pi OS\n",
    "\n",
    "* Format a 16GB+ micro SD card using [SD Card Formatter](https://www.sdcard.org/downloads/formatter/)\n",
    "* Install Raspberry Pi OS onto micro SD card using [Raspberry Pi Imager](https://www.raspberrypi.org/software/)"
   ]
  },
  {
   "cell_type": "markdown",
   "metadata": {
    "nbpages": {
     "level": 2,
     "link": "[1.1.2 Digilent Analog Discovery Studio](https://jckantor.github.io/cbe61622/01.01-Configuring-a-Workstation.html#1.1.2-Digilent-Analog-Discovery-Studio)",
     "section": "1.1.2 Digilent Analog Discovery Studio"
    }
   },
   "source": [
    "## 1.1.2 Digilent Analog Discovery Studio"
   ]
  },
  {
   "cell_type": "markdown",
   "metadata": {
    "nbpages": {
     "level": 2,
     "link": "[1.1.3 Analog Devices Parts Kit ADALP2000](https://jckantor.github.io/cbe61622/01.01-Configuring-a-Workstation.html#1.1.3-Analog-Devices-Parts-Kit-ADALP2000)",
     "section": "1.1.3 Analog Devices Parts Kit ADALP2000"
    }
   },
   "source": [
    "## 1.1.3 Analog Devices Parts Kit ADALP2000\n",
    "\n",
    "\n",
    "### IC's\n",
    "\n",
    "#### Amplifiers\n",
    "\n",
    "* [AD8226 Instrumentation amp](https://www.analog.com/en/products/ad8226.html)\n",
    "* [ADTL082 JFET op amp](https://www.analog.com/en/products/adtl082.html)\n",
    "* [AD8542 dual CMOS dual rail-to-rail op amp](https://www.analog.com/en/products/ad8542.html)\n",
    "* [OP482 high speed JFET quad op amp](https://www.analog.com/en/products/op482.html) (2)\n",
    "* [OP484 precision rail-to-rail I/O quad op amp](https://www.analog.com/en/products/op484.html)\n",
    "* [OP27 low noise, precision op amp](https://www.analog.com/en/products/op27.html) (2)\n",
    "* [OP37 precision op amp](https://www.analog.com/en/products/op37.html) (2)\n",
    "* [OP97 low power, high precision](https://www.analog.com/en/products/op97.html) (2)\n",
    "* [LTC1541 micropower amp, comparator, reference](https://www.analog.com/en/products/ltc1541.html)\n",
    "\n",
    "#### Sensors\n",
    "\n",
    "* [AD8210 current shunt monitor](https://www.analog.com/en/products/ad8210.html)\n",
    "* [AD22151 magnetic field sensor](https://www.analog.com/en/products/ad22151g.html)\n",
    "* [ADXL327 3-axis accelerometer](https://www.analog.com/en/products/adxl327.html)\n",
    "* [AD22100 voltage temperature sensor](https://www.analog.com/en/products/ad22100.html) (2)\n",
    "* [AD592 current temperature sensor](https://www.analog.com/en/products/ad592.html)\n",
    "* [TMP01 temperature controller](https://www.analog.com/en/products/tmp01.html)\n",
    "* Electret microphone\n",
    "* 10 kOhm thermister\n",
    "* [OP999 PIN photodiode](https://www.ttelectronics.com/TTElectronics/media/ProductFiles/Optoelectronics/Datasheets/OP993-999.pdf)\n",
    "\n",
    "#### Power\n",
    "\n",
    "* [LT3092 programmable current source](https://www.analog.com/en/products/lt3092.html)\n",
    "* [LTM8067 isolated dc-to-dc converter](https://www.analog.com/en/products/ltm8067.html)\n",
    "* [LT3080 adjustable 1.1A LDO](https://www.analog.com/en/products/lt3080.html)\n",
    "\n",
    "\n",
    "#### Data Conversion\n",
    "\n",
    "* [AD654 voltage-to-frequency converter](https://www.analog.com/en/products/ad654.html)\n",
    "* [AD5626 12-bit nanoDAC](https://www.analog.com/en/products/ad5626.html)\n",
    "* [AD7920 12-bit 250kSPS SPI ADC](https://www.analog.com/en/products/ad7920.html)\n",
    "\n",
    "#### Logic\n",
    "\n",
    "* [SN74HC273 octal flip-flop](https://www.ti.com/product/SN74HC273)\n",
    "\n",
    "#### Misc\n",
    "\n",
    "### Transistors\n",
    "\n",
    "* [2N3904 general purpose NPN BJT](https://www.onsemi.com/pdf/datasheet/2n3903-d.pdf)\n",
    "* [2N3906 general purpose PNP BJT](https://www.onsemi.com/pdf/datasheet/2n3906-d.pdf)\n",
    "* [IRF510 power MOSFET](https://www.vishay.com/docs/91015/sihf510.pdf)\n",
    "* [TIP31CFS NPN Power](https://alltransistors.com/adv/pdfdatasheet_st/tip31c.pdf)\n",
    "* [TIP32CFS PNP Power](https://alltransistors.com/adv/pdfdatasheet_st/tip32c.pdf)\n",
    "* [ZVN2110A N-channel DMOS FED]()v\n",
    "\n",
    "\n"
   ]
  },
  {
   "cell_type": "code",
   "execution_count": null,
   "metadata": {
    "nbpages": {
     "level": 2,
     "link": "[1.1.3 Analog Devices Parts Kit ADALP2000](https://jckantor.github.io/cbe61622/01.01-Configuring-a-Workstation.html#1.1.3-Analog-Devices-Parts-Kit-ADALP2000)",
     "section": "1.1.3 Analog Devices Parts Kit ADALP2000"
    }
   },
   "outputs": [],
   "source": []
  },
  {
   "cell_type": "markdown",
   "id": "a4408946",
   "metadata": {},
   "source": [
    "<!--NAVIGATION-->\n",
    "< [1.0 CBE 61622](https://jckantor.github.io/cbe61622/01.00-CBE_61622.html) | [Contents](toc.html) | [None](https://jckantor.github.io/cbe61622/01.02-Workstation-Learning-Exercises.html) ><p><a href=\"https://colab.research.google.com/github/jckantor/cbe61622/blob/master/docs/01.01-Configuring-a-Workstation.ipynb\"> <img align=\"left\" src=\"https://colab.research.google.com/assets/colab-badge.svg\" alt=\"Open in Colab\" title=\"Open in Google Colaboratory\"></a><p><a href=\"https://jckantor.github.io/cbe61622/01.01-Configuring-a-Workstation.ipynb\"> <img align=\"left\" src=\"https://img.shields.io/badge/Github-Download-blue.svg\" alt=\"Download\" title=\"Download Notebook\"></a>"
   ]
  }
 ],
 "metadata": {
  "kernelspec": {
   "display_name": "Python 3",
   "language": "python",
   "name": "python3"
  },
  "language_info": {
   "codemirror_mode": {
    "name": "ipython",
    "version": 3
   },
   "file_extension": ".py",
   "mimetype": "text/x-python",
   "name": "python",
   "nbconvert_exporter": "python",
   "pygments_lexer": "ipython3",
   "version": "3.8.5"
  }
 },
 "nbformat": 4,
 "nbformat_minor": 4
}
