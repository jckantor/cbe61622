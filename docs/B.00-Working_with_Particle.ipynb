{
 "cells": [
  {
   "cell_type": "markdown",
   "id": "caed4ea6",
   "metadata": {},
   "source": [
    "<!--NOTEBOOK_HEADER-->\n",
    "*This notebook contains material from [cbe61622](https://jckantor.github.io/cbe61622);\n",
    "content is available [on Github](https://github.com/jckantor/cbe61622.git).*\n"
   ]
  },
  {
   "cell_type": "markdown",
   "id": "fa144fbc",
   "metadata": {},
   "source": [
    "<!--NAVIGATION-->\n",
    "< [A.4 Scheduling Real-Time Events with Simpy](https://jckantor.github.io/cbe61622/A.04-Scheduling-Real-Time-Events-with-Simpy.html) | [Contents](toc.html) | [B.1 Particle Command Line Interface](https://jckantor.github.io/cbe61622/B.01-Particle_CLI.html) ><p><a href=\"https://colab.research.google.com/github/jckantor/cbe61622/blob/master/docs/B.00-Working_with_Particle.ipynb\"> <img align=\"left\" src=\"https://colab.research.google.com/assets/colab-badge.svg\" alt=\"Open in Colab\" title=\"Open in Google Colaboratory\"></a><p><a href=\"https://jckantor.github.io/cbe61622/B.00-Working_with_Particle.ipynb\"> <img align=\"left\" src=\"https://img.shields.io/badge/Github-Download-blue.svg\" alt=\"Download\" title=\"Download Notebook\"></a>"
   ]
  },
  {
   "cell_type": "markdown",
   "metadata": {
    "id": "-v0_WNKmYmbN",
    "nbpages": {
     "level": 1,
     "link": "[B.0 Working with Particle](https://jckantor.github.io/cbe61622/B.00-Working_with_Particle.html#B.0-Working-with-Particle)",
     "section": "B.0 Working with Particle"
    }
   },
   "source": [
    "# B.0 Working with Particle\n",
    "\n"
   ]
  },
  {
   "cell_type": "markdown",
   "metadata": {
    "id": "Qflaa53R8xMq",
    "nbpages": {
     "level": 2,
     "link": "[B.0.1 Why Particle?](https://jckantor.github.io/cbe61622/B.00-Working_with_Particle.html#B.0.1-Why-Particle?)",
     "section": "B.0.1 Why Particle?"
    }
   },
   "source": [
    "## B.0.1 Why Particle?\n",
    "\n",
    "Many notebooks in this repository demonstrate the use of devices from [Particle.io](particle.io), a company that produces devices and services for the *Internet of Things* (IoT) industry. \n",
    "\n",
    "The IoT is evolving quickly with many participants, ranging from [Arduino.cc](arduino.cc) founded in 2005 for purpose of bringing to market new devices based on easy-to-use hardware and software, to long-established companies like Intel and Texas Instruments entering new markets, and to companies like [Particle founded in 2012](https://blog.particle.io/spark-is-now-particle/) intending to share in the growth of a new industry.\n",
    "\n",
    "There are other devices on the market that would support the educational purposes of these notebooks. The attractive features of Particle for this project include:\n",
    "\n",
    "* A complete cloud-based development platform. The development platform is also available as a command line interface that can be integrated with other services including, for example, Google Colaboratory.\n",
    "\n",
    "* A range of wireless device communications available including Bluetooth, Wifi, and cellular moden"
   ]
  },
  {
   "cell_type": "markdown",
   "metadata": {
    "id": "V-L4G9Ezjeo6",
    "nbpages": {
     "level": 2,
     "link": "[B.0.2 Particle Argon](https://jckantor.github.io/cbe61622/B.00-Working_with_Particle.html#B.0.2-Particle-Argon)",
     "section": "B.0.2 Particle Argon"
    }
   },
   "source": [
    "## B.0.2 Particle Argon\n",
    "\n",
    "[hardware datasheet](https://docs.particle.io/datasheets/wi-fi/argon-datasheet/)\n",
    "\n",
    "[Device OS API](https://docs.particle.io/reference/device-os/firmware/argon/)\n",
    "\n",
    "![](https://docs.particle.io/assets/images/argon/argon-top.png)"
   ]
  },
  {
   "cell_type": "code",
   "execution_count": null,
   "metadata": {
    "id": "2j_jGsvGYmbO",
    "nbpages": {
     "level": 2,
     "link": "[B.0.2 Particle Argon](https://jckantor.github.io/cbe61622/B.00-Working_with_Particle.html#B.0.2-Particle-Argon)",
     "section": "B.0.2 Particle Argon"
    }
   },
   "outputs": [],
   "source": []
  },
  {
   "cell_type": "markdown",
   "id": "45212e30",
   "metadata": {},
   "source": [
    "<!--NAVIGATION-->\n",
    "< [A.4 Scheduling Real-Time Events with Simpy](https://jckantor.github.io/cbe61622/A.04-Scheduling-Real-Time-Events-with-Simpy.html) | [Contents](toc.html) | [B.1 Particle Command Line Interface](https://jckantor.github.io/cbe61622/B.01-Particle_CLI.html) ><p><a href=\"https://colab.research.google.com/github/jckantor/cbe61622/blob/master/docs/B.00-Working_with_Particle.ipynb\"> <img align=\"left\" src=\"https://colab.research.google.com/assets/colab-badge.svg\" alt=\"Open in Colab\" title=\"Open in Google Colaboratory\"></a><p><a href=\"https://jckantor.github.io/cbe61622/B.00-Working_with_Particle.ipynb\"> <img align=\"left\" src=\"https://img.shields.io/badge/Github-Download-blue.svg\" alt=\"Download\" title=\"Download Notebook\"></a>"
   ]
  }
 ],
 "metadata": {
  "colab": {
   "name": "02.00-Working_with_Particle.ipynb",
   "provenance": []
  },
  "kernelspec": {
   "display_name": "Python 3 (ipykernel)",
   "language": "python",
   "name": "python3"
  },
  "language_info": {
   "codemirror_mode": {
    "name": "ipython",
    "version": 3
   },
   "file_extension": ".py",
   "mimetype": "text/x-python",
   "name": "python",
   "nbconvert_exporter": "python",
   "pygments_lexer": "ipython3",
   "version": "3.8.5"
  }
 },
 "nbformat": 4,
 "nbformat_minor": 4
}
