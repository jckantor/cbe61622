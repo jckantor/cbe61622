{
 "cells": [
  {
   "cell_type": "markdown",
   "id": "c4761e58",
   "metadata": {},
   "source": [
    "<!--NOTEBOOK_HEADER-->\n",
    "*This notebook contains material from [cbe61622](https://jckantor.github.io/cbe61622);\n",
    "content is available [on Github](https://github.com/jckantor/cbe61622.git).*\n"
   ]
  },
  {
   "cell_type": "markdown",
   "id": "c4aed4b5",
   "metadata": {},
   "source": [
    "<!--NAVIGATION-->\n",
    "< [B.0 Working with Particle](https://jckantor.github.io/cbe61622/B.00-Working_with_Particle.html) | [Contents](toc.html) | [B.2 Coding for Particle](https://jckantor.github.io/cbe61622/B.02-Particle_Coding.html) ><p><a href=\"https://colab.research.google.com/github/jckantor/cbe61622/blob/master/docs/B.01-Particle_CLI.ipynb\"> <img align=\"left\" src=\"https://colab.research.google.com/assets/colab-badge.svg\" alt=\"Open in Colab\" title=\"Open in Google Colaboratory\"></a><p><a href=\"https://jckantor.github.io/cbe61622/B.01-Particle_CLI.ipynb\"> <img align=\"left\" src=\"https://img.shields.io/badge/Github-Download-blue.svg\" alt=\"Download\" title=\"Download Notebook\"></a>"
   ]
  },
  {
   "cell_type": "markdown",
   "metadata": {
    "id": "2eIn0fxRERLC",
    "nbpages": {
     "level": 1,
     "link": "[B.1 Particle Command Line Interface](https://jckantor.github.io/cbe61622/B.01-Particle_CLI.html#B.1-Particle-Command-Line-Interface)",
     "section": "B.1 Particle Command Line Interface"
    }
   },
   "source": [
    "# B.1 Particle Command Line Interface\n",
    "\n",
    "The Particle Argon is a microcontroller board similar to an Arduino in concept but with extended wifi and cloud support.\n",
    "\n",
    "![Particle Argon](https://images.ctfassets.net/ity165ek7v1z/5x0EeKXhRxrgA2Ebgnqnik/654abeb410afd7f10fd3f99b5d871599/prototype.jpeg?w=510&h=340&q=80&fm=webp)\n",
    "\n",
    "The [Particle command line interface](https://docs.particle.io/tutorials/developer-tools/cli/) provides is a javascript based library exposing much of the Particle device functionality. This notebook shows how the command line interface can be use within Google Colab notebook."
   ]
  },
  {
   "cell_type": "markdown",
   "metadata": {
    "id": "aMCK4cZkEZ_3",
    "nbpages": {
     "level": 2,
     "link": "[B.1.1 Installation of the Particle command line interface](https://jckantor.github.io/cbe61622/B.01-Particle_CLI.html#B.1.1-Installation-of-the-Particle-command-line-interface)",
     "section": "B.1.1 Installation of the Particle command line interface"
    }
   },
   "source": [
    "## B.1.1 Installation of the Particle command line interface"
   ]
  },
  {
   "cell_type": "code",
   "execution_count": null,
   "metadata": {
    "id": "U9qOi8Rdyzwx",
    "nbpages": {
     "level": 2,
     "link": "[B.1.1 Installation of the Particle command line interface](https://jckantor.github.io/cbe61622/B.01-Particle_CLI.html#B.1.1-Installation-of-the-Particle-command-line-interface)",
     "section": "B.1.1 Installation of the Particle command line interface"
    }
   },
   "outputs": [],
   "source": [
    "%%capture\n",
    "!bash <( curl -sL https://particle.io/install-cli )"
   ]
  },
  {
   "cell_type": "markdown",
   "metadata": {
    "id": "RyR318S-FEOT",
    "nbpages": {
     "level": 2,
     "link": "[B.1.2 Login to Particle](https://jckantor.github.io/cbe61622/B.01-Particle_CLI.html#B.1.2-Login-to-Particle)",
     "section": "B.1.2 Login to Particle"
    }
   },
   "source": [
    "## B.1.2 Login to Particle"
   ]
  },
  {
   "cell_type": "code",
   "execution_count": null,
   "metadata": {
    "colab": {
     "base_uri": "https://localhost:8080/",
     "height": 187
    },
    "executionInfo": {
     "elapsed": 20161,
     "status": "ok",
     "timestamp": 1603138648641,
     "user": {
      "displayName": "Jeffrey Kantor",
      "photoUrl": "https://lh3.googleusercontent.com/a-/AOh14Gg_n8V7bVINy02QRuRgOoMo11Ri7NKU3OUKdC1bkQ=s64",
      "userId": "09038942003589296665"
     },
     "user_tz": 240
    },
    "id": "1CMV13RsYAR9",
    "nbpages": {
     "level": 2,
     "link": "[B.1.2 Login to Particle](https://jckantor.github.io/cbe61622/B.01-Particle_CLI.html#B.1.2-Login-to-Particle)",
     "section": "B.1.2 Login to Particle"
    },
    "outputId": "04a9c1d8-e35d-4aec-f349-2adcda312618"
   },
   "outputs": [
    {
     "name": "stdout",
     "output_type": "stream",
     "text": [
      "Username: ··········\n",
      "Password: ··········\n",
      "Successfully logged in to Particle Device Cloud as kantor.1@nd.edu\n",
      "\u001b[2K\u001b[1G\u001b[2K\u001b[1Gjck_argon_01 [e00fce68eaceb1faa7cf7193] (Argon) is online\n",
      "  Functions:\n",
      "    int digitalread (String args) \n",
      "    int digitalwrite (String args) \n",
      "    int analogread (String args) \n",
      "    int analogwrite (String args) \n",
      "\n"
     ]
    }
   ],
   "source": [
    "import getpass\n",
    "import subprocess\n",
    "\n",
    "particle_cli = \"/root/bin/particle\"\n",
    "username = getpass.getpass(prompt=\"Username: \")\n",
    "password = getpass.getpass(prompt=\"Password: \")\n",
    "\n",
    "process = subprocess.run([particle_cli, \"login\",\n",
    "                          \"--username\", username,\n",
    "                          \"--password\", password],\n",
    "                         stdout=subprocess.PIPE, \n",
    "                         stderr=subprocess.PIPE)\n",
    "\n",
    "if process.stderr.decode(\"utf-8\"):\n",
    "    print(process.stderr.decode(\"utf-8\"))\n",
    "else:\n",
    "    print(f\"Successfully logged in to Particle Device Cloud as {username}\")\n",
    "    process = subprocess.run([particle_cli, \"list\"], stdout=subprocess.PIPE)\n",
    "    print(process.stdout.decode(\"utf-8\"))\n"
   ]
  },
  {
   "cell_type": "markdown",
   "metadata": {
    "id": "oEqs1OHbFZ40",
    "nbpages": {
     "level": 2,
     "link": "[B.1.3 Demonstrations](https://jckantor.github.io/cbe61622/B.01-Particle_CLI.html#B.1.3-Demonstrations)",
     "section": "B.1.3 Demonstrations"
    }
   },
   "source": [
    "## B.1.3 Demonstrations"
   ]
  },
  {
   "cell_type": "markdown",
   "metadata": {
    "id": "nClCaD53qHco",
    "nbpages": {
     "level": 3,
     "link": "[B.1.3.1 Flashing Tinker firmware](https://jckantor.github.io/cbe61622/B.01-Particle_CLI.html#B.1.3.1-Flashing-Tinker-firmware)",
     "section": "B.1.3.1 Flashing Tinker firmware"
    }
   },
   "source": [
    "### B.1.3.1 Flashing Tinker firmware\n",
    "\n",
    "[Tinker](https://docs.particle.io/tutorials/developer-tools/tinker/photon/) is the default firmware that ships with Particle devices. The following cell restores the device to the factory default by flashing tinker."
   ]
  },
  {
   "cell_type": "code",
   "execution_count": null,
   "metadata": {
    "id": "wXOjgi6psNS3",
    "nbpages": {
     "level": 3,
     "link": "[B.1.3.1 Flashing Tinker firmware](https://jckantor.github.io/cbe61622/B.01-Particle_CLI.html#B.1.3.1-Flashing-Tinker-firmware)",
     "section": "B.1.3.1 Flashing Tinker firmware"
    }
   },
   "outputs": [],
   "source": [
    "device_name = \"jck_argon_01\""
   ]
  },
  {
   "cell_type": "code",
   "execution_count": null,
   "metadata": {
    "colab": {
     "base_uri": "https://localhost:8080/",
     "height": 102
    },
    "executionInfo": {
     "elapsed": 2020,
     "status": "ok",
     "timestamp": 1603141704434,
     "user": {
      "displayName": "Jeffrey Kantor",
      "photoUrl": "https://lh3.googleusercontent.com/a-/AOh14Gg_n8V7bVINy02QRuRgOoMo11Ri7NKU3OUKdC1bkQ=s64",
      "userId": "09038942003589296665"
     },
     "user_tz": 240
    },
    "id": "tV7qhZWYqUtL",
    "nbpages": {
     "level": 3,
     "link": "[B.1.3.1 Flashing Tinker firmware](https://jckantor.github.io/cbe61622/B.01-Particle_CLI.html#B.1.3.1-Flashing-Tinker-firmware)",
     "section": "B.1.3.1 Flashing Tinker firmware"
    },
    "outputId": "856cf859-53fb-40ed-a32a-3331bdab141e"
   },
   "outputs": [
    {
     "name": "stdout",
     "output_type": "stream",
     "text": [
      "attempting to flash firmware to your device jck_argon_01\n",
      "Flash device OK: Update started\n",
      "\n",
      "Flash success!\n",
      "\n"
     ]
    }
   ],
   "source": [
    "process = subprocess.run([particle_cli, \"flash\", device_name, \"tinker\"], stdout=subprocess.PIPE)\n",
    "print(process.stdout.decode(\"utf-8\"))"
   ]
  },
  {
   "cell_type": "markdown",
   "metadata": {
    "id": "W0tT2zNWFeQs",
    "nbpages": {
     "level": 3,
     "link": "[B.1.3.2 Toggle on-board led](https://jckantor.github.io/cbe61622/B.01-Particle_CLI.html#B.1.3.2-Toggle-on-board-led)",
     "section": "B.1.3.2 Toggle on-board led"
    }
   },
   "source": [
    "### B.1.3.2 Toggle on-board led"
   ]
  },
  {
   "cell_type": "code",
   "execution_count": null,
   "metadata": {
    "id": "Sb-QoNfuFdIH",
    "nbpages": {
     "level": 3,
     "link": "[B.1.3.2 Toggle on-board led](https://jckantor.github.io/cbe61622/B.01-Particle_CLI.html#B.1.3.2-Toggle-on-board-led)",
     "section": "B.1.3.2 Toggle on-board led"
    }
   },
   "outputs": [],
   "source": [
    "import time\n",
    "import os\n",
    "import subprocess\n",
    "\n",
    "led = \"D7\"\n",
    "\n",
    "# digital write\n",
    "def digitalwrite(device_name, pin, value):\n",
    "    process = subprocess.run([particle_cli, \"call\", device_name, \"digitalwrite\",\n",
    "                              f\"{pin},{value}\"], \n",
    "                             stdout=subprocess.PIPE, \n",
    "                             stderr=subprocess.PIPE)\n",
    "    return process.stdout.decode(\"utf-8\")\n",
    "\n",
    "# loop and toggle\n",
    "for k in range(0, 5):\n",
    "    digitalwrite(device_name, led, \"HIGH\")\n",
    "    time.sleep(0.5)\n",
    "    digitalwrite(device_name, led, \"LOW\")"
   ]
  },
  {
   "cell_type": "markdown",
   "metadata": {
    "id": "RtXuNpIQrPZR",
    "nbpages": {
     "level": 3,
     "link": "[B.1.3.3 Reading Grove Light Sensor V1.2](https://jckantor.github.io/cbe61622/B.01-Particle_CLI.html#B.1.3.3-Reading-Grove-Light-Sensor-V1.2)",
     "section": "B.1.3.3 Reading Grove Light Sensor V1.2"
    }
   },
   "source": [
    "### B.1.3.3 Reading Grove Light Sensor V1.2\n",
    "\n",
    "The Grove Light Sensor V1.2 to pin \n",
    "\n",
    "![](https://static-cdn.seeedstudio.site/media/catalog/product/cache/9d0ce51a71ce6a79dfa2a98d65a0f0bd/h/t/httpsstatics3.seeedstudio.comseeedimg2016-10po8b7qd0xnlnchgogziq9g3d.jpg)"
   ]
  },
  {
   "cell_type": "code",
   "execution_count": null,
   "metadata": {
    "colab": {
     "base_uri": "https://localhost:8080/",
     "height": 34
    },
    "executionInfo": {
     "elapsed": 1777,
     "status": "ok",
     "timestamp": 1603142530617,
     "user": {
      "displayName": "Jeffrey Kantor",
      "photoUrl": "https://lh3.googleusercontent.com/a-/AOh14Gg_n8V7bVINy02QRuRgOoMo11Ri7NKU3OUKdC1bkQ=s64",
      "userId": "09038942003589296665"
     },
     "user_tz": 240
    },
    "id": "9wLiYdC64CEH",
    "nbpages": {
     "level": 3,
     "link": "[B.1.3.3 Reading Grove Light Sensor V1.2](https://jckantor.github.io/cbe61622/B.01-Particle_CLI.html#B.1.3.3-Reading-Grove-Light-Sensor-V1.2)",
     "section": "B.1.3.3 Reading Grove Light Sensor V1.2"
    },
    "outputId": "c45f035d-0616-4b3b-913a-16eb3e45e632"
   },
   "outputs": [
    {
     "data": {
      "text/plain": [
       "3895"
      ]
     },
     "execution_count": 52,
     "metadata": {
      "tags": []
     },
     "output_type": "execute_result"
    }
   ],
   "source": [
    "import time\n",
    "import os\n",
    "import subprocess\n",
    "import re\n",
    "\n",
    "device_name = \"jck_argon_01\"\n",
    "light_sensor = \"A2\"\n",
    "\n",
    "def read_ansi(byte_str):\n",
    "    \"\"\"Decode a byte string and remove any ANSI control codes.\"\"\"\n",
    "    return re.sub(r'\\x1B(?:[@-Z\\\\-_]|\\[[0-?]*[ -/]*[@-~])', '', byte_str.decode(\"utf-8\"))\n",
    "\n",
    "# analog read\n",
    "def analogread(device_name, pin):\n",
    "    process = subprocess.run([particle_cli, \"call\", device_name, \"analogread\",  f\"{pin}\"], \n",
    "                         stdout=subprocess.PIPE, stderr=subprocess.PIPE)\n",
    "    return int(read_ansi(process.stdout))\n",
    "\n",
    "analogread(device_name, light_sensor)\n"
   ]
  },
  {
   "cell_type": "markdown",
   "metadata": {
    "id": "ERsWOhNw5NPg",
    "nbpages": {
     "level": 3,
     "link": "[B.1.3.3 Reading Grove Light Sensor V1.2](https://jckantor.github.io/cbe61622/B.01-Particle_CLI.html#B.1.3.3-Reading-Grove-Light-Sensor-V1.2)",
     "section": "B.1.3.3 Reading Grove Light Sensor V1.2"
    }
   },
   "source": []
  },
  {
   "cell_type": "markdown",
   "id": "0a8795ac",
   "metadata": {},
   "source": [
    "<!--NAVIGATION-->\n",
    "< [B.0 Working with Particle](https://jckantor.github.io/cbe61622/B.00-Working_with_Particle.html) | [Contents](toc.html) | [B.2 Coding for Particle](https://jckantor.github.io/cbe61622/B.02-Particle_Coding.html) ><p><a href=\"https://colab.research.google.com/github/jckantor/cbe61622/blob/master/docs/B.01-Particle_CLI.ipynb\"> <img align=\"left\" src=\"https://colab.research.google.com/assets/colab-badge.svg\" alt=\"Open in Colab\" title=\"Open in Google Colaboratory\"></a><p><a href=\"https://jckantor.github.io/cbe61622/B.01-Particle_CLI.ipynb\"> <img align=\"left\" src=\"https://img.shields.io/badge/Github-Download-blue.svg\" alt=\"Download\" title=\"Download Notebook\"></a>"
   ]
  }
 ],
 "metadata": {
  "colab": {
   "authorship_tag": "ABX9TyOhfNu7OVdW68lthLSm9iR+",
   "collapsed_sections": [],
   "name": "02.01-Particle_CLI.ipynb",
   "provenance": []
  },
  "kernelspec": {
   "display_name": "Python 3 (ipykernel)",
   "language": "python",
   "name": "python3"
  },
  "language_info": {
   "codemirror_mode": {
    "name": "ipython",
    "version": 3
   },
   "file_extension": ".py",
   "mimetype": "text/x-python",
   "name": "python",
   "nbconvert_exporter": "python",
   "pygments_lexer": "ipython3",
   "version": "3.8.5"
  }
 },
 "nbformat": 4,
 "nbformat_minor": 4
}
