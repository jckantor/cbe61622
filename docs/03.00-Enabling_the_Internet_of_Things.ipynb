{
 "cells": [
  {
   "cell_type": "markdown",
   "id": "4b667595",
   "metadata": {},
   "source": [
    "<!--NOTEBOOK_HEADER-->\n",
    "*This notebook contains material from [cbe61622](https://jckantor.github.io/cbe61622);\n",
    "content is available [on Github](https://github.com/jckantor/cbe61622.git).*\n"
   ]
  },
  {
   "cell_type": "markdown",
   "id": "e317b900",
   "metadata": {},
   "source": [
    "<!--NAVIGATION-->\n",
    "< [2.5 Simple Stop Watch using Interrupts](https://jckantor.github.io/cbe61622/02.05-Simple_Stop_Watch_using_Interrupts.html) | [Contents](toc.html) | [3.1 Publishing an Experiment via MQTT](https://jckantor.github.io/cbe61622/03.01-Publishing_an_Experiment_via_MQTT.html) ><p><a href=\"https://colab.research.google.com/github/jckantor/cbe61622/blob/master/docs/03.00-Enabling_the_Internet_of_Things.ipynb\"> <img align=\"left\" src=\"https://colab.research.google.com/assets/colab-badge.svg\" alt=\"Open in Colab\" title=\"Open in Google Colaboratory\"></a><p><a href=\"https://jckantor.github.io/cbe61622/03.00-Enabling_the_Internet_of_Things.ipynb\"> <img align=\"left\" src=\"https://img.shields.io/badge/Github-Download-blue.svg\" alt=\"Download\" title=\"Download Notebook\"></a>"
   ]
  },
  {
   "cell_type": "markdown",
   "metadata": {
    "nbpages": {
     "level": 1,
     "link": "[3.0 Enabling the Internet of Things](https://jckantor.github.io/cbe61622/03.00-Enabling_the_Internet_of_Things.html#3.0-Enabling-the-Internet-of-Things)",
     "section": "3.0 Enabling the Internet of Things"
    }
   },
   "source": [
    "# 3.0 Enabling the Internet of Things\n",
    "\n",
    "MQTT is a lightweight protocol for delivering messages between devices through an intermediate broker. Senders declare a 'topic' and 'publish' messages to the broker. Receivers 'subscribe' to particular topics on the broker to receive a copy of all messages pertaining to that topic. Connections between a device and broker are typically over a TCP/IP network, but other transport mediums are in common use. This robust and flexible 'hub-and-spoke' architecture has been widely adopted for 'Internet of Things' (IoT) applications.\n",
    "\n",
    "The MQTT acronym was orginally an abbreviation for Message Queuing Telemetry Transport that was developed by individuals at IBM and Cirrus Link (later Eurotech) for monitoring pipeline by satellite in remote locations. IBM later submitted the protocol to the global standards body, OASIS and ISO, where they are now maintained as open standards."
   ]
  },
  {
   "cell_type": "markdown",
   "metadata": {
    "nbpages": {
     "level": 2,
     "link": "[3.0.1 Background](https://jckantor.github.io/cbe61622/03.00-Enabling_the_Internet_of_Things.html#3.0.1-Background)",
     "section": "3.0.1 Background"
    }
   },
   "source": [
    "## 3.0.1 Background\n",
    "\n",
    "Descriptions\n",
    "\n",
    "* [MQTT.org](MQTT.org)\n",
    "\n",
    "Primers and Tutorials\n",
    "\n",
    "* mqtt primer: https://www.youtube.com/watch?v=AxC_ykketIg&ab_channel=wcltalkstech\n",
    "* HiveMQ MQTT Essentials: https://www.hivemq.com/tags/mqtt-essentials/\n",
    "\n",
    "* [Using MQTT to send and receive data for your next project](https://opensource.com/article/18/6/mqtt)\n",
    "\n",
    "MQTT for Process Applications\n",
    "\n",
    "* [How MQTT is advancing automation and control](https://www.flowcontrolnetwork.com/process-control-automation/article/21122615/how-mqtt-is-advancing-automation-and-control)\n",
    "\n",
    "* [MQTT, open SCADA publish/subscribe protocol is getting what it needs to go industrial](https://www.controlglobal.com/articles/2019/mqtt-open-scada-publishsubscribe-protocol-is-getting-what-it-needs-to-go-industrial/)\n",
    "\n",
    "Bidirectional Messaging\n",
    "\n",
    "* [Two Way communication Using MQTT and Python](http://www.steves-internet-guide.com/two-way-communication-mqtt-python/)\n",
    "\n"
   ]
  },
  {
   "cell_type": "markdown",
   "metadata": {
    "nbpages": {
     "level": 2,
     "link": "[3.0.2 Implementation for CBE-Virtual-Laboratory](https://jckantor.github.io/cbe61622/03.00-Enabling_the_Internet_of_Things.html#3.0.2-Implementation-for-CBE-Virtual-Laboratory)",
     "section": "3.0.2 Implementation for CBE-Virtual-Laboratory"
    }
   },
   "source": [
    "## 3.0.2 Implementation for CBE-Virtual-Laboratory"
   ]
  },
  {
   "cell_type": "markdown",
   "metadata": {
    "nbpages": {
     "level": 2,
     "link": "[3.0.2 Implementation for CBE-Virtual-Laboratory](https://jckantor.github.io/cbe61622/03.00-Enabling_the_Internet_of_Things.html#3.0.2-Implementation-for-CBE-Virtual-Laboratory)",
     "section": "3.0.2 Implementation for CBE-Virtual-Laboratory"
    }
   },
   "source": [
    "For the purposes of the CBE-Virtual-Laboratory, we propose a topic naming scheme that will enable bidirectional communication between devices, and provide for the setup and tear down of applications and connections.  \n",
    "\n",
    "* The highest level to the topic is assigned `cbe-virtual-laboratory`.  \n",
    "* The second level designates the laboratory application. This may consist of one or more topic strings designating, for example, a location and application.\n",
    "* The third level designates a device\n",
    "* The fourth level designates a channel\n",
    "    * command\n",
    "    * send\n",
    "    * receive\n",
    "    \n",
    "   \n",
    "\n",
    "\n",
    "    cbe-virtual-laboratory/APPLICATION/DEVICE/CHANNEL"
   ]
  },
  {
   "cell_type": "markdown",
   "metadata": {
    "nbpages": {
     "level": 2,
     "link": "[3.0.3 Useful Apps and Links](https://jckantor.github.io/cbe61622/03.00-Enabling_the_Internet_of_Things.html#3.0.3-Useful-Apps-and-Links)",
     "section": "3.0.3 Useful Apps and Links"
    }
   },
   "source": [
    "## 3.0.3 Useful Apps and Links\n",
    "\n",
    "* **MQTTBox** A Windows/Linux/Mac App to create MTQQ clients and monitor the broker.\n",
    "* [Reporting temperature using our Particle Argon through MQTT and the TICK stack](https://www.youtube.com/watch?v=AxC_ykketIg&ab_channel=wcltalkstech)"
   ]
  },
  {
   "cell_type": "code",
   "execution_count": null,
   "metadata": {
    "nbpages": {
     "level": 2,
     "link": "[3.0.3 Useful Apps and Links](https://jckantor.github.io/cbe61622/03.00-Enabling_the_Internet_of_Things.html#3.0.3-Useful-Apps-and-Links)",
     "section": "3.0.3 Useful Apps and Links"
    }
   },
   "outputs": [],
   "source": []
  },
  {
   "cell_type": "markdown",
   "id": "ef2128f3",
   "metadata": {},
   "source": [
    "<!--NAVIGATION-->\n",
    "< [2.5 Simple Stop Watch using Interrupts](https://jckantor.github.io/cbe61622/02.05-Simple_Stop_Watch_using_Interrupts.html) | [Contents](toc.html) | [3.1 Publishing an Experiment via MQTT](https://jckantor.github.io/cbe61622/03.01-Publishing_an_Experiment_via_MQTT.html) ><p><a href=\"https://colab.research.google.com/github/jckantor/cbe61622/blob/master/docs/03.00-Enabling_the_Internet_of_Things.ipynb\"> <img align=\"left\" src=\"https://colab.research.google.com/assets/colab-badge.svg\" alt=\"Open in Colab\" title=\"Open in Google Colaboratory\"></a><p><a href=\"https://jckantor.github.io/cbe61622/03.00-Enabling_the_Internet_of_Things.ipynb\"> <img align=\"left\" src=\"https://img.shields.io/badge/Github-Download-blue.svg\" alt=\"Download\" title=\"Download Notebook\"></a>"
   ]
  }
 ],
 "metadata": {
  "kernelspec": {
   "display_name": "Python 3 (ipykernel)",
   "language": "python",
   "name": "python3"
  },
  "language_info": {
   "codemirror_mode": {
    "name": "ipython",
    "version": 3
   },
   "file_extension": ".py",
   "mimetype": "text/x-python",
   "name": "python",
   "nbconvert_exporter": "python",
   "pygments_lexer": "ipython3",
   "version": "3.8.5"
  }
 },
 "nbformat": 4,
 "nbformat_minor": 4
}
