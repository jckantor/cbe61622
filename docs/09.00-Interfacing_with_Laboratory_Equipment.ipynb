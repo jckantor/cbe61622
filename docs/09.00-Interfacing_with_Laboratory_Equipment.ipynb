{
 "cells": [
  {
   "cell_type": "markdown",
   "id": "9240908f",
   "metadata": {},
   "source": [
    "<!--NOTEBOOK_HEADER-->\n",
    "*This notebook contains material from [cbe61622](https://jckantor.github.io/cbe61622);\n",
    "content is available [on Github](https://github.com/jckantor/cbe61622.git).*\n"
   ]
  },
  {
   "cell_type": "markdown",
   "id": "6bae051c",
   "metadata": {},
   "source": [
    "<!--NAVIGATION-->\n",
    "< [8.0 Feedback Control](https://jckantor.github.io/cbe61622/08.00-Feedback_Control.html) | [Contents](toc.html) | [9.1 Communicating via TCP](https://jckantor.github.io/cbe61622/09.01-Communicating _via_TCP.html) ><p><a href=\"https://colab.research.google.com/github/jckantor/cbe61622/blob/master/docs/09.00-Interfacing_with_Laboratory_Equipment.ipynb\"> <img align=\"left\" src=\"https://colab.research.google.com/assets/colab-badge.svg\" alt=\"Open in Colab\" title=\"Open in Google Colaboratory\"></a><p><a href=\"https://jckantor.github.io/cbe61622/09.00-Interfacing_with_Laboratory_Equipment.ipynb\"> <img align=\"left\" src=\"https://img.shields.io/badge/Github-Download-blue.svg\" alt=\"Download\" title=\"Download Notebook\"></a>"
   ]
  },
  {
   "cell_type": "markdown",
   "metadata": {
    "id": "_erkQTRtoTrZ",
    "nbpages": {
     "level": 1,
     "link": "[9.0 Interfacing with Laboratory Equipment](https://jckantor.github.io/cbe61622/09.00-Interfacing_with_Laboratory_Equipment.html#9.0-Interfacing-with-Laboratory-Equipment)",
     "section": "9.0 Interfacing with Laboratory Equipment"
    }
   },
   "source": [
    "# 9.0 Interfacing with Laboratory Equipment\n"
   ]
  },
  {
   "cell_type": "code",
   "execution_count": null,
   "metadata": {
    "id": "Y2SZjkkuoTrd",
    "nbpages": {
     "level": 1,
     "link": "[9.0 Interfacing with Laboratory Equipment](https://jckantor.github.io/cbe61622/09.00-Interfacing_with_Laboratory_Equipment.html#9.0-Interfacing-with-Laboratory-Equipment)",
     "section": "9.0 Interfacing with Laboratory Equipment"
    }
   },
   "outputs": [],
   "source": []
  },
  {
   "cell_type": "markdown",
   "id": "0c8d43bc",
   "metadata": {},
   "source": [
    "<!--NAVIGATION-->\n",
    "< [8.0 Feedback Control](https://jckantor.github.io/cbe61622/08.00-Feedback_Control.html) | [Contents](toc.html) | [9.1 Communicating via TCP](https://jckantor.github.io/cbe61622/09.01-Communicating _via_TCP.html) ><p><a href=\"https://colab.research.google.com/github/jckantor/cbe61622/blob/master/docs/09.00-Interfacing_with_Laboratory_Equipment.ipynb\"> <img align=\"left\" src=\"https://colab.research.google.com/assets/colab-badge.svg\" alt=\"Open in Colab\" title=\"Open in Google Colaboratory\"></a><p><a href=\"https://jckantor.github.io/cbe61622/09.00-Interfacing_with_Laboratory_Equipment.ipynb\"> <img align=\"left\" src=\"https://img.shields.io/badge/Github-Download-blue.svg\" alt=\"Download\" title=\"Download Notebook\"></a>"
   ]
  }
 ],
 "metadata": {
  "colab": {
   "collapsed_sections": [],
   "name": "09.00-Interfacing_with_Laboratory_Equipment.ipynb",
   "provenance": []
  },
  "kernelspec": {
   "display_name": "Python 3",
   "language": "python",
   "name": "python3"
  },
  "language_info": {
   "codemirror_mode": {
    "name": "ipython",
    "version": 3
   },
   "file_extension": ".py",
   "mimetype": "text/x-python",
   "name": "python",
   "nbconvert_exporter": "python",
   "pygments_lexer": "ipython3",
   "version": "3.7.4"
  }
 },
 "nbformat": 4,
 "nbformat_minor": 0
}
