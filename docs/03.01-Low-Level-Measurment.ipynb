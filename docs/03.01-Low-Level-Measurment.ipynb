{
 "cells": [
  {
   "cell_type": "markdown",
   "id": "64c68a6b",
   "metadata": {},
   "source": [
    "<!--NOTEBOOK_HEADER-->\n",
    "*This notebook contains material from [cbe61622](https://jckantor.github.io/cbe61622);\n",
    "content is available [on Github](https://github.com/jckantor/cbe61622.git).*\n"
   ]
  },
  {
   "cell_type": "markdown",
   "id": "e40289d1",
   "metadata": {},
   "source": [
    "<!--NAVIGATION-->\n",
    "< [3.0 Analog Measurement](https://jckantor.github.io/cbe61622/03.00-Analog-Measurement.html) | [Contents](toc.html) | [3.2 Sampling Continuous Time Signals](https://jckantor.github.io/cbe61622/03.02-Sampling-Continuous-Time-Signals.html) ><p><a href=\"https://colab.research.google.com/github/jckantor/cbe61622/blob/master/docs/03.01-Low-Level-Measurment.ipynb\"> <img align=\"left\" src=\"https://colab.research.google.com/assets/colab-badge.svg\" alt=\"Open in Colab\" title=\"Open in Google Colaboratory\"></a><p><a href=\"https://jckantor.github.io/cbe61622/03.01-Low-Level-Measurment.ipynb\"> <img align=\"left\" src=\"https://img.shields.io/badge/Github-Download-blue.svg\" alt=\"Download\" title=\"Download Notebook\"></a>"
   ]
  },
  {
   "cell_type": "markdown",
   "id": "d5977003-b449-4c9f-aa41-3a5adbcc1c58",
   "metadata": {
    "nbpages": {
     "level": 1,
     "link": "[3.1 Low-Level Measurement](https://jckantor.github.io/cbe61622/03.01-Low-Level-Measurment.html#3.1-Low-Level-Measurement)",
     "section": "3.1 Low-Level Measurement"
    }
   },
   "source": [
    "# 3.1 Low-Level Measurement"
   ]
  },
  {
   "cell_type": "markdown",
   "id": "6aa18f61-bd85-4726-a9e4-31d9ddfbff75",
   "metadata": {
    "nbpages": {
     "level": 2,
     "link": "[3.1.1 References](https://jckantor.github.io/cbe61622/03.01-Low-Level-Measurment.html#3.1.1-References)",
     "section": "3.1.1 References"
    }
   },
   "source": [
    "## 3.1.1 References\n",
    "\n",
    "* [Low Level Measurements Handbook - 7th Edition (Kiethley)](https://download.tek.com/document/LowLevelHandbook_7Ed.pdf)\n",
    "* [Art of Electronics, Chapter 8]"
   ]
  },
  {
   "cell_type": "markdown",
   "id": "87908ad3-4c63-4e11-8d69-316cb8ea615a",
   "metadata": {
    "nbpages": {
     "level": 2,
     "link": "[3.1.2 Limits to Measurements](https://jckantor.github.io/cbe61622/03.01-Low-Level-Measurment.html#3.1.2-Limits-to-Measurements)",
     "section": "3.1.2 Limits to Measurements"
    }
   },
   "source": [
    "## 3.1.2 Limits to Measurements\n",
    "\n",
    "Sources of noise\n",
    "\n",
    "White noise:\n",
    "\n",
    "* *Shot noise* from the discrete nature of charge carriers\n",
    "* *Johnson noise* caused by thermal fluctuations\n",
    "\n",
    "Other noise:\n",
    "\n",
    "* *Flicker 1/f noise* from a variety of sources\n",
    "* .... and many more!\n",
    "\n"
   ]
  },
  {
   "cell_type": "markdown",
   "id": "8ba870cf-5be5-4450-aefc-3dbbb57523bf",
   "metadata": {
    "nbpages": {
     "level": 3,
     "link": "[3.1.2.1 Shot Noise](https://jckantor.github.io/cbe61622/03.01-Low-Level-Measurment.html#3.1.2.1-Shot-Noise)",
     "section": "3.1.2.1 Shot Noise"
    }
   },
   "source": [
    "### 3.1.2.1 Shot Noise\n",
    "\n",
    "* Description and theory, Walter Schottky, 1918. \n",
    "* [Poisson Process - Wolfram MathWorld](https://mathworld.wolfram.com/PoissonProcess.html)\n",
    "\n",
    "Shot noise is the noise due to descrete nature of electric charge. Shot noise can be modeled as a Poisson process. A fundamental consideration in electrical and optical devices including photography.\n",
    "\n",
    "In a Poisson process:\n",
    "\n",
    "* Poisson processes model the occurrence of independent events that occur one at a time.\n",
    "* The probability of exactly one event in a sufficiently short interval $h$ is $P = \\nu h$ where the constant $\\nu$ is the average rate of events.\n",
    "* Each interval is a Bernoulli trial. The number of events in a time period is given by\n",
    "\n",
    "$$P(k) = \\frac{(\\nu h)^k}{k!} e^{-\\nu h}$$\n",
    "* $\\mu = \\nu h$ is the expected number of events in the interval $h$\n",
    "* $\\sigma^2 = \\nu h$ is also the variance in the number of events in interval $h$.\n",
    "* The waiting time between events follows an exponential distribution. The probability of waiting longer than $t$ is \n",
    "\n",
    "$$P(t > h) = e^{-\\nu h}$$\n",
    "\n",
    "or less that $t$\n",
    "\n",
    "$$P(t \\leq h) = 1 - e^{-\\nu h}$$\n",
    "\n",
    "This last expression is the cumulative distribution function. The probably density function is the derivative\n",
    "\n",
    "$$f(h) = \\nu e ^ {-\\nu h}$$\n",
    "\n",
    "**Frequency domain**\n",
    "\n",
    "[A frequency-domain derivation of shot noise](https://core.ac.uk/download/pdf/33125817.pdf)\n",
    "\n",
    "$$i_{noise} = \\sqrt{2 q I_{dc}}$$\n",
    "\n",
    "where $q = 1/C$ is the electron charge $1.60\\times 10^{-19}$ C.\n",
    "\n",
    "**Signal to Noise Ratio**\n",
    "\n",
    "Signal to noise ratio is normally expressed as the power of the signal divided by the power of the noise. \n",
    "\n",
    "$$\\text{SNR} = \\frac{\\mu^2}{\\sigma^2}$$\n",
    "\n",
    "If the interval is $\\delta t$ the current is $I$, rate of charge carriers is $C I h$ where $C$ is Coulomb constant. The SNR is then\n",
    "\n",
    "$$\\text{SNR} = \\frac{(C I \\delta t)^2}{C I \\delta t} = C I \\delta t$$\n",
    "\n",
    "Question: Suppose you need 5 sigma accuracy (i.e, $\\frac{\\mu}{\\sigma} > 5$) and are measuring a 1 nA signal, what is the fastest sampling rate you can expect?\n",
    "\n",
    "**Simulated Photon Noise**\n",
    "\n",
    "A sequence of images in which the average number of photons captured per pixel increases by factors of 10x between images. [source](https://commons.wikimedia.org/wiki/File:Photon-noise.jpg)\n",
    "\n",
    "![](https://upload.wikimedia.org/wikipedia/commons/4/42/Photon-noise.jpg)\n",
    "\n",
    "\n",
    "Question:\n",
    "\n",
    "1. Which image has the most noise?\n",
    "2. Which image has the lower signal to noise ratio?"
   ]
  },
  {
   "cell_type": "code",
   "execution_count": 57,
   "id": "8c8afde4-2fd9-4538-b575-de57f003b82c",
   "metadata": {
    "nbpages": {
     "level": 3,
     "link": "[3.1.2.1 Shot Noise](https://jckantor.github.io/cbe61622/03.01-Low-Level-Measurment.html#3.1.2.1-Shot-Noise)",
     "section": "3.1.2.1 Shot Noise"
    }
   },
   "outputs": [
    {
     "name": "stdout",
     "output_type": "stream",
     "text": [
      "nu = 6241509.074 electrons per second\n",
      "expected number of electrons per step nu*h = 6.241509074\n"
     ]
    },
    {
     "data": {
      "text/plain": [
       "Text(0.5, 0, 'seconds')"
      ]
     },
     "execution_count": 57,
     "metadata": {},
     "output_type": "execute_result"
    },
    {
     "data": {
      "image/png": "[encoded data removed]",
      "text/plain": [
       "<Figure size 864x576 with 2 Axes>"
      ]
     },
     "metadata": {
      "needs_background": "light"
     },
     "output_type": "display_data"
    }
   ],
   "source": [
    "# Demonstration\n",
    "# \n",
    "# Simulate shot noise for a 1 pA current\n",
    "\n",
    "%matplotlib inline\n",
    "\n",
    "import random\n",
    "import math\n",
    "import numpy as np\n",
    "import matplotlib.pyplot as plt\n",
    "\n",
    "# constants\n",
    "C = 6.241509074e18     # number of electrons in a Coulomb\n",
    "I = 1e-12              # 1 pA of current\n",
    "h = 1e-6               # 1 microsecond\n",
    "\n",
    "nu = C*I\n",
    "print(\"nu =\", nu, \"electrons per second\") \n",
    "print(\"expected number of electrons per step nu*h =\", nu*h)\n",
    "\n",
    "K = 600\n",
    "\n",
    "# simulate arrival of K charge carriers\n",
    "dt = np.random.exponential(1/nu, size=(K))\n",
    "t = np.cumsum(dt)\n",
    "\n",
    "# plot results\n",
    "y = np.array([1]*len(t))\n",
    "\n",
    "fig, ax = plt.subplots(2, 1, figsize=(12, 8))\n",
    "ax[0].plot(t, y, '.')\n",
    "\n",
    "ax[1].step(t, np.cumsum(y)/C, where=\"pre\")\n",
    "ax[1].plot(t, I*t)\n",
    "ax[1].set_ylabel('coulombs')\n",
    "ax[1].set_xlabel('seconds')"
   ]
  },
  {
   "cell_type": "markdown",
   "id": "f4d5b4a6-e328-459b-b1f8-4775a7dc5d6c",
   "metadata": {
    "nbpages": {
     "level": 3,
     "link": "[3.1.2.1 Shot Noise](https://jckantor.github.io/cbe61622/03.01-Low-Level-Measurment.html#3.1.2.1-Shot-Noise)",
     "section": "3.1.2.1 Shot Noise"
    }
   },
   "source": []
  },
  {
   "cell_type": "code",
   "execution_count": null,
   "id": "91c9ec54-31f6-4dba-83d7-31fab4377ca4",
   "metadata": {
    "nbpages": {
     "level": 3,
     "link": "[3.1.2.1 Shot Noise](https://jckantor.github.io/cbe61622/03.01-Low-Level-Measurment.html#3.1.2.1-Shot-Noise)",
     "section": "3.1.2.1 Shot Noise"
    }
   },
   "outputs": [],
   "source": []
  },
  {
   "cell_type": "markdown",
   "id": "9a77b302-ede4-4b33-8dbf-d48bfc33cb0d",
   "metadata": {
    "nbpages": {
     "level": 3,
     "link": "[3.1.2.2 Johnson-Nyquist Noise](https://jckantor.github.io/cbe61622/03.01-Low-Level-Measurment.html#3.1.2.2-Johnson-Nyquist-Noise)",
     "section": "3.1.2.2 Johnson-Nyquist Noise"
    }
   },
   "source": [
    "### 3.1.2.2 Johnson-Nyquist Noise\n",
    "\n",
    "* Discovered and measured by John B. Johnson, Bell Labs, 1926\n",
    "* Explained by Harry Nyquist, Bell Labs, 1928. \n",
    "\n",
    "Johnson noise has the same origins as black-body radiation. The average (root mean square) voltage due to thermal noise in a resistor is\n",
    "\n",
    "$$v_{noise} = \\sqrt{4kTRB}$$\n",
    "\n",
    "where $k$ is Boltzmann's constant, T is absolute temperature, R is resistance, and B is bandwidth in Hertz. At 20 deg C \n",
    "\n",
    "\\begin{align*}\n",
    "4kT & = 1.62 \\times 10^{-20} & V^2/Hz-\\Omega \\\\\n",
    "\\sqrt{4ktR} & = 1.27\\times 10^{-10}\\sqrt{R} & V/Hz^{1/2}\n",
    "\\end{align*}\n",
    "\n",
    "The short-circuit current noise is\n",
    "\n",
    "$$i_{noise} = v_{noise}/R = \\sqrt{\\frac{4kTB}{R}}$$\n",
    "\n",
    "Question: What is the RMS voltage of 10k ohm resistor?\n",
    "\n",
    "* High resistances results in noisy voltage signals\n",
    "* Low resistance results in noisy currrent signals\n",
    "\n",
    "$$P_{noise} = v_{noise}i_{noise} = 4kTB$$"
   ]
  },
  {
   "cell_type": "markdown",
   "id": "66e727fd-26d4-4837-8e09-5b3377d5e5a4",
   "metadata": {
    "nbpages": {
     "level": 2,
     "link": "[3.1.3 Chemical Applications](https://jckantor.github.io/cbe61622/03.01-Low-Level-Measurment.html#3.1.3-Chemical-Applications)",
     "section": "3.1.3 Chemical Applications"
    }
   },
   "source": [
    "## 3.1.3 Chemical Applications\n",
    "\n",
    "* Electrochemical Measurements\n",
    "    * Ion-selective electrodes\n",
    "    * pH measurements\n",
    "    * Conductivity cells\n",
    "    * Potientiostat/Galvanostat"
   ]
  },
  {
   "cell_type": "code",
   "execution_count": null,
   "id": "01f0b7e8-3952-47dc-9885-7527c251e483",
   "metadata": {
    "nbpages": {
     "level": 2,
     "link": "[3.1.3 Chemical Applications](https://jckantor.github.io/cbe61622/03.01-Low-Level-Measurment.html#3.1.3-Chemical-Applications)",
     "section": "3.1.3 Chemical Applications"
    }
   },
   "outputs": [],
   "source": []
  },
  {
   "cell_type": "markdown",
   "id": "8f173a4b",
   "metadata": {},
   "source": [
    "<!--NAVIGATION-->\n",
    "< [3.0 Analog Measurement](https://jckantor.github.io/cbe61622/03.00-Analog-Measurement.html) | [Contents](toc.html) | [3.2 Sampling Continuous Time Signals](https://jckantor.github.io/cbe61622/03.02-Sampling-Continuous-Time-Signals.html) ><p><a href=\"https://colab.research.google.com/github/jckantor/cbe61622/blob/master/docs/03.01-Low-Level-Measurment.ipynb\"> <img align=\"left\" src=\"https://colab.research.google.com/assets/colab-badge.svg\" alt=\"Open in Colab\" title=\"Open in Google Colaboratory\"></a><p><a href=\"https://jckantor.github.io/cbe61622/03.01-Low-Level-Measurment.ipynb\"> <img align=\"left\" src=\"https://img.shields.io/badge/Github-Download-blue.svg\" alt=\"Download\" title=\"Download Notebook\"></a>"
   ]
  }
 ],
 "metadata": {
  "kernelspec": {
   "display_name": "Python 3 (ipykernel)",
   "language": "python",
   "name": "python3"
  },
  "language_info": {
   "codemirror_mode": {
    "name": "ipython",
    "version": 3
   },
   "file_extension": ".py",
   "mimetype": "text/x-python",
   "name": "python",
   "nbconvert_exporter": "python",
   "pygments_lexer": "ipython3",
   "version": "3.8.5"
  }
 },
 "nbformat": 4,
 "nbformat_minor": 5
}
