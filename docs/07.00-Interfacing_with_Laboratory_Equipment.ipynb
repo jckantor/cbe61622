{
 "cells": [
  {
   "cell_type": "markdown",
   "id": "8fd37a23",
   "metadata": {},
   "source": [
    "<!--NOTEBOOK_HEADER-->\n",
    "*This notebook contains material from [cbe61622](https://jckantor.github.io/cbe61622);\n",
    "content is available [on Github](https://github.com/jckantor/cbe61622.git).*\n"
   ]
  },
  {
   "cell_type": "markdown",
   "id": "faeec2b4",
   "metadata": {},
   "source": [
    "<!--NAVIGATION-->\n",
    "< [6.5 PIO Programming](https://jckantor.github.io/cbe61622/06.05-PIO-Programming.html) | [Contents](toc.html) | [7.1 Stepper Motors](https://jckantor.github.io/cbe61622/07.01-Stepper-Motors.html) ><p><a href=\"https://colab.research.google.com/github/jckantor/cbe61622/blob/master/docs/07.00-Interfacing_with_Laboratory_Equipment.ipynb\"> <img align=\"left\" src=\"https://colab.research.google.com/assets/colab-badge.svg\" alt=\"Open in Colab\" title=\"Open in Google Colaboratory\"></a><p><a href=\"https://jckantor.github.io/cbe61622/07.00-Interfacing_with_Laboratory_Equipment.ipynb\"> <img align=\"left\" src=\"https://img.shields.io/badge/Github-Download-blue.svg\" alt=\"Download\" title=\"Download Notebook\"></a>"
   ]
  },
  {
   "cell_type": "markdown",
   "metadata": {
    "id": "_erkQTRtoTrZ",
    "nbpages": {
     "level": 1,
     "link": "[7.0 Interfacing with Laboratory Equipment](https://jckantor.github.io/cbe61622/07.00-Interfacing_with_Laboratory_Equipment.html#7.0-Interfacing-with-Laboratory-Equipment)",
     "section": "7.0 Interfacing with Laboratory Equipment"
    }
   },
   "source": [
    "# 7.0 Interfacing with Laboratory Equipment\n"
   ]
  },
  {
   "cell_type": "code",
   "execution_count": null,
   "metadata": {
    "id": "Y2SZjkkuoTrd",
    "nbpages": {
     "level": 1,
     "link": "[7.0 Interfacing with Laboratory Equipment](https://jckantor.github.io/cbe61622/07.00-Interfacing_with_Laboratory_Equipment.html#7.0-Interfacing-with-Laboratory-Equipment)",
     "section": "7.0 Interfacing with Laboratory Equipment"
    }
   },
   "outputs": [],
   "source": []
  },
  {
   "cell_type": "markdown",
   "id": "a0ae30c8",
   "metadata": {},
   "source": [
    "<!--NAVIGATION-->\n",
    "< [6.5 PIO Programming](https://jckantor.github.io/cbe61622/06.05-PIO-Programming.html) | [Contents](toc.html) | [7.1 Stepper Motors](https://jckantor.github.io/cbe61622/07.01-Stepper-Motors.html) ><p><a href=\"https://colab.research.google.com/github/jckantor/cbe61622/blob/master/docs/07.00-Interfacing_with_Laboratory_Equipment.ipynb\"> <img align=\"left\" src=\"https://colab.research.google.com/assets/colab-badge.svg\" alt=\"Open in Colab\" title=\"Open in Google Colaboratory\"></a><p><a href=\"https://jckantor.github.io/cbe61622/07.00-Interfacing_with_Laboratory_Equipment.ipynb\"> <img align=\"left\" src=\"https://img.shields.io/badge/Github-Download-blue.svg\" alt=\"Download\" title=\"Download Notebook\"></a>"
   ]
  }
 ],
 "metadata": {
  "colab": {
   "collapsed_sections": [],
   "name": "09.00-Interfacing_with_Laboratory_Equipment.ipynb",
   "provenance": []
  },
  "kernelspec": {
   "display_name": "Python 3",
   "language": "python",
   "name": "python3"
  },
  "language_info": {
   "codemirror_mode": {
    "name": "ipython",
    "version": 3
   },
   "file_extension": ".py",
   "mimetype": "text/x-python",
   "name": "python",
   "nbconvert_exporter": "python",
   "pygments_lexer": "ipython3",
   "version": "3.7.4"
  }
 },
 "nbformat": 4,
 "nbformat_minor": 0
}
