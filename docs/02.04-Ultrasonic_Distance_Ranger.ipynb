{
 "cells": [
  {
   "cell_type": "markdown",
   "id": "20e432f0",
   "metadata": {},
   "source": [
    "<!--NOTEBOOK_HEADER-->\n",
    "*This notebook contains material from [cbe61622](https://jckantor.github.io/cbe61622);\n",
    "content is available [on Github](https://github.com/jckantor/cbe61622.git).*\n"
   ]
  },
  {
   "cell_type": "markdown",
   "id": "06cc5d07",
   "metadata": {},
   "source": [
    "<!--NAVIGATION-->\n",
    "< [2.3 Particle Command Line Interface (CLI)](https://jckantor.github.io/cbe61622/02.03-Particle-CLI.html) | [Contents](toc.html) | [2.5 Simple Stop Watch using Interrupts](https://jckantor.github.io/cbe61622/02.05-Simple_Stop_Watch_using_Interrupts.html) ><p><a href=\"https://colab.research.google.com/github/jckantor/cbe61622/blob/master/docs/02.04-Ultrasonic_Distance_Ranger.ipynb\"> <img align=\"left\" src=\"https://colab.research.google.com/assets/colab-badge.svg\" alt=\"Open in Colab\" title=\"Open in Google Colaboratory\"></a><p><a href=\"https://jckantor.github.io/cbe61622/02.04-Ultrasonic_Distance_Ranger.ipynb\"> <img align=\"left\" src=\"https://img.shields.io/badge/Github-Download-blue.svg\" alt=\"Download\" title=\"Download Notebook\"></a>"
   ]
  },
  {
   "cell_type": "markdown",
   "metadata": {
    "id": "2eIn0fxRERLC",
    "nbpages": {
     "level": 1,
     "link": "[2.4 Ultrasonic Distance Ranger](https://jckantor.github.io/cbe61622/02.04-Ultrasonic_Distance_Ranger.html#2.4-Ultrasonic-Distance-Ranger)",
     "section": "2.4 Ultrasonic Distance Ranger"
    }
   },
   "source": [
    "# 2.4 Ultrasonic Distance Ranger\n",
    "\n",
    "Create a simple rangefinder that reports distance, measured in millimeters, to a real-time display."
   ]
  },
  {
   "cell_type": "markdown",
   "metadata": {
    "id": "aMCK4cZkEZ_3",
    "nbpages": {
     "level": 2,
     "link": "[2.4.1 Particle CLI](https://jckantor.github.io/cbe61622/02.04-Ultrasonic_Distance_Ranger.html#2.4.1-Particle-CLI)",
     "section": "2.4.1 Particle CLI"
    }
   },
   "source": [
    "## 2.4.1 Particle CLI"
   ]
  },
  {
   "cell_type": "markdown",
   "metadata": {
    "id": "I8T4ooaP_Th3",
    "nbpages": {
     "level": 3,
     "link": "[2.4.1.1 Installation](https://jckantor.github.io/cbe61622/02.04-Ultrasonic_Distance_Ranger.html#2.4.1.1-Installation)",
     "section": "2.4.1.1 Installation"
    }
   },
   "source": [
    "### 2.4.1.1 Installation"
   ]
  },
  {
   "cell_type": "code",
   "execution_count": 2,
   "metadata": {
    "executionInfo": {
     "elapsed": 53577,
     "status": "ok",
     "timestamp": 1603627494749,
     "user": {
      "displayName": "Jeffrey Kantor",
      "photoUrl": "https://lh3.googleusercontent.com/a-/AOh14Gg_n8V7bVINy02QRuRgOoMo11Ri7NKU3OUKdC1bkQ=s64",
      "userId": "09038942003589296665"
     },
     "user_tz": 240
    },
    "id": "U9qOi8Rdyzwx",
    "nbpages": {
     "level": 3,
     "link": "[2.4.1.1 Installation](https://jckantor.github.io/cbe61622/02.04-Ultrasonic_Distance_Ranger.html#2.4.1.1-Installation)",
     "section": "2.4.1.1 Installation"
    }
   },
   "outputs": [],
   "source": [
    "%%capture\n",
    "!bash <( curl -sL https://particle.io/install-cli )"
   ]
  },
  {
   "cell_type": "markdown",
   "metadata": {
    "id": "X21Hmxnb_J8B",
    "nbpages": {
     "level": 3,
     "link": "[2.4.1.2 Utility functions](https://jckantor.github.io/cbe61622/02.04-Ultrasonic_Distance_Ranger.html#2.4.1.2-Utility-functions)",
     "section": "2.4.1.2 Utility functions"
    }
   },
   "source": [
    "### 2.4.1.2 Utility functions"
   ]
  },
  {
   "cell_type": "code",
   "execution_count": 3,
   "metadata": {
    "executionInfo": {
     "elapsed": 625,
     "status": "ok",
     "timestamp": 1603627497930,
     "user": {
      "displayName": "Jeffrey Kantor",
      "photoUrl": "https://lh3.googleusercontent.com/a-/AOh14Gg_n8V7bVINy02QRuRgOoMo11Ri7NKU3OUKdC1bkQ=s64",
      "userId": "09038942003589296665"
     },
     "user_tz": 240
    },
    "id": "IVNRmKaglmkp",
    "nbpages": {
     "level": 3,
     "link": "[2.4.1.2 Utility functions](https://jckantor.github.io/cbe61622/02.04-Ultrasonic_Distance_Ranger.html#2.4.1.2-Utility-functions)",
     "section": "2.4.1.2 Utility functions"
    }
   },
   "outputs": [],
   "source": [
    "import re\n",
    "import subprocess\n",
    "\n",
    "# regular expression to strip ansi control characters\n",
    "ansi = re.compile(r'\\x1B(?:[@-Z\\\\-_]|\\[[0-?]*[ -/]*[@-~])')\n",
    "\n",
    "# decode byte string and strip ansi control characters\n",
    "def decode_bytes(byte_string):\n",
    "    if isinstance(byte_string, bytes):\n",
    "        result = byte_string.decode(\"utf-8\")\n",
    "    return ansi.sub(\"\", result)\n",
    "\n",
    "# streamline call to the particle-cli\n",
    "def particle(args, particle_cli=\"/root/bin/particle\"):\n",
    "    process = subprocess.run([particle_cli] + args,\n",
    "                             stdout=subprocess.PIPE,\n",
    "                             stderr=subprocess.PIPE)\n",
    "    process.stdout = decode_bytes(process.stdout)\n",
    "    process.stderr = decode_bytes(process.stderr)\n",
    "    return process"
   ]
  },
  {
   "cell_type": "markdown",
   "metadata": {
    "id": "RyR318S-FEOT",
    "nbpages": {
     "level": 3,
     "link": "[2.4.1.3 Login to Particle](https://jckantor.github.io/cbe61622/02.04-Ultrasonic_Distance_Ranger.html#2.4.1.3-Login-to-Particle)",
     "section": "2.4.1.3 Login to Particle"
    }
   },
   "source": [
    "### 2.4.1.3 Login to Particle"
   ]
  },
  {
   "cell_type": "code",
   "execution_count": 4,
   "metadata": {
    "colab": {
     "base_uri": "https://localhost:8080/",
     "height": 85
    },
    "executionInfo": {
     "elapsed": 15088,
     "status": "ok",
     "timestamp": 1603627514182,
     "user": {
      "displayName": "Jeffrey Kantor",
      "photoUrl": "https://lh3.googleusercontent.com/a-/AOh14Gg_n8V7bVINy02QRuRgOoMo11Ri7NKU3OUKdC1bkQ=s64",
      "userId": "09038942003589296665"
     },
     "user_tz": 240
    },
    "id": "1CMV13RsYAR9",
    "nbpages": {
     "level": 3,
     "link": "[2.4.1.3 Login to Particle](https://jckantor.github.io/cbe61622/02.04-Ultrasonic_Distance_Ranger.html#2.4.1.3-Login-to-Particle)",
     "section": "2.4.1.3 Login to Particle"
    },
    "outputId": "23753328-ecf7-4914-81f3-351dd250934a"
   },
   "outputs": [
    {
     "name": "stdout",
     "output_type": "stream",
     "text": [
      "Username: ··········\n",
      "Password: ··········\n",
      "> Successfully completed login!\n",
      "\n"
     ]
    }
   ],
   "source": [
    "import getpass\n",
    "\n",
    "# prompt for username and password\n",
    "username = getpass.getpass(prompt=\"Username: \")\n",
    "password = getpass.getpass(prompt=\"Password: \")\n",
    "\n",
    "# attempt login\n",
    "output = particle([\"login\", \"--username\", username, \"--password\", password])\n",
    "\n",
    "# report results\n",
    "if output.returncode:\n",
    "    print(f\"Return code = {output.returncode}\")\n",
    "    print(output.stderr)\n",
    "else:\n",
    "    print(output.stdout)"
   ]
  },
  {
   "cell_type": "markdown",
   "metadata": {
    "id": "xkUuoM-ZmGVb",
    "nbpages": {
     "level": 3,
     "link": "[2.4.1.4 Select a device](https://jckantor.github.io/cbe61622/02.04-Ultrasonic_Distance_Ranger.html#2.4.1.4-Select-a-device)",
     "section": "2.4.1.4 Select a device"
    }
   },
   "source": [
    "### 2.4.1.4 Select a device\n",
    "\n",
    "The following cell downloads a list of all user devices and creates a list of device names. Here we choose the first name in the list for the rest of this notebook. If this is not the device to be used, then modify this cell accordingly."
   ]
  },
  {
   "cell_type": "code",
   "execution_count": 5,
   "metadata": {
    "colab": {
     "base_uri": "https://localhost:8080/",
     "height": 51
    },
    "executionInfo": {
     "elapsed": 5692,
     "status": "ok",
     "timestamp": 1603627524165,
     "user": {
      "displayName": "Jeffrey Kantor",
      "photoUrl": "https://lh3.googleusercontent.com/a-/AOh14Gg_n8V7bVINy02QRuRgOoMo11Ri7NKU3OUKdC1bkQ=s64",
      "userId": "09038942003589296665"
     },
     "user_tz": 240
    },
    "id": "leGyaNy4mMtX",
    "nbpages": {
     "level": 3,
     "link": "[2.4.1.4 Select a device](https://jckantor.github.io/cbe61622/02.04-Ultrasonic_Distance_Ranger.html#2.4.1.4-Select-a-device)",
     "section": "2.4.1.4 Select a device"
    },
    "outputId": "dfce116d-7da2-4e62-aa7a-2f91df496421"
   },
   "outputs": [
    {
     "name": "stdout",
     "output_type": "stream",
     "text": [
      "jck_argon_01 [e00fce68eaceb1faa7cf7193] (Argon) is online\n",
      "\n"
     ]
    }
   ],
   "source": [
    "devices = [line.split()[0] for line in particle([\"list\"]).stdout.splitlines()]\n",
    "device_name = devices[0]\n",
    "print(particle([\"list\", device_name]).stdout)"
   ]
  },
  {
   "cell_type": "markdown",
   "metadata": {
    "id": "peWv99hinM1O",
    "nbpages": {
     "level": 2,
     "link": "[2.4.2 Project Hardware](https://jckantor.github.io/cbe61622/02.04-Ultrasonic_Distance_Ranger.html#2.4.2-Project-Hardware)",
     "section": "2.4.2 Project Hardware"
    }
   },
   "source": [
    "## 2.4.2 Project Hardware"
   ]
  },
  {
   "cell_type": "markdown",
   "metadata": {
    "id": "Wy36pTBayB-9",
    "nbpages": {
     "level": 3,
     "link": "[2.4.2.1 Grove Ultrasonic Ranger](https://jckantor.github.io/cbe61622/02.04-Ultrasonic_Distance_Ranger.html#2.4.2.1-Grove-Ultrasonic-Ranger)",
     "section": "2.4.2.1 Grove Ultrasonic Ranger"
    }
   },
   "source": [
    "### 2.4.2.1 Grove Ultrasonic Ranger\n",
    "\n",
    "[SeeedStudio description](https://wiki.seeedstudio.com/Grove-Ultrasonic_Ranger/)\n",
    "\n",
    "![](https://files.seeedstudio.com/wiki/Grove_Ultrasonic_Ranger/img/Ultrasonic.jpg)\n",
    "\n",
    "The Grove Ultrasonic Ranger emits a sequence of eight short bursts of 40 kHz sonic signals, then measures duration until an echo is detected. The sonic signals are triggered by applying a 10 microsecond pulse to the GPIO pin connecting to the device. The duration until echo detection is returned as a pulse on the same GPIO pin. The pulse duration can be measured using the [pulseIn()](https://docs.particle.io/reference/device-os/firmware/argon/#pulsein-) function of the standard Arduino or Particle API.\n"
   ]
  },
  {
   "cell_type": "markdown",
   "metadata": {
    "id": "VdojEWUEnS-q",
    "nbpages": {
     "level": 3,
     "link": "[2.4.2.2 Grove 4 Digit Display](https://jckantor.github.io/cbe61622/02.04-Ultrasonic_Distance_Ranger.html#2.4.2.2-Grove-4-Digit-Display)",
     "section": "2.4.2.2 Grove 4 Digit Display"
    }
   },
   "source": [
    "### 2.4.2.2 Grove 4 Digit Display"
   ]
  },
  {
   "cell_type": "markdown",
   "metadata": {
    "id": "bnziRvWlyB--",
    "nbpages": {
     "level": 2,
     "link": "[2.4.3 Implementation](https://jckantor.github.io/cbe61622/02.04-Ultrasonic_Distance_Ranger.html#2.4.3-Implementation)",
     "section": "2.4.3 Implementation"
    }
   },
   "source": [
    "## 2.4.3 Implementation"
   ]
  },
  {
   "cell_type": "markdown",
   "metadata": {
    "id": "4vZ1VcQRiylL",
    "nbpages": {
     "level": 3,
     "link": "[2.4.3.1 Create Project](https://jckantor.github.io/cbe61622/02.04-Ultrasonic_Distance_Ranger.html#2.4.3.1-Create-Project)",
     "section": "2.4.3.1 Create Project"
    }
   },
   "source": [
    "### 2.4.3.1 Create Project"
   ]
  },
  {
   "cell_type": "code",
   "execution_count": 6,
   "metadata": {
    "colab": {
     "base_uri": "https://localhost:8080/",
     "height": 68
    },
    "executionInfo": {
     "elapsed": 847,
     "status": "ok",
     "timestamp": 1603627527662,
     "user": {
      "displayName": "Jeffrey Kantor",
      "photoUrl": "https://lh3.googleusercontent.com/a-/AOh14Gg_n8V7bVINy02QRuRgOoMo11Ri7NKU3OUKdC1bkQ=s64",
      "userId": "09038942003589296665"
     },
     "user_tz": 240
    },
    "id": "FaqbZcYwix06",
    "nbpages": {
     "level": 3,
     "link": "[2.4.3.1 Create Project](https://jckantor.github.io/cbe61622/02.04-Ultrasonic_Distance_Ranger.html#2.4.3.1-Create-Project)",
     "section": "2.4.3.1 Create Project"
    },
    "outputId": "7f5bfb44-9b60-4846-c267-e04c8198a3fb"
   },
   "outputs": [
    {
     "name": "stdout",
     "output_type": "stream",
     "text": [
      "Initializing project in directory myproject...\n",
      "> A new project has been initialized in directory myproject\n",
      "\n"
     ]
    }
   ],
   "source": [
    "print(particle([\"project\", \"create\", \"--name\", \"myproject\", \".\"]).stdout)"
   ]
  },
  {
   "cell_type": "markdown",
   "metadata": {
    "id": "tsSPugdDzEq2",
    "nbpages": {
     "level": 3,
     "link": "[2.4.3.2 Change working directory](https://jckantor.github.io/cbe61622/02.04-Ultrasonic_Distance_Ranger.html#2.4.3.2-Change-working-directory)",
     "section": "2.4.3.2 Change working directory"
    }
   },
   "source": [
    "### 2.4.3.2 Change working directory\n",
    "\n",
    "The Particle CLI assumes one is working in the top  project directory."
   ]
  },
  {
   "cell_type": "code",
   "execution_count": 7,
   "metadata": {
    "colab": {
     "base_uri": "https://localhost:8080/",
     "height": 34
    },
    "executionInfo": {
     "elapsed": 614,
     "status": "ok",
     "timestamp": 1603627529215,
     "user": {
      "displayName": "Jeffrey Kantor",
      "photoUrl": "https://lh3.googleusercontent.com/a-/AOh14Gg_n8V7bVINy02QRuRgOoMo11Ri7NKU3OUKdC1bkQ=s64",
      "userId": "09038942003589296665"
     },
     "user_tz": 240
    },
    "id": "iNYJNUoaC2ye",
    "nbpages": {
     "level": 3,
     "link": "[2.4.3.2 Change working directory](https://jckantor.github.io/cbe61622/02.04-Ultrasonic_Distance_Ranger.html#2.4.3.2-Change-working-directory)",
     "section": "2.4.3.2 Change working directory"
    },
    "outputId": "1c7f604b-0e47-45ed-ad72-d3e63eb18229"
   },
   "outputs": [
    {
     "name": "stdout",
     "output_type": "stream",
     "text": [
      "/content/myproject\n"
     ]
    }
   ],
   "source": [
    "%cd /content/myproject"
   ]
  },
  {
   "cell_type": "markdown",
   "metadata": {
    "id": "moVetAalRsLO",
    "nbpages": {
     "level": 3,
     "link": "[2.4.3.3 Add relevant libraries](https://jckantor.github.io/cbe61622/02.04-Ultrasonic_Distance_Ranger.html#2.4.3.3-Add-relevant-libraries)",
     "section": "2.4.3.3 Add relevant libraries"
    }
   },
   "source": [
    "### 2.4.3.3 Add relevant libraries"
   ]
  },
  {
   "cell_type": "code",
   "execution_count": 8,
   "metadata": {
    "colab": {
     "base_uri": "https://localhost:8080/",
     "height": 88
    },
    "executionInfo": {
     "elapsed": 1977,
     "status": "ok",
     "timestamp": 1603627531966,
     "user": {
      "displayName": "Jeffrey Kantor",
      "photoUrl": "https://lh3.googleusercontent.com/a-/AOh14Gg_n8V7bVINy02QRuRgOoMo11Ri7NKU3OUKdC1bkQ=s64",
      "userId": "09038942003589296665"
     },
     "user_tz": 240
    },
    "id": "WebH24BzZ5Cn",
    "nbpages": {
     "level": 3,
     "link": "[2.4.3.3 Add relevant libraries](https://jckantor.github.io/cbe61622/02.04-Ultrasonic_Distance_Ranger.html#2.4.3.3-Add-relevant-libraries)",
     "section": "2.4.3.3 Add relevant libraries"
    },
    "outputId": "af3203fb-fa5d-41bd-e4ff-03875eaa9dfb"
   },
   "outputs": [
    {
     "name": "stdout",
     "output_type": "stream",
     "text": [
      "> Library Grove_4Digit_Display 1.0.2 has been added to the project.\n",
      "> To get started using this library, run particle library view Grove_4Digit_Display to view the library documentation and sources.\n",
      "\n"
     ]
    }
   ],
   "source": [
    "print(particle([\"library\", \"add\", \"Grove_4Digit_Display\"]).stdout)"
   ]
  },
  {
   "cell_type": "markdown",
   "metadata": {
    "id": "kYIAoD_jESIn",
    "nbpages": {
     "level": 3,
     "link": "[2.4.3.4 Create source file](https://jckantor.github.io/cbe61622/02.04-Ultrasonic_Distance_Ranger.html#2.4.3.4-Create-source-file)",
     "section": "2.4.3.4 Create source file"
    }
   },
   "source": [
    "### 2.4.3.4 Create source file"
   ]
  },
  {
   "cell_type": "code",
   "execution_count": 19,
   "metadata": {
    "colab": {
     "base_uri": "https://localhost:8080/",
     "height": 34
    },
    "executionInfo": {
     "elapsed": 614,
     "status": "ok",
     "timestamp": 1603629607162,
     "user": {
      "displayName": "Jeffrey Kantor",
      "photoUrl": "https://lh3.googleusercontent.com/a-/AOh14Gg_n8V7bVINy02QRuRgOoMo11Ri7NKU3OUKdC1bkQ=s64",
      "userId": "09038942003589296665"
     },
     "user_tz": 240
    },
    "id": "uZJn2QkEmbuQ",
    "nbpages": {
     "level": 3,
     "link": "[2.4.3.4 Create source file](https://jckantor.github.io/cbe61622/02.04-Ultrasonic_Distance_Ranger.html#2.4.3.4-Create-source-file)",
     "section": "2.4.3.4 Create source file"
    },
    "outputId": "5bac707e-0a13-4b4a-82ce-5fbc6a8238ee"
   },
   "outputs": [
    {
     "name": "stdout",
     "output_type": "stream",
     "text": [
      "Overwriting src/myproject.ino\n"
     ]
    }
   ],
   "source": [
    "%%writefile src/myproject.ino\n",
    "\n",
    "/* Grove 4 digit display */\n",
    "const int pinCLK = D2;         /* display clock pin */\n",
    "const int pinDIO = D3;         /* display data pin */\n",
    "const int digits = 4;          /* display digits */\n",
    "\n",
    "#include \"Grove_4Digit_Display.h\"\n",
    "TM1637 tm1637(pinCLK, pinDIO);\n",
    "\n",
    "/* Grove ultrasonic ranger */\n",
    "const int pinULTRASONIC = D4;  /* ultrasonic ranger pin */\n",
    "\n",
    "void setup() {\n",
    "    /* setup display */\n",
    "    tm1637.init();\n",
    "    tm1637.set(BRIGHT_TYPICAL);\n",
    "    tm1637.point(POINT_OFF);\n",
    "}\n",
    "\n",
    "void loop() {\n",
    "    display(measureDistance(pinULTRASONIC));\n",
    "    delay(100);\n",
    "}\n",
    "\n",
    "void display(unsigned int number) {\n",
    "    for (int i = 0; i < 4; i++) {\n",
    "        int digit = digits - 1 - i;\n",
    "        tm1637.display(digit, number % 10);\n",
    "        number /= 10;\n",
    "    }\n",
    "}\n",
    "\n",
    "int measureDistance(int pin) {\n",
    "    /* send a pulse */\n",
    "    pinMode(pin, OUTPUT);\n",
    "    digitalWrite(pin, LOW);\n",
    "    delayMicroseconds(2);\n",
    "    digitalWrite(pin, HIGH);\n",
    "    delayMicroseconds(10);\n",
    "    digitalWrite(pin, LOW);\n",
    "\n",
    "    /* measure duration of response pulse in microseconds */\n",
    "    pinMode(pin, INPUT);\n",
    "    unsigned long duration = pulseIn(pin, HIGH);\n",
    "\n",
    "    /* distance in mm = 0.344 mm/micro-sec` * duration / 2 */\n",
    "    return(0.172*duration);\n",
    "}"
   ]
  },
  {
   "cell_type": "markdown",
   "metadata": {
    "id": "DgYoYrbMBg8y",
    "nbpages": {
     "level": 3,
     "link": "[2.4.3.5 Compiling](https://jckantor.github.io/cbe61622/02.04-Ultrasonic_Distance_Ranger.html#2.4.3.5-Compiling)",
     "section": "2.4.3.5 Compiling"
    }
   },
   "source": [
    "### 2.4.3.5 Compiling"
   ]
  },
  {
   "cell_type": "code",
   "execution_count": 20,
   "metadata": {
    "colab": {
     "base_uri": "https://localhost:8080/",
     "height": 306
    },
    "executionInfo": {
     "elapsed": 8778,
     "status": "ok",
     "timestamp": 1603629617161,
     "user": {
      "displayName": "Jeffrey Kantor",
      "photoUrl": "https://lh3.googleusercontent.com/a-/AOh14Gg_n8V7bVINy02QRuRgOoMo11Ri7NKU3OUKdC1bkQ=s64",
      "userId": "09038942003589296665"
     },
     "user_tz": 240
    },
    "id": "D-yOOpbfA4U5",
    "nbpages": {
     "level": 3,
     "link": "[2.4.3.5 Compiling](https://jckantor.github.io/cbe61622/02.04-Ultrasonic_Distance_Ranger.html#2.4.3.5-Compiling)",
     "section": "2.4.3.5 Compiling"
    },
    "outputId": "39fbe2cc-3e02-4f45-9e1f-ca986791dd2e"
   },
   "outputs": [
    {
     "name": "stdout",
     "output_type": "stream",
     "text": [
      "\n",
      "Compiling code for argon\n",
      "\n",
      "Including:\n",
      "    src/myproject.ino\n",
      "    project.properties\n",
      "\n",
      "attempting to compile firmware\n",
      "downloading binary from: /v1/binaries/5f95722fabefb30aacbc7337\n",
      "saving to: myproject.bin\n",
      "Memory use:\n",
      "   text\t   data\t    bss\t    dec\t    hex\tfilename\n",
      "   8440\t    108\t   1068\t   9616\t   2590\t/workspace/target/workspace.elf\n",
      "\n",
      "Compile succeeded.\n",
      "Saved firmware to: /content/myproject/myproject.bin\n",
      "\n"
     ]
    }
   ],
   "source": [
    "print(particle([\"compile\", \"argon\", \"--saveTo\", \"myproject.bin\"]).stdout)"
   ]
  },
  {
   "cell_type": "markdown",
   "metadata": {
    "id": "b5e_lzC1FtHw",
    "nbpages": {
     "level": 3,
     "link": "[2.4.3.6 Flash firmware](https://jckantor.github.io/cbe61622/02.04-Ultrasonic_Distance_Ranger.html#2.4.3.6-Flash-firmware)",
     "section": "2.4.3.6 Flash firmware"
    }
   },
   "source": [
    "### 2.4.3.6 Flash firmware"
   ]
  },
  {
   "cell_type": "code",
   "execution_count": 21,
   "metadata": {
    "colab": {
     "base_uri": "https://localhost:8080/",
     "height": 153
    },
    "executionInfo": {
     "elapsed": 2189,
     "status": "ok",
     "timestamp": 1603629620588,
     "user": {
      "displayName": "Jeffrey Kantor",
      "photoUrl": "https://lh3.googleusercontent.com/a-/AOh14Gg_n8V7bVINy02QRuRgOoMo11Ri7NKU3OUKdC1bkQ=s64",
      "userId": "09038942003589296665"
     },
     "user_tz": 240
    },
    "id": "TcUKDiWOsvt1",
    "nbpages": {
     "level": 3,
     "link": "[2.4.3.6 Flash firmware](https://jckantor.github.io/cbe61622/02.04-Ultrasonic_Distance_Ranger.html#2.4.3.6-Flash-firmware)",
     "section": "2.4.3.6 Flash firmware"
    },
    "outputId": "187b336f-e1bd-435c-bfc8-a6ded404ee2d"
   },
   "outputs": [
    {
     "name": "stdout",
     "output_type": "stream",
     "text": [
      "Including:\n",
      "    myproject.bin\n",
      "\n",
      "attempting to flash firmware to your device jck_argon_01\n",
      "Flash device OK: Update started\n",
      "\n",
      "Flash success!\n",
      "\n"
     ]
    }
   ],
   "source": [
    "print(particle([\"flash\", device_name, \"myproject.bin\"]).stdout)"
   ]
  },
  {
   "cell_type": "code",
   "execution_count": null,
   "metadata": {
    "id": "o31-7mKw0gVn",
    "nbpages": {
     "level": 3,
     "link": "[2.4.3.6 Flash firmware](https://jckantor.github.io/cbe61622/02.04-Ultrasonic_Distance_Ranger.html#2.4.3.6-Flash-firmware)",
     "section": "2.4.3.6 Flash firmware"
    }
   },
   "outputs": [],
   "source": []
  },
  {
   "cell_type": "markdown",
   "id": "51ef61f5",
   "metadata": {},
   "source": [
    "<!--NAVIGATION-->\n",
    "< [2.3 Particle Command Line Interface (CLI)](https://jckantor.github.io/cbe61622/02.03-Particle-CLI.html) | [Contents](toc.html) | [2.5 Simple Stop Watch using Interrupts](https://jckantor.github.io/cbe61622/02.05-Simple_Stop_Watch_using_Interrupts.html) ><p><a href=\"https://colab.research.google.com/github/jckantor/cbe61622/blob/master/docs/02.04-Ultrasonic_Distance_Ranger.ipynb\"> <img align=\"left\" src=\"https://colab.research.google.com/assets/colab-badge.svg\" alt=\"Open in Colab\" title=\"Open in Google Colaboratory\"></a><p><a href=\"https://jckantor.github.io/cbe61622/02.04-Ultrasonic_Distance_Ranger.ipynb\"> <img align=\"left\" src=\"https://img.shields.io/badge/Github-Download-blue.svg\" alt=\"Download\" title=\"Download Notebook\"></a>"
   ]
  }
 ],
 "metadata": {
  "colab": {
   "collapsed_sections": [],
   "name": "02.04-Ultrasonic_Distance_Ranger.ipynb",
   "provenance": [
    {
     "file_id": "https://github.com/jckantor/cbe-virtual-laboratory/blob/main/notebooks/02.04-Simple-Stop-Watch.ipynb",
     "timestamp": 1603325027025
    }
   ],
   "toc_visible": true
  },
  "kernelspec": {
   "display_name": "Python 3",
   "language": "python",
   "name": "python3"
  },
  "language_info": {
   "codemirror_mode": {
    "name": "ipython",
    "version": 3
   },
   "file_extension": ".py",
   "mimetype": "text/x-python",
   "name": "python",
   "nbconvert_exporter": "python",
   "pygments_lexer": "ipython3",
   "version": "3.7.4"
  }
 },
 "nbformat": 4,
 "nbformat_minor": 0
}
