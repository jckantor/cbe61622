{
 "cells": [
  {
   "cell_type": "markdown",
   "id": "7f692638",
   "metadata": {},
   "source": [
    "<!--NOTEBOOK_HEADER-->\n",
    "*This notebook contains material from [cbe61622](https://jckantor.github.io/cbe61622);\n",
    "content is available [on Github](https://github.com/jckantor/cbe61622.git).*\n"
   ]
  },
  {
   "cell_type": "markdown",
   "id": "dfdfeab4",
   "metadata": {},
   "source": [
    "<!--NAVIGATION-->\n",
    "< [7.10 Operational Amplifiers](https://jckantor.github.io/cbe61622/07.10-Operational-Amplifiers.html) | [Contents](toc.html) | [8.10 Potentiostats and Galvanostats](https://jckantor.github.io/cbe61622/08.10-Potentiostats-and-Galvanostats.html) ><p><a href=\"https://colab.research.google.com/github/jckantor/cbe61622/blob/master/docs/08.00-Chemical_Instrumentation.ipynb\"> <img align=\"left\" src=\"https://colab.research.google.com/assets/colab-badge.svg\" alt=\"Open in Colab\" title=\"Open in Google Colaboratory\"></a><p><a href=\"https://jckantor.github.io/cbe61622/08.00-Chemical_Instrumentation.ipynb\"> <img align=\"left\" src=\"https://img.shields.io/badge/Github-Download-blue.svg\" alt=\"Download\" title=\"Download Notebook\"></a>"
   ]
  },
  {
   "cell_type": "markdown",
   "metadata": {
    "nbpages": {
     "level": 1,
     "link": "[8.0 Chemical Instrumentation](https://jckantor.github.io/cbe61622/08.00-Chemical_Instrumentation.html#8.0-Chemical-Instrumentation)",
     "section": "8.0 Chemical Instrumentation"
    }
   },
   "source": [
    "# 8.0 Chemical Instrumentation"
   ]
  },
  {
   "cell_type": "markdown",
   "metadata": {
    "nbpages": {
     "level": 1,
     "link": "[8.0 Chemical Instrumentation](https://jckantor.github.io/cbe61622/08.00-Chemical_Instrumentation.html#8.0-Chemical-Instrumentation)",
     "section": "8.0 Chemical Instrumentation"
    },
    "tags": []
   },
   "source": []
  },
  {
   "cell_type": "code",
   "execution_count": null,
   "metadata": {
    "nbpages": {
     "level": 1,
     "link": "[8.0 Chemical Instrumentation](https://jckantor.github.io/cbe61622/08.00-Chemical_Instrumentation.html#8.0-Chemical-Instrumentation)",
     "section": "8.0 Chemical Instrumentation"
    }
   },
   "outputs": [],
   "source": []
  },
  {
   "cell_type": "markdown",
   "id": "99261a6e",
   "metadata": {},
   "source": [
    "<!--NAVIGATION-->\n",
    "< [7.10 Operational Amplifiers](https://jckantor.github.io/cbe61622/07.10-Operational-Amplifiers.html) | [Contents](toc.html) | [8.10 Potentiostats and Galvanostats](https://jckantor.github.io/cbe61622/08.10-Potentiostats-and-Galvanostats.html) ><p><a href=\"https://colab.research.google.com/github/jckantor/cbe61622/blob/master/docs/08.00-Chemical_Instrumentation.ipynb\"> <img align=\"left\" src=\"https://colab.research.google.com/assets/colab-badge.svg\" alt=\"Open in Colab\" title=\"Open in Google Colaboratory\"></a><p><a href=\"https://jckantor.github.io/cbe61622/08.00-Chemical_Instrumentation.ipynb\"> <img align=\"left\" src=\"https://img.shields.io/badge/Github-Download-blue.svg\" alt=\"Download\" title=\"Download Notebook\"></a>"
   ]
  }
 ],
 "metadata": {
  "kernelspec": {
   "display_name": "Python 3 (ipykernel)",
   "language": "python",
   "name": "python3"
  },
  "language_info": {
   "codemirror_mode": {
    "name": "ipython",
    "version": 3
   },
   "file_extension": ".py",
   "mimetype": "text/x-python",
   "name": "python",
   "nbconvert_exporter": "python",
   "pygments_lexer": "ipython3",
   "version": "3.8.12"
  }
 },
 "nbformat": 4,
 "nbformat_minor": 4
}
