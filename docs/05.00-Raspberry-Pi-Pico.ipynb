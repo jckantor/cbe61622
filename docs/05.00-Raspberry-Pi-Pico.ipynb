{
 "cells": [
  {
   "cell_type": "markdown",
   "id": "279850fa",
   "metadata": {},
   "source": [
    "<!--NOTEBOOK_HEADER-->\n",
    "*This notebook contains material from [cbe61622](https://jckantor.github.io/cbe61622);\n",
    "content is available [on Github](https://github.com/jckantor/cbe61622.git).*\n"
   ]
  },
  {
   "cell_type": "markdown",
   "id": "9259a128",
   "metadata": {},
   "source": [
    "<!--NAVIGATION-->\n",
    "< [4.10 Potentiostats and Galvanostats](https://jckantor.github.io/cbe61622/04.10-Potentiostats-and-Galvanostats.html) | [Contents](toc.html) | [5.1 Interfacing with Micropython on the Raspberry Pi Pico](https://jckantor.github.io/cbe61622/05.01-Getting_Started.html) ><p><a href=\"https://colab.research.google.com/github/jckantor/cbe61622/blob/master/docs/05.00-Raspberry-Pi-Pico.ipynb\"> <img align=\"left\" src=\"https://colab.research.google.com/assets/colab-badge.svg\" alt=\"Open in Colab\" title=\"Open in Google Colaboratory\"></a><p><a href=\"https://jckantor.github.io/cbe61622/05.00-Raspberry-Pi-Pico.ipynb\"> <img align=\"left\" src=\"https://img.shields.io/badge/Github-Download-blue.svg\" alt=\"Download\" title=\"Download Notebook\"></a>"
   ]
  },
  {
   "cell_type": "markdown",
   "id": "841503a8-96bf-48e8-97d6-2b0ff150c07b",
   "metadata": {
    "nbpages": {
     "level": 1,
     "link": "[5.0 Raspberry Pi Pico](https://jckantor.github.io/cbe61622/05.00-Raspberry-Pi-Pico.html#5.0-Raspberry-Pi-Pico)",
     "section": "5.0 Raspberry Pi Pico"
    }
   },
   "source": [
    "# 5.0 Raspberry Pi Pico"
   ]
  },
  {
   "cell_type": "code",
   "execution_count": null,
   "id": "af410bca-376a-4f16-9aa5-ceca5e8f3a77",
   "metadata": {
    "nbpages": {
     "level": 1,
     "link": "[5.0 Raspberry Pi Pico](https://jckantor.github.io/cbe61622/05.00-Raspberry-Pi-Pico.html#5.0-Raspberry-Pi-Pico)",
     "section": "5.0 Raspberry Pi Pico"
    }
   },
   "outputs": [],
   "source": []
  },
  {
   "cell_type": "markdown",
   "id": "83c42103",
   "metadata": {},
   "source": [
    "<!--NAVIGATION-->\n",
    "< [4.10 Potentiostats and Galvanostats](https://jckantor.github.io/cbe61622/04.10-Potentiostats-and-Galvanostats.html) | [Contents](toc.html) | [5.1 Interfacing with Micropython on the Raspberry Pi Pico](https://jckantor.github.io/cbe61622/05.01-Getting_Started.html) ><p><a href=\"https://colab.research.google.com/github/jckantor/cbe61622/blob/master/docs/05.00-Raspberry-Pi-Pico.ipynb\"> <img align=\"left\" src=\"https://colab.research.google.com/assets/colab-badge.svg\" alt=\"Open in Colab\" title=\"Open in Google Colaboratory\"></a><p><a href=\"https://jckantor.github.io/cbe61622/05.00-Raspberry-Pi-Pico.ipynb\"> <img align=\"left\" src=\"https://img.shields.io/badge/Github-Download-blue.svg\" alt=\"Download\" title=\"Download Notebook\"></a>"
   ]
  }
 ],
 "metadata": {
  "kernelspec": {
   "display_name": "Python 3 (ipykernel)",
   "language": "python",
   "name": "python3"
  },
  "language_info": {
   "codemirror_mode": {
    "name": "ipython",
    "version": 3
   },
   "file_extension": ".py",
   "mimetype": "text/x-python",
   "name": "python",
   "nbconvert_exporter": "python",
   "pygments_lexer": "ipython3",
   "version": "3.8.12"
  }
 },
 "nbformat": 4,
 "nbformat_minor": 5
}
