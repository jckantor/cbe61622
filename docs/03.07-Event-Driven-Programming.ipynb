{
 "cells": [
  {
   "cell_type": "markdown",
   "id": "c43d7cd0",
   "metadata": {},
   "source": [
    "<!--NOTEBOOK_HEADER-->\n",
    "*This notebook contains material from [cbe61622](https://jckantor.github.io/cbe61622);\n",
    "content is available [on Github](https://github.com/jckantor/cbe61622.git).*\n"
   ]
  },
  {
   "cell_type": "markdown",
   "id": "85b25071",
   "metadata": {},
   "source": [
    "<!--NAVIGATION-->\n",
    "< [3.6 Coding Paradigms for Device Control](https://jckantor.github.io/cbe61622/03.06-Coding-Paradigms.html) | [Contents](toc.html) | [3.8 Stepper Motors](https://jckantor.github.io/cbe61622/03.08-Stepper-Motors.html) ><p><a href=\"https://colab.research.google.com/github/jckantor/cbe61622/blob/master/docs/03.07-Event-Driven-Programming.ipynb\"> <img align=\"left\" src=\"https://colab.research.google.com/assets/colab-badge.svg\" alt=\"Open in Colab\" title=\"Open in Google Colaboratory\"></a><p><a href=\"https://jckantor.github.io/cbe61622/03.07-Event-Driven-Programming.ipynb\"> <img align=\"left\" src=\"https://img.shields.io/badge/Github-Download-blue.svg\" alt=\"Download\" title=\"Download Notebook\"></a>"
   ]
  },
  {
   "cell_type": "markdown",
   "id": "9d7a2516-133e-4036-9f90-bc76e0827d48",
   "metadata": {
    "nbpages": {
     "level": 1,
     "link": "[3.7 Event Driven Programming](https://jckantor.github.io/cbe61622/03.07-Event-Driven-Programming.html#3.7-Event-Driven-Programming)",
     "section": "3.7 Event Driven Programming"
    }
   },
   "source": [
    "# 3.7 Event Driven Programming"
   ]
  },
  {
   "cell_type": "code",
   "execution_count": 63,
   "id": "885e0a23-f85f-4475-a6cb-649716bb12d4",
   "metadata": {
    "nbpages": {
     "level": 1,
     "link": "[3.7 Event Driven Programming](https://jckantor.github.io/cbe61622/03.07-Event-Driven-Programming.html#3.7-Event-Driven-Programming)",
     "section": "3.7 Event Driven Programming"
    }
   },
   "outputs": [
    {
     "name": "stdout",
     "output_type": "stream",
     "text": [
      "Found serial ports: /dev/cu.usbmodem14301, /dev/cu.Bluetooth-Incoming-Port \n",
      "\u001b[34mConnecting to --port=/dev/cu.usbmodem14301 --baud=115200 \u001b[0m\n",
      "\u001b[34mReady.\n",
      "\u001b[0m"
     ]
    }
   ],
   "source": [
    "%serialconnect"
   ]
  },
  {
   "cell_type": "markdown",
   "id": "f61a0d97-828d-4187-a978-1d465f96de52",
   "metadata": {
    "nbpages": {
     "level": 2,
     "link": "[3.7.1 Project Idea: Ultra Low-Cost Syring Pump](https://jckantor.github.io/cbe61622/03.07-Event-Driven-Programming.html#3.7.1-Project-Idea:-Ultra-Low-Cost-Syring-Pump)",
     "section": "3.7.1 Project Idea: Ultra Low-Cost Syring Pump"
    }
   },
   "source": [
    "## 3.7.1 Project Idea: Ultra Low-Cost Syring Pump\n",
    "\n",
    "Syringe pumps provide a convenient means of metering flows in microfluidic experiments. Conventional laboratory-grade syringe pumps are expensive, on the order of several hundreds to several thousand dollars, which stands in the way of using microfluidics as a platform for low-cost experimentation.\n",
    "\n",
    "In the last decade there have been many reports of open-source, low-cost syringe pumps. Typically these employ NEMA 17 stepper motors, an Arduino microcontroller, and 3D printed components and off-the-shelf hardware.\n",
    "\n",
    "Here we explore the possibiity of even lower cost devices based on 28BYJ-48 stepper motors and Raspberry Pi Pico. Would it be possible to build a viable syringe pump for less than, say, $50?\n",
    "\n",
    "Ideas ... \n",
    "\n",
    "* [OMIS: The Open Millifluidic Inquiry System for small scale chemical synthesis and analysis](https://www.sciencedirect.com/science/article/pii/S246806721830052X#!)\n",
    "* 28BYJ-48 Stepper motor with ULN2003 driver\n",
    "* Linear actuator\n",
    "    * [5mm to 8mm Flex shaft coupler](https://www.adafruit.com/product/1175)\n",
    "    * [Gear driven cart](https://www.ebay.com/itm/153907301881)\n",
    "    * [3D printed part](https://www.thingiverse.com/thing:539490)\n",
    "    * [Compact design by replacing plunger](https://github.com/koendv/paste_dispenser)\n",
    "    * [Spur gear design](https://ieeexplore.ieee.org/document/8584685)\n",
    "    * [Traveling nut - ultra low cost](https://www.instructables.com/Linear-Actuator-Stepper-Motor/)\n",
    "    * [Traveling nut design](https://www.thingiverse.com/thing:4774416)\n",
    "* [3 way check valve](https://www.meddeviceonline.com/doc/3-way-check-valve-0001) to enable automatic refilling of the syringe.\n",
    "* [Blunt tip dispensing Syringes](https://www.amazon.com/s?k=glue+injector+syringe)\n",
    "* [Arduino Nano RP2040 Connect](https://store-usa.arduino.cc/products/arduino-nano-rp2040-connect-with-headers?selectedStore=us) to enable Bluetooth/WiFi connectivity."
   ]
  },
  {
   "cell_type": "markdown",
   "id": "dce65ad4-6206-4167-a8ca-8dc402872292",
   "metadata": {
    "nbpages": {
     "level": 2,
     "link": "[3.7.2 Button](https://jckantor.github.io/cbe61622/03.07-Event-Driven-Programming.html#3.7.2-Button)",
     "section": "3.7.2 Button"
    },
    "tags": []
   },
   "source": [
    "## 3.7.2 Button"
   ]
  },
  {
   "cell_type": "markdown",
   "id": "21203c71-5e96-4b3e-bea4-6c5c54c2c716",
   "metadata": {
    "nbpages": {
     "level": 3,
     "link": "[3.7.2.1 Polling](https://jckantor.github.io/cbe61622/03.07-Event-Driven-Programming.html#3.7.2.1-Polling)",
     "section": "3.7.2.1 Polling"
    }
   },
   "source": [
    "### 3.7.2.1 Polling\n",
    "\n",
    "As our first attempt at building a class for button, let's consider a simple polling loop."
   ]
  },
  {
   "cell_type": "code",
   "execution_count": 71,
   "id": "dadf2322-31c9-4d2e-ae03-03c5bf85d71c",
   "metadata": {
    "nbpages": {
     "level": 3,
     "link": "[3.7.2.1 Polling](https://jckantor.github.io/cbe61622/03.07-Event-Driven-Programming.html#3.7.2.1-Polling)",
     "section": "3.7.2.1 Polling"
    }
   },
   "outputs": [
    {
     "name": "stdout",
     "output_type": "stream",
     "text": [
      "serial exception on close write failed: [Errno 6] Device not configured\n",
      "Found serial ports: /dev/cu.usbmodem14301, /dev/cu.Bluetooth-Incoming-Port \n",
      "\u001b[34mConnecting to --port=/dev/cu.usbmodem14301 --baud=115200 \u001b[0m\n",
      "\u001b[34mReady.\n",
      "\u001b[0m111100001110000111111"
     ]
    }
   ],
   "source": [
    "%serialconnect\n",
    "\n",
    "from machine import Pin\n",
    "import time\n",
    "\n",
    "btn = Pin(20, Pin.IN)\n",
    "\n",
    "start = time.time()\n",
    "while time.time() - start <= 20:\n",
    "    print(btn.value(), end=\"\")\n",
    "    time.sleep(1)"
   ]
  },
  {
   "cell_type": "markdown",
   "id": "c9ca9c5b-58a9-4cab-b6a4-2881a0d2a9d6",
   "metadata": {
    "nbpages": {
     "level": 3,
     "link": "[3.7.2.1 Polling](https://jckantor.github.io/cbe61622/03.07-Event-Driven-Programming.html#3.7.2.1-Polling)",
     "section": "3.7.2.1 Polling"
    }
   },
   "source": [
    "Issues:\n",
    "\n",
    "* How fast should we poll?\n",
    "* ``time.sleep()`` blocks anything else we may wish to do.\n",
    "* How do we handle multiple buttons that may require different sampling rates?"
   ]
  },
  {
   "cell_type": "markdown",
   "id": "875fe0b3-0590-4acf-8124-4999b3e74e71",
   "metadata": {
    "nbpages": {
     "level": 3,
     "link": "[3.7.2.2 Timer](https://jckantor.github.io/cbe61622/03.07-Event-Driven-Programming.html#3.7.2.2-Timer)",
     "section": "3.7.2.2 Timer"
    }
   },
   "source": [
    "### 3.7.2.2 Timer\n",
    "\n",
    "Microcontroller boards typically have timers to assist with coding time dependent operations. The Raspberry Pi Pico has a particularly effective implementation offering an unlimited number of timers based on a global microsecond timebase."
   ]
  },
  {
   "cell_type": "code",
   "execution_count": 79,
   "id": "427578df-321c-4441-8072-ace45d3d52be",
   "metadata": {
    "nbpages": {
     "level": 3,
     "link": "[3.7.2.2 Timer](https://jckantor.github.io/cbe61622/03.07-Event-Driven-Programming.html#3.7.2.2-Timer)",
     "section": "3.7.2.2 Timer"
    }
   },
   "outputs": [
    {
     "name": "stdout",
     "output_type": "stream",
     "text": [
      "Found serial ports: /dev/cu.usbmodem14301, /dev/cu.Bluetooth-Incoming-Port \n",
      "\u001b[34mConnecting to --port=/dev/cu.usbmodem14301 --baud=115200 \u001b[0m\n",
      "\n",
      "**[ys] <class 'serial.serialutil.SerialException'>\n",
      "**[ys] device reports readiness to read but returned no data (device disconnected or multiple access on port?)\n",
      "\n",
      "\n",
      "**[ys] <class 'serial.serialutil.SerialException'>\n",
      "**[ys] read failed: [Errno 6] Device not configured\n",
      "\n",
      "\u001b[34mReady.\n",
      "\u001b[0m\n",
      "\n",
      "***OSError [Device not configured]\n",
      "\n"
     ]
    }
   ],
   "source": [
    "%serialconnect\n",
    "\n",
    "from machine import Pin, Timer\n",
    "import time\n",
    "\n",
    "btn = Pin(20, Pin.IN)\n",
    "\n",
    "def check_btn(timer):\n",
    "    global btn\n",
    "    print(btn.value(), end=\"\")\n",
    "\n",
    "start = time.time()\n",
    "tim = Timer(freq=1, mode=Timer.PERIODIC, callback=check_btn)\n",
    "\n",
    "time.sleep(20)\n",
    "tim.deinit()"
   ]
  },
  {
   "cell_type": "markdown",
   "id": "b4258041-2320-411b-b8c3-d59cf145a975",
   "metadata": {
    "nbpages": {
     "level": 3,
     "link": "[3.7.2.2 Timer](https://jckantor.github.io/cbe61622/03.07-Event-Driven-Programming.html#3.7.2.2-Timer)",
     "section": "3.7.2.2 Timer"
    }
   },
   "source": [
    "How could we handle multiple buttons?"
   ]
  },
  {
   "cell_type": "code",
   "execution_count": 36,
   "id": "ac98f39f-20b2-42be-acdb-46fd0ff63a29",
   "metadata": {
    "nbpages": {
     "level": 3,
     "link": "[3.7.2.2 Timer](https://jckantor.github.io/cbe61622/03.07-Event-Driven-Programming.html#3.7.2.2-Timer)",
     "section": "3.7.2.2 Timer"
    }
   },
   "outputs": [
    {
     "name": "stdout",
     "output_type": "stream",
     "text": [
      "btn3 = 1\n",
      "btn1 = 1\n",
      "btn3 = 1\n",
      "btn3 = 1\n",
      "btn1 = 1\n",
      "btn2 = 1\n",
      "btn3 = 1\n",
      "btn3 = 1\n",
      "btn1 = 1\n",
      "btn3 = 1\n",
      "btn3 = 1\n",
      "btn1 = 1\n",
      "btn2 = 1\n",
      "btn3 = 1\n",
      "btn3 = 1\n",
      "btn1 = 1\n",
      "btn3 = 1\n",
      "btn3 = 1\n",
      "btn1 = 0\n",
      "btn2 = 1\n",
      "btn3 = 1\n",
      "btn3 = 1\n",
      "btn1 = 1\n",
      "btn3 = 1\n",
      "btn3 = 1\n",
      "btn1 = 0\n",
      "btn2 = 1\n",
      "btn3 = 1\n",
      "btn3 = 1\n",
      "btn1 = 1\n",
      "btn3 = 1\n",
      "btn3 = 1\n",
      "btn1 = 1\n",
      "btn2 = 1\n",
      "btn3 = 1\n",
      "btn3 = 1\n",
      "btn1 = 1\n",
      "btn3 = 1\n",
      "btn3 = 1\n",
      "btn1 = 1\n",
      "btn2 = 1\n",
      "btn3 = 1\n",
      "btn3 = 1\n",
      "btn1 = 1\n",
      "btn3 = 1\n",
      "btn3 = 1\n",
      "btn1 = 1\n",
      "btn2 = 1\n",
      "btn3 = 1\n",
      "btn3 = 1\n",
      "btn1 = 1\n",
      "btn3 = 1\n",
      "btn3 = 1\n",
      "btn1 = 1\n",
      "btn2 = 1\n",
      "btn3 = 1\n",
      "btn3 = 1\n",
      "btn1 = 1\n",
      "btn3 = 1\n",
      "btn3 = 1\n",
      "btn1 = 1\n",
      "btn2 = 1\n",
      "btn3 = 1\n",
      "btn3 = 1\n",
      "btn1 = 1\n",
      "btn3 = 1\n",
      "btn3 = 1\n",
      "btn1 = 1\n",
      "btn2 = 1\n"
     ]
    }
   ],
   "source": [
    "from machine import Pin, Timer\n",
    "import time\n",
    "\n",
    "btn1 = Pin(20, Pin.IN)\n",
    "btn2 = Pin(21, Pin.IN)\n",
    "btn3 = Pin(22, Pin.IN)\n",
    "\n",
    "def check_btn1(timer):\n",
    "    global btn1\n",
    "    print(f\"btn1 = {btn1.value()}\")\n",
    "    \n",
    "def check_btn2(timer):\n",
    "    global btn2\n",
    "    print(f\"btn2 = {btn2.value()}\")\n",
    "    \n",
    "def check_btn3(timer):\n",
    "    global btn3\n",
    "    print(f\"btn3 = {btn3.value()}\")\n",
    "\n",
    "start = time.time()\n",
    "tim1 = Timer(freq=1, mode=Timer.PERIODIC, callback=check_btn1)\n",
    "tim2 = Timer(freq=0.5, mode=Timer.PERIODIC, callback=check_btn2)\n",
    "tim3 = Timer(freq=2, mode=Timer.PERIODIC, callback=check_btn3)\n",
    "time.sleep(20)\n",
    "tim1.deinit()\n",
    "tim2.deinit()\n",
    "tim3.deinit()"
   ]
  },
  {
   "cell_type": "markdown",
   "id": "561b1763-4268-4949-b238-436c7ce8faa3",
   "metadata": {
    "nbpages": {
     "level": 3,
     "link": "[3.7.2.2 Timer](https://jckantor.github.io/cbe61622/03.07-Event-Driven-Programming.html#3.7.2.2-Timer)",
     "section": "3.7.2.2 Timer"
    }
   },
   "source": [
    "Obviously this is getting very clumsy.\n",
    "\n",
    "* Because buttons must be declared global, each button requires a unique function\n",
    "* Buttons that are sampled slowly also respond very slowly, buttons must be held down for up to one full sampling period.\n",
    "* There are serious limitations on what can be included in a callback function. Cannot allocate new memory during a callback.\n",
    "\n",
    "We could use a functional programming technique known as \"closures\" to create functions"
   ]
  },
  {
   "cell_type": "markdown",
   "id": "8a32ee8a-5b2b-4626-93a9-a3483eeb9947",
   "metadata": {
    "nbpages": {
     "level": 2,
     "link": "[3.7.3 Interrupt Requests and Service Routines: IRQ/ISR](https://jckantor.github.io/cbe61622/03.07-Event-Driven-Programming.html#3.7.3-Interrupt-Requests-and-Service-Routines:-IRQ/ISR)",
     "section": "3.7.3 Interrupt Requests and Service Routines: IRQ/ISR"
    }
   },
   "source": [
    "## 3.7.3 Interrupt Requests and Service Routines: IRQ/ISR\n",
    "\n",
    "Microcontrollers often incorporate hardware mechanisms to interrupt normal execution to service \"interrupts\". The Raspberry Pi Pico supports a number of different interrupts, and the MicroPython interpreter provides simplified access that makes them relatively easy and safe to use.\n",
    "\n",
    "* [Writing interrupt handlers](https://docs.micropython.org/en/latest/reference/isr_rules.html)\n",
    "\n",
    "Here we set up MicroPython to respond to interrupts on a GPIO pin. The possible triggers include\n",
    "\n",
    "* ``Pin.IRQ_FALLING``\n",
    "* ``Pin.IRQ_RISING``\n",
    "* ``Pin.IRQ_LOW_VALUE``\n",
    "* ``Pin.IRQ_HIGH_VALUE``\n",
    "\n",
    "These triggers can be combined using the Python OR ``|`` operator. For many applications, triggering on a falling or rising edge is often the method of choice. Consult the MicroPython documentation for other options."
   ]
  },
  {
   "cell_type": "code",
   "execution_count": 81,
   "id": "5b97a341-b948-40d8-9474-af7f2988b86b",
   "metadata": {
    "nbpages": {
     "level": 2,
     "link": "[3.7.3 Interrupt Requests and Service Routines: IRQ/ISR](https://jckantor.github.io/cbe61622/03.07-Event-Driven-Programming.html#3.7.3-Interrupt-Requests-and-Service-Routines:-IRQ/ISR)",
     "section": "3.7.3 Interrupt Requests and Service Routines: IRQ/ISR"
    }
   },
   "outputs": [
    {
     "name": "stdout",
     "output_type": "stream",
     "text": [
      "serial exception on close write failed: [Errno 6] Device not configured\n",
      "Found serial ports: /dev/cu.usbmodem14401, /dev/cu.Bluetooth-Incoming-Port \n",
      "\u001b[34mConnecting to --port=/dev/cu.usbmodem14401 --baud=115200 \u001b[0m\n",
      "\u001b[34mReady.\n",
      "\u001b[0m"
     ]
    }
   ],
   "source": [
    "%serialconnect \n",
    "\n",
    "from machine import Pin\n",
    "import time\n",
    "\n",
    "btn = Pin(20, Pin.IN)\n",
    "led = Pin(25, Pin.OUT)\n",
    "\n",
    "start = time.time()\n",
    "\n",
    "def btn_isr(_):\n",
    "    led.toggle()\n",
    "    \n",
    "btn.irq(btn_isr, trigger=Pin.IRQ_FALLING)"
   ]
  },
  {
   "cell_type": "markdown",
   "id": "33175cb2-cf68-4071-874d-1022f557500b",
   "metadata": {
    "nbpages": {
     "level": 2,
     "link": "[3.7.3 Interrupt Requests and Service Routines: IRQ/ISR](https://jckantor.github.io/cbe61622/03.07-Event-Driven-Programming.html#3.7.3-Interrupt-Requests-and-Service-Routines:-IRQ/ISR)",
     "section": "3.7.3 Interrupt Requests and Service Routines: IRQ/ISR"
    }
   },
   "source": [
    "Here's a second example that adds a buzzer. The buzzer toggles on when the button is pressed, and toggles off when released. \n",
    "\n",
    "**The pin assignments assume use of the Cytron Maker Pi Pico board. If so, be sure the buzzer on/off switch is in the \"on\" position.**"
   ]
  },
  {
   "cell_type": "code",
   "execution_count": 103,
   "id": "6a4fd1ac-5c7f-4893-aa43-e3e820225d94",
   "metadata": {
    "nbpages": {
     "level": 2,
     "link": "[3.7.3 Interrupt Requests and Service Routines: IRQ/ISR](https://jckantor.github.io/cbe61622/03.07-Event-Driven-Programming.html#3.7.3-Interrupt-Requests-and-Service-Routines:-IRQ/ISR)",
     "section": "3.7.3 Interrupt Requests and Service Routines: IRQ/ISR"
    }
   },
   "outputs": [
    {
     "name": "stdout",
     "output_type": "stream",
     "text": [
      "Found serial ports: /dev/cu.usbmodem14401, /dev/cu.Bluetooth-Incoming-Port \n",
      "\u001b[34mConnecting to --port=/dev/cu.usbmodem14401 --baud=115200 \u001b[0m\n",
      "\u001b[34mReady.\n",
      "\u001b[0m"
     ]
    }
   ],
   "source": [
    "%serialconnect \n",
    "\n",
    "from machine import Pin, PWM\n",
    "import time\n",
    "\n",
    "btn20 = Pin(20, Pin.IN)\n",
    "btn21 = Pin(21, Pin.IN)\n",
    "\n",
    "led = Pin(25, Pin.OUT)\n",
    "buzzer = PWM(Pin(18, Pin.OUT))\n",
    "\n",
    "start = time.time()\n",
    "\n",
    "def btn20_isr(_):\n",
    "    led.toggle()\n",
    "    \n",
    "buzzer_on = False\n",
    "buzzer.freq(500)\n",
    "def btn21_isr(_):\n",
    "    global buzzer_on\n",
    "    if buzzer_on:\n",
    "        buzzer.duty_u16(0)\n",
    "        buzzer_on = False\n",
    "    else:\n",
    "        buzzer.duty_u16(1000)\n",
    "        buzzer_on = True\n",
    "    \n",
    "btn20.irq(btn20_isr, trigger=Pin.IRQ_FALLING)\n",
    "btn21.irq(btn21_isr, trigger=Pin.IRQ_FALLING | Pin.IRQ_RISING)"
   ]
  },
  {
   "cell_type": "markdown",
   "id": "f8fa7526-ae21-48ad-807e-4989d994d409",
   "metadata": {
    "nbpages": {
     "level": 3,
     "link": "[3.7.3.1 Capturing data via IRQ/ISR's](https://jckantor.github.io/cbe61622/03.07-Event-Driven-Programming.html#3.7.3.1-Capturing-data-via-IRQ/ISR's)",
     "section": "3.7.3.1 Capturing data via IRQ/ISR's"
    }
   },
   "source": [
    "### 3.7.3.1 Capturing data via IRQ/ISR's\n",
    "\n",
    "There are many tricky issues involved with capturing data through the IRQ/ISR mechanism. This is partly due to Python's mechanism for creating and updating objects. Interrupting Python at precisely the moment new objects are being created can lead to data or memory corruption.\n",
    "\n",
    "One useful technique is to use IRQ/ISR within the context of an object class."
   ]
  },
  {
   "cell_type": "code",
   "execution_count": 99,
   "id": "0aa55d5d-9539-4148-add6-74c7cb409667",
   "metadata": {
    "nbpages": {
     "level": 3,
     "link": "[3.7.3.1 Capturing data via IRQ/ISR's](https://jckantor.github.io/cbe61622/03.07-Event-Driven-Programming.html#3.7.3.1-Capturing-data-via-IRQ/ISR's)",
     "section": "3.7.3.1 Capturing data via IRQ/ISR's"
    }
   },
   "outputs": [
    {
     "name": "stdout",
     "output_type": "stream",
     "text": [
      "Found serial ports: /dev/cu.usbmodem14401, /dev/cu.Bluetooth-Incoming-Port \n",
      "\u001b[34mConnecting to --port=/dev/cu.usbmodem14401 --baud=115200 \u001b[0m\n",
      "\u001b[34mReady.\n",
      "\u001b[0m.7178\n",
      "8803\n"
     ]
    }
   ],
   "source": [
    "%serialconnect\n",
    "\n",
    "from machine import Pin\n",
    "import time\n",
    "\n",
    "class Button(object):\n",
    "    def __init__(self, gpio):\n",
    "        self.btn = Pin(gpio, Pin.IN)\n",
    "        # set up IRQ\n",
    "        self.btn.irq(self.isr, trigger=Pin.IRQ_FALLING)\n",
    "        # flag and data\n",
    "        self.pressed = False\n",
    "        self.time_pressed = time.ticks_ms()\n",
    "        \n",
    "    def isr(self, t):\n",
    "        self.pressed = True\n",
    "        self.time_pressed = time.ticks_ms()\n",
    "        \n",
    "btn = Button(20)\n",
    "start = time.ticks_ms()\n",
    "for k in range(10):\n",
    "    if btn.pressed:\n",
    "        print(btn.time_pressed - start)\n",
    "        btn.pressed = False\n",
    "    time.sleep(1)"
   ]
  },
  {
   "cell_type": "markdown",
   "id": "0ad9c4c9",
   "metadata": {},
   "source": [
    "<!--NAVIGATION-->\n",
    "< [3.6 Coding Paradigms for Device Control](https://jckantor.github.io/cbe61622/03.06-Coding-Paradigms.html) | [Contents](toc.html) | [3.8 Stepper Motors](https://jckantor.github.io/cbe61622/03.08-Stepper-Motors.html) ><p><a href=\"https://colab.research.google.com/github/jckantor/cbe61622/blob/master/docs/03.07-Event-Driven-Programming.ipynb\"> <img align=\"left\" src=\"https://colab.research.google.com/assets/colab-badge.svg\" alt=\"Open in Colab\" title=\"Open in Google Colaboratory\"></a><p><a href=\"https://jckantor.github.io/cbe61622/03.07-Event-Driven-Programming.ipynb\"> <img align=\"left\" src=\"https://img.shields.io/badge/Github-Download-blue.svg\" alt=\"Download\" title=\"Download Notebook\"></a>"
   ]
  }
 ],
 "metadata": {
  "kernelspec": {
   "display_name": "MicroPython - USB",
   "language": "micropython",
   "name": "micropython"
  },
  "language_info": {
   "codemirror_mode": "python",
   "file_extension": ".py",
   "mimetype": "text/python",
   "name": "micropython"
  }
 },
 "nbformat": 4,
 "nbformat_minor": 5
}
