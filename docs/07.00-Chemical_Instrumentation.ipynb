{
 "cells": [
  {
   "cell_type": "markdown",
   "id": "aeca3ff2",
   "metadata": {},
   "source": [
    "<!--NOTEBOOK_HEADER-->\n",
    "*This notebook contains material from [cbe61622](https://jckantor.github.io/cbe61622);\n",
    "content is available [on Github](https://github.com/jckantor/cbe61622.git).*\n"
   ]
  },
  {
   "cell_type": "markdown",
   "id": "35149c2a",
   "metadata": {},
   "source": [
    "<!--NAVIGATION-->\n",
    "< [6.0 Images and Vision](https://jckantor.github.io/cbe61622/06.00-Images_and_Vision.html) | [Contents](toc.html) | [8.0 Feedback Control](https://jckantor.github.io/cbe61622/08.00-Feedback_Control.html) ><p><a href=\"https://colab.research.google.com/github/jckantor/cbe61622/blob/master/docs/07.00-Chemical_Instrumentation.ipynb\"> <img align=\"left\" src=\"https://colab.research.google.com/assets/colab-badge.svg\" alt=\"Open in Colab\" title=\"Open in Google Colaboratory\"></a><p><a href=\"https://jckantor.github.io/cbe61622/07.00-Chemical_Instrumentation.ipynb\"> <img align=\"left\" src=\"https://img.shields.io/badge/Github-Download-blue.svg\" alt=\"Download\" title=\"Download Notebook\"></a>"
   ]
  },
  {
   "cell_type": "markdown",
   "metadata": {
    "nbpages": {
     "level": 1,
     "link": "[7.0 Chemical Instrumentation](https://jckantor.github.io/cbe61622/07.00-Chemical_Instrumentation.html#7.0-Chemical-Instrumentation)",
     "section": "7.0 Chemical Instrumentation"
    }
   },
   "source": [
    "# 7.0 Chemical Instrumentation"
   ]
  },
  {
   "cell_type": "code",
   "execution_count": null,
   "metadata": {
    "nbpages": {
     "level": 1,
     "link": "[7.0 Chemical Instrumentation](https://jckantor.github.io/cbe61622/07.00-Chemical_Instrumentation.html#7.0-Chemical-Instrumentation)",
     "section": "7.0 Chemical Instrumentation"
    }
   },
   "outputs": [],
   "source": []
  },
  {
   "cell_type": "markdown",
   "id": "6c78e6e7",
   "metadata": {},
   "source": [
    "<!--NAVIGATION-->\n",
    "< [6.0 Images and Vision](https://jckantor.github.io/cbe61622/06.00-Images_and_Vision.html) | [Contents](toc.html) | [8.0 Feedback Control](https://jckantor.github.io/cbe61622/08.00-Feedback_Control.html) ><p><a href=\"https://colab.research.google.com/github/jckantor/cbe61622/blob/master/docs/07.00-Chemical_Instrumentation.ipynb\"> <img align=\"left\" src=\"https://colab.research.google.com/assets/colab-badge.svg\" alt=\"Open in Colab\" title=\"Open in Google Colaboratory\"></a><p><a href=\"https://jckantor.github.io/cbe61622/07.00-Chemical_Instrumentation.ipynb\"> <img align=\"left\" src=\"https://img.shields.io/badge/Github-Download-blue.svg\" alt=\"Download\" title=\"Download Notebook\"></a>"
   ]
  }
 ],
 "metadata": {
  "kernelspec": {
   "display_name": "Python 3",
   "language": "python",
   "name": "python3"
  },
  "language_info": {
   "codemirror_mode": {
    "name": "ipython",
    "version": 3
   },
   "file_extension": ".py",
   "mimetype": "text/x-python",
   "name": "python",
   "nbconvert_exporter": "python",
   "pygments_lexer": "ipython3",
   "version": "3.8.5"
  }
 },
 "nbformat": 4,
 "nbformat_minor": 4
}
