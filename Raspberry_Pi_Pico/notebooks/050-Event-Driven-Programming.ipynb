{
 "cells": [
  {
   "cell_type": "markdown",
   "id": "9d7a2516-133e-4036-9f90-bc76e0827d48",
   "metadata": {},
   "source": [
    "# Event Driven Programming"
   ]
  },
  {
   "cell_type": "code",
   "execution_count": 63,
   "id": "885e0a23-f85f-4475-a6cb-649716bb12d4",
   "metadata": {},
   "outputs": [
    {
     "name": "stdout",
     "output_type": "stream",
     "text": [
      "Found serial ports: /dev/cu.usbmodem14301, /dev/cu.Bluetooth-Incoming-Port \n",
      "\u001b[34mConnecting to --port=/dev/cu.usbmodem14301 --baud=115200 \u001b[0m\n",
      "\u001b[34mReady.\n",
      "\u001b[0m"
     ]
    }
   ],
   "source": [
    "%serialconnect"
   ]
  },
  {
   "cell_type": "markdown",
   "id": "f61a0d97-828d-4187-a978-1d465f96de52",
   "metadata": {},
   "source": [
    "## Project Idea: Ultra Low-Cost Syring Pump\n",
    "\n",
    "Syringe pumps provide a convenient means of metering flows in microfluidic experiments. Conventional laboratory-grade syringe pumps are expensive, on the order of several hundreds to several thousand dollars, which stands in the way of using microfluidics as a platform for low-cost experimentation.\n",
    "\n",
    "In the last decade there have been many reports of open-source, low-cost syringe pumps. Typically these employ NEMA 17 stepper motors, an Arduino microcontroller, and 3D printed components and off-the-shelf hardware.\n",
    "\n",
    "Here we explore the possibiity of even lower cost devices based on 28BYJ-48 stepper motors and Raspberry Pi Pico. Would it be possible to build a viable syringe pump for less than, say, $50?\n",
    "\n",
    "Ideas ... \n",
    "\n",
    "* [OMIS: The Open Millifluidic Inquiry System for small scale chemical synthesis and analysis](https://www.sciencedirect.com/science/article/pii/S246806721830052X#!)\n",
    "* 28BYJ-48 Stepper motor with ULN2003 driver\n",
    "* Linear actuator\n",
    "    * [5mm to 8mm Flex shaft coupler](https://www.adafruit.com/product/1175)\n",
    "    * [Gear driven cart](https://www.ebay.com/itm/153907301881)\n",
    "    * [3D printed part](https://www.thingiverse.com/thing:539490)\n",
    "    * [Compact design by replacing plunger](https://github.com/koendv/paste_dispenser)\n",
    "    * [Spur gear design](https://ieeexplore.ieee.org/document/8584685)\n",
    "    * [Traveling nut - ultra low cost](https://www.instructables.com/Linear-Actuator-Stepper-Motor/)\n",
    "    * [Traveling nut design](https://www.thingiverse.com/thing:4774416)\n",
    "* [3 way check valve](https://www.meddeviceonline.com/doc/3-way-check-valve-0001) to enable automatic refilling of the syringe.\n",
    "* [Blunt tip dispensing Syringes](https://www.amazon.com/s?k=glue+injector+syringe)\n",
    "* [Arduino Nano RP2040 Connect](https://store-usa.arduino.cc/products/arduino-nano-rp2040-connect-with-headers?selectedStore=us) to enable Bluetooth/WiFi connectivity."
   ]
  },
  {
   "cell_type": "markdown",
   "id": "dce65ad4-6206-4167-a8ca-8dc402872292",
   "metadata": {
    "tags": []
   },
   "source": [
    "## Button"
   ]
  },
  {
   "cell_type": "markdown",
   "id": "21203c71-5e96-4b3e-bea4-6c5c54c2c716",
   "metadata": {},
   "source": [
    "### Polling\n",
    "\n",
    "As our first attempt at building a class for button, let's consider a simple polling loop."
   ]
  },
  {
   "cell_type": "code",
   "execution_count": 7,
   "id": "dadf2322-31c9-4d2e-ae03-03c5bf85d71c",
   "metadata": {},
   "outputs": [
    {
     "name": "stdout",
     "output_type": "stream",
     "text": [
      "111100001111111111111"
     ]
    }
   ],
   "source": [
    "%serialconnect\n",
    "\n",
    "from machine import Pin\n",
    "import time\n",
    "\n",
    "btn = Pin(20, Pin.IN)\n",
    "\n",
    "start = time.time()\n",
    "while time.time() - start <= 20:\n",
    "    print(btn.value(), end=\"\")\n",
    "    time.sleep(1)"
   ]
  },
  {
   "cell_type": "markdown",
   "id": "c9ca9c5b-58a9-4cab-b6a4-2881a0d2a9d6",
   "metadata": {},
   "source": [
    "Issues:\n",
    "\n",
    "* How fast should we poll?\n",
    "* ``time.sleep()`` blocks anything else we may wish to do.\n",
    "* How do we handle multiple buttons that may require different sampling rates?"
   ]
  },
  {
   "cell_type": "markdown",
   "id": "875fe0b3-0590-4acf-8124-4999b3e74e71",
   "metadata": {},
   "source": [
    "### Timer\n",
    "\n",
    "Microcontroller boards typically have timers to assist with coding time dependent operations. The Raspberry Pi Pico has a particularly effective implementation offering an unlimited number of timers based on a global microsecond timebase."
   ]
  },
  {
   "cell_type": "code",
   "execution_count": 10,
   "id": "427578df-321c-4441-8072-ace45d3d52be",
   "metadata": {},
   "outputs": [
    {
     "name": "stdout",
     "output_type": "stream",
     "text": [
      "11110000111100111111"
     ]
    }
   ],
   "source": [
    "from machine import Pin, Timer\n",
    "import time\n",
    "\n",
    "btn = Pin(20, Pin.IN)\n",
    "\n",
    "def check_btn(timer):\n",
    "    global btn\n",
    "    print(btn.value(), end=\"\")\n",
    "\n",
    "start = time.time()\n",
    "tim = Timer(freq=1, mode=Timer.PERIODIC, callback=check_btn)\n",
    "time.sleep(20)\n",
    "tim.deinit()"
   ]
  },
  {
   "cell_type": "markdown",
   "id": "b4258041-2320-411b-b8c3-d59cf145a975",
   "metadata": {},
   "source": [
    "How could we handle multiple buttons?"
   ]
  },
  {
   "cell_type": "code",
   "execution_count": 36,
   "id": "ac98f39f-20b2-42be-acdb-46fd0ff63a29",
   "metadata": {},
   "outputs": [
    {
     "name": "stdout",
     "output_type": "stream",
     "text": [
      "btn3 = 1\n",
      "btn1 = 1\n",
      "btn3 = 1\n",
      "btn3 = 1\n",
      "btn1 = 1\n",
      "btn2 = 1\n",
      "btn3 = 1\n",
      "btn3 = 1\n",
      "btn1 = 1\n",
      "btn3 = 1\n",
      "btn3 = 1\n",
      "btn1 = 1\n",
      "btn2 = 1\n",
      "btn3 = 1\n",
      "btn3 = 1\n",
      "btn1 = 1\n",
      "btn3 = 1\n",
      "btn3 = 1\n",
      "btn1 = 0\n",
      "btn2 = 1\n",
      "btn3 = 1\n",
      "btn3 = 1\n",
      "btn1 = 1\n",
      "btn3 = 1\n",
      "btn3 = 1\n",
      "btn1 = 0\n",
      "btn2 = 1\n",
      "btn3 = 1\n",
      "btn3 = 1\n",
      "btn1 = 1\n",
      "btn3 = 1\n",
      "btn3 = 1\n",
      "btn1 = 1\n",
      "btn2 = 1\n",
      "btn3 = 1\n",
      "btn3 = 1\n",
      "btn1 = 1\n",
      "btn3 = 1\n",
      "btn3 = 1\n",
      "btn1 = 1\n",
      "btn2 = 1\n",
      "btn3 = 1\n",
      "btn3 = 1\n",
      "btn1 = 1\n",
      "btn3 = 1\n",
      "btn3 = 1\n",
      "btn1 = 1\n",
      "btn2 = 1\n",
      "btn3 = 1\n",
      "btn3 = 1\n",
      "btn1 = 1\n",
      "btn3 = 1\n",
      "btn3 = 1\n",
      "btn1 = 1\n",
      "btn2 = 1\n",
      "btn3 = 1\n",
      "btn3 = 1\n",
      "btn1 = 1\n",
      "btn3 = 1\n",
      "btn3 = 1\n",
      "btn1 = 1\n",
      "btn2 = 1\n",
      "btn3 = 1\n",
      "btn3 = 1\n",
      "btn1 = 1\n",
      "btn3 = 1\n",
      "btn3 = 1\n",
      "btn1 = 1\n",
      "btn2 = 1\n"
     ]
    }
   ],
   "source": [
    "from machine import Pin, Timer\n",
    "import time\n",
    "\n",
    "btn1 = Pin(20, Pin.IN)\n",
    "btn2 = Pin(21, Pin.IN)\n",
    "btn3 = Pin(22, Pin.IN)\n",
    "\n",
    "def check_btn1(timer):\n",
    "    global btn1\n",
    "    print(f\"btn1 = {btn1.value()}\")\n",
    "    \n",
    "def check_btn2(timer):\n",
    "    global btn2\n",
    "    print(f\"btn2 = {btn2.value()}\")\n",
    "    \n",
    "def check_btn3(timer):\n",
    "    global btn3\n",
    "    print(f\"btn3 = {btn3.value()}\")\n",
    "\n",
    "start = time.time()\n",
    "tim1 = Timer(freq=1, mode=Timer.PERIODIC, callback=check_btn1)\n",
    "tim2 = Timer(freq=0.5, mode=Timer.PERIODIC, callback=check_btn2)\n",
    "tim3 = Timer(freq=2, mode=Timer.PERIODIC, callback=check_btn3)\n",
    "time.sleep(20)\n",
    "tim1.deinit()\n",
    "tim2.deinit()\n",
    "tim3.deinit()"
   ]
  },
  {
   "cell_type": "markdown",
   "id": "561b1763-4268-4949-b238-436c7ce8faa3",
   "metadata": {},
   "source": [
    "Obviously this is getting very clumsy.\n",
    "\n",
    "* Because buttons must be declared global, each button requires a unique function\n",
    "* Buttons that are sampled slowly also respond very slowly, buttons must be held down for up to one full sampling period.\n",
    "* There are serious limitations on what can be included in a callback function. Cannot allocate new memory during a callback.\n",
    "\n",
    "We could use a functional programming technique known as \"closures\" to create functions"
   ]
  },
  {
   "cell_type": "markdown",
   "id": "8a32ee8a-5b2b-4626-93a9-a3483eeb9947",
   "metadata": {},
   "source": [
    "## Interrupt Requests and Service Routines: IRQ/ISR\n",
    "\n",
    "Microcontrollers often incorporate hardware mechanisms to interrupt normal execution to service \"interrupts\". The Raspberry Pi Pico supports a number of different interrupts, and the MicroPython interpreter provides simplified access that makes them relatively easy and safe to use.\n",
    "\n",
    "* [Writing interrupt handlers](https://docs.micropython.org/en/latest/reference/isr_rules.html)\n",
    "\n",
    "Here we set up MicroPython to respond to interrupts on a GPIO pin. The possible triggers include\n",
    "\n",
    "* ``Pin.IRQ_FALLING``\n",
    "* ``Pin.IRQ_RISING``\n",
    "* ``Pin.IRQ_LOW_VALUE``\n",
    "* ``Pin.IRQ_HIGH_VALUE``\n",
    "\n",
    "These triggers can be combined using the Python OR ``|`` operator. For many applications, triggering on a falling or rising edge is often the method of choice. Consult the MicroPython documentation for other options."
   ]
  },
  {
   "cell_type": "code",
   "execution_count": 54,
   "id": "5b97a341-b948-40d8-9474-af7f2988b86b",
   "metadata": {},
   "outputs": [
    {
     "name": "stdout",
     "output_type": "stream",
     "text": [
      "serial exception on close write failed: [Errno 6] Device not configured\n",
      "Found serial ports: /dev/cu.usbmodem14301, /dev/cu.Bluetooth-Incoming-Port \n",
      "\u001b[34mConnecting to --port=/dev/cu.usbmodem14301 --baud=115200 \u001b[0m\n",
      "\u001b[34mReady.\n",
      "\u001b[0m"
     ]
    }
   ],
   "source": [
    "%serialconnect \n",
    "from machine import Pin\n",
    "import time\n",
    "\n",
    "btn = Pin(20, Pin.IN)\n",
    "led = Pin(25, Pin.OUT)\n",
    "\n",
    "start = time.time()\n",
    "\n",
    "def btn_isr(t):\n",
    "    led.toggle()\n",
    "    \n",
    "btn.irq(btn_isr, trigger=Pin.IRQ_FALLING)"
   ]
  },
  {
   "cell_type": "markdown",
   "id": "f8fa7526-ae21-48ad-807e-4989d994d409",
   "metadata": {},
   "source": [
    "### Capturing data via IRQ/ISR's\n",
    "\n",
    "There are many tricky issues involved with capturing data through the IRQ/ISR mechanism. This is partly due to Python's mechanism for creating and updating objects. Interrupting Python at precisely the moment new objects are being created can lead to data or memory corruption.\n",
    "\n",
    "One useful technique is to use IRQ/ISR within the context of an object class."
   ]
  },
  {
   "cell_type": "code",
   "execution_count": 61,
   "id": "b5ae053c-6a5f-412f-adc8-bd6a08c0f807",
   "metadata": {},
   "outputs": [
    {
     "name": "stdout",
     "output_type": "stream",
     "text": [
      "Found serial ports: /dev/cu.usbmodem14301, /dev/cu.Bluetooth-Incoming-Port \n",
      "\u001b[34mConnecting to --port=/dev/cu.usbmodem14301 --baud=115200 \u001b[0m\n",
      "\u001b[34mReady.\n",
      "\u001b[0m0\n",
      "0\n",
      "0\n",
      "0\n",
      "3818\n",
      "3818\n",
      "3818\n",
      "6313\n",
      "6313\n",
      "8627\n",
      "."
     ]
    }
   ],
   "source": [
    "%serialconnect\n",
    "\n",
    "from machine import Pin\n",
    "import time\n",
    "\n",
    "class Button(object):\n",
    "    def __init__(self, gpio):\n",
    "        self.btn = Pin(gpio, Pin.IN)\n",
    "        # set up IRQ\n",
    "        self.btn.irq(self.isr, trigger=Pin.IRQ_FALLING)\n",
    "        # data\n",
    "        self.time_pressed = time.ticks_ms()\n",
    "        \n",
    "    def isr(self, t):\n",
    "        self.time_pressed = time.ticks_ms()\n",
    "        \n",
    "btn = Button(20)\n",
    "start = time.ticks_ms()\n",
    "for k in range(10):\n",
    "    print(btn.time_pressed - start)\n",
    "    time.sleep(1)"
   ]
  },
  {
   "cell_type": "code",
   "execution_count": 62,
   "id": "0aa55d5d-9539-4148-add6-74c7cb409667",
   "metadata": {},
   "outputs": [
    {
     "name": "stdout",
     "output_type": "stream",
     "text": [
      "Found serial ports: /dev/cu.usbmodem14301, /dev/cu.Bluetooth-Incoming-Port \n",
      "\u001b[34mConnecting to --port=/dev/cu.usbmodem14301 --baud=115200 \u001b[0m\n",
      "\u001b[34mReady.\n",
      "\u001b[0m2991\n",
      "4806\n",
      ".6522\n",
      "8817\n"
     ]
    }
   ],
   "source": [
    "%serialconnect\n",
    "\n",
    "from machine import Pin\n",
    "import time\n",
    "\n",
    "class Button(object):\n",
    "    def __init__(self, gpio):\n",
    "        self.btn = Pin(gpio, Pin.IN)\n",
    "        # set up IRQ\n",
    "        self.btn.irq(self.isr, trigger=Pin.IRQ_FALLING)\n",
    "        # flag and data\n",
    "        self.pressed = False\n",
    "        self.time_pressed = time.ticks_ms()\n",
    "        \n",
    "    def isr(self, t):\n",
    "        self.pressed = True\n",
    "        self.time_pressed = time.ticks_ms()\n",
    "        \n",
    "btn = Button(20)\n",
    "start = time.ticks_ms()\n",
    "for k in range(10):\n",
    "    if btn.pressed:\n",
    "        print(btn.time_pressed - start)\n",
    "        btn.pressed = False\n",
    "    time.sleep(1)"
   ]
  },
  {
   "cell_type": "markdown",
   "id": "4727bb7b-4dc0-44e6-a412-7aa063886498",
   "metadata": {},
   "source": [
    "### Mulitple Buttons\n",
    "\n",
    "Button functions:\n",
    "\n",
    "1. Turn on blinking function\n",
    "2. Slow down blinking\n",
    "3. Speed up blinking"
   ]
  },
  {
   "cell_type": "code",
   "execution_count": null,
   "id": "86ff60ba-911e-48e6-b39c-fa6beaf98c32",
   "metadata": {},
   "outputs": [],
   "source": [
    "%serialconnect\n",
    "\n",
    "from machine import Pin\n",
    "import time\n",
    "\n",
    "class Blinker(object, gpio=25):\n",
    "    def __init__(self, period_ms = 500):\n",
    "        self.period = period_ms\n",
    "        self.pin = Pin(gpio.\n",
    "        \n",
    "    def on(self):\n",
    "        pass\n",
    "    \n",
    "    def off(self):\n",
    "        pass\n",
    "    \n",
    "    def set_period(self):\n",
    "        self.period = period\n",
    "\n",
    "class Button(object):\n",
    "    def __init__(self, gpio, name):\n",
    "        self.btn = Pin(gpio, Pin.IN)\n",
    "        self.name = name\n",
    "        # set up IRQ\n",
    "        self.btn.irq(self.isr, trigger=Pin.IRQ_FALLING)\n",
    "        # flag and data\n",
    "        self.pressed = False\n",
    "        self.time_pressed = time.ticks_ms()\n",
    "        \n",
    "    def isr(self, t):\n",
    "        self.pressed = not self.pressed\n",
    "        self.time_pressed = time.ticks_ms()\n",
    "\n",
    "led = Blinker(25)\n",
    "btnA = Button(20, \"A\")\n",
    "btnB = Button(21, \"B\")\n",
    "btnC = Button(22, \"C\")\n",
    "\n",
    "\n",
    "start = time.ticks_ms()\n",
    "for k in range(10):\n",
    "    if btnB.pressed:\n",
    "        led.period = 0.5*led.period\n",
    "        btnB.pressed = False\n",
    "    elif btnC.pressed:\n",
    "        led.period = 2*led.period\n",
    "        btnC.pressed = False\n",
    "    if btnA.pressed:\n",
    "        led.toggle()\n",
    "    time.sleep(led.period)"
   ]
  }
 ],
 "metadata": {
  "kernelspec": {
   "display_name": "MicroPython - USB",
   "language": "micropython",
   "name": "micropython"
  },
  "language_info": {
   "codemirror_mode": "python",
   "file_extension": ".py",
   "mimetype": "text/python",
   "name": "micropython"
  }
 },
 "nbformat": 4,
 "nbformat_minor": 5
}
