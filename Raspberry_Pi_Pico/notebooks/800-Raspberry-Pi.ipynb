{
 "cells": [
  {
   "cell_type": "markdown",
   "id": "f7925595-7ce3-4a70-9e29-c381db9a772e",
   "metadata": {
    "tags": []
   },
   "source": [
    "# Raspberry Pi"
   ]
  },
  {
   "cell_type": "markdown",
   "id": "992e511f-f153-431b-868f-56bcd12927f8",
   "metadata": {},
   "source": [
    "## Hardware\n",
    "\n",
    "* Raspberry Pi 4B\n",
    "* 32GB microSD card\n",
    "\n",
    "* Raspberry Pi Power Supply\n",
    "* Raspberry Pi 7\" Touch Screen\n",
    "* Raspberry Pi Keyboard and Mouse\n",
    "* SmartiPi Touch Pro\n",
    "\n",
    "Follow setup instructions. Use default configurations of Raspbian for user name `pi`. Choose password carefully and keep it on file for use in the laboratory."
   ]
  },
  {
   "cell_type": "markdown",
   "id": "bf946a96-00b8-4811-8862-b748f55ba2a6",
   "metadata": {
    "tags": []
   },
   "source": [
    "## Setup Procedures"
   ]
  },
  {
   "cell_type": "markdown",
   "id": "314bf134-3311-402b-ae7b-67a10392e510",
   "metadata": {},
   "source": [
    "### Step 1. Create an OS Image\n",
    "\n",
    "The download and imaging of the microSD card takes a while, up to an hour or two. So start this step and let it proceed while you move on to other things.\n",
    "\n",
    "1. Download and install [Raspberry Pi Imager](https://www.raspberrypi.com/software/) on your laptop.\n",
    "2. Mount the microSD card onto your laptop (typically using a USB microSD card reader).\n",
    "3. Select a Raspberry Pi OS and write the image to the microSD card. "
   ]
  },
  {
   "cell_type": "markdown",
   "id": "77946e71-e90d-4dd3-a31c-30a407ad23d7",
   "metadata": {},
   "source": [
    "### Step 2. Assemble Case Hardware"
   ]
  },
  {
   "cell_type": "markdown",
   "id": "1dc33589-a359-45ad-8495-9baeffb4f570",
   "metadata": {},
   "source": [
    "### Step 3. Initial Configuration\n",
    "\n",
    "The initial bootup sequence will include a number of configuration steps. You will need to attach a USB keyboard and mouse to complete these steps.\n",
    "\n",
    "* Country: United States\n",
    "* Language: American English\n",
    "* Timezone: Eastern\n",
    "* Check \"Use English Language\"\n",
    "* Check \"Use US keyboard\"\n",
    "\n",
    "The default user is \"pi\".  We will provide you with a class specific password to use with these devices.\n",
    "\n",
    "If the setup process doesn't successfully connect to the local wifi, skip those steps. After the boot process is complete, you can try to connect to wifi again through the taskbar."
   ]
  },
  {
   "cell_type": "markdown",
   "id": "e28d00aa-3a27-47cc-81ee-233bdc16165c",
   "metadata": {},
   "source": [
    "### Step 4. Update Installed Packages\n",
    "\n",
    "It's important to keep your device updated with the latest release of software updates. Open a terminal window and update all installed packages.\n",
    "\n",
    "    sudo apt update\n",
    "    sudo apt full-upgrade\n",
    "    sudo reboot\n",
    "    sudo apt autoremove\n",
    "    sudo apt clean\n",
    "    \n",
    " "
   ]
  },
  {
   "cell_type": "markdown",
   "id": "ced4b0fa-18f4-41af-9687-940492221f56",
   "metadata": {},
   "source": [
    "## Step 5. Configure Options\n",
    "\n",
    "In a terminal window, run the command\n",
    "\n",
    "    sudo raspi-config\n",
    "    \n",
    "Options to change:\n",
    "\n",
    "* Display Options\n",
    "    * D5: Set VNC resolution to 1024x768 or higher\n",
    "* Interface Options\n",
    "    * P1: Enable RPI camera\n",
    "    * P2: Enable SSH\n",
    "    * P3: Enable VNC\n",
    "    * Consider enabling other options as needed for laboratory interfacing\n",
    "* Performance Options\n",
    "    * P2: Increase GPU memory to 256 MB\n",
    "    \n",
    "Reboot when finished."
   ]
  },
  {
   "cell_type": "markdown",
   "id": "0624c71d-b770-4fad-b182-5c96b8910516",
   "metadata": {},
   "source": [
    "### Step 6. SSH Connectivity\n",
    "\n",
    "Remote connection from your laptop to a Raspberry Pi if often useful. To proceed you will need to be on the same network, and need the IP address of the Raspberry Pi.  You can find the IP address from the VNC icon on the task bar, or typing ``hostname -I`` in a terminal window.  \n",
    "\n",
    "For SSH connection, open a terminal window on your laptop and use the following command\n",
    "\n",
    "    ssh pi@xxx.xxx.xxx.xxx\n",
    "    \n",
    "This should open a terminal window to your Raspberry Pi.  "
   ]
  },
  {
   "cell_type": "markdown",
   "id": "fbb37cee-60aa-43ce-99f4-83876f033126",
   "metadata": {},
   "source": [
    "### Step 7. VNC Connectivity\n",
    "\n",
    "VNC provides remote access to the full desktop of the Raspberry Pi. If you haven't already done so, install [RealVNC Viewer](https://www.realvnc.com/en/connect/download/viewer/) on your laptop. \n",
    "\n",
    "Open the VNC Viewer using the Raspberry Pi IP address. Then open a terminal window and setup an additional vncserver with the command\n",
    "\n",
    "    vncserver -geometry 1600x900\n",
    "    \n",
    "using whatever resolution may be appropriate for your laptop. The command will return a new IP/port address you can use to open an additional desktop window to the Raspberry Pi.\n",
    "\n",
    "At this stage you may find it convenient to operate the Raspberry Pi in `headless' mode."
   ]
  },
  {
   "cell_type": "markdown",
   "id": "bf703336-2113-43d6-a681-379dbc9933e2",
   "metadata": {},
   "source": [
    "### Step 8. Other Software Installations"
   ]
  },
  {
   "cell_type": "markdown",
   "id": "ff46c4ad-6297-4a84-8896-0b5897dd518a",
   "metadata": {},
   "source": [
    "* WaveForms (Digilent)  Use the Raspberry Pi web browser to download and install the ADEPT runtime and WaveForms application.\n",
    "\n",
    "* Python Libraries\n",
    "\n",
    "Install BLAS and core libraries\n",
    "\n",
    "    sudo apt remove python3-numpy\n",
    "    sudo apt-get install libopenblas-dev\n",
    "    sudo apt-get install python3-numpy\n",
    "    sudo apt-get install python3-matplotlib\n",
    "    sudo apt-get install python3-scipy\n",
    "    sudo apt-get install python3-picamera\n",
    "    sudo apt-get install python3-opencv\n",
    "    \n",
    "* Apps\n",
    "\n",
    "    * [ImageJ](https://imagej.net/platforms/pi)\n",
    "    \n",
    "        sudo apt-get install openjdk-8-jre\n",
    "        sudo update-alternatives --config java\n",
    "        java -version\n",
    "        cd Downloads\n",
    "        wget downloads.imagej.net/fiji/latest/fiji-nojre.zip\n",
    "        unzip fiji-nojre.zip\n",
    "        wget raw.githubusercontent.com/imagej/imagej2/master/bin/ImageJ.sh\n"
   ]
  },
  {
   "cell_type": "markdown",
   "id": "0e2792cc-bc8f-4bb5-a7b7-7594e4749815",
   "metadata": {},
   "source": [
    "## Jupyterhub\n",
    "\n",
    "* Follow installation guide https://towardsdatascience.com/setup-your-home-jupyterhub-on-a-raspberry-pi-7ad32e20eed\n",
    "* Change port from :8000 to :8888 which is the most common port for Jupyterhub servers.\n",
    "\n",
    "\n",
    "    \n",
    "    "
   ]
  },
  {
   "cell_type": "markdown",
   "id": "8d0d9518-c6a9-43e0-b5f0-3360d50e07d1",
   "metadata": {},
   "source": [
    "## Hints\n",
    "\n",
    "* nano -- a simple terminal based text editor.\n",
    "* ping -- use ping on your laptop to locate the ip address of the Raspberry Pi. \n",
    "\n",
    "    ping -c 1 raspberrypi"
   ]
  },
  {
   "cell_type": "markdown",
   "id": "df1d394f-d135-4b94-ad18-b15a2cef018a",
   "metadata": {},
   "source": [
    "## Apps\n",
    "\n",
    "* nano -- a simple terminal based text editor\n"
   ]
  },
  {
   "cell_type": "code",
   "execution_count": null,
   "id": "a1439c30-8800-419c-890d-9dcabe87d703",
   "metadata": {},
   "outputs": [],
   "source": []
  }
 ],
 "metadata": {
  "kernelspec": {
   "display_name": "Python 3 (ipykernel)",
   "language": "python",
   "name": "python3"
  },
  "language_info": {
   "codemirror_mode": {
    "name": "ipython",
    "version": 3
   },
   "file_extension": ".py",
   "mimetype": "text/x-python",
   "name": "python",
   "nbconvert_exporter": "python",
   "pygments_lexer": "ipython3",
   "version": "3.8.5"
  }
 },
 "nbformat": 4,
 "nbformat_minor": 5
}
