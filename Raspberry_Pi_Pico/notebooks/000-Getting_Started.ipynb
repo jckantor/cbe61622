{
 "cells": [
  {
   "cell_type": "markdown",
   "id": "e0330865-18d6-4d46-8d8e-a341cd84247e",
   "metadata": {},
   "source": [
    "# Interfacing with Micropython on the Raspberry Pi Pico"
   ]
  },
  {
   "cell_type": "markdown",
   "id": "08fb9842-c577-4e0a-9fe8-36372beb5d32",
   "metadata": {},
   "source": [
    "## Raspberry Pi Pico"
   ]
  },
  {
   "cell_type": "markdown",
   "id": "f02dc429-8fa5-40e9-9957-4a49ccb4de03",
   "metadata": {},
   "source": [
    "* [RP2040 Microcontroller Datasheet](https://datasheets.raspberrypi.org/rp2040/rp2040-datasheet.pdf)\n",
    "* [Raspberry Pi Pico Datasheet](https://datasheets.raspberrypi.org/pico/pico-datasheet.pdf)\n",
    "* [Raspberry Pi Pico Python SDK](https://datasheets.raspberrypi.org/pico/raspberry-pi-pico-python-sdk.pdf)"
   ]
  },
  {
   "cell_type": "markdown",
   "id": "997bf710-e80a-47b3-99c6-ca3561c4cd41",
   "metadata": {},
   "source": [
    "* ![](https://www.raspberrypi.org/documentation/microcontrollers/images/Pico-R3-SDK11-Pinout.svg)"
   ]
  },
  {
   "cell_type": "markdown",
   "id": "bad2bad0-ae7b-4974-9227-8d9763c57013",
   "metadata": {},
   "source": [
    "## Comaptible Hardware\n",
    "\n",
    "* [Github: Cytron Maker Pi Pico](https://github.com/CytronTechnologies/MAKER-PI-PICO)"
   ]
  },
  {
   "cell_type": "markdown",
   "id": "0b542d7b-bb27-4e3f-bd5c-88c0d20eef08",
   "metadata": {},
   "source": [
    "## Development Environments\n",
    "\n",
    "There are two Micropython development environments that are particularly useful with the Raspberry Pi Pico.\n",
    "\n",
    "### Thonny IDE\n",
    "\n",
    "The Thonny IDE is the most widely used IDE for Micropython and should be part of any installation. It is mature, fully supported, and does nice things like setting the real time clock on reboots.\n",
    "\n",
    "### Jupyter notebooks\n",
    "\n",
    "Jupyter notebooks are an excellent means of combining narrative, code, and results in a single document. Jupyter kernals for Micropython are being developed by a number of users on github, but not yet in a mature state. \n",
    "\n",
    "* [Jupyter MicroPython Kernel](https://github.com/goatchurchprime/jupyter_micropython_kernel) Follow the instructions to install from PyPi using ``pip3``.  See [MicroPython on ESP Using Jupyter Notebook](https://towardsdatascience.com/micropython-on-esp-using-jupyter-6f366ff5ed9) for more detail.\n",
    "* [jupyter-micropython-upydevice](https://pypi.org/project/jupyter-micropython-upydevice/) More recent, but so far not working with Raspberry Pi Pico\n"
   ]
  },
  {
   "cell_type": "markdown",
   "id": "870f9330-d294-41de-9338-8834d198aab4",
   "metadata": {},
   "source": [
    "### Activity\n",
    "\n",
    "1. If you haven't already done so, install the Anaconda distribution of Python on your laptop.\n",
    "2. Install the Jupyter Micropython kernal on your laptop. \n",
    "3. Attach your Raspberry Pi Pico, then test your kernal by running the following two code cells. Be sure to specify the MicroPython-USB kernal."
   ]
  },
  {
   "cell_type": "code",
   "execution_count": 1,
   "id": "8cb28a2b-f734-40f7-8ff0-c8be387374c9",
   "metadata": {},
   "outputs": [
    {
     "name": "stdout",
     "output_type": "stream",
     "text": [
      "Found serial ports: /dev/cu.usbmodem14201, /dev/cu.Bluetooth-Incoming-Port \n",
      "\u001b[34mConnecting to --port=/dev/cu.usbmodem14201 --baud=115200 \u001b[0m\n",
      "\u001b[34mReady.\n",
      "\u001b[0m"
     ]
    }
   ],
   "source": [
    "%serialconnect"
   ]
  },
  {
   "cell_type": "code",
   "execution_count": 2,
   "id": "a391c7fa-f376-4344-a306-1929bc8e0a21",
   "metadata": {},
   "outputs": [
    {
     "name": "stdout",
     "output_type": "stream",
     "text": [
      "...."
     ]
    }
   ],
   "source": [
    "import machine\n",
    "import time\n",
    "\n",
    "led = machine.Pin(25, machine.Pin.OUT)\n",
    "start = time.time()\n",
    "while time.time() - start <= 20:\n",
    "    led.toggle()\n",
    "    time.sleep_ms(500)"
   ]
  }
 ],
 "metadata": {
  "kernelspec": {
   "display_name": "MicroPython - USB",
   "language": "micropython",
   "name": "micropython"
  },
  "language_info": {
   "codemirror_mode": "python",
   "file_extension": ".py",
   "mimetype": "text/python",
   "name": "micropython"
  }
 },
 "nbformat": 4,
 "nbformat_minor": 5
}
