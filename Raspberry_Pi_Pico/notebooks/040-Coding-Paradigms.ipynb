{
 "cells": [
  {
   "cell_type": "markdown",
   "id": "45d210eb-7479-4ee3-b5a5-3ea631bbcd37",
   "metadata": {},
   "source": [
    "# Coding Paradigms for Device Control"
   ]
  },
  {
   "cell_type": "code",
   "execution_count": 4,
   "id": "594db2ba-61c9-4e32-b571-8a7fcb680a40",
   "metadata": {},
   "outputs": [
    {
     "name": "stdout",
     "output_type": "stream",
     "text": [
      "Found serial ports: /dev/cu.usbmodem14201, /dev/cu.Bluetooth-Incoming-Port \n",
      "\u001b[34mConnecting to --port=/dev/cu.usbmodem14201 --baud=115200 \u001b[0m\n",
      "\u001b[34mReady.\n",
      "\u001b[0m"
     ]
    }
   ],
   "source": [
    "%serialconnect"
   ]
  },
  {
   "cell_type": "markdown",
   "id": "459543b9-c24e-4ae7-91fe-0cf723b5f00f",
   "metadata": {},
   "source": [
    "## The Coding Challenge\n",
    "\n",
    "PD control for a Ball on beam device. The device is to sense the position of a ball on a 50cm beam, compare to a setpoint, and adjust beam position with servo motor. The setpoint and control constant is to be given by the device user. Display all relevant data. Use a button to start and stop operation.\n",
    "\n",
    "Devices:\n",
    "\n",
    "* Distance sensor - sense ball position\n",
    "* Analog actuator - change beam angle\n",
    "* Analog sensor - proportional gain\n",
    "* Analog sensor - derivative time\n",
    "* Analog sensor - setpoint\n",
    "* Display - display position, angle\n",
    "* Display - display control parameters\n",
    "* Button - Start/Stop\n",
    "\n",
    "Create code to:\n",
    "\n",
    "* Measure the analog signal\n",
    "* Perform an action in response to the analog signal\n",
    "* Display state on LCD\n",
    "* Use on-board LED to show operational status"
   ]
  },
  {
   "cell_type": "markdown",
   "id": "63c19406-7f7a-46d3-9122-e279fac19490",
   "metadata": {},
   "source": [
    "## Coding Paradigms\n",
    "\n",
    "* Single threaded, imperative coding\n",
    "* Python generators\n",
    "    * separates event loop from device details\n",
    "    * modularizes the device coding\n",
    "    * each device can maintain a separate state\n",
    "* Python classes\n",
    "    * further modularizes coding\n",
    "    * data logging classes\n",
    "* Asynchronous coding\n",
    "    * further abstraction the event loop\n",
    "    * non-blocking\n",
    "* multi-threading"
   ]
  },
  {
   "cell_type": "markdown",
   "id": "4dee46d6-1e28-4d3f-b6f6-eff59accf5a1",
   "metadata": {},
   "source": [
    "## Single threaded, imperative coding"
   ]
  },
  {
   "cell_type": "code",
   "execution_count": 25,
   "id": "262e7cd1-fe2e-495c-b12e-be3b8ac0a0c4",
   "metadata": {},
   "outputs": [
    {
     "name": "stdout",
     "output_type": "stream",
     "text": [
      "8466\n",
      "384\n",
      "...."
     ]
    }
   ],
   "source": [
    "from machine import Pin, I2C, ADC, PWM\n",
    "import time\n",
    "from lcd1602 import LCD1602 as LCD\n",
    "\n",
    "## set up led\n",
    "led = Pin(25, Pin.OUT)\n",
    "\n",
    "## set up lcd display 0\n",
    "sda = Pin(8, Pin.OUT)\n",
    "scl = Pin(9, Pin.OUT)\n",
    "i2c0 = I2C(0, sda=sda, scl=scl)\n",
    "\n",
    "dsp0 = LCD(i2c0, 2, 16)\n",
    "dsp0.clear()\n",
    "dsp0.setCursor(0, 0)\n",
    "dsp0.print(\"Hello, World\")\n",
    "dsp0.setCursor(0, 1)\n",
    "dsp0.print(\"Display 0\")\n",
    "\n",
    "## set up lcd display 1\n",
    "sda = Pin(6, Pin.OUT)\n",
    "scl = Pin(7, Pin.OUT)\n",
    "i2c1 = I2C(1, sda=sda, scl=scl)\n",
    "\n",
    "dsp1 = LCD(i2c1, 2, 16)\n",
    "dsp1.clear()\n",
    "dsp1.setCursor(0, 0)\n",
    "dsp1.print(\"Hello, World\")\n",
    "dsp1.setCursor(0, 1)\n",
    "dsp1.print(\"Display 1\")\n",
    "\n",
    "## setup rotary angle sensor on Pin 26 (ADC0)\n",
    "adc0 = ADC(Pin(26))\n",
    "print(adc0.read_u16())\n",
    "\n",
    "## setup rotary angle sensor on Pin 26 (ADC1)\n",
    "adc1 = ADC(Pin(27))\n",
    "print(adc1.read_u16())\n",
    "\n",
    "## setup ultra-sonic distance sensor on Pin 20\n",
    "dst = Pin(20)\n",
    "\n",
    "## set up servo motor\n",
    "pwm = PWM(Pin(16))\n",
    "pwm.freq(50)\n",
    "pwm.duty_ns(1000*500)\n",
    "\n",
    "start = time.time()\n",
    "ball_position = 0\n",
    "\n",
    "while time.time() - start < 20:\n",
    "\n",
    "    # read distance\n",
    "    # send pulse\n",
    "    dst.init(Pin.OUT)\n",
    "    dst.value(0)\n",
    "    time.sleep_us(2)\n",
    "    dst.value(1)\n",
    "    time.sleep_us(10)\n",
    "    dst.value(0)\n",
    "    \n",
    "    # listen for response\n",
    "    dst.init(Pin.IN)\n",
    "    \n",
    "    # wait for on\n",
    "    t0 = time.ticks_us()\n",
    "    count = 0\n",
    "    while count < 10000:\n",
    "        if dst.value():\n",
    "            break\n",
    "        count += 1\n",
    "        \n",
    "    # wait for off\n",
    "    t1 = time.ticks_us()\n",
    "    count = 0\n",
    "    while count < 10000:\n",
    "        if not dst.value():\n",
    "            break\n",
    "        count += 1\n",
    "    \n",
    "    t2 = time.ticks_us()\n",
    "    \n",
    "    if t1 - t2 < 530:\n",
    "        ball_position = (t2 - t1) / 29 / 2\n",
    "        \n",
    "    # read analog sensor\n",
    "    ball_setpoint = 50*adc0.read_u16()/65535\n",
    "       \n",
    "    # display ball state\n",
    "    dsp0.clear()\n",
    "    dsp0.setCursor(0, 0)\n",
    "    dsp0.print(f\"SP = {ball_setpoint:0.2f} cm\")\n",
    "    dsp0.setCursor(0, 1)\n",
    "    dsp0.print(f\"PV = {ball_position}\")\n",
    "\n",
    "    # measure control gain\n",
    "    Kp = adc1.read_u16()/1000\n",
    "    \n",
    "    # update servo\n",
    "    \n",
    "    # adjust servo\n",
    "    u = Kp*(ball_setpoint - ball_position)\n",
    "    dt_us = int(1500 + max(-1000, min(1000, u)))\n",
    "    pwm.duty_ns(1000*dt_us)\n",
    "    \n",
    "    # display controller state\n",
    "    dsp1.clear()\n",
    "    dsp1.setCursor(0, 0)\n",
    "    dsp1.print(f\"Kp = {Kp}\")\n",
    "    dsp1.setCursor(0, 1)\n",
    "    dsp1.print(f\"MV = {dt_us}\")\n",
    "\n",
    "    time.sleep(0.1)\n",
    "    "
   ]
  },
  {
   "cell_type": "markdown",
   "id": "68914ed1-89f1-430d-9cdb-564bc1808849",
   "metadata": {},
   "source": [
    "## Discuss\n",
    "\n",
    "* Does this code provide a working prototype?\n",
    "* Is this code maintaina"
   ]
  }
 ],
 "metadata": {
  "kernelspec": {
   "display_name": "MicroPython - USB",
   "language": "micropython",
   "name": "micropython"
  },
  "language_info": {
   "codemirror_mode": "python",
   "file_extension": ".py",
   "mimetype": "text/python",
   "name": "micropython"
  }
 },
 "nbformat": 4,
 "nbformat_minor": 5
}
