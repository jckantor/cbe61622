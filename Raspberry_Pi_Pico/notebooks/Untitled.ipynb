{
 "cells": [
  {
   "cell_type": "markdown",
   "id": "a45f8c1f-4165-481f-9f34-2fe6175b5496",
   "metadata": {},
   "source": [
    "# Python Generators"
   ]
  },
  {
   "cell_type": "code",
   "execution_count": 22,
   "id": "5a10100a-aa68-49f7-a63c-df28c1ef7871",
   "metadata": {},
   "outputs": [
    {
     "name": "stdout",
     "output_type": "stream",
     "text": [
      "serial exception on close write failed: [Errno 6] Device not configured\n",
      "Found serial ports: /dev/cu.usbmodem14301, /dev/cu.Bluetooth-Incoming-Port \n",
      "\u001b[34mConnecting to --port=/dev/cu.usbmodem14301 --baud=115200 \u001b[0m\n",
      "\u001b[34mReady.\n",
      "\u001b[0m"
     ]
    }
   ],
   "source": [
    "%serialconnect"
   ]
  },
  {
   "cell_type": "code",
   "execution_count": 23,
   "id": "612ae6ec-907c-47c6-8b6e-b5fd2d18d836",
   "metadata": {},
   "outputs": [],
   "source": [
    "class LCD16x2():\n",
    "    def __init__(self, i2c):\n",
    "        self.i2c = i2c\n",
    "        self.d = LCD1602(i2c, 2, 16)\n",
    "        self.d.clear()\n",
    "        self.lines = [\" \"*16, \" \"*16]\n",
    "        \n",
    "    def update(self, line1=None, line2=None):\n",
    "        self.update_line(0, line1)\n",
    "        self.update_line(1, line2)\n",
    "        \n",
    "    def update_line(self, j, line):\n",
    "        line = \"{:16s}\".format(line)\n",
    "        if line != self.lines[j]:\n",
    "            for i, char in enumerate(line):\n",
    "                self.d.setCursor(i, j)\n",
    "                self.d.write(ord(char))\n",
    "            self.lines[j] = line\n",
    "            "
   ]
  },
  {
   "cell_type": "code",
   "execution_count": 21,
   "id": "01fafcb5-be90-4cca-ae01-3126035de871",
   "metadata": {},
   "outputs": [
    {
     "name": "stderr",
     "output_type": "stream",
     "text": [
      "Traceback (most recent call last):\n",
      "  File \"<stdin>\", line 23, in <module>\n",
      "  File \"<stdin>\", line 9, in lcd\n",
      "  File \"/lib/lcd1602.py\", line 63, in __init__\n",
      "  File \"/lib/lcd1602.py\", line 142, in command\n",
      "OSError: [Errno 5] EIO\n"
     ]
    }
   ],
   "source": [
    "import machine\n",
    "from lcd1602 import LCD1602\n",
    "\n",
    "def adc(pin):\n",
    "    while True:\n",
    "        yield 100*pin.read_u16()/65535\n",
    "        \n",
    "def lcd(i2c):\n",
    "    d = LCD1602(i2c, 2, 16)\n",
    "    print(\"B\")\n",
    "    d.clear()\n",
    "    print(\"Hello\")\n",
    "    while True:\n",
    "        line1, line2 = yield None\n",
    "        d.setCursor(0, 0)\n",
    "        d.print(\"{:16s}\".format(line1))\n",
    "        d.setCursor(0, 1)\n",
    "        d.print(\"{:16s}\".format(line2))\n",
    "        \n",
    "        \n",
    "a0 = adc(machine.ADC(0))\n",
    "d = lcd(machine.I2C(0))\n",
    "d.send(None)\n",
    "\n",
    "for k in range(1000):\n",
    "    v = next(a0)\n",
    "    d.send([v,\"\"])\n",
    "    \n",
    "print([next(a0) for k in range(10)])"
   ]
  },
  {
   "cell_type": "code",
   "execution_count": 9,
   "id": "e75f27ae-9567-44b9-9efa-45e1d91e2745",
   "metadata": {},
   "outputs": [
    {
     "name": "stderr",
     "output_type": "stream",
     "text": [
      "Traceback (most recent call last):\n",
      "  File \"<stdin>\", line 1, in <module>\n",
      "AttributeError: 'generator' object has no attribute 'next'\n"
     ]
    }
   ],
   "source": [
    "a0.next()"
   ]
  },
  {
   "cell_type": "code",
   "execution_count": null,
   "id": "1881156f-19d7-46bd-bcc2-5644b1708d5e",
   "metadata": {},
   "outputs": [],
   "source": []
  }
 ],
 "metadata": {
  "kernelspec": {
   "display_name": "MicroPython - USB",
   "language": "micropython",
   "name": "micropython"
  },
  "language_info": {
   "codemirror_mode": "python",
   "file_extension": ".py",
   "mimetype": "text/python",
   "name": "micropython"
  }
 },
 "nbformat": 4,
 "nbformat_minor": 5
}
