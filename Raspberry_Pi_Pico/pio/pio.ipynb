{
 "cells": [
  {
   "cell_type": "markdown",
   "id": "56b43585-915f-4469-98fe-468108542922",
   "metadata": {},
   "source": [
    "# Raspberry Pi PICO Programmable I/O (PIO)"
   ]
  },
  {
   "cell_type": "markdown",
   "id": "561bc1fc-3337-4cd0-a0e0-144ada12eb75",
   "metadata": {
    "tags": []
   },
   "source": [
    "## Resources\n",
    "\n",
    "### Documentation\n",
    "\n",
    "* [RP2040 Datasheet (Chapter 3)](https://datasheets.raspberrypi.org/rp2040/rp2040-datasheet.pdf#section_pio). This is the most complete description of the PIO architecture and PIO assembly language commands.\n",
    "* [Raspberry Pi Pico C/C++ SDK (Chapter 3)](https://datasheets.raspberrypi.org/pico/raspberry-pi-pico-c-sdk.pdf)\n",
    "* [Raspberry Pi Pico Python SDK (Section 3.9)](https://datasheets.raspberrypi.org/pico/raspberry-pi-pico-python-sdk.pdf)\n",
    "* [Getting Started with MicroPython on Raspberry Pi Pico (Appendix C)]()\n",
    "* [Implementation of the rp2 class](https://github.com/micropython/micropython/blob/master/ports/rp2/modules/rp2.py)\n",
    "\n",
    "\n",
    "### Tutorials\n",
    "\n",
    "* [A Practical Look at PIO on the Raspberry Pi Pico](https://blues.io/blog/raspberry-pi-pico-pio/)\n",
    "* [Using PIO to turn an LED on and off](https://learn.adafruit.com/intro-to-rp2040-pio-with-circuitpython/using-pio-to-turn-an-led-on-and-off)\n",
    "\n",
    "\n",
    "### Video Tutorials\n",
    "\n",
    "* [In-depth: Raspberry Pi Pico's PIO - programmable I/O!](https://youtu.be/yYnQYF_Xa8g)\n",
    "* [Intro to Raspberry Pi Pico and RP2040 - MicroPython Part 3: PIO | Digi-Key Electronics](https://www.digikey.com/en/maker/projects/raspberry-pi-pico-and-rp2040-micropython-part-3-pio/3079f9f9522743d09bb65997642e0831) overview of the PIO architecture and coding in MicroPython.\n",
    "* [Raspberry Pi Pico PIO - Ep. 1 - Overview with Pull, Out, and Parallel Port](https://www.youtube.com/watch?v=YafifJLNr6I&ab_channel=LifewithDavid)\n",
    "\n",
    "\n",
    "### MicroPython Documentation\n",
    "\n",
    "* [PIO](https://docs.micropython.org/en/latest/library/rp2.PIO.html)\n",
    "* [rp2](https://docs.micropython.org/en/latest/library/rp2.html)\n",
    "* [StateMachine](https://docs.micropython.org/en/latest/library/rp2.StateMachine.html)\n",
    "   \n",
    "\n",
    "### Examples\n",
    "\n",
    "* [PICO Micropytrhon Examples](https://github.com/raspberrypi/pico-micropython-examples/tree/master/pio)"
   ]
  },
  {
   "cell_type": "markdown",
   "id": "d42af11a-4011-4008-883b-38d2c74c4d45",
   "metadata": {},
   "source": [
    "## Setting up a PIO State Machine"
   ]
  },
  {
   "cell_type": "code",
   "execution_count": null,
   "id": "74ee80ac-a753-4d74-b011-960ba5324c14",
   "metadata": {},
   "outputs": [],
   "source": []
  }
 ],
 "metadata": {
  "kernelspec": {
   "display_name": "Python 3 (ipykernel)",
   "language": "python",
   "name": "python3"
  },
  "language_info": {
   "codemirror_mode": {
    "name": "ipython",
    "version": 3
   },
   "file_extension": ".py",
   "mimetype": "text/x-python",
   "name": "python",
   "nbconvert_exporter": "python",
   "pygments_lexer": "ipython3",
   "version": "3.8.5"
  }
 },
 "nbformat": 4,
 "nbformat_minor": 5
}
