{
 "cells": [
  {
   "cell_type": "markdown",
   "id": "da766985-d769-43ea-a2f3-9b7f40e8a76c",
   "metadata": {},
   "source": [
    "# Asynchronous Programming "
   ]
  },
  {
   "cell_type": "code",
   "execution_count": 91,
   "id": "b4daed76-c3af-4c63-b76d-fe8abb5995d4",
   "metadata": {},
   "outputs": [
    {
     "name": "stdout",
     "output_type": "stream",
     "text": [
      "Found serial ports: /dev/cu.usbmodem14301, /dev/cu.Bluetooth-Incoming-Port \n",
      "\u001b[34mConnecting to --port=/dev/cu.usbmodem14301 --baud=115200 \u001b[0m\n",
      "\u001b[34mReady.\n",
      "\u001b[0m"
     ]
    }
   ],
   "source": [
    "%serialconnect"
   ]
  },
  {
   "cell_type": "markdown",
   "id": "826edb86-c026-458a-b020-89990dd66b46",
   "metadata": {},
   "source": [
    "## What is Asynchronous Programming?\n",
    "\n",
    "Let's begin by modeling a simple laboratory application consisting of multiple measurement tasks. We'll label each task $(s, t)$,  where $s$ is a unique name for the task, and $t$ is the time required to complete the measurement.\n",
    "\n",
    "* Step 1. Task (A, 2). This first task A require 2 seconds to complete.\n",
    "* Step 2. Following A, tasks (B1, 1), (B2, 3), (B3, 2) are not compute intensive and could be performed at the same time, if possible.\n",
    "* Step 3. Task (C, 1) is started after the prior steps are completed.\n",
    "\n",
    "We will attempt to simulate the execution of these tasks assuming that no parallelism is possible"
   ]
  },
  {
   "cell_type": "code",
   "execution_count": 72,
   "id": "3f5d2909-c080-40bf-9145-80d89808b1cc",
   "metadata": {},
   "outputs": [
    {
     "name": "stdout",
     "output_type": "stream",
     "text": [
      "Start A at 0.00\n",
      "Finish A at 2.00\n",
      "Start B1 at 2.00\n",
      "Finish B1 at 3.00\n",
      "Start B2 at 3.01\n",
      "Finish B2 at 6.01\n",
      "Start B3 at 6.01\n",
      ".Finish B3 at 8.01\n",
      "Start C at 8.01\n",
      "Finish C at 9.01\n"
     ]
    }
   ],
   "source": [
    "import time\n",
    "\n",
    "def task(name, duration):\n",
    "    global start\n",
    "    print(f\"Start {name} at {(time.ticks_ms() - start)/1000:.2f}\")\n",
    "    time.sleep(duration)\n",
    "    print(f\"Finish {name} at {(time.ticks_ms() - start)/1000:.2f}\")\n",
    "    return\n",
    "    \n",
    "def expt():\n",
    "    global start\n",
    "    start = time.ticks_ms()\n",
    "    task(\"A\", 2)\n",
    "    task(\"B1\", 1)\n",
    "    task(\"B2\", 3)\n",
    "    task(\"B3\", 2)\n",
    "    task(\"C\", 1)\n",
    "    return\n",
    "\n",
    "expt()"
   ]
  },
  {
   "cell_type": "markdown",
   "id": "0a783c11-9e66-4b30-83d8-276a8f39efe2",
   "metadata": {},
   "source": [
    "### async/await and asyncio.run()\n",
    "\n",
    "We begin the journey to an asynchronous code by introducing coroutines. A coroutine begins with the ``async`` keyword. A coroutine will be scheduled for execution by a scheduler.\n",
    "\n",
    "The ``await`` keyword is used to create and invoke an instance of the coroutine. ``await`` suspends execution of the surrounding code and returns control to the event loop until the results of the coroutine are returned. \n",
    "\n",
    "One consideration is that ``await`` can only be used inside a coroutine. \n",
    "\n",
    "Finally, instances of coroutines can be run using ``asyncio.run()``."
   ]
  },
  {
   "cell_type": "code",
   "execution_count": 92,
   "id": "7e881093-0da8-466b-95ca-58e635c9d82f",
   "metadata": {},
   "outputs": [
    {
     "name": "stdout",
     "output_type": "stream",
     "text": [
      "Start A at 0.00\n",
      "Finish A at 2.00\n",
      "Start B1 at 2.00\n",
      "Finish B1 at 3.01\n",
      "Start B2 at 3.01\n",
      "Finish B2 at 6.01\n",
      "Start B3 at 6.01\n",
      ".Finish B3 at 8.01\n",
      "Start C at 8.01\n",
      "Finish C at 9.01\n"
     ]
    }
   ],
   "source": [
    "import time\n",
    "import uasyncio as asyncio\n",
    "\n",
    "async def task(name, duration):\n",
    "    global start\n",
    "    print(f\"Start {name} at {(time.ticks_ms() - start)/1000:.2f}\")\n",
    "    time.sleep(duration)\n",
    "    print(f\"Finish {name} at {(time.ticks_ms() - start)/1000:.2f}\")\n",
    "    return\n",
    "    \n",
    "async def expt():\n",
    "    global start\n",
    "    start = time.ticks_ms()\n",
    "    await task(\"A\", 2)\n",
    "    await task(\"B1\", 1)\n",
    "    await task(\"B2\", 3)\n",
    "    await task(\"B3\", 2)\n",
    "    await task(\"C\", 1)\n",
    "    return\n",
    "\n",
    "asyncio.run(expt())"
   ]
  },
  {
   "cell_type": "markdown",
   "id": "ec417c7e-ae61-4e26-9863-e0f1649c5c50",
   "metadata": {},
   "source": [
    "### asyncio.sleep() and asyncio.gather()\n",
    "\n",
    "At this stage there has been no change in execution as a result of introducing ``async`` and ``await``. \n",
    "\n",
    "The first change is to replace ``time.sleep(duration)`` with ``await asyncio.sleep(duration)``. The former is blocking, the second is non-blocking which allows event loop to perform other tasks while waiting for the sleep function to return a result.\n",
    "\n",
    "The second change is use ``await asyncio.gather()`` to start all of the B tasks at once. ``gather()`` returns when all of those coroutines have returned results."
   ]
  },
  {
   "cell_type": "code",
   "execution_count": 99,
   "id": "584e8e15-d10e-4652-96c3-6db6348645d2",
   "metadata": {},
   "outputs": [
    {
     "name": "stdout",
     "output_type": "stream",
     "text": [
      "Start A at 0.00\n",
      "Finish A at 2.00\n",
      "Start B1 at 2.00\n",
      "Start B2 at 2.01\n",
      "Start B3 at 2.01\n",
      "Finish B1 at 3.01\n",
      "Finish B3 at 4.01\n",
      "Finish B2 at 5.01\n",
      "Start C at 5.01\n",
      "Finish C at 6.01\n"
     ]
    }
   ],
   "source": [
    "import time\n",
    "import uasyncio as asyncio\n",
    "\n",
    "async def task(name, duration):\n",
    "    global start\n",
    "    print(f\"Start {name} at {(time.ticks_ms() - start)/1000:.2f}\")\n",
    "    await asyncio.sleep(duration)\n",
    "    print(f\"Finish {name} at {(time.ticks_ms() - start)/1000:.2f}\")\n",
    "    return\n",
    "    \n",
    "async def expt():\n",
    "    global start\n",
    "    start = time.ticks_ms()\n",
    "    await task(\"A\", 2)\n",
    "    await asyncio.gather(task(\"B1\", 1), task(\"B2\", 3), task(\"B3\", 2))\n",
    "    await task(\"C\", 1)\n",
    "    return\n",
    "\n",
    "asyncio.run(expt())"
   ]
  },
  {
   "cell_type": "markdown",
   "id": "9ed00d63-3b50-45fb-9a8d-c811372f2d73",
   "metadata": {},
   "source": [
    "## Asynchronous Programming for Lab Instrumentation\n",
    "\n"
   ]
  },
  {
   "cell_type": "code",
   "execution_count": 104,
   "id": "458fd695-98e1-40a6-9a90-b396524b7f20",
   "metadata": {},
   "outputs": [
    {
     "name": "stdout",
     "output_type": "stream",
     "text": [
      "..................\n",
      "**[ys] <class 'serial.serialutil.SerialException'>\n",
      "**[ys] device reports readiness to read but returned no data (device disconnected or multiple access on port?)\n",
      "\n",
      "\n",
      "**[ys] <class 'serial.serialutil.SerialException'>\n",
      "**[ys] device reports readiness to read but returned no data (device disconnected or multiple access on port?)\n",
      "\n"
     ]
    }
   ],
   "source": [
    "import machine\n",
    "import uasyncio as asyncio\n",
    "\n",
    "async def blink(led, time_ms):\n",
    "    while True:\n",
    "        await asyncio.sleep_ms(time_ms)\n",
    "        led.toggle\n",
    "        \n",
    "led1 = machine.Pin(25, machine.Pin.OUT)\n",
    "led2 = machine.Pin(1, machine.Pin.OUT)\n",
    "\n",
    "async def main():\n",
    "    await asyncio.gather(blink(led1, 100), blink(led2, 300))\n",
    "    \n",
    "asyncio.run(main())"
   ]
  },
  {
   "cell_type": "code",
   "execution_count": null,
   "id": "5c1e896c-ac6e-42d2-ad09-fd662ef82da5",
   "metadata": {},
   "outputs": [],
   "source": []
  }
 ],
 "metadata": {
  "kernelspec": {
   "display_name": "MicroPython - USB",
   "language": "micropython",
   "name": "micropython"
  },
  "language_info": {
   "codemirror_mode": "python",
   "file_extension": ".py",
   "mimetype": "text/python",
   "name": "micropython"
  }
 },
 "nbformat": 4,
 "nbformat_minor": 5
}
