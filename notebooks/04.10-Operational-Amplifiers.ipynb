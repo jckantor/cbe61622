{
 "cells": [
  {
   "cell_type": "markdown",
   "metadata": {},
   "source": [
    "# Operational Amplifiers"
   ]
  },
  {
   "cell_type": "markdown",
   "metadata": {},
   "source": [
    "(Harvey Mudd) ![](http://fourier.eng.hmc.edu/e84/lectures/figures/OpAmp0.gif)\n",
    "\n",
    "* [Input impedance]\n",
    "* [Output impedance]\n",
    "* [Open-circuit gain]\n",
    "\n",
    "An approximate equation for the output voltage is\n",
    "\n",
    "$$V_{out} = A_d (V_+ - V_-) + A_c(V_+ + V_-)$$\n",
    "\n",
    "where $A_d$ is the differential gain and $A_c$ is the common-mode gain. Normally we seek very high values for $A_d$ and very low values for $A_c$. The common-mode rejection ratio is\n",
    "\n",
    "$$CMRR = 20 \\log_{10}\\frac{A_d}{A_c}$$\n",
    "\n",
    "Typical values of $CCMR$ are 100db or greater indicating $A_d > 10^5A_c$"
   ]
  },
  {
   "cell_type": "markdown",
   "metadata": {},
   "source": [
    "## Feedback"
   ]
  },
  {
   "cell_type": "code",
   "execution_count": null,
   "metadata": {},
   "outputs": [],
   "source": []
  }
 ],
 "metadata": {
  "kernelspec": {
   "display_name": "Python 3",
   "language": "python",
   "name": "python3"
  },
  "language_info": {
   "codemirror_mode": {
    "name": "ipython",
    "version": 3
   },
   "file_extension": ".py",
   "mimetype": "text/x-python",
   "name": "python",
   "nbconvert_exporter": "python",
   "pygments_lexer": "ipython3",
   "version": "3.8.5"
  }
 },
 "nbformat": 4,
 "nbformat_minor": 4
}
