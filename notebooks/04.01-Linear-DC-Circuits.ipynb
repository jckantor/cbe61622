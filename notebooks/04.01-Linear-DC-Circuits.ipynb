{
 "cells": [
  {
   "cell_type": "markdown",
   "metadata": {},
   "source": [
    "# Basics of Linear DC Circuits"
   ]
  },
  {
   "cell_type": "markdown",
   "metadata": {},
   "source": [
    "## Kirchhoff's rules\n",
    "\n",
    "The circuits used in laboratory instrumentation are generally comprised of lumped elements such as conductors, resistors, capacitors, inductors, and various semiconductor components. Kirchhoff's rules are the foundation of circuit analysis for lumped elements. There are two basic rules:\n",
    "\n",
    "* **Kirchhoff's current rule.** Given a node in a circuit, the algebraic sum of currents is zero. That is,\n",
    "$$\\sum_{n=1}^N I_n = 0$$\n",
    "where $I_n$ is the signed (i.e., positive or negative) current in the $n^{th}$ branch of the node.\n",
    "\n",
    "* **Kirchoff's voltage rule.** The sum of potential differences is zero around any closed loop. That is\n",
    "$$\\sum_{n=1}^NV_n = 0$$\n",
    "where $V_n$ is the signed (i.e, positive or negative) potential difference across each device in the closed loop.\n",
    "\n",
    "These rules are extraordinarily useful for circuit analysis, but do depend on several key assumptions that do not hold in for all laboratory situations. In particular, these rules assume a circuit can be modeled as lumped elements that do not interact through electric or magnetic fields. These assumptions do not hold for high frequency transmission lines where charge density may be oscillating, or where there is significant interaction of electrical or magnetic fields with the surrounding environment. Often such interactions are the phenomona under study in the laboratory, so one needs to be aware of the limits of basic circuit analysis."
   ]
  },
  {
   "cell_type": "markdown",
   "metadata": {},
   "source": [
    "## Ohm's law\n",
    "\n",
    "Ohm's law is a linear consituitive equation describing the relationship between current density $\\bf j$, electric field $\\bf e$, and magnetic flux density $\\bf b$ for a bulk conductors. \n",
    "\n",
    "$${\\bf j} = \\sigma({\\bf e} + {\\bf v}\\times {\\bf b}) + {\\bf j}_s$$\n",
    "\n",
    "where $\\bf v$ is velocity ${\\bf j}_s$ is any current source imposed independently of an electromagnetic field. These are vector quantities, and $\\sigma$ is a tensor for anisotropic materials.\n",
    "\n",
    "For isotopic conductors where there is no motion relative to a magnetic field, Ohm's law simplifies to\n",
    "\n",
    "$${\\bf j} = \\sigma{\\bf e} + {\\bf j}_s$$\n",
    "\n"
   ]
  },
  {
   "cell_type": "markdown",
   "metadata": {},
   "source": [
    "## Ideal Voltage and Current Sources\n",
    "\n",
    "An **ideal voltage source** is a device that maintains a fixed voltage regardless of the amount of the amount of current supplied or absorbed by the device. This is what customers hope their local electric utility can provide for their use.\n",
    "\n",
    "An **ideal current source** is a device that provides or absorbs a fixed value of current regardless of the voltage on the circuit. \n"
   ]
  },
  {
   "cell_type": "code",
   "execution_count": null,
   "metadata": {},
   "outputs": [],
   "source": []
  }
 ],
 "metadata": {
  "kernelspec": {
   "display_name": "Python 3",
   "language": "python",
   "name": "python3"
  },
  "language_info": {
   "codemirror_mode": {
    "name": "ipython",
    "version": 3
   },
   "file_extension": ".py",
   "mimetype": "text/x-python",
   "name": "python",
   "nbconvert_exporter": "python",
   "pygments_lexer": "ipython3",
   "version": "3.8.5"
  }
 },
 "nbformat": 4,
 "nbformat_minor": 4
}
