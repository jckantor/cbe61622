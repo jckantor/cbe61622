{
 "cells": [
  {
   "cell_type": "markdown",
   "metadata": {},
   "source": [
    "# Projects"
   ]
  },
  {
   "cell_type": "markdown",
   "metadata": {},
   "source": [
    "## Project Ideas for Fall, 2022"
   ]
  },
  {
   "cell_type": "markdown",
   "metadata": {},
   "source": [
    "### Raspberry Pi Electronics Workbench\n",
    "\n",
    "* Digilent Analog Studio\n",
    "* Raspberry Pi 400 w/monitor\n",
    "* Analog Devices ADALP2000 kit\n",
    "* Stepper Motors\n",
    "* 40 wire inter"
   ]
  },
  {
   "cell_type": "markdown",
   "metadata": {},
   "source": [
    "### CO2 Sensor\n",
    "\n",
    "Build a NDIR based CO2 sensor with integrated humdity and temperature sensors. Install and operate with CBE Lab II CO2 absorption experiment, or separately test wtih commercial seltzer water dispensers."
   ]
  },
  {
   "cell_type": "markdown",
   "metadata": {},
   "source": [
    "### Microsope\n",
    "\n",
    "Build a microscope. Use Raspberry Pi HQ camera, C-mount microscope lens.\n",
    "\n",
    "* https://www.sciencedirect.com/science/article/pii/S2352711021000339#appA\n",
    "* https://www.amazon.com/Monocular-C-Mount-Industry-Microscope-Objective/dp/B016NUGHK2"
   ]
  },
  {
   "cell_type": "markdown",
   "metadata": {},
   "source": [
    "### Potentiostat/Galvanostat/EIS Device"
   ]
  },
  {
   "cell_type": "code",
   "execution_count": null,
   "metadata": {},
   "outputs": [],
   "source": []
  }
 ],
 "metadata": {
  "kernelspec": {
   "display_name": "Python 3 (ipykernel)",
   "language": "python",
   "name": "python3"
  },
  "language_info": {
   "codemirror_mode": {
    "name": "ipython",
    "version": 3
   },
   "file_extension": ".py",
   "mimetype": "text/x-python",
   "name": "python",
   "nbconvert_exporter": "python",
   "pygments_lexer": "ipython3",
   "version": "3.8.12"
  }
 },
 "nbformat": 4,
 "nbformat_minor": 4
}
