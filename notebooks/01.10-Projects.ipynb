{
 "cells": [
  {
   "cell_type": "markdown",
   "metadata": {},
   "source": [
    "# Projects"
   ]
  },
  {
   "cell_type": "markdown",
   "metadata": {},
   "source": [
    "Project Ideas for Fall, 2022"
   ]
  },
  {
   "cell_type": "markdown",
   "metadata": {},
   "source": [
    "## Laboratory Workstation\n",
    "\n",
    "* Digilent Analog Studio\n",
    "* Raspberry Pi Pico with Grove interface board\n",
    "* Raspberry Pi 400 w/monitor\n",
    "* Analog Devices ADALP2000 kit\n",
    "* Stepper Motors\n",
    "* Raspberry Pi Camera (Arducam)\n"
   ]
  },
  {
   "cell_type": "markdown",
   "metadata": {},
   "source": [
    "## Potentiostat/Galvanostat/EIS Device\n",
    "\n",
    "* Matsubara, Yasuo. \"A Small yet Complete Framework for a Potentiostat, Galvanostat, and Electrochemical Impedance Spectrometer.\" (2021): 3362-3370. https://pubs.acs.org/doi/full/10.1021/acs.jchemed.1c00228\n"
   ]
  },
  {
   "cell_type": "markdown",
   "metadata": {},
   "source": [
    "## CO2 Sensor for Absorption Experiments\n",
    "\n",
    "Build a NDIR based CO2 sensor with integrated humdity and temperature sensors. Install and operate with CBE Lab II CO2 absorption experiment, or separately test wtih commercial seltzer water dispensers.\n",
    "\n",
    "* Sensirion CO2 and RH/T Sensor Module SCD30 https://www.sensirion.com/en/environmental-sensors/carbon-dioxide-sensors/carbon-dioxide-sensors-scd30/  [datasheet](https://www.sensirion.com/fileadmin/user_upload/customers/sensirion/Dokumente/9.5_CO2/Sensirion_CO2_Sensors_SCD30_Datasheet.pdf)\n",
    "\n",
    "* Adafruit SCD-30 - NDIR CO2 Temperature and Humidity Sensor - STEMMA QT / Qwiic https://www.adafruit.com/product/4867?gclid=Cj0KCQiA-qGNBhD3ARIsAO_o7ylZl287sbLwAv7PBfK0HwkmhqoFTfmOfG4wT2Vq62rdAMEVrOKoMdYaAt_WEALw_wcB\n",
    "\n",
    "* Grove - Carbon Dioxide Sensor(MH-Z16) https://www.seeedstudio.com/Grove-Carbon-Dioxide-Sensor-MH-Z16.html?gclid=Cj0KCQiA-qGNBhD3ARIsAO_o7ylnklumaCe4fRpkKTekgIwVLvb-bIeBSEhTljCVbd5DBLePFiYLBqMaAmMCEALw_wcB"
   ]
  },
  {
   "cell_type": "markdown",
   "metadata": {},
   "source": [
    "## Microsope\n",
    "\n",
    "Build a microscope. Use Raspberry Pi HQ camera, C-mount microscope lens.\n",
    "\n",
    "* Miikki, Kim, et al. \"An open-source camera system for experimental measurements.\" SoftwareX 14 (2021): 100688. https://www.sciencedirect.com/science/article/pii/S2352711021000339\n",
    "\n",
    "* HAYEAR Monocular Max 180x Zoom C-Mount Glass Lens Adapter F/Industry Microscope Camera Objective https://www.amazon.com/Monocular-C-Mount-Industry-Microscope-Objective/dp/B016NUGHK2"
   ]
  },
  {
   "cell_type": "code",
   "execution_count": null,
   "metadata": {},
   "outputs": [],
   "source": []
  }
 ],
 "metadata": {
  "kernelspec": {
   "display_name": "Python 3 (ipykernel)",
   "language": "python",
   "name": "python3"
  },
  "language_info": {
   "codemirror_mode": {
    "name": "ipython",
    "version": 3
   },
   "file_extension": ".py",
   "mimetype": "text/x-python",
   "name": "python",
   "nbconvert_exporter": "python",
   "pygments_lexer": "ipython3",
   "version": "3.8.12"
  }
 },
 "nbformat": 4,
 "nbformat_minor": 4
}
