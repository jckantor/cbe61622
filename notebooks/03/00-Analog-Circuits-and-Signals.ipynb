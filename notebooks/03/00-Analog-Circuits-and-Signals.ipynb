{
 "cells": [
  {
   "cell_type": "markdown",
   "metadata": {},
   "source": [
    "# Analog Circuits and Signals"
   ]
  },
  {
   "cell_type": "markdown",
   "metadata": {},
   "source": [
    "Topics\n",
    "\n",
    "* Basic Circuits\n",
    "\n",
    "* Op Amps\n",
    "\n",
    "* Soures of Noise\n",
    "    * Shot noise\n",
    "    * Johnson/Nyquist noise\n",
    "        * Capacitance noise\n",
    "    * 1/f noise\n",
    "    * Experiment: Measure noise in an MEMS sensor (3-axis acc.)\n",
    "    * Experiment: Measure elecrochemical noise of solution\n",
    "    * Experiment: Meauure noise in an image sensor (IR sensor?)\n",
    " \n",
    "    \n"
   ]
  },
  {
   "cell_type": "markdown",
   "metadata": {},
   "source": [
    "## Reference Materials\n",
    "\n",
    "* Hayes, Thomas C. (2016). Learning the Art of Electronics: A Hands-on Lab Course. Cambridge University Press, 2016. A Hands-On Lab Course 1st Edition. (https://www.uvm.edu/~gpetrucc/courses/Chem219/Lectures/%5BTom_Hayes%3B_Paul_Horowitz%5D_Learning_the_Art_of_Ele(z-lib.org).pdf)\n",
    "\n",
    "* Monk, S. (2017). Electronics Cookbook: Practical Electronic Recipes with Arduino and Raspberry Pi. \" O'Reilly Media, Inc.\".\n",
    "\n",
    "* Bohn, Paul. Electronics for Chemical Instrumentation.\n",
    "\n",
    "\n",
    "\n"
   ]
  }
 ],
 "metadata": {
  "kernelspec": {
   "display_name": "Python 3 (ipykernel)",
   "language": "python",
   "name": "python3"
  },
  "language_info": {
   "codemirror_mode": {
    "name": "ipython",
    "version": 3
   },
   "file_extension": ".py",
   "mimetype": "text/x-python",
   "name": "python",
   "nbconvert_exporter": "python",
   "pygments_lexer": "ipython3",
   "version": "3.9.7"
  }
 },
 "nbformat": 4,
 "nbformat_minor": 4
}
