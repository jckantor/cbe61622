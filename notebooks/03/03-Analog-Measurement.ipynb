{
 "cells": [
  {
   "cell_type": "markdown",
   "id": "98e12947-d0e7-40ab-bcbc-f5ce164832ea",
   "metadata": {},
   "source": [
    "# Analog Measurement"
   ]
  },
  {
   "cell_type": "code",
   "execution_count": null,
   "id": "720173d5-5e32-41b7-80de-af80cbdbe547",
   "metadata": {},
   "outputs": [],
   "source": []
  }
 ],
 "metadata": {
  "kernelspec": {
   "display_name": "Python 3 (ipykernel)",
   "language": "python",
   "name": "python3"
  },
  "language_info": {
   "codemirror_mode": {
    "name": "ipython",
    "version": 3
   },
   "file_extension": ".py",
   "mimetype": "text/x-python",
   "name": "python",
   "nbconvert_exporter": "python",
   "pygments_lexer": "ipython3",
   "version": "3.8.12"
  }
 },
 "nbformat": 4,
 "nbformat_minor": 5
}
