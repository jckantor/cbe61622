{
 "cells": [
  {
   "cell_type": "markdown",
   "metadata": {
    "id": "-v0_WNKmYmbN"
   },
   "source": [
    "# Working with Particle\n",
    "\n"
   ]
  },
  {
   "cell_type": "markdown",
   "metadata": {
    "id": "Qflaa53R8xMq"
   },
   "source": [
    "## Why Particle?\n",
    "\n",
    "Many notebooks in this repository demonstrate the use of devices from [Particle.io](particle.io), a company that produces devices and services for the *Internet of Things* (IoT) industry. \n",
    "\n",
    "The IoT is evolving quickly with many participants, ranging from [Arduino.cc](arduino.cc) founded in 2005 for purpose of bringing to market new devices based on easy-to-use hardware and software, to long-established companies like Intel and Texas Instruments entering new markets, and to companies like [Particle founded in 2012](https://blog.particle.io/spark-is-now-particle/) intending to share in the growth of a new industry.\n",
    "\n",
    "There are other devices on the market that would support the educational purposes of these notebooks. The attractive features of Particle for this project include:\n",
    "\n",
    "* A complete cloud-based development platform. The development platform is also available as a command line interface that can be integrated with other services including, for example, Google Colaboratory.\n",
    "\n",
    "* A range of wireless device communications available including Bluetooth, Wifi, and cellular moden"
   ]
  },
  {
   "cell_type": "markdown",
   "metadata": {
    "id": "V-L4G9Ezjeo6"
   },
   "source": [
    "## Particle Argon\n",
    "\n",
    "[hardware datasheet](https://docs.particle.io/datasheets/wi-fi/argon-datasheet/)\n",
    "\n",
    "[Device OS API](https://docs.particle.io/reference/device-os/firmware/argon/)\n",
    "\n",
    "![](https://docs.particle.io/assets/images/argon/argon-top.png)"
   ]
  },
  {
   "cell_type": "code",
   "execution_count": null,
   "metadata": {
    "id": "2j_jGsvGYmbO"
   },
   "outputs": [],
   "source": []
  }
 ],
 "metadata": {
  "colab": {
   "name": "02.00-Working_with_Particle.ipynb",
   "provenance": []
  },
  "kernelspec": {
   "display_name": "Python 3 (ipykernel)",
   "language": "python",
   "name": "python3"
  },
  "language_info": {
   "codemirror_mode": {
    "name": "ipython",
    "version": 3
   },
   "file_extension": ".py",
   "mimetype": "text/x-python",
   "name": "python",
   "nbconvert_exporter": "python",
   "pygments_lexer": "ipython3",
   "version": "3.8.5"
  }
 },
 "nbformat": 4,
 "nbformat_minor": 4
}
