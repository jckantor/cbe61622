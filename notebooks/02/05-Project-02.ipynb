{
 "cells": [
  {
   "cell_type": "markdown",
   "id": "1d4fa0ce-3fa4-4f63-8c2a-c8cef526f584",
   "metadata": {},
   "source": [
    "# Project 02 - Interacting with the Laboratory Environment\n",
    "\n",
    "Use the \"Grove Starter Kit for Raspberry Pi Pico\" to create a simple servo device regulated by an analog sensor. The device will\n",
    "\n",
    "1. Read the position of a rotary sensor using an analog to digital converter.\n",
    "2. Use the position of the rotary sensor to set the position of a servo motor using pulse width modulation.\n",
    "3. Display the measured and command signals on the LCD display.\n",
    "\n",
    "When completed, the servo motor should track the position of the rotary sensor in real time.\n",
    "\n",
    "Learning Goals:\n",
    "\n",
    "* Scaling and ADC to reflect real-world units.\n",
    "* Learn pulse width modulation as a form of digital to analog conversion.\n",
    "* More practice with MicroPython"
   ]
  },
  {
   "cell_type": "markdown",
   "id": "a0d527a9-95ee-4f20-aec8-c1e7fc7047cf",
   "metadata": {},
   "source": [
    "## Installations\n",
    "\n",
    "This project requires download of several Python libraries to the Raspberry Pi Pico. The necessary libraries, additional documentation, and examples are available as package for files from [Beginners Guide of Raspberry Pi Pico Based on MicroPython](https://files.seeedstudio.com/Seeed_EDU/Course_documents/Beginner's-Guide-for-Raspberry-Pi-Pico.zip) available from Seeed Studio. Click the link to download the package to a convenient location on your laptop, unzip package, then locate and open the pdf file \"Beginner's Guide for Raspberry Pi Pico\"."
   ]
  },
  {
   "cell_type": "markdown",
   "id": "0a51c74c-5d7a-41ab-b644-67e59c2d3d24",
   "metadata": {},
   "source": [
    "## Verify Communicaton with the Raspberry Pi Pico\n",
    "\n",
    "https://github.com/goatchurchprime/jupyter_micropython_kernel"
   ]
  },
  {
   "cell_type": "code",
   "execution_count": 3,
   "id": "f2fd08cf-f2f9-4852-add4-00895e8fe202",
   "metadata": {},
   "outputs": [
    {
     "name": "stdout",
     "output_type": "stream",
     "text": [
      "Found serial ports: /dev/cu.usbmodem142101, /dev/cu.BLTH, /dev/cu.Bluetooth-Incoming-Port \n",
      "\u001b[34mConnecting to --port=/dev/cu.usbmodem142101 --baud=115200 \u001b[0m\n",
      "\u001b[34mReady.\n",
      "\u001b[0m"
     ]
    }
   ],
   "source": [
    "%serialconnect"
   ]
  },
  {
   "cell_type": "markdown",
   "id": "df99c767-09d2-40fa-80cd-5d7c72c00421",
   "metadata": {},
   "source": [
    "The following code checks that MicroPython code has been successfully downloaded and will execute on a connected Raspberry Pi Pico. "
   ]
  },
  {
   "cell_type": "code",
   "execution_count": 17,
   "id": "d128e49b-e4e5-4a81-87c9-bdd50739c0f3",
   "metadata": {},
   "outputs": [
    {
     "name": "stdout",
     "output_type": "stream",
     "text": [
      "\u001b[31m\n",
      "\n",
      "***Connection broken [Device not configured]\n",
      "\u001b[0mYou may need to reconnect\u001b[34m\n",
      "Closing serial Serial<id=0x7fde0242d0a0, open=True>(port='/dev/cu.usbmodem142101', baudrate=115200, bytesize=8, parity='N', stopbits=1, timeout=0.5, xonxoff=False, rtscts=False, dsrdtr=False)\n",
      "\u001b[0m\u001b[31mNo serial connected\n",
      "\u001b[0m  %serialconnect to connect\n",
      "  %esptool to flash the device\n",
      "  %lsmagic to list commands"
     ]
    }
   ],
   "source": [
    "import machine\n",
    "import time\n",
    "\n",
    "led = machine.Pin(25, machine.Pin.OUT)\n",
    "\n",
    "def toggle_led(timer):\n",
    "    led.toggle()\n",
    "\n",
    "timer = machine.Timer(freq=20, mode=machine.Timer.PERIODIC, callback=toggle_led)\n",
    "time.sleep(10)\n",
    "timer.deinit()\n",
    "led.value(0)"
   ]
  },
  {
   "cell_type": "markdown",
   "id": "14dafa05-9488-42ee-898c-673d34f76da7",
   "metadata": {},
   "source": [
    "## Background\n",
    "\n",
    "The only library required for this project is the LCD1602 library that you have already downloaded to your Raspberry Pi Pico. \n",
    "\n",
    "The Grove \"Rotary Angle Sensor v1.2\" is an analog sensor that you can measure using `machine.ADC` from the standard MicroPython library for the Raspberry Pi Pico.  You can choose ADC channels 0, 1, or 2 for this project.\n",
    "\n",
    "The Grove "
   ]
  },
  {
   "cell_type": "code",
   "execution_count": 16,
   "id": "46d7eff9-765b-49fc-8993-17f0d57952ad",
   "metadata": {},
   "outputs": [
    {
     "name": "stdout",
     "output_type": "stream",
     "text": [
      "..."
     ]
    }
   ],
   "source": [
    "import machine\n",
    "import time\n",
    "\n",
    "adc = machine.ADC(0)\n",
    "pwm = machine.PWM(machine.Pin(16))\n",
    "pwm.freq(50)\n",
    "\n",
    "# duty cycle varies from 1 to 2 ms\n",
    "\n",
    "def callback(timer):\n",
    "    x = adc.read_u16() / 65535\n",
    "    u = int(1000 + 8000 * x)\n",
    "    pwm.duty_u16(u)\n",
    "\n",
    "timer = machine.Timer(freq=20, mode=machine.Timer.PERIODIC, callback=callback)\n",
    "time.sleep(15)\n",
    "timer.deinit()\n"
   ]
  },
  {
   "cell_type": "code",
   "execution_count": null,
   "id": "b4753903-1065-480a-9a16-0d2dc796cf7a",
   "metadata": {},
   "outputs": [],
   "source": []
  },
  {
   "cell_type": "code",
   "execution_count": null,
   "id": "4b17dbfb-5fea-4f7e-9fd0-9b65afe9aa95",
   "metadata": {},
   "outputs": [],
   "source": []
  }
 ],
 "metadata": {
  "kernelspec": {
   "display_name": "MicroPython - USB",
   "language": "micropython",
   "name": "micropython"
  },
  "language_info": {
   "codemirror_mode": "python",
   "file_extension": ".py",
   "mimetype": "text/python",
   "name": "micropython"
  }
 },
 "nbformat": 4,
 "nbformat_minor": 5
}
