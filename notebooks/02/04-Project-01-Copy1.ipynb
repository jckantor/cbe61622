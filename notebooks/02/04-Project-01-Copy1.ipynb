{
 "cells": [
  {
   "cell_type": "markdown",
   "id": "1d4fa0ce-3fa4-4f63-8c2a-c8cef526f584",
   "metadata": {},
   "source": [
    "# Project 01 - Detecting the Laboratory Environment\n",
    "\n",
    "Use the \"Grove Starter Kit for Raspberry Pi Pico\" to build an environmental temperature/humidity/light sensor. The sensor should\n",
    "\n",
    "* Use the DHT11 module to measure temperature and humidity of the laboraatory environment.\n",
    "* Use the Grove light sensor v1.2 to measure light intensity.\n",
    "* Report current values on the Grive LCD1602 display.\n",
    "\n",
    "Use an update period of 1.0 seconds."
   ]
  },
  {
   "cell_type": "markdown",
   "id": "a0d527a9-95ee-4f20-aec8-c1e7fc7047cf",
   "metadata": {},
   "source": [
    "## Installations\n",
    "\n",
    "This project requires download of several Python libraries to the Raspberry Pi Pico. The necessary libraries, additional documentation, and examples are available as package for files from [Beginners Guide of Raspberry Pi Pico Based on MicroPython](https://files.seeedstudio.com/Seeed_EDU/Course_documents/Beginner's-Guide-for-Raspberry-Pi-Pico.zip) available from Seeed Studio. Click the link to download the package to a convenient location on your laptop, unzip package, then locate and open the pdf file \"Beginner's Guide for Raspberry Pi Pico\"."
   ]
  },
  {
   "cell_type": "markdown",
   "id": "0a51c74c-5d7a-41ab-b644-67e59c2d3d24",
   "metadata": {},
   "source": [
    "## Verify Communicaton with the Raspberry Pi Pico\n",
    "\n",
    "https://github.com/goatchurchprime/jupyter_micropython_kernel"
   ]
  },
  {
   "cell_type": "code",
   "execution_count": 11,
   "id": "f2fd08cf-f2f9-4852-add4-00895e8fe202",
   "metadata": {},
   "outputs": [
    {
     "name": "stdout",
     "output_type": "stream",
     "text": [
      "Found serial ports: /dev/cu.usbmodem141101, /dev/cu.BLTH, /dev/cu.Bluetooth-Incoming-Port \n",
      "\u001b[34mConnecting to --port=/dev/cu.usbmodem141101 --baud=115200 \u001b[0m\n",
      "O\u001b[31m[Timed out waiting for recognizable response]\n",
      "\u001b[0m\u001b[31mDisconnecting [paste mode not working]\n",
      "\u001b[0m\u001b[34m  (You may need to reset the device)\u001b[0m"
     ]
    }
   ],
   "source": [
    "%serialconnect"
   ]
  },
  {
   "cell_type": "markdown",
   "id": "df99c767-09d2-40fa-80cd-5d7c72c00421",
   "metadata": {},
   "source": [
    "The following code provides a simple check that MicroPython code is successfully downloaded and executes on a connected Raspberry Pi Pico. "
   ]
  },
  {
   "cell_type": "code",
   "execution_count": 4,
   "id": "fe4835a9-78ad-4a3d-89be-4861b030b1a0",
   "metadata": {},
   "outputs": [],
   "source": [
    "import machine\n",
    "\n",
    "led = machine.Pin(25, machine.Pin.OUT)\n",
    "\n",
    "def toggle_led(timer):\n",
    "    led.toggle()\n",
    "\n",
    "timer = machine.Timer(freq=20, mode=machine.Timer.PERIODIC, callback=toggle_led)"
   ]
  },
  {
   "cell_type": "markdown",
   "id": "3a2daef1-a500-4311-b5ae-26edc9813c90",
   "metadata": {},
   "source": [
    "Run the following code to deinitialize the timer and turn off the on-board led."
   ]
  },
  {
   "cell_type": "code",
   "execution_count": 5,
   "id": "5a817bb6-9715-4387-a230-675450897471",
   "metadata": {},
   "outputs": [],
   "source": [
    "timer.deinit()\n",
    "led.value(0)"
   ]
  },
  {
   "cell_type": "markdown",
   "id": "fee4b5b9-b6f5-4999-a293-2c897a67c1eb",
   "metadata": {},
   "source": [
    "**Exercise:** Create a script to blink the led for a period of 10 seconds, then turn the blinker off and return the led to an off state."
   ]
  },
  {
   "cell_type": "code",
   "execution_count": 2,
   "id": "d128e49b-e4e5-4a81-87c9-bdd50739c0f3",
   "metadata": {},
   "outputs": [
    {
     "name": "stdout",
     "output_type": "stream",
     "text": [
      "."
     ]
    }
   ],
   "source": [
    "import machine\n",
    "import time\n",
    "\n",
    "led = machine.Pin(25, machine.Pin.OUT)\n",
    "\n",
    "def toggle_led(timer):\n",
    "    led.toggle()\n",
    "\n",
    "timer = machine.Timer(freq=20, mode=machine.Timer.PERIODIC, callback=toggle_led)\n",
    "time.sleep(10)\n",
    "timer.deinit()\n",
    "\n",
    "led.value(0)"
   ]
  },
  {
   "cell_type": "markdown",
   "id": "4086f765-78ff-49c4-b11b-b8b96aeda4bf",
   "metadata": {},
   "source": [
    "## Light Sensor\n",
    "\n",
    "The light sensor requires as an analog to digital conversion. Analog to digital conversion is the task of measuring an analog signal and converting it to a digital measurement. \n",
    "\n",
    "https://datasheets.raspberrypi.com/pico/pico-datasheet.pdf\n",
    "\n",
    "The Raspberry Pi Pico includes four independent ADC channels, of which three are available for external use on GPIO pins GP26, GP27, and GP28. The pins measure a voltage by comparing the signal to the power supply of 3.3 volts and producing a 12 bit integer value between 0 and 4095 with a sampling rate of approximately 500 kHz.\n",
    "\n",
    "Micropython provides an interface to the Raspberry Pi Pico's ADC channels as documented below.\n",
    "\n",
    "https://docs.micropython.org/en/latest/library/machine.ADC.html\n",
    "\n",
    "**Exercise:** Write a python code to read the light sensor at a frequency of 10 Hz, and print light intensity as a voltage."
   ]
  },
  {
   "cell_type": "code",
   "execution_count": 4,
   "id": "f67c102d-727d-45a5-bede-346183e26681",
   "metadata": {},
   "outputs": [
    {
     "name": "stdout",
     "output_type": "stream",
     "text": [
      "0.6024414\n",
      "0.6031738\n",
      "0.6024414\n",
      "0.6095216\n",
      "0.6078126\n",
      "0.6029297\n",
      "0.6031738\n",
      "0.6029297\n",
      "0.6039063\n",
      "0.6097658\n",
      "0.6078126\n",
      "0.6043946\n",
      "0.6065919\n",
      "0.6107423\n",
      "0.6056153\n",
      "0.6056153\n",
      "0.6056153\n",
      "0.6043946\n",
      "0.6058595\n",
      "0.6104982\n",
      "0.605127\n",
      "0.6041505\n",
      "0.6075685\n",
      "0.6002441\n",
      "0.6087892\n",
      "0.606836\n",
      "0.6043946\n",
      "0.6080568\n",
      "0.6056153\n",
      "0.6026855\n",
      "0.6080568\n",
      "0.6080568\n",
      "0.6124514\n",
      "0.6090333\n",
      "0.6021973\n",
      "0.6021973\n",
      "0.6056153\n",
      "0.610254\n",
      "0.6031738\n",
      "0.6039063\n",
      "0.6036622\n",
      "0.6041505\n",
      "0.6100099\n",
      "0.610254\n",
      "0.6065919\n",
      "0.6048829\n",
      "0.6012207\n",
      "0.601709\n",
      "0.6100099\n",
      "0.6024414\n",
      "0.6083009\n",
      "0.6012207\n",
      "0.6039063\n",
      "0.6031738\n",
      "0.6100099\n",
      "0.601709\n",
      "0.6029297\n",
      "0.6085451\n",
      "0.6095216\n",
      "0.601709\n",
      "0.6053712\n",
      "0.6039063\n",
      "0.6075685\n",
      "0.6041505\n",
      "0.6029297\n",
      "0.6070802\n",
      "0.6041505\n",
      "0.605127\n",
      "0.6036622\n",
      "0.6031738\n",
      "0.6043946\n",
      "0.6109865\n",
      "0.6036622\n",
      "0.606836\n",
      "0.6141603\n",
      "0.6061036\n",
      "0.6104982\n",
      "0.6029297\n",
      "0.6065919\n",
      "0.6061036\n",
      "0.6065919\n",
      "0.6063478\n",
      "0.6046388\n",
      "0.6070802\n",
      "0.6021973\n",
      "0.6129396\n",
      "0.6043946\n",
      "0.6056153\n",
      "0.6031738\n",
      "0.6029297\n",
      "0.6192874\n",
      "0.6100099\n",
      "0.6039063\n",
      "0.6046388\n",
      "0.6031738\n",
      "0.6043946\n",
      "0.605127\n",
      "0.6097658\n",
      "0.6085451\n",
      "0.6100099\n"
     ]
    }
   ],
   "source": [
    "import machine\n",
    "import time\n",
    "\n",
    "adc = machine.ADC(0)\n",
    "def print_adc(timer):\n",
    "    val = adc.read_u16()\n",
    "    print(val/(2**16 - 1))\n",
    "    \n",
    "timer = machine.Timer(freq=10, mode=machine.Timer.PERIODIC, callback=print_adc)\n",
    "time.sleep(10)\n",
    "timer.deinit()"
   ]
  },
  {
   "cell_type": "markdown",
   "id": "a139360e-842f-4e6a-8e86-683a2571cbac",
   "metadata": {},
   "source": [
    "## Display Output on LCD1602"
   ]
  },
  {
   "cell_type": "code",
   "execution_count": 7,
   "id": "09ef6b35-badd-4fd4-a677-b215512ffee8",
   "metadata": {},
   "outputs": [
    {
     "name": "stdout",
     "output_type": "stream",
     "text": [
      "."
     ]
    }
   ],
   "source": [
    "import machine\n",
    "import time\n",
    "from lcd1602 import LCD1602\n",
    "\n",
    "class LCD16x2():\n",
    "    \n",
    "    def __init__(self, i2c):\n",
    "        self.i2c = i2c\n",
    "        self.d = LCD1602(i2c, 2, 16)\n",
    "        self.d.clear()\n",
    "        self.lines = [\" \"*16, \" \"*16]\n",
    "        \n",
    "    def update(self, line1=None, line2=None):\n",
    "        self.update_line(0, line1)\n",
    "        self.update_line(1, line2)\n",
    "        \n",
    "    def update_line(self, j, line):\n",
    "        line = \"{:16s}\".format(line)\n",
    "        if line != self.lines[j]:\n",
    "            for i, char in enumerate(line):\n",
    "                self.d.setCursor(i, j)\n",
    "                self.d.write(ord(char))\n",
    "            self.lines[j] = line\n",
    "\n",
    "def display_adc(timer):\n",
    "    global lcd\n",
    "    global adc\n",
    "    value = adc.read_u16()\n",
    "    lcd.update(f\"{value}\", \"\")\n",
    "    \n",
    "# specify i2c\n",
    "sda = machine.Pin(8, machine.Pin.OUT)\n",
    "scl = machine.Pin(9, machine.Pin.OUT)\n",
    "i2c = machine.I2C(0, sda=sda, scl=scl)\n",
    "\n",
    "# create lcd instance\n",
    "lcd = LCD16x2(i2c)\n",
    "adc = machine.ADC(0)\n",
    "\n",
    "\n",
    "# update using Timer\n",
    "timer = machine.Timer(freq=10, mode=machine.Timer.PERIODIC, callback=display_adc)\n",
    "time.sleep(5)\n",
    "timer.deinit()"
   ]
  },
  {
   "cell_type": "markdown",
   "id": "5b3ccc72-e5e3-44a1-ba78-e9e876cc2978",
   "metadata": {},
   "source": [
    "## Temperature and Humidity Sensor v1.2\n",
    "\n",
    "Data Sheet\n",
    "\n",
    "https://www.seeedstudio.com/Grove-Temperature-Humidity-Sensor-DHT11.html"
   ]
  },
  {
   "cell_type": "code",
   "execution_count": 14,
   "id": "23ffda30-af7a-4ee9-93dd-f6476cd08a30",
   "metadata": {},
   "outputs": [
    {
     "name": "stdout",
     "output_type": "stream",
     "text": [
      "\u001b[31mNo serial connected\n",
      "\u001b[0m  %serialconnect to connect\n",
      "  %esptool to flash the device\n",
      "  %lsmagic to list commands"
     ]
    }
   ],
   "source": [
    "import machine\n",
    "import time\n",
    "from lcd1602 import LCD1602\n",
    "import dht11\n",
    "\n",
    "class LCD16x2():\n",
    "    \n",
    "    def __init__(self, i2c):\n",
    "        self.i2c = i2c\n",
    "        self.d = LCD1602(i2c, 2, 16)\n",
    "        self.d.clear()\n",
    "        self.lines = [\" \"*16, \" \"*16]\n",
    "        \n",
    "    def update(self, line1=None, line2=None):\n",
    "        self.update_line(0, line1)\n",
    "        self.update_line(1, line2)\n",
    "        \n",
    "    def update_line(self, j, line):\n",
    "        line = \"{:16s}\".format(line)\n",
    "        if line != self.lines[j]:\n",
    "            for i, char in enumerate(line):\n",
    "                self.d.setCursor(i, j)\n",
    "                self.d.write(ord(char))\n",
    "            self.lines[j] = line\n",
    "\n",
    "def display_data(timer):\n",
    "    global lcd\n",
    "    global adc\n",
    "    global dht\n",
    "    light = adc.read_u16()\n",
    "    temp, humid = dht.readTempHumid()\n",
    "    print(temp, humid)\n",
    "    lcd.update(f\"light = {light}\", f\"T = {temp}  H={humid}\")\n",
    "    \n",
    "# specify i2c\n",
    "sda = machine.Pin(8, machine.Pin.OUT)\n",
    "scl = machine.Pin(9, machine.Pin.OUT)\n",
    "i2c = machine.I2C(0, sda=sda, scl=scl)\n",
    "\n",
    "# create lcd instance\n",
    "lcd = LCD16x2(i2c)\n",
    "adc = machine.ADC(0)\n",
    "dht = dht11.DHT(18)\n",
    "\n",
    "\n",
    "# update using Timer\n",
    "timer = machine.Timer(freq=10, mode=machine.Timer.PERIODIC, callback=display_data)\n",
    "time.sleep(5)\n",
    "timer.deinit()\n"
   ]
  },
  {
   "cell_type": "code",
   "execution_count": 7,
   "id": "5e0c83cf-6472-43f0-a186-ecd15f132754",
   "metadata": {},
   "outputs": [],
   "source": [
    "timer.deinit()"
   ]
  },
  {
   "cell_type": "code",
   "execution_count": null,
   "id": "a154f540-cf64-40dd-b4b4-082d39065bf9",
   "metadata": {},
   "outputs": [],
   "source": []
  },
  {
   "cell_type": "code",
   "execution_count": null,
   "id": "317081df-7a4f-440a-9be4-8c00fdb0f28c",
   "metadata": {},
   "outputs": [],
   "source": []
  }
 ],
 "metadata": {
  "kernelspec": {
   "display_name": "MicroPython - USB",
   "language": "micropython",
   "name": "micropython"
  },
  "language_info": {
   "codemirror_mode": "python",
   "file_extension": ".py",
   "mimetype": "text/python",
   "name": "micropython"
  }
 },
 "nbformat": 4,
 "nbformat_minor": 5
}
