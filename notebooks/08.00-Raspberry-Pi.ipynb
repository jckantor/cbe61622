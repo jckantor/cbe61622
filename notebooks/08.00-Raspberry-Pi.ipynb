{
 "cells": [
  {
   "cell_type": "markdown",
   "id": "a241691e-34f7-4135-815f-379c8f9712b8",
   "metadata": {},
   "source": [
    "# Raspberry Pi"
   ]
  },
  {
   "cell_type": "code",
   "execution_count": null,
   "id": "1c94fb69-29a5-4486-946b-e2808b91ca08",
   "metadata": {},
   "outputs": [],
   "source": []
  }
 ],
 "metadata": {
  "kernelspec": {
   "display_name": "Python 3 (ipykernel)",
   "language": "python",
   "name": "python3"
  },
  "language_info": {
   "codemirror_mode": {
    "name": "ipython",
    "version": 3
   },
   "file_extension": ".py",
   "mimetype": "text/x-python",
   "name": "python",
   "nbconvert_exporter": "python",
   "pygments_lexer": "ipython3",
   "version": "3.8.12"
  }
 },
 "nbformat": 4,
 "nbformat_minor": 5
}
