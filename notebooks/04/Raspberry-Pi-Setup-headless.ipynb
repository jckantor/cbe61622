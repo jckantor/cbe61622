{
 "cells": [
  {
   "cell_type": "markdown",
   "id": "771d8ca4-5d63-4c1b-9cf8-f1f00e8e8f93",
   "metadata": {},
   "source": [
    "# Setting up a Raspberry Pi without a Monitor"
   ]
  },
  {
   "cell_type": "markdown",
   "id": "86900923-c4c3-4274-ba4f-1487d3751f62",
   "metadata": {},
   "source": [
    "## Step 1. Locate Raspberry Pi on the Network\n",
    "\n",
    "* Run IP Scanner (Mac)\n",
    "* Locate Raspberry Pi IP address"
   ]
  },
  {
   "cell_type": "markdown",
   "id": "215da29f-7fb3-4668-959e-d41c5c3e5c9f",
   "metadata": {},
   "source": [
    "Step 2. Open a VNC Session\n",
    "\n"
   ]
  }
 ],
 "metadata": {
  "kernelspec": {
   "display_name": "Python 3 (ipykernel)",
   "language": "python",
   "name": "python3"
  },
  "language_info": {
   "codemirror_mode": {
    "name": "ipython",
    "version": 3
   },
   "file_extension": ".py",
   "mimetype": "text/x-python",
   "name": "python",
   "nbconvert_exporter": "python",
   "pygments_lexer": "ipython3",
   "version": "3.9.7"
  }
 },
 "nbformat": 4,
 "nbformat_minor": 5
}
