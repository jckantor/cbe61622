{
 "cells": [
  {
   "cell_type": "markdown",
   "metadata": {
    "id": "kpLyVHsjDqSt"
   },
   "source": [
    "# Accessing a Remote Experiment via MQTT"
   ]
  },
  {
   "cell_type": "markdown",
   "metadata": {
    "id": "Goa0-Jn_s1bx"
   },
   "source": [
    "## Installations"
   ]
  },
  {
   "cell_type": "code",
   "execution_count": 1,
   "metadata": {
    "colab": {
     "base_uri": "https://localhost:8080/",
     "height": 187
    },
    "executionInfo": {
     "elapsed": 5031,
     "status": "ok",
     "timestamp": 1601586552676,
     "user": {
      "displayName": "Jeffrey Kantor",
      "photoUrl": "https://lh3.googleusercontent.com/a-/AOh14Gg_n8V7bVINy02QRuRgOoMo11Ri7NKU3OUKdC1bkQ=s64",
      "userId": "09038942003589296665"
     },
     "user_tz": 240
    },
    "id": "OF0o09nNjQju",
    "outputId": "5f2cfcb8-438b-4ed8-9ec0-0731930a3fd8"
   },
   "outputs": [
    {
     "name": "stdout",
     "output_type": "stream",
     "text": [
      "Requirement already satisfied: paho-mqtt in /Users/jeff/opt/anaconda3/lib/python3.7/site-packages (1.5.1)\n"
     ]
    }
   ],
   "source": [
    "!pip install paho-mqtt"
   ]
  },
  {
   "cell_type": "markdown",
   "metadata": {
    "id": "Vq1o8PaPD6wi"
   },
   "source": [
    "## Remote Operation of a Laboratory Experiment\n",
    "\n",
    "This cell establishes a connection to two topics on an MQTT server. The 'command' channel is used to publish a message to start a remote experiment for a duration given in seconds. A client is opened to listen to a 'measurement' channel.\n",
    "\n",
    "Before running this channel, start up up the companion notebook that simulates a remote experiment https://colab.research.google.com/drive/1cj9Y8IlVX2-ZMEMoVWi8G5WDKNr3gkr9?usp=sharing "
   ]
  },
  {
   "cell_type": "code",
   "execution_count": 147,
   "metadata": {},
   "outputs": [
    {
     "name": "stdout",
     "output_type": "stream",
     "text": [
      "Connected: mqtt.eclipse.org with return code 0\n",
      "Loop Started: <__main__.CBEClient object at 0x7ffb0c31fc50>\n",
      "Sent: {\"client_id\": \"64844672765268\", \"duration\": 10} to cbe-virtual-laboratory/command\n",
      "Connected: mqtt.eclipse.org with return code 0\n",
      "Subscribed: cbe-virtual-laboratory/64844672765268\n",
      "Loop Started: <__main__.CBEClient object at 0x7ffb0c2ef510>\n",
      "Receieved: {'time': 0, 'x': 0, 'y': 0} from cbe-virtual-laboratory/64844672765268\n",
      "Receieved: {'time': 1, 'x': 0, 'y': 0} from cbe-virtual-laboratory/64844672765268\n",
      "Receieved: {'time': 2, 'x': 0, 'y': 0} from cbe-virtual-laboratory/64844672765268\n",
      "Receieved: {'time': 3, 'x': 0, 'y': 0} from cbe-virtual-laboratory/64844672765268\n",
      "Receieved: {'time': 4, 'x': 0, 'y': 0} from cbe-virtual-laboratory/64844672765268\n",
      "Receieved: {'time': 5, 'x': 0, 'y': 0} from cbe-virtual-laboratory/64844672765268\n",
      "Receieved: {'time': 6, 'x': 0, 'y': 0} from cbe-virtual-laboratory/64844672765268\n",
      "Receieved: {'time': 7, 'x': 0, 'y': 0} from cbe-virtual-laboratory/64844672765268\n",
      "Receieved: {'time': 8, 'x': 0, 'y': 0} from cbe-virtual-laboratory/64844672765268\n",
      "Receieved: {'time': 9, 'x': 0, 'y': 0} from cbe-virtual-laboratory/64844672765268\n",
      "Loop Stopped: <__main__.CBEClient object at 0x7ffb0c2ef510>\n",
      "Loop Stopped: <__main__.CBEClient object at 0x7ffb0c31fc50>\n"
     ]
    }
   ],
   "source": [
    "%matplotlib inline\n",
    "import paho.mqtt.client as mqtt\n",
    "import paho.mqtt.publish as publish\n",
    "import time\n",
    "import matplotlib.pyplot as plt\n",
    "import numpy as np\n",
    "from IPython import display\n",
    "import json\n",
    "import uuid\n",
    "\n",
    "# configuration\n",
    "duration = 10\n",
    "\n",
    "# set up client to interact with cbe-virtual-laboratory\n",
    "\n",
    "class CBEClient(mqtt.Client):\n",
    "    \n",
    "    def __init__(self, recv=\"\", send=\"\"):\n",
    "        super().__init__()\n",
    "        self.host = \"mqtt.eclipse.org\"\n",
    "        self.recv = recv\n",
    "        self.send = send\n",
    "\n",
    "    def on_connect(self, client, userdata, flags, rc):\n",
    "        print(f\"Connected: {self.host} with return code {rc}\")\n",
    "        if self.recv:\n",
    "            self.subscribe(self.recv, qos=2)\n",
    "            print(f\"Subscribed: {self.recv}\")\n",
    "        \n",
    "    def on_message(self, client, userdata, msg):\n",
    "        payload = json.loads(msg.payload.decode(\"utf-8\"))\n",
    "        print(f\"Receieved: {payload} from {self.recv}\")\n",
    "    \n",
    "    def connect(self):\n",
    "        super().connect(host=self.host, port=1883, keepalive=60)\n",
    "                              \n",
    "    def publish(self, payload):\n",
    "        if self.send:\n",
    "            super().publish(self.send, payload=payload)\n",
    "            print(f\"Sent: {payload} to {self.send}\")\n",
    "        else:\n",
    "            print(\"No send topic has been specified.\")\n",
    "        \n",
    "    def __enter__(self):\n",
    "        self.connect()\n",
    "        self.loop_start()\n",
    "        time.sleep(0.5)\n",
    "        print(f\"Loop Started: {self}\")\n",
    "        return self\n",
    "        \n",
    "    def __exit__(self, exc_type, exc_value, exc_traceback):\n",
    "        self.loop_stop()\n",
    "        print(f\"Loop Stopped: {self}\")\n",
    "\n",
    "# listen for response\n",
    "with CBEClient(send=\"cbe-virtual-laboratory/command\") as cbe:\n",
    "    payload = {\n",
    "        \"client_id\" : str(uuid.getnode()),\n",
    "        \"duration\" : duration\n",
    "    }\n",
    "    cbe.publish(json.dumps(payload))\n",
    "    with CBEClient(recv=\"/\".join([\"cbe-virtual-laboratory\", payload[\"client_id\"]])) as expt:\n",
    "        time.sleep(duration)\n",
    "    "
   ]
  },
  {
   "cell_type": "markdown",
   "metadata": {
    "id": "5_gOHgpJFg5q"
   },
   "source": [
    "## Version 1"
   ]
  },
  {
   "cell_type": "code",
   "execution_count": 113,
   "metadata": {
    "colab": {
     "base_uri": "https://localhost:8080/",
     "height": 295
    },
    "executionInfo": {
     "elapsed": 11000,
     "status": "ok",
     "timestamp": 1601588155706,
     "user": {
      "displayName": "Jeffrey Kantor",
      "photoUrl": "https://lh3.googleusercontent.com/a-/AOh14Gg_n8V7bVINy02QRuRgOoMo11Ri7NKU3OUKdC1bkQ=s64",
      "userId": "09038942003589296665"
     },
     "user_tz": 240
    },
    "id": "OIc0GSZLjLXC",
    "outputId": "c23c475a-6375-48cd-838e-17ec4c4b01aa"
   },
   "outputs": [
    {
     "data": {
      "image/png": "[encoded data removed]",
      "text/plain": [
       "<Figure size 432x288 with 1 Axes>"
      ]
     },
     "metadata": {},
     "output_type": "display_data"
    }
   ],
   "source": [
    "%matplotlib inline\n",
    "import paho.mqtt.client as mqtt\n",
    "import paho.mqtt.publish as publish\n",
    "import time\n",
    "import matplotlib.pyplot as plt\n",
    "import numpy as np\n",
    "from IPython import display\n",
    "\n",
    "# select experiment duration\n",
    "duration = 10\n",
    "topic = \"cbe-virtual-laboratory/command\"\n",
    "\n",
    "# setup a plotting window\n",
    "x = []\n",
    "y = []\n",
    "fig, ax = plt.subplots(1, 1)\n",
    "ax.plot(x, y, '.', ms=10)\n",
    "ax.set_xlim(0, 40)\n",
    "ax.set_ylim(0, 2.1)\n",
    "ax.set_xlabel('time / seconds')\n",
    "ax.set_ylabel('level')\n",
    "ax.set_title(topic)\n",
    "line = ax.lines[0]\n",
    "display.display(fig)\n",
    "\n",
    "# callbacks\n",
    "def on_connect(client, userdata, flags, rc):\n",
    "    print(f\"Connected with result code {rc}\")\n",
    "    client.subscribe(\"cbe-virtual-laboratory/expt\")\n",
    "\n",
    "# call back to process message from remote experiment\n",
    "def on_message(client, userdata, msg):\n",
    "    #print(msg.topic + \" \" + msg.payload.decode(\"utf-8\"))\n",
    "    xdata, ydata = [float(i) for i in msg.payload.decode(\"utf-8\").split(',')]\n",
    "    x.append(xdata)\n",
    "    y.append(ydata)\n",
    "    line.set_data(x, y)\n",
    "    display.clear_output(wait=True)\n",
    "    display.display(fig)\n",
    "\n",
    "# setup client\n",
    "client = mqtt.Client()\n",
    "client.on_connect = on_connect\n",
    "client.on_message = on_message\n",
    "\n",
    "# connect to measurement channel\n",
    "client.connect(\"mqtt.eclipse.org\", 1883, 60)\n",
    "\n",
    "# tell experiment to start\n",
    "msg = f'{{\"duration\": {duration}}}'\n",
    "publish.single(\"cbe-virtual-laboratory/command\", msg, hostname=\"mqtt.eclipse.org\")\n",
    "\n",
    "# listen for measurement information\n",
    "client.loop_start()\n",
    "time.sleep(duration)\n",
    "client.loop_stop()\n",
    "\n",
    "# prevent the plot showing again after completion\n",
    "plt.close()"
   ]
  },
  {
   "cell_type": "code",
   "execution_count": null,
   "metadata": {},
   "outputs": [],
   "source": []
  },
  {
   "cell_type": "code",
   "execution_count": null,
   "metadata": {},
   "outputs": [],
   "source": []
  }
 ],
 "metadata": {
  "colab": {
   "authorship_tag": "ABX9TyOEL+1kstycKKIptMQHCKlA",
   "collapsed_sections": [],
   "name": "Remote_Operation_of_a_Laboratory_Experiment.ipynb",
   "provenance": []
  },
  "kernelspec": {
   "display_name": "Python 3",
   "language": "python",
   "name": "python3"
  },
  "language_info": {
   "codemirror_mode": {
    "name": "ipython",
    "version": 3
   },
   "file_extension": ".py",
   "mimetype": "text/x-python",
   "name": "python",
   "nbconvert_exporter": "python",
   "pygments_lexer": "ipython3",
   "version": "3.7.4"
  }
 },
 "nbformat": 4,
 "nbformat_minor": 4
}
