{
 "cells": [
  {
   "cell_type": "markdown",
   "metadata": {},
   "source": [
    "# Configuring a Workstation"
   ]
  },
  {
   "cell_type": "markdown",
   "metadata": {},
   "source": [
    "## Student Workstation\n",
    "\n",
    "The basic workstation for this course provides a student with the means to learn the foundations of analog instrumentation, digital interfacing, and enough experience to pursue independent projects."
   ]
  },
  {
   "cell_type": "markdown",
   "metadata": {},
   "source": [
    "## Laboratory Workstation\n",
    "\n",
    "* Digilent Analog Studio\n",
    "* Raspberry Pi Pico with Grove interface board\n",
    "* Raspberry Pi 400 w/monitor\n",
    "* Analog Devices ADALP2000 kit\n",
    "* Stepper Motors\n",
    "* Servo Motors\n",
    "* Raspberry Pi Camera (Arducam)\n"
   ]
  },
  {
   "cell_type": "markdown",
   "metadata": {},
   "source": [
    "## Raspberry Pi"
   ]
  },
  {
   "cell_type": "markdown",
   "metadata": {},
   "source": [
    "### Assemble a Raspberry Pi Workstation\n",
    "\n",
    "* Raspberry Pi 4 Model B (4GB)\n",
    "* Raspberry Pi 7\" touchscreen\n",
    "* Raspberry Pi USB-C power supply\n",
    "* Raspberry Pi USB keyboard and mouse\n",
    "* SmartPi Touch 2 Case\n",
    "* 32GB micro SD\n"
   ]
  },
  {
   "cell_type": "markdown",
   "metadata": {},
   "source": [
    "### Install Raspberry Pi OS\n",
    "\n",
    "* Format a 16GB+ micro SD card using [SD Card Formatter](https://www.sdcard.org/downloads/formatter/)\n",
    "* Install Raspberry Pi OS onto micro SD card using [Raspberry Pi Imager](https://www.raspberrypi.org/software/)"
   ]
  },
  {
   "cell_type": "markdown",
   "metadata": {},
   "source": [
    "## Digilent Analog Discovery Studio"
   ]
  },
  {
   "cell_type": "markdown",
   "metadata": {},
   "source": [
    "## Analog Devices Parts Kit ADALP2000\n",
    "\n",
    "\n",
    "### IC's\n",
    "\n",
    "#### Amplifiers\n",
    "\n",
    "* [AD8226 Instrumentation amp](https://www.analog.com/en/products/ad8226.html)\n",
    "* [ADTL082 JFET op amp](https://www.analog.com/en/products/adtl082.html)\n",
    "* [AD8542 dual CMOS dual rail-to-rail op amp](https://www.analog.com/en/products/ad8542.html)\n",
    "* [OP482 high speed JFET quad op amp](https://www.analog.com/en/products/op482.html) (2)\n",
    "* [OP484 precision rail-to-rail I/O quad op amp](https://www.analog.com/en/products/op484.html)\n",
    "* [OP27 low noise, precision op amp](https://www.analog.com/en/products/op27.html) (2)\n",
    "* [OP37 precision op amp](https://www.analog.com/en/products/op37.html) (2)\n",
    "* [OP97 low power, high precision](https://www.analog.com/en/products/op97.html) (2)\n",
    "* [LTC1541 micropower amp, comparator, reference](https://www.analog.com/en/products/ltc1541.html)\n",
    "\n",
    "#### Sensors\n",
    "\n",
    "* [AD8210 current shunt monitor](https://www.analog.com/en/products/ad8210.html)\n",
    "* [AD22151 magnetic field sensor](https://www.analog.com/en/products/ad22151g.html)\n",
    "* [ADXL327 3-axis accelerometer](https://www.analog.com/en/products/adxl327.html)\n",
    "* [AD22100 voltage temperature sensor](https://www.analog.com/en/products/ad22100.html) (2)\n",
    "* [AD592 current temperature sensor](https://www.analog.com/en/products/ad592.html)\n",
    "* [TMP01 temperature controller](https://www.analog.com/en/products/tmp01.html)\n",
    "* Electret microphone\n",
    "* 10 kOhm thermister\n",
    "* [OP999 PIN photodiode](https://www.ttelectronics.com/TTElectronics/media/ProductFiles/Optoelectronics/Datasheets/OP993-999.pdf)\n",
    "\n",
    "#### Power\n",
    "\n",
    "* [LT3092 programmable current source](https://www.analog.com/en/products/lt3092.html)\n",
    "* [LTM8067 isolated dc-to-dc converter](https://www.analog.com/en/products/ltm8067.html)\n",
    "* [LT3080 adjustable 1.1A LDO](https://www.analog.com/en/products/lt3080.html)\n",
    "\n",
    "\n",
    "#### Data Conversion\n",
    "\n",
    "* [AD654 voltage-to-frequency converter](https://www.analog.com/en/products/ad654.html)\n",
    "* [AD5626 12-bit nanoDAC](https://www.analog.com/en/products/ad5626.html)\n",
    "* [AD7920 12-bit 250kSPS SPI ADC](https://www.analog.com/en/products/ad7920.html)\n",
    "\n",
    "#### Logic\n",
    "\n",
    "* [SN74HC273 octal flip-flop](https://www.ti.com/product/SN74HC273)\n",
    "\n",
    "#### Misc\n",
    "\n",
    "### Transistors\n",
    "\n",
    "* [2N3904 general purpose NPN BJT](https://www.onsemi.com/pdf/datasheet/2n3903-d.pdf)\n",
    "* [2N3906 general purpose PNP BJT](https://www.onsemi.com/pdf/datasheet/2n3906-d.pdf)\n",
    "* [IRF510 power MOSFET](https://www.vishay.com/docs/91015/sihf510.pdf)\n",
    "* [TIP31CFS NPN Power](https://alltransistors.com/adv/pdfdatasheet_st/tip31c.pdf)\n",
    "* [TIP32CFS PNP Power](https://alltransistors.com/adv/pdfdatasheet_st/tip32c.pdf)\n",
    "* [ZVN2110A N-channel DMOS FED]()v\n",
    "\n",
    "\n"
   ]
  },
  {
   "cell_type": "markdown",
   "metadata": {},
   "source": [
    "## Additional Components\n",
    "\n",
    "* [28BJY-48 Stepper Motors and ULN2003 Driver Board](https://www.amazon.com/ELEGOO-28BYJ-48-ULN2003-Stepper-Arduino/dp/B01CP18J4A) These very low-cost, ubiquitous stepper motors can be run from a 5 volt power supply supplied from a USB powered device. With the Raspberry Pi Pico, for example, the VBUS or VSYS pins can supply the required power. The ULN2003 driver board can handle up to 12 volt power for applications required more torque. \n",
    "\n",
    "* Servo Motor\n",
    "\n",
    "* "
   ]
  },
  {
   "cell_type": "code",
   "execution_count": null,
   "metadata": {},
   "outputs": [],
   "source": []
  }
 ],
 "metadata": {
  "kernelspec": {
   "display_name": "Python 3 (ipykernel)",
   "language": "python",
   "name": "python3"
  },
  "language_info": {
   "codemirror_mode": {
    "name": "ipython",
    "version": 3
   },
   "file_extension": ".py",
   "mimetype": "text/x-python",
   "name": "python",
   "nbconvert_exporter": "python",
   "pygments_lexer": "ipython3",
   "version": "3.8.12"
  }
 },
 "nbformat": 4,
 "nbformat_minor": 4
}
